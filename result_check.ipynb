{
 "cells": [
  {
   "cell_type": "code",
   "execution_count": 1,
   "id": "9479366c",
   "metadata": {},
   "outputs": [],
   "source": [
    "import pandas as pd\n",
    "import numpy as np\n"
   ]
  },
  {
   "cell_type": "code",
   "execution_count": 4,
   "id": "fa43bc1f",
   "metadata": {},
   "outputs": [],
   "source": [
    "df = pd.read_csv('./responses/gemini_2.0_flash_solutions.csv')"
   ]
  },
  {
   "cell_type": "code",
   "execution_count": 5,
   "id": "4ef4ef01",
   "metadata": {},
   "outputs": [
    {
     "name": "stdout",
     "output_type": "stream",
     "text": [
      "<class 'pandas.core.frame.DataFrame'>\n",
      "RangeIndex: 1 entries, 0 to 0\n",
      "Data columns (total 13 columns):\n",
      " #   Column                    Non-Null Count  Dtype  \n",
      "---  ------                    --------------  -----  \n",
      " 0   question                  1 non-null      object \n",
      " 1   difficulty                1 non-null      object \n",
      " 2   raw_tags                  1 non-null      object \n",
      " 3   tags                      1 non-null      object \n",
      " 4   skill_types               1 non-null      object \n",
      " 5   Expected Auxiliary Space  0 non-null      float64\n",
      " 6   time_limit                1 non-null      object \n",
      " 7   memory_limit              1 non-null      object \n",
      " 8   Expected Time Complexity  0 non-null      float64\n",
      " 9   prompts                   1 non-null      object \n",
      " 10  inputs                    1 non-null      object \n",
      " 11  outputs                   1 non-null      object \n",
      " 12  response                  1 non-null      object \n",
      "dtypes: float64(2), object(11)\n",
      "memory usage: 236.0+ bytes\n"
     ]
    },
    {
     "data": {
      "text/html": [
       "<div>\n",
       "<style scoped>\n",
       "    .dataframe tbody tr th:only-of-type {\n",
       "        vertical-align: middle;\n",
       "    }\n",
       "\n",
       "    .dataframe tbody tr th {\n",
       "        vertical-align: top;\n",
       "    }\n",
       "\n",
       "    .dataframe thead th {\n",
       "        text-align: right;\n",
       "    }\n",
       "</style>\n",
       "<table border=\"1\" class=\"dataframe\">\n",
       "  <thead>\n",
       "    <tr style=\"text-align: right;\">\n",
       "      <th></th>\n",
       "      <th>question</th>\n",
       "      <th>difficulty</th>\n",
       "      <th>raw_tags</th>\n",
       "      <th>tags</th>\n",
       "      <th>skill_types</th>\n",
       "      <th>Expected Auxiliary Space</th>\n",
       "      <th>time_limit</th>\n",
       "      <th>memory_limit</th>\n",
       "      <th>Expected Time Complexity</th>\n",
       "      <th>prompts</th>\n",
       "      <th>inputs</th>\n",
       "      <th>outputs</th>\n",
       "      <th>response</th>\n",
       "    </tr>\n",
       "  </thead>\n",
       "  <tbody>\n",
       "    <tr>\n",
       "      <th>0</th>\n",
       "      <td>$ \\def\\myred#1{{\\underline{\\bf{#1}}}} \\def\\myb...</td>\n",
       "      <td>EASY</td>\n",
       "      <td>['greedy', 'two pointers', 'brute force', 'sor...</td>\n",
       "      <td>['Constructive algorithms', 'Sorting', 'Amorti...</td>\n",
       "      <td>['Complete search', 'Sorting', 'Amortized anal...</td>\n",
       "      <td>NaN</td>\n",
       "      <td>2 seconds</td>\n",
       "      <td>256 megabytes</td>\n",
       "      <td>NaN</td>\n",
       "      <td>Below is provided a **competitive programming*...</td>\n",
       "      <td>['4\\n3\\n1 2 3\\n5\\n2 8 6 3 1\\n4\\n3 5 4 2\\n5\\n10...</td>\n",
       "      <td>['NO\\nYES\\nNO\\nNO\\n']</td>\n",
       "      <td>```cpp\\n#include &lt;iostream&gt;\\n#include &lt;vector&gt;...</td>\n",
       "    </tr>\n",
       "  </tbody>\n",
       "</table>\n",
       "</div>"
      ],
      "text/plain": [
       "                                            question difficulty  \\\n",
       "0  $ \\def\\myred#1{{\\underline{\\bf{#1}}}} \\def\\myb...       EASY   \n",
       "\n",
       "                                            raw_tags  \\\n",
       "0  ['greedy', 'two pointers', 'brute force', 'sor...   \n",
       "\n",
       "                                                tags  \\\n",
       "0  ['Constructive algorithms', 'Sorting', 'Amorti...   \n",
       "\n",
       "                                         skill_types  \\\n",
       "0  ['Complete search', 'Sorting', 'Amortized anal...   \n",
       "\n",
       "   Expected Auxiliary Space time_limit   memory_limit  \\\n",
       "0                       NaN  2 seconds  256 megabytes   \n",
       "\n",
       "   Expected Time Complexity  \\\n",
       "0                       NaN   \n",
       "\n",
       "                                             prompts  \\\n",
       "0  Below is provided a **competitive programming*...   \n",
       "\n",
       "                                              inputs                outputs  \\\n",
       "0  ['4\\n3\\n1 2 3\\n5\\n2 8 6 3 1\\n4\\n3 5 4 2\\n5\\n10...  ['NO\\nYES\\nNO\\nNO\\n']   \n",
       "\n",
       "                                            response  \n",
       "0  ```cpp\\n#include <iostream>\\n#include <vector>...  "
      ]
     },
     "execution_count": 5,
     "metadata": {},
     "output_type": "execute_result"
    }
   ],
   "source": [
    "df.info()\n",
    "df.head()"
   ]
  }
 ],
 "metadata": {
  "kernelspec": {
   "display_name": "Python 3",
   "language": "python",
   "name": "python3"
  },
  "language_info": {
   "codemirror_mode": {
    "name": "ipython",
    "version": 3
   },
   "file_extension": ".py",
   "mimetype": "text/x-python",
   "name": "python",
   "nbconvert_exporter": "python",
   "pygments_lexer": "ipython3",
   "version": "3.11.11"
  }
 },
 "nbformat": 4,
 "nbformat_minor": 5
}
