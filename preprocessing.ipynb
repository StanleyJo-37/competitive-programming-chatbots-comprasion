{
 "cells": [
  {
   "cell_type": "markdown",
   "id": "aac712a7",
   "metadata": {},
   "source": [
    "# Library Import\n"
   ]
  },
  {
   "cell_type": "code",
   "execution_count": 1,
   "id": "60aee81e",
   "metadata": {},
   "outputs": [],
   "source": [
    "import huggingface_hub as hf # For downloading data from Hugging Face\n",
    "import pandas as pd # For reading and importing data files into DataFrames used to represent the data\n"
   ]
  },
  {
   "cell_type": "code",
   "execution_count": 2,
   "id": "0e2e37f0",
   "metadata": {},
   "outputs": [],
   "source": [
    "import sys\n",
    "\n",
    "sys.set_int_max_str_digits(100000)"
   ]
  },
  {
   "cell_type": "code",
   "execution_count": 3,
   "id": "8c734a9f",
   "metadata": {},
   "outputs": [],
   "source": [
    "INPUT_PATH = './prompts'"
   ]
  },
  {
   "cell_type": "markdown",
   "id": "00292b82",
   "metadata": {},
   "source": [
    "# Data Import\n"
   ]
  },
  {
   "cell_type": "code",
   "execution_count": 4,
   "id": "b7187254",
   "metadata": {},
   "outputs": [],
   "source": [
    "# TACO Dataset\n",
    "# Test Files\n",
    "test_filenames = [\n",
    "  'ALL/test-00000-of-00001.parquet',\n",
    "] \n",
    "\n",
    "# Train Files\n",
    "train_filenames = [\n",
    "  'ALL/train-00001-of-00009.parquet',\n",
    "  'ALL/train-00002-of-00009.parquet',\n",
    "  'ALL/train-00003-of-00009.parquet',\n",
    "  'ALL/train-00004-of-00009.parquet',\n",
    "  'ALL/train-00005-of-00009.parquet',\n",
    "  'ALL/train-00006-of-00009.parquet',\n",
    "  'ALL/train-00007-of-00009.parquet',\n",
    "  'ALL/train-00008-of-00009.parquet',\n",
    "]"
   ]
  },
  {
   "cell_type": "code",
   "execution_count": 5,
   "id": "01e2ae46",
   "metadata": {},
   "outputs": [],
   "source": [
    "train_df = pd.DataFrame([])\n",
    "test_df = pd.DataFrame([])\n",
    "\n",
    "for filename in train_filenames: # iterate over train_filenames\n",
    "  path = hf.hf_hub_download( # download dataset\n",
    "    repo_id='BAAI/TACO', # repo id that contains the files\n",
    "    repo_type='dataset', # the type should be dataset as the download involves data files\n",
    "    filename=filename, # the specific filename to be downloaded\n",
    "  )\n",
    "\n",
    "  if train_df.empty: # if train_df is still empty\n",
    "    train_df = pd.read_parquet(path=path) # create a new DataFrame with data instead\n",
    "  else: # if train_df is not empty\n",
    "    train_df = pd.concat([train_df, pd.read_parquet(path)], axis=0) # concat the new data along axis=0 so not to create new columns,\n",
    "                                                                    # instead concat the data as rows\n",
    "\n",
    "for filename in test_filenames: # iterate over test_filenames\n",
    "  path = hf.hf_hub_download( # download dataset\n",
    "    repo_id='BAAI/TACO', # repo id that contains the files\n",
    "    repo_type='dataset', # the type should be dataset as the download involves data files\n",
    "    filename=filename, # the specific filename to be downloaded\n",
    "  )\n",
    "\n",
    "  if test_df.empty: # if test_df is still empty\n",
    "    test_df = pd.read_parquet(path=path) # create a new DataFrame with data instead\n",
    "  else: # if test_df is not empty\n",
    "    test_df = pd.concat([test_df, pd.read_parquet(path)], axis=0) # concat the new data along axis=0 so not to create new columns,\n",
    "                                                                    # instead concat the data as rows"
   ]
  },
  {
   "cell_type": "markdown",
   "id": "d3c26cb5",
   "metadata": {},
   "source": [
    "# Initial Inspection\n"
   ]
  },
  {
   "cell_type": "markdown",
   "id": "fbd2d37e",
   "metadata": {},
   "source": [
    "train_df and test_df are going to be combined as the project does not involve model testing. This means that there is no need to split the data into training set and testing set. It is more favorable to use all problem sets at once to cover more possibilities and variations.\n"
   ]
  },
  {
   "cell_type": "code",
   "execution_count": 6,
   "id": "aaedd94b",
   "metadata": {},
   "outputs": [],
   "source": [
    "full_df = pd.concat([train_df, test_df], axis=0) # create a concatenated train_df and test_df"
   ]
  },
  {
   "cell_type": "code",
   "execution_count": 7,
   "id": "a0a26b4d",
   "metadata": {},
   "outputs": [
    {
     "data": {
      "text/html": [
       "<div>\n",
       "<style scoped>\n",
       "    .dataframe tbody tr th:only-of-type {\n",
       "        vertical-align: middle;\n",
       "    }\n",
       "\n",
       "    .dataframe tbody tr th {\n",
       "        vertical-align: top;\n",
       "    }\n",
       "\n",
       "    .dataframe thead th {\n",
       "        text-align: right;\n",
       "    }\n",
       "</style>\n",
       "<table border=\"1\" class=\"dataframe\">\n",
       "  <thead>\n",
       "    <tr style=\"text-align: right;\">\n",
       "      <th></th>\n",
       "      <th>question</th>\n",
       "      <th>solutions</th>\n",
       "      <th>starter_code</th>\n",
       "      <th>input_output</th>\n",
       "      <th>difficulty</th>\n",
       "      <th>raw_tags</th>\n",
       "      <th>name</th>\n",
       "      <th>source</th>\n",
       "      <th>tags</th>\n",
       "      <th>skill_types</th>\n",
       "      <th>url</th>\n",
       "      <th>Expected Auxiliary Space</th>\n",
       "      <th>time_limit</th>\n",
       "      <th>date</th>\n",
       "      <th>picture_num</th>\n",
       "      <th>memory_limit</th>\n",
       "      <th>Expected Time Complexity</th>\n",
       "    </tr>\n",
       "  </thead>\n",
       "  <tbody>\n",
       "    <tr>\n",
       "      <th>0</th>\n",
       "      <td>For every string given as input, you need to t...</td>\n",
       "      <td>[]</td>\n",
       "      <td></td>\n",
       "      <td>{\"inputs\": [\"1\\naab\", \"3\\naab\\ndddd\\nthisisapa...</td>\n",
       "      <td>UNKNOWN_DIFFICULTY</td>\n",
       "      <td>[]</td>\n",
       "      <td>subpalindrome-4</td>\n",
       "      <td>hackerearth</td>\n",
       "      <td>[]</td>\n",
       "      <td>[]</td>\n",
       "      <td>None</td>\n",
       "      <td>None</td>\n",
       "      <td>None</td>\n",
       "      <td>None</td>\n",
       "      <td>None</td>\n",
       "      <td>None</td>\n",
       "      <td>None</td>\n",
       "    </tr>\n",
       "    <tr>\n",
       "      <th>1</th>\n",
       "      <td>A scientist discovered a strange variation of ...</td>\n",
       "      <td>[]</td>\n",
       "      <td></td>\n",
       "      <td>{\"inputs\": [\"3\\n0\\n7\\n15\\n655\\n2711\\n6395\\n719...</td>\n",
       "      <td>UNKNOWN_DIFFICULTY</td>\n",
       "      <td>[]</td>\n",
       "      <td>None</td>\n",
       "      <td>aizu</td>\n",
       "      <td>[]</td>\n",
       "      <td>[]</td>\n",
       "      <td>None</td>\n",
       "      <td>None</td>\n",
       "      <td>8.0 seconds</td>\n",
       "      <td>None</td>\n",
       "      <td>None</td>\n",
       "      <td>134.217728 megabytes</td>\n",
       "      <td>None</td>\n",
       "    </tr>\n",
       "    <tr>\n",
       "      <th>2</th>\n",
       "      <td>Two integers A and B are the inputs. Write a p...</td>\n",
       "      <td>[\"def GCD(x, y):\\n\\twhile y:\\n\\t\\t(x, y) = (y,...</td>\n",
       "      <td></td>\n",
       "      <td>{\"inputs\": [[\"3\", \"120 140\", \"10213 312\", \"10 ...</td>\n",
       "      <td>EASY</td>\n",
       "      <td>['LCM', 'Mathematics', 'Algorithms', 'Number T...</td>\n",
       "      <td>None</td>\n",
       "      <td>codechef</td>\n",
       "      <td>['Mathematics', 'Number theory', 'Implementati...</td>\n",
       "      <td>[]</td>\n",
       "      <td>https://www.codechef.com/problems/FLOW016</td>\n",
       "      <td>None</td>\n",
       "      <td>1 seconds</td>\n",
       "      <td>2015-04-27</td>\n",
       "      <td>0</td>\n",
       "      <td>50000 bytes</td>\n",
       "      <td>None</td>\n",
       "    </tr>\n",
       "    <tr>\n",
       "      <th>3</th>\n",
       "      <td>Limak is a grizzly bear who desires power and ...</td>\n",
       "      <td>[\"n = int(input())\\nv = list(map(int, input()....</td>\n",
       "      <td></td>\n",
       "      <td>{\"inputs\": [\"5\\n5 1 11 2 8\\n\", \"4\\n1 8 8 8\\n\",...</td>\n",
       "      <td>EASY</td>\n",
       "      <td>['greedy', 'implementation']</td>\n",
       "      <td>None</td>\n",
       "      <td>codeforces</td>\n",
       "      <td>['Implementation', 'Greedy algorithms']</td>\n",
       "      <td>['Greedy algorithms']</td>\n",
       "      <td>https://codeforces.com/problemset/problem/574/A</td>\n",
       "      <td>None</td>\n",
       "      <td>None</td>\n",
       "      <td>2019-12-31</td>\n",
       "      <td>None</td>\n",
       "      <td>None</td>\n",
       "      <td>None</td>\n",
       "    </tr>\n",
       "    <tr>\n",
       "      <th>4</th>\n",
       "      <td>problem\\n\\nJOI took six subjects: physics, che...</td>\n",
       "      <td>[\"lst = []\\nfor i in range(6):\\n\\tn = int(inpu...</td>\n",
       "      <td></td>\n",
       "      <td>{\"inputs\": [\"100\\n34\\n76\\n67\\n10\\n0\", \"100\\n34...</td>\n",
       "      <td>UNKNOWN_DIFFICULTY</td>\n",
       "      <td>[]</td>\n",
       "      <td>None</td>\n",
       "      <td>aizu</td>\n",
       "      <td>[]</td>\n",
       "      <td>[]</td>\n",
       "      <td>None</td>\n",
       "      <td>None</td>\n",
       "      <td>8.0 seconds</td>\n",
       "      <td>None</td>\n",
       "      <td>None</td>\n",
       "      <td>268.435456 megabytes</td>\n",
       "      <td>None</td>\n",
       "    </tr>\n",
       "  </tbody>\n",
       "</table>\n",
       "</div>"
      ],
      "text/plain": [
       "                                            question  \\\n",
       "0  For every string given as input, you need to t...   \n",
       "1  A scientist discovered a strange variation of ...   \n",
       "2  Two integers A and B are the inputs. Write a p...   \n",
       "3  Limak is a grizzly bear who desires power and ...   \n",
       "4  problem\\n\\nJOI took six subjects: physics, che...   \n",
       "\n",
       "                                           solutions starter_code  \\\n",
       "0                                                 []                \n",
       "1                                                 []                \n",
       "2  [\"def GCD(x, y):\\n\\twhile y:\\n\\t\\t(x, y) = (y,...                \n",
       "3  [\"n = int(input())\\nv = list(map(int, input()....                \n",
       "4  [\"lst = []\\nfor i in range(6):\\n\\tn = int(inpu...                \n",
       "\n",
       "                                        input_output          difficulty  \\\n",
       "0  {\"inputs\": [\"1\\naab\", \"3\\naab\\ndddd\\nthisisapa...  UNKNOWN_DIFFICULTY   \n",
       "1  {\"inputs\": [\"3\\n0\\n7\\n15\\n655\\n2711\\n6395\\n719...  UNKNOWN_DIFFICULTY   \n",
       "2  {\"inputs\": [[\"3\", \"120 140\", \"10213 312\", \"10 ...                EASY   \n",
       "3  {\"inputs\": [\"5\\n5 1 11 2 8\\n\", \"4\\n1 8 8 8\\n\",...                EASY   \n",
       "4  {\"inputs\": [\"100\\n34\\n76\\n67\\n10\\n0\", \"100\\n34...  UNKNOWN_DIFFICULTY   \n",
       "\n",
       "                                            raw_tags             name  \\\n",
       "0                                                 []  subpalindrome-4   \n",
       "1                                                 []             None   \n",
       "2  ['LCM', 'Mathematics', 'Algorithms', 'Number T...             None   \n",
       "3                       ['greedy', 'implementation']             None   \n",
       "4                                                 []             None   \n",
       "\n",
       "        source                                               tags  \\\n",
       "0  hackerearth                                                 []   \n",
       "1         aizu                                                 []   \n",
       "2     codechef  ['Mathematics', 'Number theory', 'Implementati...   \n",
       "3   codeforces            ['Implementation', 'Greedy algorithms']   \n",
       "4         aizu                                                 []   \n",
       "\n",
       "             skill_types                                              url  \\\n",
       "0                     []                                             None   \n",
       "1                     []                                             None   \n",
       "2                     []        https://www.codechef.com/problems/FLOW016   \n",
       "3  ['Greedy algorithms']  https://codeforces.com/problemset/problem/574/A   \n",
       "4                     []                                             None   \n",
       "\n",
       "  Expected Auxiliary Space   time_limit        date picture_num  \\\n",
       "0                     None         None        None        None   \n",
       "1                     None  8.0 seconds        None        None   \n",
       "2                     None    1 seconds  2015-04-27           0   \n",
       "3                     None         None  2019-12-31        None   \n",
       "4                     None  8.0 seconds        None        None   \n",
       "\n",
       "           memory_limit Expected Time Complexity  \n",
       "0                  None                     None  \n",
       "1  134.217728 megabytes                     None  \n",
       "2           50000 bytes                     None  \n",
       "3                  None                     None  \n",
       "4  268.435456 megabytes                     None  "
      ]
     },
     "execution_count": 7,
     "metadata": {},
     "output_type": "execute_result"
    }
   ],
   "source": [
    "full_df.head()"
   ]
  },
  {
   "cell_type": "code",
   "execution_count": 8,
   "id": "cef0d758",
   "metadata": {},
   "outputs": [
    {
     "name": "stdout",
     "output_type": "stream",
     "text": [
      "<class 'pandas.core.frame.DataFrame'>\n",
      "Index: 23616 entries, 0 to 999\n",
      "Data columns (total 17 columns):\n",
      " #   Column                    Non-Null Count  Dtype \n",
      "---  ------                    --------------  ----- \n",
      " 0   question                  23616 non-null  object\n",
      " 1   solutions                 23616 non-null  object\n",
      " 2   starter_code              23616 non-null  object\n",
      " 3   input_output              23616 non-null  object\n",
      " 4   difficulty                23616 non-null  object\n",
      " 5   raw_tags                  23616 non-null  object\n",
      " 6   name                      3352 non-null   object\n",
      " 7   source                    23616 non-null  object\n",
      " 8   tags                      23616 non-null  object\n",
      " 9   skill_types               23616 non-null  object\n",
      " 10  url                       18915 non-null  object\n",
      " 11  Expected Auxiliary Space  2386 non-null   object\n",
      " 12  time_limit                10519 non-null  object\n",
      " 13  date                      6204 non-null   object\n",
      " 14  picture_num               6710 non-null   object\n",
      " 15  memory_limit              10520 non-null  object\n",
      " 16  Expected Time Complexity  2603 non-null   object\n",
      "dtypes: object(17)\n",
      "memory usage: 3.2+ MB\n"
     ]
    }
   ],
   "source": [
    "full_df.info()"
   ]
  },
  {
   "cell_type": "markdown",
   "id": "a104817f",
   "metadata": {},
   "source": [
    "All column type is object, can be string or other data structures like list, tuple, or dictionary\n"
   ]
  },
  {
   "cell_type": "code",
   "execution_count": 9,
   "id": "45794c56",
   "metadata": {},
   "outputs": [],
   "source": [
    "eda_df = full_df.copy()"
   ]
  },
  {
   "cell_type": "markdown",
   "id": "7165d314",
   "metadata": {},
   "source": [
    "# Utility Functions\n"
   ]
  },
  {
   "cell_type": "markdown",
   "id": "475f6dbe",
   "metadata": {},
   "source": [
    "### Check condition for any empty row\n"
   ]
  },
  {
   "cell_type": "code",
   "execution_count": 10,
   "id": "470c3939",
   "metadata": {},
   "outputs": [],
   "source": [
    "from typing import Tuple"
   ]
  },
  {
   "cell_type": "code",
   "execution_count": 11,
   "id": "4aa8eaaf",
   "metadata": {},
   "outputs": [],
   "source": [
    "def empty_rows(data: pd.Series) -> Tuple[pd.Series, int]:\n",
    "  rows = []\n",
    "  for row in data:\n",
    "    if not row or not len(row):\n",
    "      rows.append(row)\n",
    "\n",
    "  return (pd.Series(rows), len(rows))"
   ]
  },
  {
   "cell_type": "markdown",
   "id": "a6589dca",
   "metadata": {},
   "source": [
    "### Check null or empty rows\n"
   ]
  },
  {
   "cell_type": "code",
   "execution_count": 12,
   "id": "2149696d",
   "metadata": {},
   "outputs": [],
   "source": [
    "def null_and_empty_rows(data: pd.Series) -> None:\n",
    "\n",
    "  empty = empty_rows(data)\n",
    "  print(f'Null count: {data.isnull().sum()} rows.')\n",
    "  print(f'Row containing empty data: {empty[1]} rows.')\n",
    "  print(f'Empty portion {round((empty[1] / data.shape[0]) * 100, 2)}%')"
   ]
  },
  {
   "cell_type": "markdown",
   "id": "761e4c4e",
   "metadata": {},
   "source": [
    "### Check detailed data type\n"
   ]
  },
  {
   "cell_type": "code",
   "execution_count": 13,
   "id": "4f47d0e0",
   "metadata": {},
   "outputs": [],
   "source": [
    "def check_type(data: pd.Series) -> None:\n",
    "  for row in data:\n",
    "    if row:\n",
    "      return type(row)"
   ]
  },
  {
   "cell_type": "markdown",
   "id": "ea308243",
   "metadata": {},
   "source": [
    "### First n Non Null Values\n"
   ]
  },
  {
   "cell_type": "code",
   "execution_count": 14,
   "id": "442115dd",
   "metadata": {},
   "outputs": [],
   "source": [
    "def n_non_null_head(data: pd.Series, n: int = 5) -> pd.Series:\n",
    "  head = []\n",
    "  for row in data:\n",
    "    if len(head) >= n:\n",
    "      break\n",
    "    if row:\n",
    "      head.append(row)\n",
    "\n",
    "  if len(head) < n:\n",
    "    head.extend([None] * (n - len(head)))\n",
    "  \n",
    "  return pd.Series(head)"
   ]
  },
  {
   "cell_type": "markdown",
   "id": "56c53c37",
   "metadata": {},
   "source": [
    "### Initial Check\n"
   ]
  },
  {
   "cell_type": "code",
   "execution_count": 15,
   "id": "a69be590",
   "metadata": {},
   "outputs": [],
   "source": [
    "def initial_check(data: pd.Series) -> None:\n",
    "  column_type = check_type(data)\n",
    "  print(f'Type: {column_type}\\n')\n",
    "  print('First 5 non-null rows:')\n",
    "  print(n_non_null_head(data))\n",
    "\n",
    "  print('\\nNull and empty values:')\n",
    "  null_and_empty_rows(data)"
   ]
  },
  {
   "cell_type": "markdown",
   "id": "500881b8",
   "metadata": {},
   "source": [
    "### Decode Data Structures From a String\n"
   ]
  },
  {
   "cell_type": "code",
   "execution_count": 16,
   "id": "9a26015f",
   "metadata": {},
   "outputs": [],
   "source": [
    "from json import JSONDecodeError\n",
    "import json\n",
    "\n",
    "def safe_decoding(row: str) -> any:\n",
    "  try:\n",
    "    if len(row) and row:\n",
    "      return json.loads(row.replace('\\'', '\\\"'))\n",
    "    else:\n",
    "      return row\n",
    "  except JSONDecodeError:\n",
    "    return row\n",
    "\n",
    "def decode_json(data: pd.Series) -> pd.Series:\n",
    "  return data.apply(lambda row: safe_decoding(row))"
   ]
  },
  {
   "cell_type": "markdown",
   "id": "30b1c7fc",
   "metadata": {},
   "source": [
    "# Column Analysis\n"
   ]
  },
  {
   "cell_type": "markdown",
   "id": "619e7279",
   "metadata": {},
   "source": [
    "## 1. Question\n"
   ]
  },
  {
   "cell_type": "code",
   "execution_count": 17,
   "id": "cba209e8",
   "metadata": {},
   "outputs": [
    {
     "name": "stdout",
     "output_type": "stream",
     "text": [
      "Type: <class 'str'>\n",
      "\n",
      "First 5 non-null rows:\n",
      "0    For every string given as input, you need to t...\n",
      "1    A scientist discovered a strange variation of ...\n",
      "2    Two integers A and B are the inputs. Write a p...\n",
      "3    Limak is a grizzly bear who desires power and ...\n",
      "4    problem\\n\\nJOI took six subjects: physics, che...\n",
      "dtype: object\n",
      "\n",
      "Null and empty values:\n",
      "Null count: 0 rows.\n",
      "Row containing empty data: 0 rows.\n",
      "Empty portion 0.0%\n"
     ]
    }
   ],
   "source": [
    "initial_check(eda_df['question'])"
   ]
  },
  {
   "cell_type": "markdown",
   "id": "a82f7ad0",
   "metadata": {},
   "source": [
    "Questions are in string, so no need to decode the data\n"
   ]
  },
  {
   "cell_type": "markdown",
   "id": "d108a501",
   "metadata": {},
   "source": [
    "The question column is essential as it holds the actual problem set questions. It seems that the there is no null row too, which means that all rows can be used for prompting.\n"
   ]
  },
  {
   "cell_type": "markdown",
   "id": "ca49a785",
   "metadata": {},
   "source": [
    "## 2. Solutions\n"
   ]
  },
  {
   "cell_type": "code",
   "execution_count": 18,
   "id": "acdac49f",
   "metadata": {},
   "outputs": [
    {
     "name": "stdout",
     "output_type": "stream",
     "text": [
      "Type: <class 'str'>\n",
      "\n",
      "First 5 non-null rows:\n",
      "0                                                   []\n",
      "1                                                   []\n",
      "2    [\"def GCD(x, y):\\n\\twhile y:\\n\\t\\t(x, y) = (y,...\n",
      "3    [\"n = int(input())\\nv = list(map(int, input()....\n",
      "4    [\"lst = []\\nfor i in range(6):\\n\\tn = int(inpu...\n",
      "dtype: object\n",
      "\n",
      "Null and empty values:\n",
      "Null count: 0 rows.\n",
      "Row containing empty data: 0 rows.\n",
      "Empty portion 0.0%\n"
     ]
    }
   ],
   "source": [
    "initial_check(eda_df['solutions'])"
   ]
  },
  {
   "cell_type": "markdown",
   "id": "56db9cd8",
   "metadata": {},
   "source": [
    "The column type is string, but the content is a Python list, which means it needs to be decoded.\n"
   ]
  },
  {
   "cell_type": "markdown",
   "id": "52796b4c",
   "metadata": {},
   "source": [
    "Some solutions are empty and the solution column itself cannot be used as a benchmark to the chatbot response as it is difficult to quantify how close the chabot codes are to these solutions and how good the codes based on the solutions data.\n"
   ]
  },
  {
   "cell_type": "markdown",
   "id": "057e12e3",
   "metadata": {},
   "source": [
    "## 3. Starter Code\n"
   ]
  },
  {
   "cell_type": "code",
   "execution_count": 19,
   "id": "33cd4cb0",
   "metadata": {},
   "outputs": [
    {
     "name": "stdout",
     "output_type": "stream",
     "text": [
      "Type: <class 'str'>\n",
      "\n",
      "First 5 non-null rows:\n",
      "0    #User function Template for python3\\n\\n\\n\\n'''...\n",
      "1    class Solution:\\n    def minSumOfLengths(self,...\n",
      "2    from typing import List\\n\\n\\n\\n\\n\\n\\n\\nclass S...\n",
      "3    #User function Template for python3\\n\\nclass S...\n",
      "4    #User function Template for python3\\n\\n# Retur...\n",
      "dtype: object\n",
      "\n",
      "Null and empty values:\n",
      "Null count: 0 rows.\n",
      "Row containing empty data: 18303 rows.\n",
      "Empty portion 77.5%\n"
     ]
    }
   ],
   "source": [
    "initial_check(eda_df['starter_code'])"
   ]
  },
  {
   "cell_type": "markdown",
   "id": "7d26dae1",
   "metadata": {},
   "source": [
    "Starter code does not contain any valuable information, so it can be dropped.\n"
   ]
  },
  {
   "cell_type": "markdown",
   "id": "90acec0d",
   "metadata": {},
   "source": [
    "## 4. Input-Output\n"
   ]
  },
  {
   "cell_type": "code",
   "execution_count": 20,
   "id": "16b42d8b",
   "metadata": {},
   "outputs": [
    {
     "name": "stdout",
     "output_type": "stream",
     "text": [
      "Type: <class 'str'>\n",
      "\n",
      "First 5 non-null rows:\n",
      "0    {\"inputs\": [\"1\\naab\", \"3\\naab\\ndddd\\nthisisapa...\n",
      "1    {\"inputs\": [\"3\\n0\\n7\\n15\\n655\\n2711\\n6395\\n719...\n",
      "2    {\"inputs\": [[\"3\", \"120 140\", \"10213 312\", \"10 ...\n",
      "3    {\"inputs\": [\"5\\n5 1 11 2 8\\n\", \"4\\n1 8 8 8\\n\",...\n",
      "4    {\"inputs\": [\"100\\n34\\n76\\n67\\n10\\n0\", \"100\\n34...\n",
      "dtype: object\n",
      "\n",
      "Null and empty values:\n",
      "Null count: 0 rows.\n",
      "Row containing empty data: 0 rows.\n",
      "Empty portion 0.0%\n"
     ]
    }
   ],
   "source": [
    "initial_check(eda_df['input_output'])"
   ]
  },
  {
   "cell_type": "markdown",
   "id": "1b104579",
   "metadata": {},
   "source": [
    "The data type is string, but the content is dictionary, so it needs to be decoded.\n"
   ]
  },
  {
   "cell_type": "code",
   "execution_count": 21,
   "id": "b0d8f08a",
   "metadata": {},
   "outputs": [],
   "source": [
    "# To get better representation on how the data is structured, decoding must be done.\n",
    "eda_df['input_output'] = decode_json(eda_df['input_output'])"
   ]
  },
  {
   "cell_type": "code",
   "execution_count": 22,
   "id": "473e8c4f",
   "metadata": {},
   "outputs": [
    {
     "name": "stdout",
     "output_type": "stream",
     "text": [
      "Type: <class 'dict'>\n",
      "\n",
      "First 5 non-null rows:\n",
      "0    {'inputs': ['1\n",
      "aab', '3\n",
      "aab\n",
      "dddd\n",
      "thisisapalind...\n",
      "1    {'inputs': ['3\n",
      "0\n",
      "7\n",
      "15\n",
      "655\n",
      "2711\n",
      "6395\n",
      "7195\n",
      "8465\n",
      "...\n",
      "2    {'inputs': [['3', '120 140', '10213 312', '10 ...\n",
      "3    {'inputs': ['5\n",
      "5 1 11 2 8\n",
      "', '4\n",
      "1 8 8 8\n",
      "', '2\n",
      "...\n",
      "4    {'inputs': ['100\n",
      "34\n",
      "76\n",
      "67\n",
      "10\n",
      "0', '100\n",
      "34\n",
      "76\n",
      "96...\n",
      "dtype: object\n",
      "\n",
      "Null and empty values:\n",
      "Null count: 0 rows.\n",
      "Row containing empty data: 0 rows.\n",
      "Empty portion 0.0%\n"
     ]
    }
   ],
   "source": [
    "initial_check(eda_df['input_output'])"
   ]
  },
  {
   "cell_type": "markdown",
   "id": "f5e07150",
   "metadata": {},
   "source": [
    "Looking at the data, each input output data contains a dictionary with:<br />\n",
    "\n",
    "1. Two keys: inputs and outputs\n",
    "2. The values are a list of inputs and outputs with each index of input attributes to the corresponding index of the output\n"
   ]
  },
  {
   "cell_type": "markdown",
   "id": "359200d9",
   "metadata": {},
   "source": [
    "## 5. Difficulty\n"
   ]
  },
  {
   "cell_type": "code",
   "execution_count": 23,
   "id": "c6f9668f",
   "metadata": {},
   "outputs": [
    {
     "name": "stdout",
     "output_type": "stream",
     "text": [
      "Type: <class 'str'>\n",
      "\n",
      "First 5 non-null rows:\n",
      "0    UNKNOWN_DIFFICULTY\n",
      "1    UNKNOWN_DIFFICULTY\n",
      "2                  EASY\n",
      "3                  EASY\n",
      "4    UNKNOWN_DIFFICULTY\n",
      "dtype: object\n",
      "\n",
      "Null and empty values:\n",
      "Null count: 0 rows.\n",
      "Row containing empty data: 0 rows.\n",
      "Empty portion 0.0%\n"
     ]
    }
   ],
   "source": [
    "initial_check(eda_df['difficulty'])"
   ]
  },
  {
   "cell_type": "code",
   "execution_count": 24,
   "id": "3b72d6e4",
   "metadata": {},
   "outputs": [
    {
     "data": {
      "text/plain": [
       "difficulty\n",
       "EASY                  8099\n",
       "UNKNOWN_DIFFICULTY    4467\n",
       "MEDIUM                3082\n",
       "HARD                  2995\n",
       "MEDIUM_HARD           2656\n",
       "VERY_HARD             2317\n",
       "Name: count, dtype: int64"
      ]
     },
     "execution_count": 24,
     "metadata": {},
     "output_type": "execute_result"
    }
   ],
   "source": [
    "eda_df['difficulty'].value_counts()"
   ]
  },
  {
   "cell_type": "markdown",
   "id": "ef7783c5",
   "metadata": {},
   "source": [
    "UNKNOWN_DIFFICULTY will not be used as it will be more difficult to filter out questions and analyze the questions and answers later on.\n"
   ]
  },
  {
   "cell_type": "markdown",
   "id": "53bc22bc",
   "metadata": {},
   "source": [
    "UNKNOWN_DIFFICULTY should be excluded as it will be difficult to discriminate between problem sets later on.\n"
   ]
  },
  {
   "cell_type": "markdown",
   "id": "73ada282",
   "metadata": {},
   "source": [
    "## 6. Raw Tags\n"
   ]
  },
  {
   "cell_type": "code",
   "execution_count": 25,
   "id": "7011d928",
   "metadata": {},
   "outputs": [
    {
     "name": "stdout",
     "output_type": "stream",
     "text": [
      "Type: <class 'str'>\n",
      "\n",
      "First 5 non-null rows:\n",
      "0                                                   []\n",
      "1                                                   []\n",
      "2    ['LCM', 'Mathematics', 'Algorithms', 'Number T...\n",
      "3                         ['greedy', 'implementation']\n",
      "4                                                   []\n",
      "dtype: object\n",
      "\n",
      "Null and empty values:\n",
      "Null count: 0 rows.\n",
      "Row containing empty data: 0 rows.\n",
      "Empty portion 0.0%\n"
     ]
    }
   ],
   "source": [
    "initial_check(eda_df['raw_tags'])"
   ]
  },
  {
   "cell_type": "markdown",
   "id": "9c277524",
   "metadata": {},
   "source": [
    "Some tags are empty, but keeping empty tags are not going to impact the problem set. This is why initial check says there are no empty rows even though some tags are empty.\n"
   ]
  },
  {
   "cell_type": "markdown",
   "id": "eda9ae6d",
   "metadata": {},
   "source": [
    "The data needs to be decoded as they are list inside of a string.\n"
   ]
  },
  {
   "cell_type": "code",
   "execution_count": 26,
   "id": "b7fb6f59",
   "metadata": {},
   "outputs": [],
   "source": [
    "eda_df['raw_tags'] = decode_json(eda_df['raw_tags'])"
   ]
  },
  {
   "cell_type": "code",
   "execution_count": 27,
   "id": "ac614f7a",
   "metadata": {},
   "outputs": [
    {
     "name": "stdout",
     "output_type": "stream",
     "text": [
      "Type: <class 'list'>\n",
      "\n",
      "First 5 non-null rows:\n",
      "0    [LCM, Mathematics, Algorithms, Number Theory, ...\n",
      "1                             [greedy, implementation]\n",
      "2                               [math, implementation]\n",
      "3    [combinatorics, matrices, math, constructive a...\n",
      "4                             [greedy, implementation]\n",
      "dtype: object\n",
      "\n",
      "Null and empty values:\n",
      "Null count: 0 rows.\n",
      "Row containing empty data: 6874 rows.\n",
      "Empty portion 29.11%\n"
     ]
    }
   ],
   "source": [
    "initial_check(eda_df['raw_tags'])"
   ]
  },
  {
   "cell_type": "markdown",
   "id": "3d88fac9",
   "metadata": {},
   "source": [
    "6874 of the total rows do not empty raw tags list.\n"
   ]
  },
  {
   "cell_type": "markdown",
   "id": "17bebbd0",
   "metadata": {},
   "source": [
    "## 7. Name\n"
   ]
  },
  {
   "cell_type": "code",
   "execution_count": 28,
   "id": "0fd74d87",
   "metadata": {},
   "outputs": [
    {
     "name": "stdout",
     "output_type": "stream",
     "text": [
      "Type: <class 'str'>\n",
      "\n",
      "First 5 non-null rows:\n",
      "0                             subpalindrome-4\n",
      "1                             modified-number\n",
      "2                                   leading-1\n",
      "3          miss-dd-and-her-mysterious-numbers\n",
      "4    AtCoder Beginner Contest 083 - Some Sums\n",
      "dtype: object\n",
      "\n",
      "Null and empty values:\n",
      "Null count: 20264 rows.\n",
      "Row containing empty data: 20264 rows.\n",
      "Empty portion 85.81%\n"
     ]
    }
   ],
   "source": [
    "initial_check(eda_df['name'])"
   ]
  },
  {
   "cell_type": "markdown",
   "id": "e2018e27",
   "metadata": {},
   "source": [
    "Most of name column values are null, around 85.8062%, so this can be dropped as most data will have null name while the others have name.\n"
   ]
  },
  {
   "cell_type": "markdown",
   "id": "dd04be08",
   "metadata": {},
   "source": [
    "## 8. Source\n"
   ]
  },
  {
   "cell_type": "code",
   "execution_count": 29,
   "id": "e8fc5bd1",
   "metadata": {},
   "outputs": [
    {
     "name": "stdout",
     "output_type": "stream",
     "text": [
      "Type: <class 'str'>\n",
      "\n",
      "First 5 non-null rows:\n",
      "0    hackerearth\n",
      "1           aizu\n",
      "2       codechef\n",
      "3     codeforces\n",
      "4           aizu\n",
      "dtype: object\n",
      "\n",
      "Null and empty values:\n",
      "Null count: 0 rows.\n",
      "Row containing empty data: 0 rows.\n",
      "Empty portion 0.0%\n"
     ]
    }
   ],
   "source": [
    "initial_check(eda_df['source'])"
   ]
  },
  {
   "cell_type": "code",
   "execution_count": 30,
   "id": "cf401fb0",
   "metadata": {},
   "outputs": [
    {
     "name": "stdout",
     "output_type": "stream",
     "text": [
      "{'codewars', 'geeksforgeeks', 'hackerearth', 'leetcode', 'atcoder', 'codechef', 'codeforces', 'kattis', 'hackerrank', 'aizu'}\n"
     ]
    }
   ],
   "source": [
    "sources_set = set()\n",
    "\n",
    "for source in eda_df['source']:\n",
    "  sources_set.add(source)\n",
    "\n",
    "print(sources_set)"
   ]
  },
  {
   "cell_type": "markdown",
   "id": "ab1dc987",
   "metadata": {},
   "source": [
    "These are the source of the problem sets. This output can be used to analyze the terms of services of each problem sets, and what can be used for this research.\n"
   ]
  },
  {
   "cell_type": "markdown",
   "id": "27b7b223",
   "metadata": {},
   "source": [
    "TOS agreement:\n",
    "\n",
    "- Code Forces https://codeforces.com/terms 👌\n",
    "- LeetCode https://leetcode.com/terms/ ❌ (likely no)\n",
    "- geeksforgeeks ❌ (likely no)\n",
    "- kattis https://open.kattis.com/info/tos 👌Likely okay (non-commercial)\n",
    "- aizu https://judge.u-aizu.ac.jp/onlinejudge/submission_note.jsp ❌ Risky (no clear terms)\n",
    "- hackerearth https://www.hackerearth.com/terms-of-service/ ❌ High risk\n",
    "- atcoder https://atcoder.jp/tos 👌Yes (Citation Required)\n",
    "- Codewars https://www.codewars.com/about/terms-of-service 👌Yes (Citation Required)\n",
    "- hackerrank https://www.hackerrank.com/terms-of-service/ 👌Yes (Citation Required, no problemset reproduction)\n",
    "- codechef https://www.codechef.com/terms 👌Likely okay (non-commercial\n"
   ]
  },
  {
   "cell_type": "markdown",
   "id": "0f5c724c",
   "metadata": {},
   "source": [
    "This column is not used specifically in the prompting, so it can be dropped later.\n"
   ]
  },
  {
   "cell_type": "markdown",
   "id": "0f00f4c6",
   "metadata": {},
   "source": [
    "## 9. Tags\n"
   ]
  },
  {
   "cell_type": "code",
   "execution_count": 31,
   "id": "f2ccb2e3",
   "metadata": {},
   "outputs": [
    {
     "name": "stdout",
     "output_type": "stream",
     "text": [
      "Type: <class 'str'>\n",
      "\n",
      "First 5 non-null rows:\n",
      "0                                                   []\n",
      "1                                                   []\n",
      "2    ['Mathematics', 'Number theory', 'Implementati...\n",
      "3              ['Implementation', 'Greedy algorithms']\n",
      "4                                                   []\n",
      "dtype: object\n",
      "\n",
      "Null and empty values:\n",
      "Null count: 0 rows.\n",
      "Row containing empty data: 0 rows.\n",
      "Empty portion 0.0%\n"
     ]
    }
   ],
   "source": [
    "initial_check(eda_df['tags'])"
   ]
  },
  {
   "cell_type": "markdown",
   "id": "8b27462d",
   "metadata": {},
   "source": [
    "Tags are supposed to be a list, so it needs to be decoded.\n"
   ]
  },
  {
   "cell_type": "code",
   "execution_count": 32,
   "id": "a9f95501",
   "metadata": {},
   "outputs": [],
   "source": [
    "eda_df['tags'] = decode_json(eda_df['tags'])"
   ]
  },
  {
   "cell_type": "code",
   "execution_count": 33,
   "id": "3ef80ae8",
   "metadata": {},
   "outputs": [
    {
     "name": "stdout",
     "output_type": "stream",
     "text": [
      "Type: <class 'list'>\n",
      "\n",
      "First 5 non-null rows:\n",
      "0         [Mathematics, Number theory, Implementation]\n",
      "1                  [Implementation, Greedy algorithms]\n",
      "2                        [Mathematics, Implementation]\n",
      "3    [Matrices, Combinatorics, Mathematics, Constru...\n",
      "4                  [Implementation, Greedy algorithms]\n",
      "dtype: object\n",
      "\n",
      "Null and empty values:\n",
      "Null count: 0 rows.\n",
      "Row containing empty data: 7652 rows.\n",
      "Empty portion 32.4%\n"
     ]
    }
   ],
   "source": [
    "initial_check(eda_df['tags'])"
   ]
  },
  {
   "cell_type": "markdown",
   "id": "b06c8eaf",
   "metadata": {},
   "source": [
    "7652 tags are empty, but it will not be dropped as problem sets with no tags are still included.\n"
   ]
  },
  {
   "cell_type": "markdown",
   "id": "33820659",
   "metadata": {},
   "source": [
    "## 10. Skill Types\n"
   ]
  },
  {
   "cell_type": "code",
   "execution_count": 34,
   "id": "4d09b2a3",
   "metadata": {},
   "outputs": [
    {
     "name": "stdout",
     "output_type": "stream",
     "text": [
      "Type: <class 'str'>\n",
      "\n",
      "First 5 non-null rows:\n",
      "0                       []\n",
      "1                       []\n",
      "2                       []\n",
      "3    ['Greedy algorithms']\n",
      "4                       []\n",
      "dtype: object\n",
      "\n",
      "Null and empty values:\n",
      "Null count: 0 rows.\n",
      "Row containing empty data: 0 rows.\n",
      "Empty portion 0.0%\n"
     ]
    }
   ],
   "source": [
    "initial_check(eda_df['skill_types'])"
   ]
  },
  {
   "cell_type": "markdown",
   "id": "b8427364",
   "metadata": {},
   "source": [
    "Skill Types is structured as a list, but the type is string, so it needs to be decoded.\n"
   ]
  },
  {
   "cell_type": "code",
   "execution_count": 35,
   "id": "cb4ce622",
   "metadata": {},
   "outputs": [],
   "source": [
    "eda_df['skill_types'] = decode_json(eda_df['skill_types'])"
   ]
  },
  {
   "cell_type": "code",
   "execution_count": 36,
   "id": "e0239156",
   "metadata": {},
   "outputs": [
    {
     "name": "stdout",
     "output_type": "stream",
     "text": [
      "Type: <class 'list'>\n",
      "\n",
      "First 5 non-null rows:\n",
      "0                                  [Greedy algorithms]\n",
      "1                                  [Greedy algorithms]\n",
      "2                     [Data structures, Range queries]\n",
      "3                                    [Complete search]\n",
      "4    [Dynamic programming, Amortized analysis, Sort...\n",
      "dtype: object\n",
      "\n",
      "Null and empty values:\n",
      "Null count: 0 rows.\n",
      "Row containing empty data: 13596 rows.\n",
      "Empty portion 57.57%\n"
     ]
    }
   ],
   "source": [
    "initial_check(eda_df['skill_types'])"
   ]
  },
  {
   "cell_type": "markdown",
   "id": "5a091f85",
   "metadata": {},
   "source": [
    "13596 list of the entire skill types lists are empty, these empty skill type lists will be explained on the prompt construction.\n"
   ]
  },
  {
   "cell_type": "markdown",
   "id": "ec2541a5",
   "metadata": {},
   "source": [
    "## 11. URL\n"
   ]
  },
  {
   "cell_type": "code",
   "execution_count": 37,
   "id": "7e17014d",
   "metadata": {},
   "outputs": [
    {
     "name": "stdout",
     "output_type": "stream",
     "text": [
      "Type: <class 'str'>\n",
      "\n",
      "First 5 non-null rows:\n",
      "0           https://www.codechef.com/problems/FLOW016\n",
      "1     https://codeforces.com/problemset/problem/574/A\n",
      "2      https://codeforces.com/problemset/problem/40/C\n",
      "3    https://codeforces.com/problemset/problem/1332/E\n",
      "4     https://codeforces.com/problemset/problem/374/A\n",
      "dtype: object\n",
      "\n",
      "Null and empty values:\n",
      "Null count: 4701 rows.\n",
      "Row containing empty data: 4701 rows.\n",
      "Empty portion 19.91%\n"
     ]
    }
   ],
   "source": [
    "initial_check(eda_df['url'])"
   ]
  },
  {
   "cell_type": "markdown",
   "id": "419ae788",
   "metadata": {},
   "source": [
    "URL information itself will not affect the produced solutions because they do not correlate with the problem sets, so it will be dropped for the prompting.\n"
   ]
  },
  {
   "cell_type": "markdown",
   "id": "4ebf4bea",
   "metadata": {},
   "source": [
    "## 12. Expected Auxiliary Space\n"
   ]
  },
  {
   "cell_type": "code",
   "execution_count": 38,
   "id": "d2db4945",
   "metadata": {},
   "outputs": [
    {
     "name": "stdout",
     "output_type": "stream",
     "text": [
      "Type: <class 'str'>\n",
      "\n",
      "First 5 non-null rows:\n",
      "0                            O(1).\n",
      "1                         O(N^{2})\n",
      "2                             O(1)\n",
      "3    O(Height of the Binary Tree).\n",
      "4                 O(|str1|*|str2|)\n",
      "dtype: object\n",
      "\n",
      "Null and empty values:\n",
      "Null count: 21230 rows.\n",
      "Row containing empty data: 21352 rows.\n",
      "Empty portion 90.41%\n"
     ]
    }
   ],
   "source": [
    "initial_check(eda_df['Expected Auxiliary Space'])"
   ]
  },
  {
   "cell_type": "code",
   "execution_count": 39,
   "id": "9a937090",
   "metadata": {},
   "outputs": [
    {
     "data": {
      "text/plain": [
       "Expected Auxiliary Space\n",
       "O(1)                             961\n",
       "O(N)                             307\n",
       "O(1).                            214\n",
       "                                 122\n",
       "O(n)                             103\n",
       "                                ... \n",
       "O(N * WORD_LEN).                   1\n",
       "O(Distinct Characters).            1\n",
       "O(1) for all the 5 functions.      1\n",
       "O(N^{2}*K)                         1\n",
       "O(Height of the Binary Tree).      1\n",
       "Name: count, Length: 305, dtype: int64"
      ]
     },
     "execution_count": 39,
     "metadata": {},
     "output_type": "execute_result"
    }
   ],
   "source": [
    "eda_df['Expected Auxiliary Space'].value_counts()"
   ]
  },
  {
   "cell_type": "markdown",
   "id": "abc07d94",
   "metadata": {},
   "source": [
    "Around 90% of problem sets do not have expected auxiliary space, so they will be assumed to not have expectations, which will be mentioned in the prompts later.\n"
   ]
  },
  {
   "cell_type": "markdown",
   "id": "bf6f2cb3",
   "metadata": {},
   "source": [
    "## 13. Time Limit\n"
   ]
  },
  {
   "cell_type": "code",
   "execution_count": 40,
   "id": "e038b030",
   "metadata": {},
   "outputs": [
    {
     "name": "stdout",
     "output_type": "stream",
     "text": [
      "Type: <class 'str'>\n",
      "\n",
      "First 5 non-null rows:\n",
      "0    8.0 seconds\n",
      "1      1 seconds\n",
      "2    8.0 seconds\n",
      "3    2.0 seconds\n",
      "4      2 seconds\n",
      "dtype: object\n",
      "\n",
      "Null and empty values:\n",
      "Null count: 13097 rows.\n",
      "Row containing empty data: 13097 rows.\n",
      "Empty portion 55.46%\n"
     ]
    }
   ],
   "source": [
    "initial_check(eda_df['time_limit'])"
   ]
  },
  {
   "cell_type": "markdown",
   "id": "69352e09",
   "metadata": {},
   "source": [
    "Around 55.46% of problem sets do not have time limit, so they will be assumed to not have expectations, which will be mentioned in the prompts later.\n"
   ]
  },
  {
   "cell_type": "markdown",
   "id": "0b358136",
   "metadata": {},
   "source": [
    "## 14. Date\n"
   ]
  },
  {
   "cell_type": "code",
   "execution_count": 41,
   "id": "5ddf5bfe",
   "metadata": {},
   "outputs": [
    {
     "name": "stdout",
     "output_type": "stream",
     "text": [
      "Type: <class 'str'>\n",
      "\n",
      "First 5 non-null rows:\n",
      "0    2015-04-27\n",
      "1    2019-12-31\n",
      "2    2020-03-31\n",
      "3    2019-12-31\n",
      "4    2019-12-31\n",
      "dtype: object\n",
      "\n",
      "Null and empty values:\n",
      "Null count: 17412 rows.\n",
      "Row containing empty data: 17412 rows.\n",
      "Empty portion 73.73%\n"
     ]
    }
   ],
   "source": [
    "initial_check(eda_df['date'])"
   ]
  },
  {
   "cell_type": "markdown",
   "id": "64dfd450",
   "metadata": {},
   "source": [
    "Date information itself will not affect the produced solutions because they do not correlate with the problem sets, so it will be dropped altogether.\n"
   ]
  },
  {
   "cell_type": "markdown",
   "id": "a4b9e60d",
   "metadata": {},
   "source": [
    "## 15. Picture Num\n"
   ]
  },
  {
   "cell_type": "code",
   "execution_count": 42,
   "id": "da023742",
   "metadata": {},
   "outputs": [
    {
     "name": "stdout",
     "output_type": "stream",
     "text": [
      "Type: <class 'str'>\n",
      "\n",
      "First 5 non-null rows:\n",
      "0    0\n",
      "1    1\n",
      "2    0\n",
      "3    0\n",
      "4    0\n",
      "dtype: object\n",
      "\n",
      "Null and empty values:\n",
      "Null count: 16906 rows.\n",
      "Row containing empty data: 16906 rows.\n",
      "Empty portion 71.59%\n"
     ]
    }
   ],
   "source": [
    "initial_check(eda_df['picture_num'])"
   ]
  },
  {
   "cell_type": "code",
   "execution_count": 43,
   "id": "1abf5411",
   "metadata": {},
   "outputs": [
    {
     "data": {
      "text/html": [
       "<div>\n",
       "<style scoped>\n",
       "    .dataframe tbody tr th:only-of-type {\n",
       "        vertical-align: middle;\n",
       "    }\n",
       "\n",
       "    .dataframe tbody tr th {\n",
       "        vertical-align: top;\n",
       "    }\n",
       "\n",
       "    .dataframe thead th {\n",
       "        text-align: right;\n",
       "    }\n",
       "</style>\n",
       "<table border=\"1\" class=\"dataframe\">\n",
       "  <thead>\n",
       "    <tr style=\"text-align: right;\">\n",
       "      <th></th>\n",
       "      <th>url</th>\n",
       "      <th>picture_num</th>\n",
       "    </tr>\n",
       "  </thead>\n",
       "  <tbody>\n",
       "  </tbody>\n",
       "</table>\n",
       "</div>"
      ],
      "text/plain": [
       "Empty DataFrame\n",
       "Columns: [url, picture_num]\n",
       "Index: []"
      ]
     },
     "execution_count": 43,
     "metadata": {},
     "output_type": "execute_result"
    }
   ],
   "source": [
    "eda_df[['url', 'picture_num']].loc[eda_df['url'] == None]"
   ]
  },
  {
   "cell_type": "markdown",
   "id": "1a82c5ff",
   "metadata": {},
   "source": [
    "Picture Num is dependent on url. If URL exists, picture_num can then exist. This indicate that picture num points to the picture inside of the URL if picture_num exists. This can be useful for feature engineering.\n"
   ]
  },
  {
   "cell_type": "markdown",
   "id": "cd78fdfb",
   "metadata": {},
   "source": [
    "## 16. Memory Limit\n"
   ]
  },
  {
   "cell_type": "code",
   "execution_count": 44,
   "id": "a76cd48b",
   "metadata": {},
   "outputs": [
    {
     "name": "stdout",
     "output_type": "stream",
     "text": [
      "Type: <class 'str'>\n",
      "\n",
      "First 5 non-null rows:\n",
      "0    134.217728 megabytes\n",
      "1             50000 bytes\n",
      "2    268.435456 megabytes\n",
      "3         256.0 megabytes\n",
      "4           512 megabytes\n",
      "dtype: object\n",
      "\n",
      "Null and empty values:\n",
      "Null count: 13096 rows.\n",
      "Row containing empty data: 13096 rows.\n",
      "Empty portion 55.45%\n"
     ]
    }
   ],
   "source": [
    "initial_check(eda_df['memory_limit'])"
   ]
  },
  {
   "cell_type": "markdown",
   "id": "03bbde20",
   "metadata": {},
   "source": [
    "55.45% of memory limit is empty. These empty values will be assumed as no time limit is given for the problem sets.\n"
   ]
  },
  {
   "cell_type": "markdown",
   "id": "6bcebea3",
   "metadata": {},
   "source": [
    "## 17. Expected Time Complexity\n"
   ]
  },
  {
   "cell_type": "code",
   "execution_count": 45,
   "id": "256bbe9d",
   "metadata": {},
   "outputs": [
    {
     "name": "stdout",
     "output_type": "stream",
     "text": [
      "Type: <class 'str'>\n",
      "\n",
      "First 5 non-null rows:\n",
      "0               O(N).\n",
      "1            O(N^{2})\n",
      "2              O(|S|)\n",
      "3               O(N).\n",
      "4    O(|str1|*|str2|)\n",
      "dtype: object\n",
      "\n",
      "Null and empty values:\n",
      "Null count: 21013 rows.\n",
      "Row containing empty data: 21135 rows.\n",
      "Empty portion 89.49%\n"
     ]
    }
   ],
   "source": [
    "initial_check(eda_df['Expected Time Complexity'])"
   ]
  },
  {
   "cell_type": "markdown",
   "id": "8afd87b8",
   "metadata": {},
   "source": [
    "55.45% of expected time complexity is empty. These empty values will be assumed as no expected time complexity is given for the problem sets.\n"
   ]
  },
  {
   "cell_type": "markdown",
   "id": "a2aadf36",
   "metadata": {},
   "source": [
    "# Feature Engineering\n"
   ]
  },
  {
   "cell_type": "code",
   "execution_count": 46,
   "id": "b7254480",
   "metadata": {},
   "outputs": [],
   "source": [
    "cleaned_df = full_df.copy()"
   ]
  },
  {
   "cell_type": "markdown",
   "id": "01f83ef2",
   "metadata": {},
   "source": [
    "### Drop Columns\n"
   ]
  },
  {
   "cell_type": "code",
   "execution_count": null,
   "id": "c24e65c4",
   "metadata": {},
   "outputs": [],
   "source": [
    "# cleaned_df.drop(columns=['solutions', 'starter_code', 'name', 'date'], inplace=True, axis=1)"
   ]
  },
  {
   "cell_type": "markdown",
   "id": "5f49afd8",
   "metadata": {},
   "source": [
    "### Filter Out Rows\n"
   ]
  },
  {
   "cell_type": "code",
   "execution_count": 48,
   "id": "57d64fae",
   "metadata": {},
   "outputs": [],
   "source": [
    "cleaned_df = cleaned_df.loc[cleaned_df['difficulty'] != 'UNKNOWN_DIFFICULTY']"
   ]
  },
  {
   "cell_type": "markdown",
   "id": "33860d44",
   "metadata": {},
   "source": [
    "### Decoding\n"
   ]
  },
  {
   "cell_type": "code",
   "execution_count": 49,
   "id": "0462c1c7",
   "metadata": {},
   "outputs": [],
   "source": [
    "decoded_cols = ['input_output', 'raw_tags', 'tags', 'skill_types']\n",
    "\n",
    "for col in decoded_cols:\n",
    "  cleaned_df[col] = decode_json(cleaned_df[col])"
   ]
  },
  {
   "cell_type": "markdown",
   "id": "4f057d24",
   "metadata": {},
   "source": []
  },
  {
   "cell_type": "markdown",
   "id": "35be2768",
   "metadata": {},
   "source": [
    "### Results\n"
   ]
  },
  {
   "cell_type": "code",
   "execution_count": 50,
   "id": "f08ebc28",
   "metadata": {},
   "outputs": [],
   "source": [
    "cleaned_df.reset_index(inplace=True, drop=True)"
   ]
  },
  {
   "cell_type": "code",
   "execution_count": 51,
   "id": "bbd53cf3",
   "metadata": {},
   "outputs": [
    {
     "data": {
      "text/html": [
       "<div>\n",
       "<style scoped>\n",
       "    .dataframe tbody tr th:only-of-type {\n",
       "        vertical-align: middle;\n",
       "    }\n",
       "\n",
       "    .dataframe tbody tr th {\n",
       "        vertical-align: top;\n",
       "    }\n",
       "\n",
       "    .dataframe thead th {\n",
       "        text-align: right;\n",
       "    }\n",
       "</style>\n",
       "<table border=\"1\" class=\"dataframe\">\n",
       "  <thead>\n",
       "    <tr style=\"text-align: right;\">\n",
       "      <th></th>\n",
       "      <th>question</th>\n",
       "      <th>input_output</th>\n",
       "      <th>difficulty</th>\n",
       "      <th>raw_tags</th>\n",
       "      <th>source</th>\n",
       "      <th>tags</th>\n",
       "      <th>skill_types</th>\n",
       "      <th>url</th>\n",
       "      <th>Expected Auxiliary Space</th>\n",
       "      <th>time_limit</th>\n",
       "      <th>picture_num</th>\n",
       "      <th>memory_limit</th>\n",
       "      <th>Expected Time Complexity</th>\n",
       "    </tr>\n",
       "  </thead>\n",
       "  <tbody>\n",
       "    <tr>\n",
       "      <th>0</th>\n",
       "      <td>Two integers A and B are the inputs. Write a p...</td>\n",
       "      <td>{'inputs': [['3', '120 140', '10213 312', '10 ...</td>\n",
       "      <td>EASY</td>\n",
       "      <td>[LCM, Mathematics, Algorithms, Number Theory, ...</td>\n",
       "      <td>codechef</td>\n",
       "      <td>[Mathematics, Number theory, Implementation]</td>\n",
       "      <td>[]</td>\n",
       "      <td>https://www.codechef.com/problems/FLOW016</td>\n",
       "      <td>None</td>\n",
       "      <td>1 seconds</td>\n",
       "      <td>0</td>\n",
       "      <td>50000 bytes</td>\n",
       "      <td>None</td>\n",
       "    </tr>\n",
       "    <tr>\n",
       "      <th>1</th>\n",
       "      <td>Limak is a grizzly bear who desires power and ...</td>\n",
       "      <td>{'inputs': ['5\n",
       "5 1 11 2 8\n",
       "', '4\n",
       "1 8 8 8\n",
       "', '2\n",
       "...</td>\n",
       "      <td>EASY</td>\n",
       "      <td>[greedy, implementation]</td>\n",
       "      <td>codeforces</td>\n",
       "      <td>[Implementation, Greedy algorithms]</td>\n",
       "      <td>[Greedy algorithms]</td>\n",
       "      <td>https://codeforces.com/problemset/problem/574/A</td>\n",
       "      <td>None</td>\n",
       "      <td>None</td>\n",
       "      <td>None</td>\n",
       "      <td>None</td>\n",
       "      <td>None</td>\n",
       "    </tr>\n",
       "    <tr>\n",
       "      <th>2</th>\n",
       "      <td>Last year the world's largest square was built...</td>\n",
       "      <td>{'inputs': ['99085 7738 98097 -6487\n",
       "', '1 2 2 ...</td>\n",
       "      <td>HARD</td>\n",
       "      <td>[math, implementation]</td>\n",
       "      <td>codeforces</td>\n",
       "      <td>[Mathematics, Implementation]</td>\n",
       "      <td>[]</td>\n",
       "      <td>https://codeforces.com/problemset/problem/40/C</td>\n",
       "      <td>None</td>\n",
       "      <td>2.0 seconds</td>\n",
       "      <td>None</td>\n",
       "      <td>256.0 megabytes</td>\n",
       "      <td>None</td>\n",
       "    </tr>\n",
       "    <tr>\n",
       "      <th>3</th>\n",
       "      <td>Alice has got addicted to a game called Sirtet...</td>\n",
       "      <td>{'inputs': ['2 2 1 1\n",
       "', '1 2 1 2\n",
       "', '485 117 3...</td>\n",
       "      <td>HARD</td>\n",
       "      <td>[combinatorics, matrices, math, constructive a...</td>\n",
       "      <td>codeforces</td>\n",
       "      <td>[Matrices, Combinatorics, Mathematics, Constru...</td>\n",
       "      <td>[]</td>\n",
       "      <td>https://codeforces.com/problemset/problem/1332/E</td>\n",
       "      <td>None</td>\n",
       "      <td>2 seconds</td>\n",
       "      <td>1</td>\n",
       "      <td>512 megabytes</td>\n",
       "      <td>None</td>\n",
       "    </tr>\n",
       "    <tr>\n",
       "      <th>4</th>\n",
       "      <td>Dima and Inna are doing so great! At the momen...</td>\n",
       "      <td>{'inputs': ['5 7 1 3 2 2\n",
       "', '5 5 2 3 1 1\n",
       "', '1...</td>\n",
       "      <td>HARD</td>\n",
       "      <td>[greedy, implementation]</td>\n",
       "      <td>codeforces</td>\n",
       "      <td>[Implementation, Greedy algorithms]</td>\n",
       "      <td>[Greedy algorithms]</td>\n",
       "      <td>https://codeforces.com/problemset/problem/374/A</td>\n",
       "      <td>None</td>\n",
       "      <td>None</td>\n",
       "      <td>None</td>\n",
       "      <td>None</td>\n",
       "      <td>None</td>\n",
       "    </tr>\n",
       "  </tbody>\n",
       "</table>\n",
       "</div>"
      ],
      "text/plain": [
       "                                            question  \\\n",
       "0  Two integers A and B are the inputs. Write a p...   \n",
       "1  Limak is a grizzly bear who desires power and ...   \n",
       "2  Last year the world's largest square was built...   \n",
       "3  Alice has got addicted to a game called Sirtet...   \n",
       "4  Dima and Inna are doing so great! At the momen...   \n",
       "\n",
       "                                        input_output difficulty  \\\n",
       "0  {'inputs': [['3', '120 140', '10213 312', '10 ...       EASY   \n",
       "1  {'inputs': ['5\n",
       "5 1 11 2 8\n",
       "', '4\n",
       "1 8 8 8\n",
       "', '2\n",
       "...       EASY   \n",
       "2  {'inputs': ['99085 7738 98097 -6487\n",
       "', '1 2 2 ...       HARD   \n",
       "3  {'inputs': ['2 2 1 1\n",
       "', '1 2 1 2\n",
       "', '485 117 3...       HARD   \n",
       "4  {'inputs': ['5 7 1 3 2 2\n",
       "', '5 5 2 3 1 1\n",
       "', '1...       HARD   \n",
       "\n",
       "                                            raw_tags      source  \\\n",
       "0  [LCM, Mathematics, Algorithms, Number Theory, ...    codechef   \n",
       "1                           [greedy, implementation]  codeforces   \n",
       "2                             [math, implementation]  codeforces   \n",
       "3  [combinatorics, matrices, math, constructive a...  codeforces   \n",
       "4                           [greedy, implementation]  codeforces   \n",
       "\n",
       "                                                tags          skill_types  \\\n",
       "0       [Mathematics, Number theory, Implementation]                   []   \n",
       "1                [Implementation, Greedy algorithms]  [Greedy algorithms]   \n",
       "2                      [Mathematics, Implementation]                   []   \n",
       "3  [Matrices, Combinatorics, Mathematics, Constru...                   []   \n",
       "4                [Implementation, Greedy algorithms]  [Greedy algorithms]   \n",
       "\n",
       "                                                url Expected Auxiliary Space  \\\n",
       "0         https://www.codechef.com/problems/FLOW016                     None   \n",
       "1   https://codeforces.com/problemset/problem/574/A                     None   \n",
       "2    https://codeforces.com/problemset/problem/40/C                     None   \n",
       "3  https://codeforces.com/problemset/problem/1332/E                     None   \n",
       "4   https://codeforces.com/problemset/problem/374/A                     None   \n",
       "\n",
       "    time_limit picture_num     memory_limit Expected Time Complexity  \n",
       "0    1 seconds           0      50000 bytes                     None  \n",
       "1         None        None             None                     None  \n",
       "2  2.0 seconds        None  256.0 megabytes                     None  \n",
       "3    2 seconds           1    512 megabytes                     None  \n",
       "4         None        None             None                     None  "
      ]
     },
     "execution_count": 51,
     "metadata": {},
     "output_type": "execute_result"
    }
   ],
   "source": [
    "cleaned_df.head()"
   ]
  },
  {
   "cell_type": "code",
   "execution_count": 52,
   "id": "38cf65bb",
   "metadata": {},
   "outputs": [
    {
     "name": "stdout",
     "output_type": "stream",
     "text": [
      "<class 'pandas.core.frame.DataFrame'>\n",
      "RangeIndex: 19149 entries, 0 to 19148\n",
      "Data columns (total 13 columns):\n",
      " #   Column                    Non-Null Count  Dtype \n",
      "---  ------                    --------------  ----- \n",
      " 0   question                  19149 non-null  object\n",
      " 1   input_output              19149 non-null  object\n",
      " 2   difficulty                19149 non-null  object\n",
      " 3   raw_tags                  19149 non-null  object\n",
      " 4   source                    19149 non-null  object\n",
      " 5   tags                      19149 non-null  object\n",
      " 6   skill_types               19149 non-null  object\n",
      " 7   url                       17891 non-null  object\n",
      " 8   Expected Auxiliary Space  2386 non-null   object\n",
      " 9   time_limit                7915 non-null   object\n",
      " 10  picture_num               6710 non-null   object\n",
      " 11  memory_limit              7915 non-null   object\n",
      " 12  Expected Time Complexity  2603 non-null   object\n",
      "dtypes: object(13)\n",
      "memory usage: 1.9+ MB\n"
     ]
    }
   ],
   "source": [
    "cleaned_df.info()"
   ]
  },
  {
   "cell_type": "code",
   "execution_count": 53,
   "id": "6b14be33",
   "metadata": {},
   "outputs": [
    {
     "name": "stdout",
     "output_type": "stream",
     "text": [
      "[question]'s type: object\n",
      "[input_output]'s type: object\n",
      "[difficulty]'s type: object\n",
      "[raw_tags]'s type: object\n",
      "[source]'s type: object\n",
      "[tags]'s type: object\n",
      "[skill_types]'s type: object\n",
      "[url]'s type: object\n",
      "[Expected Auxiliary Space]'s type: object\n",
      "[time_limit]'s type: object\n",
      "[picture_num]'s type: object\n",
      "[memory_limit]'s type: object\n",
      "[Expected Time Complexity]'s type: object\n"
     ]
    }
   ],
   "source": [
    "for col in cleaned_df:\n",
    "  print(f'[{col}]\\'s type: {cleaned_df[col].dtype}')"
   ]
  },
  {
   "cell_type": "markdown",
   "id": "5be3ebbe",
   "metadata": {},
   "source": [
    "# Problems Selection\n"
   ]
  },
  {
   "cell_type": "code",
   "execution_count": 54,
   "id": "f4817a0b",
   "metadata": {},
   "outputs": [],
   "source": [
    "ps_df = cleaned_df.copy()"
   ]
  },
  {
   "cell_type": "code",
   "execution_count": 55,
   "id": "aa701d29",
   "metadata": {},
   "outputs": [
    {
     "name": "stdout",
     "output_type": "stream",
     "text": [
      "Filtered out 4326 problems with unapproved sources.\n",
      "Remaining problems: 14823\n"
     ]
    }
   ],
   "source": [
    "# Drop rows where the source doesn't approve in the terms of service\n",
    "tosUnapproved = {\n",
    "    \"geeksforgeeks\",\n",
    "    \"leetcode\",\n",
    "    \"aizu\",\n",
    "    \"hackerearth\"\n",
    "}\n",
    "\n",
    "# Drop rows where the source doesn't approve in the terms of service\n",
    "ps_df = ps_df[~ps_df['source'].isin(tosUnapproved)]\n",
    "print(f\"Filtered out {len(cleaned_df) - len(ps_df)} problems with unapproved sources.\")\n",
    "print(f\"Remaining problems: {len(ps_df)}\")"
   ]
  },
  {
   "cell_type": "code",
   "execution_count": 56,
   "id": "33d69005",
   "metadata": {},
   "outputs": [],
   "source": [
    "# Drop rows that don't have any input or output test cases\n",
    "filtered_ps_df = ps_df.loc[\n",
    "    ps_df['input_output'].apply(\n",
    "        lambda x: isinstance(x, dict) and bool(x.get('inputs')) and bool(x.get('outputs'))\n",
    "    )\n",
    "]\n",
    "ps_df = filtered_ps_df"
   ]
  },
  {
   "cell_type": "code",
   "execution_count": 57,
   "id": "5ec651ca",
   "metadata": {},
   "outputs": [
    {
     "name": "stdout",
     "output_type": "stream",
     "text": [
      "Rows before filtering: 19149\n",
      "Rows after filtering: 7147\n",
      "Filtered out 12002 rows\n"
     ]
    }
   ],
   "source": [
    "# Drop rows where skill_types is empty or NaN\n",
    "# Empty list is considered as empty\n",
    "ps_df = ps_df[ps_df['skill_types'].apply(lambda x: x is not None and len(x) > 0)]\n",
    "\n",
    "# Reset index after filtering\n",
    "ps_df.reset_index(drop=True, inplace=True)\n",
    "\n",
    "# Display info about the filtered DataFrame\n",
    "print(f\"Rows before filtering: {len(cleaned_df)}\")\n",
    "print(f\"Rows after filtering: {len(ps_df)}\")\n",
    "print(f\"Filtered out {len(cleaned_df) - len(ps_df)} rows\")"
   ]
  },
  {
   "cell_type": "code",
   "execution_count": 91,
   "id": "872e40fe",
   "metadata": {},
   "outputs": [],
   "source": [
    "randomness = 42\n",
    "# Max problems per skill type and difficulty\n",
    "max_counts = {\n",
    "    'EASY': 18,\n",
    "    'MEDIUM': 10,\n",
    "    'MEDIUM_HARD': 8,\n",
    "    'HARD': 3,\n",
    "    'VERY_HARD': 3\n",
    "}\n",
    "\n",
    "# Get all unique skills from the skill_types column\n",
    "all_skills = set()\n",
    "for skills in ps_df['skill_types']:\n",
    "    if skills and len(skills) > 0:\n",
    "        all_skills.update(skills)\n",
    "\n",
    "# Create an empty dataframe to store the results\n",
    "filtered_df = pd.DataFrame(columns=ps_df.columns)\n",
    "\n",
    "# Process each skill type\n",
    "for skill in all_skills:\n",
    "    # Get problems with this skill\n",
    "    skill_mask = ps_df['skill_types'].apply(lambda x: skill in x if x else False)\n",
    "    skill_df = ps_df[skill_mask].copy()\n",
    "    \n",
    "    # Sample problems for each difficulty level\n",
    "    sampled_by_difficulty = pd.DataFrame(columns=ps_df.columns)\n",
    "    \n",
    "    for difficulty, max_count in max_counts.items():\n",
    "        difficulty_df = skill_df[skill_df['difficulty'] == difficulty]\n",
    "        \n",
    "        if len(difficulty_df) > 0:\n",
    "            # Sample up to max_count problems of this difficulty\n",
    "            sample_size = min(max_count, len(difficulty_df))\n",
    "            sampled = difficulty_df.sample(n=sample_size, random_state=randomness)\n",
    "            sampled_by_difficulty = pd.concat([sampled_by_difficulty, sampled])\n",
    "            \n",
    "            # Remove the sampled problems from skill_df to avoid duplicates\n",
    "            # when a problem belongs to multiple skill types\n",
    "            skill_df = skill_df.loc[~skill_df.index.isin(sampled.index)]\n",
    "    \n",
    "    # Add the sampled problems for this skill to the result\n",
    "    filtered_df = pd.concat([filtered_df, sampled_by_difficulty])\n",
    "    \n",
    "# Remove duplicates (in case a problem was selected for multiple skills)\n",
    "filtered_df = filtered_df.drop_duplicates(subset=[col for col in filtered_df.columns if col not in ['input_output', 'raw_tags', 'tags', 'skill_types']])\n",
    "\n",
    "# Reset index\n",
    "filtered_df.reset_index(drop=True, inplace=True)"
   ]
  },
  {
   "cell_type": "code",
   "execution_count": 92,
   "id": "5b698eb4",
   "metadata": {},
   "outputs": [
    {
     "name": "stdout",
     "output_type": "stream",
     "text": [
      "Total problems in balanced dataset: 301\n",
      "\n",
      "Skill: Dynamic programming (Total problems: 78)\n",
      "  EASY: 23\n",
      "  MEDIUM: 20\n",
      "  HARD: 8\n",
      "  MEDIUM_HARD: 17\n",
      "  VERY_HARD: 10\n",
      "\n",
      "Skill: Greedy algorithms (Total problems: 100)\n",
      "  EASY: 42\n",
      "  MEDIUM: 26\n",
      "  HARD: 6\n",
      "  MEDIUM_HARD: 20\n",
      "  VERY_HARD: 6\n",
      "\n",
      "Skill: Complete search (Total problems: 84)\n",
      "  EASY: 35\n",
      "  MEDIUM: 17\n",
      "  HARD: 6\n",
      "  MEDIUM_HARD: 18\n",
      "  VERY_HARD: 8\n",
      "\n",
      "Skill: Sorting (Total problems: 100)\n",
      "  EASY: 35\n",
      "  MEDIUM: 27\n",
      "  HARD: 7\n",
      "  MEDIUM_HARD: 22\n",
      "  VERY_HARD: 9\n",
      "\n",
      "Skill: Data structures (Total problems: 86)\n",
      "  EASY: 32\n",
      "  MEDIUM: 16\n",
      "  HARD: 11\n",
      "  MEDIUM_HARD: 18\n",
      "  VERY_HARD: 9\n",
      "\n",
      "Skill: Bit manipulation (Total problems: 49)\n",
      "  EASY: 20\n",
      "  MEDIUM: 12\n",
      "  HARD: 3\n",
      "  MEDIUM_HARD: 9\n",
      "  VERY_HARD: 5\n",
      "\n",
      "Skill: Amortized analysis (Total problems: 58)\n",
      "  EASY: 21\n",
      "  MEDIUM: 12\n",
      "  HARD: 5\n",
      "  MEDIUM_HARD: 16\n",
      "  VERY_HARD: 4\n",
      "\n",
      "Skill: Range queries (Total problems: 22)\n",
      "  EASY: 5\n",
      "  MEDIUM: 3\n",
      "  HARD: 3\n",
      "  MEDIUM_HARD: 8\n",
      "  VERY_HARD: 3\n",
      "\n",
      "Overall distribution by difficulty:\n",
      "difficulty\n",
      "EASY           123\n",
      "MEDIUM          69\n",
      "MEDIUM_HARD     61\n",
      "HARD            24\n",
      "VERY_HARD       24\n",
      "Name: count, dtype: int64\n",
      "\n",
      "Distribution by source:\n",
      "source\n",
      "codeforces    205\n",
      "codechef       53\n",
      "codewars       31\n",
      "hackerrank      9\n",
      "kattis          3\n",
      "Name: count, dtype: int64\n"
     ]
    }
   ],
   "source": [
    "# Display statistics about the resulting dataset\n",
    "print(f\"Total problems in balanced dataset: {len(filtered_df)}\")\n",
    "\n",
    "skill_difficulty_counts = {}\n",
    "for skills, difficulty in zip(filtered_df['skill_types'], filtered_df['difficulty']):\n",
    "    for skill in skills:\n",
    "        if skill not in skill_difficulty_counts:\n",
    "            skill_difficulty_counts[skill] = {'EASY': 0, 'MEDIUM': 0, 'HARD': 0, 'MEDIUM_HARD': 0, 'VERY_HARD': 0}\n",
    "        skill_difficulty_counts[skill][difficulty] += 1\n",
    "\n",
    "for skill, counts in skill_difficulty_counts.items():\n",
    "    total_problems = sum(counts.values())\n",
    "    print(f\"\\nSkill: {skill} (Total problems: {total_problems})\")\n",
    "    for difficulty, count in counts.items():\n",
    "        print(f\"  {difficulty}: {count}\")\n",
    "\n",
    "print(\"\\nOverall distribution by difficulty:\")\n",
    "print(filtered_df['difficulty'].value_counts())\n",
    "\n",
    "print(\"\\nDistribution by source:\")\n",
    "print(filtered_df['source'].value_counts())"
   ]
  },
  {
   "cell_type": "code",
   "execution_count": 93,
   "id": "0ceac440",
   "metadata": {},
   "outputs": [
    {
     "name": "stdout",
     "output_type": "stream",
     "text": [
      "<class 'pandas.core.frame.DataFrame'>\n",
      "RangeIndex: 300 entries, 0 to 299\n",
      "Data columns (total 13 columns):\n",
      " #   Column                    Non-Null Count  Dtype \n",
      "---  ------                    --------------  ----- \n",
      " 0   question                  300 non-null    object\n",
      " 1   input_output              300 non-null    object\n",
      " 2   difficulty                300 non-null    object\n",
      " 3   raw_tags                  300 non-null    object\n",
      " 4   source                    300 non-null    object\n",
      " 5   tags                      300 non-null    object\n",
      " 6   skill_types               300 non-null    object\n",
      " 7   url                       300 non-null    object\n",
      " 8   Expected Auxiliary Space  0 non-null      object\n",
      " 9   time_limit                179 non-null    object\n",
      " 10  picture_num               137 non-null    object\n",
      " 11  memory_limit              179 non-null    object\n",
      " 12  Expected Time Complexity  6 non-null      object\n",
      "dtypes: object(13)\n",
      "memory usage: 30.6+ KB\n"
     ]
    }
   ],
   "source": [
    "filtered_df = filtered_df[:300]\n",
    "filtered_df.reset_index(drop=True, inplace=True)\n",
    "filtered_df.info()"
   ]
  },
  {
   "cell_type": "markdown",
   "id": "586e7e0a",
   "metadata": {},
   "source": [
    "# Prompts Construction\n"
   ]
  },
  {
   "cell_type": "code",
   "execution_count": 94,
   "id": "3b02a794",
   "metadata": {},
   "outputs": [],
   "source": [
    "pc_df = filtered_df.copy()"
   ]
  },
  {
   "cell_type": "code",
   "execution_count": null,
   "id": "013dd7e0",
   "metadata": {},
   "outputs": [],
   "source": [
    "# pc_df.drop(columns=['picture_num', 'source'], axis=1, inplace=True)"
   ]
  },
  {
   "cell_type": "code",
   "execution_count": 96,
   "id": "2cf112e0",
   "metadata": {},
   "outputs": [
    {
     "data": {
      "text/html": [
       "<div>\n",
       "<style scoped>\n",
       "    .dataframe tbody tr th:only-of-type {\n",
       "        vertical-align: middle;\n",
       "    }\n",
       "\n",
       "    .dataframe tbody tr th {\n",
       "        vertical-align: top;\n",
       "    }\n",
       "\n",
       "    .dataframe thead th {\n",
       "        text-align: right;\n",
       "    }\n",
       "</style>\n",
       "<table border=\"1\" class=\"dataframe\">\n",
       "  <thead>\n",
       "    <tr style=\"text-align: right;\">\n",
       "      <th></th>\n",
       "      <th>question</th>\n",
       "      <th>input_output</th>\n",
       "      <th>difficulty</th>\n",
       "      <th>raw_tags</th>\n",
       "      <th>tags</th>\n",
       "      <th>skill_types</th>\n",
       "      <th>url</th>\n",
       "      <th>Expected Auxiliary Space</th>\n",
       "      <th>time_limit</th>\n",
       "      <th>memory_limit</th>\n",
       "      <th>Expected Time Complexity</th>\n",
       "    </tr>\n",
       "  </thead>\n",
       "  <tbody>\n",
       "    <tr>\n",
       "      <th>0</th>\n",
       "      <td>You are given a problemset consisting of $n$ p...</td>\n",
       "      <td>{'inputs': ['10\n",
       "1 2 5 6 7 10 21 23 24 49\n",
       "', '5...</td>\n",
       "      <td>EASY</td>\n",
       "      <td>[greedy, math, dp]</td>\n",
       "      <td>[Dynamic programming, Mathematics, Greedy algo...</td>\n",
       "      <td>[Dynamic programming, Greedy algorithms]</td>\n",
       "      <td>https://codeforces.com/problemset/problem/1029/B</td>\n",
       "      <td>None</td>\n",
       "      <td>None</td>\n",
       "      <td>None</td>\n",
       "      <td>None</td>\n",
       "    </tr>\n",
       "    <tr>\n",
       "      <th>1</th>\n",
       "      <td>Catherine has a deck of n cards, each of which...</td>\n",
       "      <td>{'inputs': ['2\n",
       "RB\n",
       "', '3\n",
       "GRG\n",
       "', '5\n",
       "BBBBB\n",
       "', '1\n",
       "...</td>\n",
       "      <td>EASY</td>\n",
       "      <td>[math, dp, constructive algorithms]</td>\n",
       "      <td>[Dynamic programming, Mathematics, Constructiv...</td>\n",
       "      <td>[Dynamic programming]</td>\n",
       "      <td>https://codeforces.com/problemset/problem/626/B</td>\n",
       "      <td>None</td>\n",
       "      <td>None</td>\n",
       "      <td>None</td>\n",
       "      <td>None</td>\n",
       "    </tr>\n",
       "    <tr>\n",
       "      <th>2</th>\n",
       "      <td>Monocarp has been collecting rare magazines fo...</td>\n",
       "      <td>{'inputs': ['4\n",
       "5\n",
       "01110\n",
       "10 5 8 9 6\n",
       "6\n",
       "011011\n",
       "20 ...</td>\n",
       "      <td>EASY</td>\n",
       "      <td>[greedy, dp, constructive algorithms]</td>\n",
       "      <td>[Greedy algorithms, Dynamic programming, Const...</td>\n",
       "      <td>[Dynamic programming, Greedy algorithms]</td>\n",
       "      <td>https://codeforces.com/problemset/problem/1743/C</td>\n",
       "      <td>None</td>\n",
       "      <td>2 seconds</td>\n",
       "      <td>256 megabytes</td>\n",
       "      <td>None</td>\n",
       "    </tr>\n",
       "    <tr>\n",
       "      <th>3</th>\n",
       "      <td>Justin likes to play a game called “Weight of ...</td>\n",
       "      <td>{'inputs': ['11 131\n",
       "', '7 96\n",
       "', '26 677\n",
       "'], 'o...</td>\n",
       "      <td>EASY</td>\n",
       "      <td>[dp &amp; greedy, dp]</td>\n",
       "      <td>[Dynamic programming]</td>\n",
       "      <td>[Dynamic programming]</td>\n",
       "      <td>https://open.kattis.com/problems/weightofwords</td>\n",
       "      <td>None</td>\n",
       "      <td>None</td>\n",
       "      <td>None</td>\n",
       "      <td>None</td>\n",
       "    </tr>\n",
       "    <tr>\n",
       "      <th>4</th>\n",
       "      <td>Athenaeus has just finished creating his lates...</td>\n",
       "      <td>{'inputs': ['5\n",
       "6\n",
       "1 2 2 2 5 6\n",
       "2\n",
       "4 4\n",
       "6\n",
       "1 1 3 4 4...</td>\n",
       "      <td>EASY</td>\n",
       "      <td>[greedy, dp]</td>\n",
       "      <td>[Dynamic programming, Greedy algorithms]</td>\n",
       "      <td>[Dynamic programming, Greedy algorithms]</td>\n",
       "      <td>https://codeforces.com/problemset/problem/1466/B</td>\n",
       "      <td>None</td>\n",
       "      <td>1 second</td>\n",
       "      <td>256 megabytes</td>\n",
       "      <td>None</td>\n",
       "    </tr>\n",
       "  </tbody>\n",
       "</table>\n",
       "</div>"
      ],
      "text/plain": [
       "                                            question  \\\n",
       "0  You are given a problemset consisting of $n$ p...   \n",
       "1  Catherine has a deck of n cards, each of which...   \n",
       "2  Monocarp has been collecting rare magazines fo...   \n",
       "3  Justin likes to play a game called “Weight of ...   \n",
       "4  Athenaeus has just finished creating his lates...   \n",
       "\n",
       "                                        input_output difficulty  \\\n",
       "0  {'inputs': ['10\n",
       "1 2 5 6 7 10 21 23 24 49\n",
       "', '5...       EASY   \n",
       "1  {'inputs': ['2\n",
       "RB\n",
       "', '3\n",
       "GRG\n",
       "', '5\n",
       "BBBBB\n",
       "', '1\n",
       "...       EASY   \n",
       "2  {'inputs': ['4\n",
       "5\n",
       "01110\n",
       "10 5 8 9 6\n",
       "6\n",
       "011011\n",
       "20 ...       EASY   \n",
       "3  {'inputs': ['11 131\n",
       "', '7 96\n",
       "', '26 677\n",
       "'], 'o...       EASY   \n",
       "4  {'inputs': ['5\n",
       "6\n",
       "1 2 2 2 5 6\n",
       "2\n",
       "4 4\n",
       "6\n",
       "1 1 3 4 4...       EASY   \n",
       "\n",
       "                                raw_tags  \\\n",
       "0                     [greedy, math, dp]   \n",
       "1    [math, dp, constructive algorithms]   \n",
       "2  [greedy, dp, constructive algorithms]   \n",
       "3                      [dp & greedy, dp]   \n",
       "4                           [greedy, dp]   \n",
       "\n",
       "                                                tags  \\\n",
       "0  [Dynamic programming, Mathematics, Greedy algo...   \n",
       "1  [Dynamic programming, Mathematics, Constructiv...   \n",
       "2  [Greedy algorithms, Dynamic programming, Const...   \n",
       "3                              [Dynamic programming]   \n",
       "4           [Dynamic programming, Greedy algorithms]   \n",
       "\n",
       "                                skill_types  \\\n",
       "0  [Dynamic programming, Greedy algorithms]   \n",
       "1                     [Dynamic programming]   \n",
       "2  [Dynamic programming, Greedy algorithms]   \n",
       "3                     [Dynamic programming]   \n",
       "4  [Dynamic programming, Greedy algorithms]   \n",
       "\n",
       "                                                url Expected Auxiliary Space  \\\n",
       "0  https://codeforces.com/problemset/problem/1029/B                     None   \n",
       "1   https://codeforces.com/problemset/problem/626/B                     None   \n",
       "2  https://codeforces.com/problemset/problem/1743/C                     None   \n",
       "3    https://open.kattis.com/problems/weightofwords                     None   \n",
       "4  https://codeforces.com/problemset/problem/1466/B                     None   \n",
       "\n",
       "  time_limit   memory_limit Expected Time Complexity  \n",
       "0       None           None                     None  \n",
       "1       None           None                     None  \n",
       "2  2 seconds  256 megabytes                     None  \n",
       "3       None           None                     None  \n",
       "4   1 second  256 megabytes                     None  "
      ]
     },
     "execution_count": 96,
     "metadata": {},
     "output_type": "execute_result"
    }
   ],
   "source": [
    "pc_df.head()"
   ]
  },
  {
   "cell_type": "code",
   "execution_count": 97,
   "id": "b74de5d6",
   "metadata": {},
   "outputs": [
    {
     "name": "stdout",
     "output_type": "stream",
     "text": [
      "<class 'pandas.core.frame.DataFrame'>\n",
      "RangeIndex: 300 entries, 0 to 299\n",
      "Data columns (total 11 columns):\n",
      " #   Column                    Non-Null Count  Dtype \n",
      "---  ------                    --------------  ----- \n",
      " 0   question                  300 non-null    object\n",
      " 1   input_output              300 non-null    object\n",
      " 2   difficulty                300 non-null    object\n",
      " 3   raw_tags                  300 non-null    object\n",
      " 4   tags                      300 non-null    object\n",
      " 5   skill_types               300 non-null    object\n",
      " 6   url                       300 non-null    object\n",
      " 7   Expected Auxiliary Space  0 non-null      object\n",
      " 8   time_limit                179 non-null    object\n",
      " 9   memory_limit              179 non-null    object\n",
      " 10  Expected Time Complexity  6 non-null      object\n",
      "dtypes: object(11)\n",
      "memory usage: 25.9+ KB\n"
     ]
    }
   ],
   "source": [
    "pc_df.info()"
   ]
  },
  {
   "cell_type": "code",
   "execution_count": 114,
   "id": "716fe02b",
   "metadata": {},
   "outputs": [
    {
     "data": {
      "text/plain": [
       "[\"Below is provided a **competitive programming** problem set.\\nPlease solve the problem set with:\\n1. No pre-assumptions.\\n2. **Solve using C++.**\\n3. Only write code comments when necessary (write code comments only in the code block inline).\\n4. Keeping in mind that the solution can actually reproduce the correct inputs and outputs as will be provided.\\n5. Only provide solution as the answer without any alternatives **(pick the best of all possibilities with best practices and performance)**.\\n6. **All explanation MUST be inside of the code itself in the forms of comments.**\\n7. No additional explanation outside of the code block (your raw output will be compiled, don't add anything outside of the code).\\n**Question**\\nYou are given a problemset consisting of $n$ problems. The difficulty of the $i$-th problem is $a_i$. It is guaranteed that all difficulties are distinct and are given in the increasing order.\\n\\nYou have to assemble the contest which consists of some problems of the given problemset. In other words, the contest you have to assemble should be a subset of problems (not necessary consecutive) of the given problemset. There is only one condition that should be satisfied: for each problem but the hardest one (the problem with the maximum difficulty) there should be a problem with the difficulty greater than the difficulty of this problem but not greater than twice the difficulty of this problem. In other words, let $a_{i_1}, a_{i_2}, \\\\dots, a_{i_p}$ be the difficulties of the selected problems in increasing order. Then for each $j$ from $1$ to $p-1$ $a_{i_{j + 1}} \\\\le a_{i_j} \\\\cdot 2$ should hold. It means that the contest consisting of only one problem is always valid.\\n\\nAmong all contests satisfying the condition above you have to assemble one with the maximum number of problems. Your task is to find this number of problems.\\n\\n\\n-----Input-----\\n\\nThe first line of the input contains one integer $n$ ($1 \\\\le n \\\\le 2 \\\\cdot 10^5$) — the number of problems in the problemset.\\n\\nThe second line of the input contains $n$ integers $a_1, a_2, \\\\dots, a_n$ ($1 \\\\le a_i \\\\le 10^9$) — difficulties of the problems. It is guaranteed that difficulties of the problems are distinct and are given in the increasing order.\\n\\n\\n-----Output-----\\n\\nPrint a single integer — maximum number of problems in the contest satisfying the condition in the problem statement.\\n\\n\\n-----Examples-----\\nInput\\n10\\n1 2 5 6 7 10 21 23 24 49\\n\\nOutput\\n4\\n\\nInput\\n5\\n2 10 50 110 250\\n\\nOutput\\n1\\n\\nInput\\n6\\n4 7 12 100 150 199\\n\\nOutput\\n3\\n\\n\\n\\n-----Note-----\\n\\nDescription of the first example: there are $10$ valid contests consisting of $1$ problem, $10$ valid contests consisting of $2$ problems ($[1, 2], [5, 6], [5, 7], [5, 10], [6, 7], [6, 10], [7, 10], [21, 23], [21, 24], [23, 24]$), $5$ valid contests consisting of $3$ problems ($[5, 6, 7], [5, 6, 10], [5, 7, 10], [6, 7, 10], [21, 23, 24]$) and a single valid contest consisting of $4$ problems ($[5, 6, 7, 10]$).\\n\\nIn the second example all the valid contests consist of $1$ problem.\\n\\nIn the third example are two contests consisting of $3$ problems: $[4, 7, 12]$ and $[100, 150, 199]$.\\n\\n**Difficulty: EASY**\\n\\n**Raw Tags: ['greedy', 'math', 'dp']**\\n\\n**Tags: ['Dynamic programming', 'Mathematics', 'Greedy algorithms']**\\n\\n**Skill Types: ['Dynamic programming', 'Greedy algorithms']**\\n\\n**Expected Auxiliary Space: No expected aurxiliary space or auxiliary space limit.**\\n\\n**Time Limit: No time limit.**\\n\\n**Memory Limit: No memory limit**\\n\\n**Expected Time Complexity: No expected time complexity or time complexity limit.**\\n\",\n",
       " \"Below is provided a **competitive programming** problem set.\\nPlease solve the problem set with:\\n1. No pre-assumptions.\\n2. **Solve using C++.**\\n3. Only write code comments when necessary (write code comments only in the code block inline).\\n4. Keeping in mind that the solution can actually reproduce the correct inputs and outputs as will be provided.\\n5. Only provide solution as the answer without any alternatives **(pick the best of all possibilities with best practices and performance)**.\\n6. **All explanation MUST be inside of the code itself in the forms of comments.**\\n7. No additional explanation outside of the code block (your raw output will be compiled, don't add anything outside of the code).\\n**Question**\\nCatherine has a deck of n cards, each of which is either red, green, or blue. As long as there are at least two cards left, she can do one of two actions:   take any two (not necessarily adjacent) cards with different colors and exchange them for a new card of the third color;  take any two (not necessarily adjacent) cards with the same color and exchange them for a new card with that color. \\n\\nShe repeats this process until there is only one card left. What are the possible colors for the final card?\\n\\n\\n-----Input-----\\n\\nThe first line of the input contains a single integer n (1 ≤ n ≤ 200)\\xa0— the total number of cards.\\n\\nThe next line contains a string s of length n — the colors of the cards. s contains only the characters 'B', 'G', and 'R', representing blue, green, and red, respectively.\\n\\n\\n-----Output-----\\n\\nPrint a single string of up to three characters\\xa0— the possible colors of the final card (using the same symbols as the input) in alphabetical order.\\n\\n\\n-----Examples-----\\nInput\\n2\\nRB\\n\\nOutput\\nG\\n\\nInput\\n3\\nGRG\\n\\nOutput\\nBR\\n\\nInput\\n5\\nBBBBB\\n\\nOutput\\nB\\n\\n\\n\\n-----Note-----\\n\\nIn the first sample, Catherine has one red card and one blue card, which she must exchange for a green card.\\n\\nIn the second sample, Catherine has two green cards and one red card. She has two options: she can exchange the two green cards for a green card, then exchange the new green card and the red card for a blue card. Alternatively, she can exchange a green and a red card for a blue card, then exchange the blue card and remaining green card for a red card.\\n\\nIn the third sample, Catherine only has blue cards, so she can only exchange them for more blue cards.\\n\\n**Difficulty: EASY**\\n\\n**Raw Tags: ['math', 'dp', 'constructive algorithms']**\\n\\n**Tags: ['Dynamic programming', 'Mathematics', 'Constructive algorithms']**\\n\\n**Skill Types: ['Dynamic programming']**\\n\\n**Expected Auxiliary Space: No expected aurxiliary space or auxiliary space limit.**\\n\\n**Time Limit: No time limit.**\\n\\n**Memory Limit: No memory limit**\\n\\n**Expected Time Complexity: No expected time complexity or time complexity limit.**\\n\",\n",
       " \"Below is provided a **competitive programming** problem set.\\nPlease solve the problem set with:\\n1. No pre-assumptions.\\n2. **Solve using C++.**\\n3. Only write code comments when necessary (write code comments only in the code block inline).\\n4. Keeping in mind that the solution can actually reproduce the correct inputs and outputs as will be provided.\\n5. Only provide solution as the answer without any alternatives **(pick the best of all possibilities with best practices and performance)**.\\n6. **All explanation MUST be inside of the code itself in the forms of comments.**\\n7. No additional explanation outside of the code block (your raw output will be compiled, don't add anything outside of the code).\\n**Question**\\nMonocarp has been collecting rare magazines for quite a while, and now he has decided to sell them. He distributed the magazines between $n$ boxes, arranged in a row. The $i$-th box contains $a_i$ magazines. Some of the boxes are covered with lids, others are not.\\n\\nSuddenly it started to rain, and now Monocarp has to save as many magazines from the rain as possible. To do this, he can move the lids between boxes as follows: if the $i$-th box was covered with a lid initially, he can either move the lid from the $i$-th box to the box $(i-1)$ (if it exists), or keep the lid on the $i$-th box. You may assume that Monocarp can move the lids instantly at the same moment, and no lid can be moved more than once. If a box will be covered with a lid after Monocarp moves the lids, the magazines in it will be safe from the rain; otherwise they will soak.\\n\\nYou have to calculate the maximum number of magazines Monocarp can save from the rain.\\n\\n\\n-----Input-----\\n\\nThe first line contains a single integer $t$ ($1 \\\\le t \\\\le 10^4$) — the number of the testcases.\\n\\nThe first line of each testcase contains a single integer $n$ ($1 \\\\le n \\\\le 2 \\\\cdot 10^5$) — the number of boxes.\\n\\nThe second line contains a string of $n$ characters 0 and/or 1. If the $i$-th character is 1, the $i$-th box is initially covered with a lid. If the $i$-th character is 0, the $i$-th box is initially not covered.\\n\\nThe third line contains a sequence of integers $a_1, a_2, \\\\dots, a_n$ ($1 \\\\le a_i \\\\le 10^4$), where $a_i$ is the number of magazines in the $i$-th box.\\n\\nThe sum of $n$ over all testcases doesn't exceed $2 \\\\cdot 10^5$.\\n\\n\\n-----Output-----\\n\\nFor each testcase, print one integer — the maximum number of magazines Monocarp can save from the rain.\\n\\n\\n-----Examples-----\\n\\nInput\\n4\\n5\\n01110\\n10 5 8 9 6\\n6\\n011011\\n20 10 9 30 20 19\\n4\\n0000\\n100 100 100 100\\n4\\n0111\\n5 4 5 1\\nOutput\\n27\\n80\\n0\\n14\\n\\n\\n-----Note-----\\n\\nIn the first testcase of the example, Monocarp can move the lid from the second box to the first box, so the boxes $1$, $3$ and $4$ are covered, and $10 + 8 + 9 = 27$ magazines are saved.\\n\\nIn the second testcase, Monocarp can move the lid from the second box to the first box, then from the third box to the second box, then from the fifth box to the fourth box, and then from the sixth box to the fifth box. The boxes $1$, $2$, $4$ and $5$ will be covered, so $20 + 10 + 30 + 20 = 80$ magazines can be saved.\\n\\nThere are no lids in the third testcase, so it's impossible to save even a single magazine.\\n\\n**Difficulty: EASY**\\n\\n**Raw Tags: ['greedy', 'dp', 'constructive algorithms']**\\n\\n**Tags: ['Greedy algorithms', 'Dynamic programming', 'Constructive algorithms']**\\n\\n**Skill Types: ['Dynamic programming', 'Greedy algorithms']**\\n\\n**Expected Auxiliary Space: No expected aurxiliary space or auxiliary space limit.**\\n\\n**Time Limit: 2 seconds**\\n\\n**Memory Limit: 256 megabytes**\\n\\n**Expected Time Complexity: No expected time complexity or time complexity limit.**\\n\",\n",
       " \"Below is provided a **competitive programming** problem set.\\nPlease solve the problem set with:\\n1. No pre-assumptions.\\n2. **Solve using C++.**\\n3. Only write code comments when necessary (write code comments only in the code block inline).\\n4. Keeping in mind that the solution can actually reproduce the correct inputs and outputs as will be provided.\\n5. Only provide solution as the answer without any alternatives **(pick the best of all possibilities with best practices and performance)**.\\n6. **All explanation MUST be inside of the code itself in the forms of comments.**\\n7. No additional explanation outside of the code block (your raw output will be compiled, don't add anything outside of the code).\\n**Question**\\nJustin likes to play a game called “Weight of Words.” In this game, a player must find words of a given length and a given weight. The weight of a word is the sum of the weights of its letters. Letters are English lowercase characters from ‘a’ to ‘z’ and have weights from $1 \\\\ldots 26$. \\n\\nYou are asked to write an AI that can play this game!\\n\\n-----Input-----\\nThe input consists of a single line with two integers $l$ ($0 < l \\\\le 40$) and $w$ ($0 < w \\\\le 1000$).\\n\\n-----Output-----\\nOutput a string of length $l$ with weight $w$ consisting of lowercase English letters if it exists, otherwise output impossible. If more than one string exists, you may output any of them.\\n\\n-----Examples-----\\nSample Input 1:\\n11 131\\nSample Output 1:\\nprogramming\\n\\nSample Input 2:\\n7 96\\nSample Output 2:\\ncontest\\n\\n**Difficulty: EASY**\\n\\n**Raw Tags: ['dp & greedy', 'dp']**\\n\\n**Tags: ['Dynamic programming']**\\n\\n**Skill Types: ['Dynamic programming']**\\n\\n**Expected Auxiliary Space: No expected aurxiliary space or auxiliary space limit.**\\n\\n**Time Limit: No time limit.**\\n\\n**Memory Limit: No memory limit**\\n\\n**Expected Time Complexity: No expected time complexity or time complexity limit.**\\n\",\n",
       " \"Below is provided a **competitive programming** problem set.\\nPlease solve the problem set with:\\n1. No pre-assumptions.\\n2. **Solve using C++.**\\n3. Only write code comments when necessary (write code comments only in the code block inline).\\n4. Keeping in mind that the solution can actually reproduce the correct inputs and outputs as will be provided.\\n5. Only provide solution as the answer without any alternatives **(pick the best of all possibilities with best practices and performance)**.\\n6. **All explanation MUST be inside of the code itself in the forms of comments.**\\n7. No additional explanation outside of the code block (your raw output will be compiled, don't add anything outside of the code).\\n**Question**\\nAthenaeus has just finished creating his latest musical composition and will present it tomorrow to the people of Athens. Unfortunately, the melody is rather dull and highly likely won't be met with a warm reception.\\n\\nHis song consists of $n$ notes, which we will treat as positive integers. The diversity of a song is the number of different notes it contains. As a patron of music, Euterpe watches over composers and guides them throughout the process of creating new melodies. She decided to help Athenaeus by changing his song to make it more diverse.\\n\\nBeing a minor goddess, she cannot arbitrarily change the song. Instead, for each of the $n$ notes in the song, she can either leave it as it is or increase it by $1$.\\n\\nGiven the song as a sequence of integers describing the notes, find out the maximal, achievable diversity.\\n\\n\\n-----Input-----\\n\\nThe input consists of multiple test cases. The first line contains an integer $t$ ($1 \\\\leq t \\\\leq 10000$) — the number of test cases. Then $t$ test cases follow, each one is described in two lines.\\n\\nIn the first line of each test case there is a single integer $n$ ($1 \\\\leq n \\\\leq 10^5$) denoting the length of the song. The next line contains a sequence of $n$ integers $x_1, x_2, \\\\ldots, x_n$ $(1 \\\\leq x_1 \\\\leq x_2 \\\\leq \\\\ldots \\\\leq x_n \\\\leq 2 \\\\cdot n)$, describing the song.\\n\\nThe sum of $n$ over all test cases does not exceed $10^5$.\\n\\n\\n-----Output-----\\n\\nFor each test case, you should output a single line containing precisely one integer, the maximal diversity of the song, i.e. the maximal possible number of different elements in the final sequence.\\n\\n\\n-----Examples-----\\n\\nInput\\n5\\n6\\n1 2 2 2 5 6\\n2\\n4 4\\n6\\n1 1 3 4 4 5\\n1\\n1\\n6\\n1 1 1 2 2 2\\nOutput\\n5\\n2\\n6\\n1\\n3\\n\\n\\n-----Note-----\\n\\nIn the first test case, Euterpe can increase the second, fifth and sixth element to obtain the sequence $1, \\\\underline{3}, 2, 2, \\\\underline{6}, \\\\underline{7}$, which has $5$ different elements (increased elements are underlined).\\n\\nIn the second test case, Euterpe can increase the first element to obtain the sequence $\\\\underline{5}, 4$, which has $2$ different elements.\\n\\nIn the third test case, Euterpe can increase the second, fifth and sixth element to obtain the sequence $1, \\\\underline{2}, 3, 4, \\\\underline{5}, \\\\underline{6}$, which has $6$ different elements.\\n\\n**Difficulty: EASY**\\n\\n**Raw Tags: ['greedy', 'dp']**\\n\\n**Tags: ['Dynamic programming', 'Greedy algorithms']**\\n\\n**Skill Types: ['Dynamic programming', 'Greedy algorithms']**\\n\\n**Expected Auxiliary Space: No expected aurxiliary space or auxiliary space limit.**\\n\\n**Time Limit: 1 second**\\n\\n**Memory Limit: 256 megabytes**\\n\\n**Expected Time Complexity: No expected time complexity or time complexity limit.**\\n\"]"
      ]
     },
     "execution_count": 114,
     "metadata": {},
     "output_type": "execute_result"
    }
   ],
   "source": [
    "from typing import List\n",
    "\n",
    "prompts: List[str] = []\n",
    "input_output: List[dict] = []\n",
    "time_limit = []\n",
    "memory_limit = []\n",
    "\n",
    "for i, val in enumerate(pc_df.values):\n",
    "  input_output.append(val[1])\n",
    "  time_limit.append(val[7])\n",
    "  memory_limit.append(val[8])\n",
    "  prompts.append(\n",
    "    'Below is provided a **competitive programming** problem set.\\n' \\\n",
    "    'Please solve the problem set with:\\n' \\\n",
    "    '1. No pre-assumptions.\\n' \\\n",
    "    '2. **Solve using C++.**\\n' \\\n",
    "    '3. Only write code comments when necessary (write code comments only in the code block inline).\\n' \\\n",
    "    '4. Keeping in mind that the solution can actually reproduce the correct inputs and outputs as will be provided.\\n' \\\n",
    "    '5. Only provide solution as the answer without any alternatives **(pick the best of all possibilities with best practices and performance)**.\\n' \\\n",
    "    '6. **All explanation MUST be inside of the code itself in the forms of comments.**\\n' \\\n",
    "    '7. No additional explanation outside of the code block (your raw output will be compiled, don\\'t add anything outside of the code).\\n' \\\n",
    "    # '8. Every print out / stdout has to have \\'\\\\n\\' at the very end (don\\'t add \\'\\\\n\\' if the code process already print \\'\\\\n\\' at the end, then don\\'t print another \\'\\\\n\\').\\n' \\\n",
    "    '**Question**\\n' \\\n",
    "    f'{val[0]}\\n' \\\n",
    "    '\\n' \\\n",
    "    f'**Difficulty: {val[2]}**\\n' \\\n",
    "    '\\n' \\\n",
    "    f'**Raw Tags: {val[3]}**\\n' \\\n",
    "    '\\n' \\\n",
    "    f'**Tags: {val[4]}**\\n' \\\n",
    "    '\\n' \\\n",
    "    f'**Skill Types: {val[5]}**\\n' \\\n",
    "    '\\n' \\\n",
    "    f'**Expected Auxiliary Space: {val[7] if val[7] else \"No expected aurxiliary space or auxiliary space limit.\"}**\\n' \\\n",
    "    '\\n' \\\n",
    "    f'**Time Limit: {val[8] if val[8] else \"No time limit.\"}**\\n' \\\n",
    "    '\\n' \\\n",
    "    f'**Memory Limit: {val[9] if val[9] else \"No memory limit\"}**\\n' \\\n",
    "    '\\n' \\\n",
    "    f'**Expected Time Complexity: {val[10] if val[10] else \"No expected time complexity or time complexity limit.\"}**\\n' \\\n",
    "  )\n",
    "\n",
    "prompts[:5]"
   ]
  },
  {
   "cell_type": "code",
   "execution_count": null,
   "id": "1f7d00f8",
   "metadata": {},
   "outputs": [],
   "source": [
    "# final_df = pd.DataFrame()\n",
    "final_df = pc_df.copy()\n",
    "final_df['prompts'] = pd.Series(prompts)\n",
    "final_df['input_output'] = pd.Series(input_output)\n",
    "final_df['inputs'] = final_df['input_output'].apply(lambda x: x['inputs'] if isinstance(x, dict) else None)\n",
    "final_df['outputs'] = final_df['input_output'].apply(lambda x: x['outputs'] if isinstance(x, dict) else None)\n",
    "final_df.drop(columns=['input_output'], inplace=True)\n",
    "final_df['time_limit'] = pd.Series(time_limit)\n",
    "final_df['memory_limit'] = pd.Series(memory_limit)\n",
    "final_df['done'] = pd.Series([False] * final_df.shape[0])"
   ]
  },
  {
   "cell_type": "code",
   "execution_count": 116,
   "id": "34f1b766",
   "metadata": {},
   "outputs": [
    {
     "data": {
      "text/html": [
       "<div>\n",
       "<style scoped>\n",
       "    .dataframe tbody tr th:only-of-type {\n",
       "        vertical-align: middle;\n",
       "    }\n",
       "\n",
       "    .dataframe tbody tr th {\n",
       "        vertical-align: top;\n",
       "    }\n",
       "\n",
       "    .dataframe thead th {\n",
       "        text-align: right;\n",
       "    }\n",
       "</style>\n",
       "<table border=\"1\" class=\"dataframe\">\n",
       "  <thead>\n",
       "    <tr style=\"text-align: right;\">\n",
       "      <th></th>\n",
       "      <th>question</th>\n",
       "      <th>difficulty</th>\n",
       "      <th>raw_tags</th>\n",
       "      <th>tags</th>\n",
       "      <th>skill_types</th>\n",
       "      <th>url</th>\n",
       "      <th>Expected Auxiliary Space</th>\n",
       "      <th>time_limit</th>\n",
       "      <th>memory_limit</th>\n",
       "      <th>Expected Time Complexity</th>\n",
       "      <th>prompts</th>\n",
       "      <th>inputs</th>\n",
       "      <th>outputs</th>\n",
       "      <th>done</th>\n",
       "    </tr>\n",
       "  </thead>\n",
       "  <tbody>\n",
       "    <tr>\n",
       "      <th>0</th>\n",
       "      <td>You are given a problemset consisting of $n$ p...</td>\n",
       "      <td>EASY</td>\n",
       "      <td>[greedy, math, dp]</td>\n",
       "      <td>[Dynamic programming, Mathematics, Greedy algo...</td>\n",
       "      <td>[Dynamic programming, Greedy algorithms]</td>\n",
       "      <td>https://codeforces.com/problemset/problem/1029/B</td>\n",
       "      <td>None</td>\n",
       "      <td>None</td>\n",
       "      <td>None</td>\n",
       "      <td>None</td>\n",
       "      <td>Below is provided a **competitive programming*...</td>\n",
       "      <td>[10\\n1 2 5 6 7 10 21 23 24 49\\n, 5\\n2 10 50 11...</td>\n",
       "      <td>[4\\n, 1\\n, 3\\n, 1\\n, 2\\n, 4\\n, 5\\n, 3\\n, 7\\n, ...</td>\n",
       "      <td>False</td>\n",
       "    </tr>\n",
       "    <tr>\n",
       "      <th>1</th>\n",
       "      <td>Catherine has a deck of n cards, each of which...</td>\n",
       "      <td>EASY</td>\n",
       "      <td>[math, dp, constructive algorithms]</td>\n",
       "      <td>[Dynamic programming, Mathematics, Constructiv...</td>\n",
       "      <td>[Dynamic programming]</td>\n",
       "      <td>https://codeforces.com/problemset/problem/626/B</td>\n",
       "      <td>None</td>\n",
       "      <td>None</td>\n",
       "      <td>None</td>\n",
       "      <td>None</td>\n",
       "      <td>Below is provided a **competitive programming*...</td>\n",
       "      <td>[2\\nRB\\n, 3\\nGRG\\n, 5\\nBBBBB\\n, 1\\nR\\n, 200\\nB...</td>\n",
       "      <td>[G\\n, BR\\n, B\\n, R\\n, BGR\\n, BG\\n, BGR\\n, BGR\\...</td>\n",
       "      <td>False</td>\n",
       "    </tr>\n",
       "    <tr>\n",
       "      <th>2</th>\n",
       "      <td>Monocarp has been collecting rare magazines fo...</td>\n",
       "      <td>EASY</td>\n",
       "      <td>[greedy, dp, constructive algorithms]</td>\n",
       "      <td>[Greedy algorithms, Dynamic programming, Const...</td>\n",
       "      <td>[Dynamic programming, Greedy algorithms]</td>\n",
       "      <td>https://codeforces.com/problemset/problem/1743/C</td>\n",
       "      <td>None</td>\n",
       "      <td>None</td>\n",
       "      <td>2 seconds</td>\n",
       "      <td>None</td>\n",
       "      <td>Below is provided a **competitive programming*...</td>\n",
       "      <td>[4\\n5\\n01110\\n10 5 8 9 6\\n6\\n011011\\n20 10 9 3...</td>\n",
       "      <td>[27\\n80\\n0\\n14\\n, 2\\n2\\n2\\n2\\n2\\n2\\n2\\n, 80\\n8...</td>\n",
       "      <td>False</td>\n",
       "    </tr>\n",
       "    <tr>\n",
       "      <th>3</th>\n",
       "      <td>Justin likes to play a game called “Weight of ...</td>\n",
       "      <td>EASY</td>\n",
       "      <td>[dp &amp; greedy, dp]</td>\n",
       "      <td>[Dynamic programming]</td>\n",
       "      <td>[Dynamic programming]</td>\n",
       "      <td>https://open.kattis.com/problems/weightofwords</td>\n",
       "      <td>None</td>\n",
       "      <td>None</td>\n",
       "      <td>None</td>\n",
       "      <td>None</td>\n",
       "      <td>Below is provided a **competitive programming*...</td>\n",
       "      <td>[11 131\\n, 7 96\\n, 26 677\\n]</td>\n",
       "      <td>[programming\\n, contest\\n, impossible\\n]</td>\n",
       "      <td>False</td>\n",
       "    </tr>\n",
       "    <tr>\n",
       "      <th>4</th>\n",
       "      <td>Athenaeus has just finished creating his lates...</td>\n",
       "      <td>EASY</td>\n",
       "      <td>[greedy, dp]</td>\n",
       "      <td>[Dynamic programming, Greedy algorithms]</td>\n",
       "      <td>[Dynamic programming, Greedy algorithms]</td>\n",
       "      <td>https://codeforces.com/problemset/problem/1466/B</td>\n",
       "      <td>None</td>\n",
       "      <td>None</td>\n",
       "      <td>1 second</td>\n",
       "      <td>None</td>\n",
       "      <td>Below is provided a **competitive programming*...</td>\n",
       "      <td>[5\\n6\\n1 2 2 2 5 6\\n2\\n4 4\\n6\\n1 1 3 4 4 5\\n1\\...</td>\n",
       "      <td>[5\\n2\\n6\\n1\\n3\\n, 5\\n2\\n6\\n1\\n3\\n, 5\\n2\\n6\\n1\\...</td>\n",
       "      <td>False</td>\n",
       "    </tr>\n",
       "  </tbody>\n",
       "</table>\n",
       "</div>"
      ],
      "text/plain": [
       "                                            question difficulty  \\\n",
       "0  You are given a problemset consisting of $n$ p...       EASY   \n",
       "1  Catherine has a deck of n cards, each of which...       EASY   \n",
       "2  Monocarp has been collecting rare magazines fo...       EASY   \n",
       "3  Justin likes to play a game called “Weight of ...       EASY   \n",
       "4  Athenaeus has just finished creating his lates...       EASY   \n",
       "\n",
       "                                raw_tags  \\\n",
       "0                     [greedy, math, dp]   \n",
       "1    [math, dp, constructive algorithms]   \n",
       "2  [greedy, dp, constructive algorithms]   \n",
       "3                      [dp & greedy, dp]   \n",
       "4                           [greedy, dp]   \n",
       "\n",
       "                                                tags  \\\n",
       "0  [Dynamic programming, Mathematics, Greedy algo...   \n",
       "1  [Dynamic programming, Mathematics, Constructiv...   \n",
       "2  [Greedy algorithms, Dynamic programming, Const...   \n",
       "3                              [Dynamic programming]   \n",
       "4           [Dynamic programming, Greedy algorithms]   \n",
       "\n",
       "                                skill_types  \\\n",
       "0  [Dynamic programming, Greedy algorithms]   \n",
       "1                     [Dynamic programming]   \n",
       "2  [Dynamic programming, Greedy algorithms]   \n",
       "3                     [Dynamic programming]   \n",
       "4  [Dynamic programming, Greedy algorithms]   \n",
       "\n",
       "                                                url Expected Auxiliary Space  \\\n",
       "0  https://codeforces.com/problemset/problem/1029/B                     None   \n",
       "1   https://codeforces.com/problemset/problem/626/B                     None   \n",
       "2  https://codeforces.com/problemset/problem/1743/C                     None   \n",
       "3    https://open.kattis.com/problems/weightofwords                     None   \n",
       "4  https://codeforces.com/problemset/problem/1466/B                     None   \n",
       "\n",
       "  time_limit memory_limit Expected Time Complexity  \\\n",
       "0       None         None                     None   \n",
       "1       None         None                     None   \n",
       "2       None    2 seconds                     None   \n",
       "3       None         None                     None   \n",
       "4       None     1 second                     None   \n",
       "\n",
       "                                             prompts  \\\n",
       "0  Below is provided a **competitive programming*...   \n",
       "1  Below is provided a **competitive programming*...   \n",
       "2  Below is provided a **competitive programming*...   \n",
       "3  Below is provided a **competitive programming*...   \n",
       "4  Below is provided a **competitive programming*...   \n",
       "\n",
       "                                              inputs  \\\n",
       "0  [10\\n1 2 5 6 7 10 21 23 24 49\\n, 5\\n2 10 50 11...   \n",
       "1  [2\\nRB\\n, 3\\nGRG\\n, 5\\nBBBBB\\n, 1\\nR\\n, 200\\nB...   \n",
       "2  [4\\n5\\n01110\\n10 5 8 9 6\\n6\\n011011\\n20 10 9 3...   \n",
       "3                       [11 131\\n, 7 96\\n, 26 677\\n]   \n",
       "4  [5\\n6\\n1 2 2 2 5 6\\n2\\n4 4\\n6\\n1 1 3 4 4 5\\n1\\...   \n",
       "\n",
       "                                             outputs   done  \n",
       "0  [4\\n, 1\\n, 3\\n, 1\\n, 2\\n, 4\\n, 5\\n, 3\\n, 7\\n, ...  False  \n",
       "1  [G\\n, BR\\n, B\\n, R\\n, BGR\\n, BG\\n, BGR\\n, BGR\\...  False  \n",
       "2  [27\\n80\\n0\\n14\\n, 2\\n2\\n2\\n2\\n2\\n2\\n2\\n, 80\\n8...  False  \n",
       "3           [programming\\n, contest\\n, impossible\\n]  False  \n",
       "4  [5\\n2\\n6\\n1\\n3\\n, 5\\n2\\n6\\n1\\n3\\n, 5\\n2\\n6\\n1\\...  False  "
      ]
     },
     "execution_count": 116,
     "metadata": {},
     "output_type": "execute_result"
    }
   ],
   "source": [
    "final_df.head()"
   ]
  },
  {
   "cell_type": "code",
   "execution_count": 117,
   "id": "ff505e4e",
   "metadata": {},
   "outputs": [
    {
     "data": {
      "text/html": [
       "<div>\n",
       "<style scoped>\n",
       "    .dataframe tbody tr th:only-of-type {\n",
       "        vertical-align: middle;\n",
       "    }\n",
       "\n",
       "    .dataframe tbody tr th {\n",
       "        vertical-align: top;\n",
       "    }\n",
       "\n",
       "    .dataframe thead th {\n",
       "        text-align: right;\n",
       "    }\n",
       "</style>\n",
       "<table border=\"1\" class=\"dataframe\">\n",
       "  <thead>\n",
       "    <tr style=\"text-align: right;\">\n",
       "      <th></th>\n",
       "      <th>question</th>\n",
       "      <th>difficulty</th>\n",
       "      <th>raw_tags</th>\n",
       "      <th>tags</th>\n",
       "      <th>skill_types</th>\n",
       "      <th>url</th>\n",
       "      <th>Expected Auxiliary Space</th>\n",
       "      <th>time_limit</th>\n",
       "      <th>memory_limit</th>\n",
       "      <th>Expected Time Complexity</th>\n",
       "      <th>prompts</th>\n",
       "      <th>inputs</th>\n",
       "      <th>outputs</th>\n",
       "      <th>done</th>\n",
       "    </tr>\n",
       "  </thead>\n",
       "  <tbody>\n",
       "  </tbody>\n",
       "</table>\n",
       "</div>"
      ],
      "text/plain": [
       "Empty DataFrame\n",
       "Columns: [question, difficulty, raw_tags, tags, skill_types, url, Expected Auxiliary Space, time_limit, memory_limit, Expected Time Complexity, prompts, inputs, outputs, done]\n",
       "Index: []"
      ]
     },
     "execution_count": 117,
     "metadata": {},
     "output_type": "execute_result"
    }
   ],
   "source": [
    "final_df[final_df['inputs'].isna()]"
   ]
  },
  {
   "cell_type": "code",
   "execution_count": 125,
   "id": "64d45571",
   "metadata": {},
   "outputs": [
    {
     "data": {
      "text/plain": [
       "np.int64(0)"
      ]
     },
     "execution_count": 125,
     "metadata": {},
     "output_type": "execute_result"
    }
   ],
   "source": [
    "# Fix: Set inplace=True to modify final_df directly\n",
    "final_df[\"prompts\"].duplicated().sum()"
   ]
  },
  {
   "cell_type": "code",
   "execution_count": 126,
   "id": "1bb74bee",
   "metadata": {},
   "outputs": [],
   "source": [
    "final_df.index.name = 'id'"
   ]
  },
  {
   "cell_type": "code",
   "execution_count": 127,
   "id": "88023f8f",
   "metadata": {},
   "outputs": [],
   "source": [
    "final_df.to_csv(f'{INPUT_PATH}/input.csv')"
   ]
  },
  {
   "cell_type": "code",
   "execution_count": 128,
   "id": "566bb0fb",
   "metadata": {},
   "outputs": [
    {
     "name": "stdout",
     "output_type": "stream",
     "text": [
      "<class 'pandas.core.frame.DataFrame'>\n",
      "Index: 300 entries, 0 to 299\n",
      "Data columns (total 14 columns):\n",
      " #   Column                    Non-Null Count  Dtype  \n",
      "---  ------                    --------------  -----  \n",
      " 0   question                  300 non-null    object \n",
      " 1   difficulty                300 non-null    object \n",
      " 2   raw_tags                  300 non-null    object \n",
      " 3   tags                      300 non-null    object \n",
      " 4   skill_types               300 non-null    object \n",
      " 5   url                       300 non-null    object \n",
      " 6   Expected Auxiliary Space  0 non-null      float64\n",
      " 7   time_limit                0 non-null      float64\n",
      " 8   memory_limit              179 non-null    object \n",
      " 9   Expected Time Complexity  6 non-null      object \n",
      " 10  prompts                   300 non-null    object \n",
      " 11  inputs                    300 non-null    object \n",
      " 12  outputs                   300 non-null    object \n",
      " 13  done                      300 non-null    bool   \n",
      "dtypes: bool(1), float64(2), object(11)\n",
      "memory usage: 33.1+ KB\n"
     ]
    },
    {
     "data": {
      "text/html": [
       "<div>\n",
       "<style scoped>\n",
       "    .dataframe tbody tr th:only-of-type {\n",
       "        vertical-align: middle;\n",
       "    }\n",
       "\n",
       "    .dataframe tbody tr th {\n",
       "        vertical-align: top;\n",
       "    }\n",
       "\n",
       "    .dataframe thead th {\n",
       "        text-align: right;\n",
       "    }\n",
       "</style>\n",
       "<table border=\"1\" class=\"dataframe\">\n",
       "  <thead>\n",
       "    <tr style=\"text-align: right;\">\n",
       "      <th></th>\n",
       "      <th>question</th>\n",
       "      <th>difficulty</th>\n",
       "      <th>raw_tags</th>\n",
       "      <th>tags</th>\n",
       "      <th>skill_types</th>\n",
       "      <th>url</th>\n",
       "      <th>Expected Auxiliary Space</th>\n",
       "      <th>time_limit</th>\n",
       "      <th>memory_limit</th>\n",
       "      <th>Expected Time Complexity</th>\n",
       "      <th>prompts</th>\n",
       "      <th>inputs</th>\n",
       "      <th>outputs</th>\n",
       "      <th>done</th>\n",
       "    </tr>\n",
       "    <tr>\n",
       "      <th>id</th>\n",
       "      <th></th>\n",
       "      <th></th>\n",
       "      <th></th>\n",
       "      <th></th>\n",
       "      <th></th>\n",
       "      <th></th>\n",
       "      <th></th>\n",
       "      <th></th>\n",
       "      <th></th>\n",
       "      <th></th>\n",
       "      <th></th>\n",
       "      <th></th>\n",
       "      <th></th>\n",
       "      <th></th>\n",
       "    </tr>\n",
       "  </thead>\n",
       "  <tbody>\n",
       "    <tr>\n",
       "      <th>0</th>\n",
       "      <td>You are given a problemset consisting of $n$ p...</td>\n",
       "      <td>EASY</td>\n",
       "      <td>['greedy', 'math', 'dp']</td>\n",
       "      <td>['Dynamic programming', 'Mathematics', 'Greedy...</td>\n",
       "      <td>['Dynamic programming', 'Greedy algorithms']</td>\n",
       "      <td>https://codeforces.com/problemset/problem/1029/B</td>\n",
       "      <td>NaN</td>\n",
       "      <td>NaN</td>\n",
       "      <td>NaN</td>\n",
       "      <td>NaN</td>\n",
       "      <td>Below is provided a **competitive programming*...</td>\n",
       "      <td>['10\\n1 2 5 6 7 10 21 23 24 49\\n', '5\\n2 10 50...</td>\n",
       "      <td>['4\\n', '1\\n', '3\\n', '1\\n', '2\\n', '4\\n', '5\\...</td>\n",
       "      <td>False</td>\n",
       "    </tr>\n",
       "    <tr>\n",
       "      <th>1</th>\n",
       "      <td>Catherine has a deck of n cards, each of which...</td>\n",
       "      <td>EASY</td>\n",
       "      <td>['math', 'dp', 'constructive algorithms']</td>\n",
       "      <td>['Dynamic programming', 'Mathematics', 'Constr...</td>\n",
       "      <td>['Dynamic programming']</td>\n",
       "      <td>https://codeforces.com/problemset/problem/626/B</td>\n",
       "      <td>NaN</td>\n",
       "      <td>NaN</td>\n",
       "      <td>NaN</td>\n",
       "      <td>NaN</td>\n",
       "      <td>Below is provided a **competitive programming*...</td>\n",
       "      <td>['2\\nRB\\n', '3\\nGRG\\n', '5\\nBBBBB\\n', '1\\nR\\n'...</td>\n",
       "      <td>['G\\n', 'BR\\n', 'B\\n', 'R\\n', 'BGR\\n', 'BG\\n',...</td>\n",
       "      <td>False</td>\n",
       "    </tr>\n",
       "    <tr>\n",
       "      <th>2</th>\n",
       "      <td>Monocarp has been collecting rare magazines fo...</td>\n",
       "      <td>EASY</td>\n",
       "      <td>['greedy', 'dp', 'constructive algorithms']</td>\n",
       "      <td>['Greedy algorithms', 'Dynamic programming', '...</td>\n",
       "      <td>['Dynamic programming', 'Greedy algorithms']</td>\n",
       "      <td>https://codeforces.com/problemset/problem/1743/C</td>\n",
       "      <td>NaN</td>\n",
       "      <td>NaN</td>\n",
       "      <td>2 seconds</td>\n",
       "      <td>NaN</td>\n",
       "      <td>Below is provided a **competitive programming*...</td>\n",
       "      <td>['4\\n5\\n01110\\n10 5 8 9 6\\n6\\n011011\\n20 10 9 ...</td>\n",
       "      <td>['27\\n80\\n0\\n14\\n', '2\\n2\\n2\\n2\\n2\\n2\\n2\\n', '...</td>\n",
       "      <td>False</td>\n",
       "    </tr>\n",
       "    <tr>\n",
       "      <th>3</th>\n",
       "      <td>Justin likes to play a game called “Weight of ...</td>\n",
       "      <td>EASY</td>\n",
       "      <td>['dp &amp; greedy', 'dp']</td>\n",
       "      <td>['Dynamic programming']</td>\n",
       "      <td>['Dynamic programming']</td>\n",
       "      <td>https://open.kattis.com/problems/weightofwords</td>\n",
       "      <td>NaN</td>\n",
       "      <td>NaN</td>\n",
       "      <td>NaN</td>\n",
       "      <td>NaN</td>\n",
       "      <td>Below is provided a **competitive programming*...</td>\n",
       "      <td>['11 131\\n', '7 96\\n', '26 677\\n']</td>\n",
       "      <td>['programming\\n', 'contest\\n', 'impossible\\n']</td>\n",
       "      <td>False</td>\n",
       "    </tr>\n",
       "    <tr>\n",
       "      <th>4</th>\n",
       "      <td>Athenaeus has just finished creating his lates...</td>\n",
       "      <td>EASY</td>\n",
       "      <td>['greedy', 'dp']</td>\n",
       "      <td>['Dynamic programming', 'Greedy algorithms']</td>\n",
       "      <td>['Dynamic programming', 'Greedy algorithms']</td>\n",
       "      <td>https://codeforces.com/problemset/problem/1466/B</td>\n",
       "      <td>NaN</td>\n",
       "      <td>NaN</td>\n",
       "      <td>1 second</td>\n",
       "      <td>NaN</td>\n",
       "      <td>Below is provided a **competitive programming*...</td>\n",
       "      <td>['5\\n6\\n1 2 2 2 5 6\\n2\\n4 4\\n6\\n1 1 3 4 4 5\\n1...</td>\n",
       "      <td>['5\\n2\\n6\\n1\\n3\\n', '5\\n2\\n6\\n1\\n3\\n', '5\\n2\\n...</td>\n",
       "      <td>False</td>\n",
       "    </tr>\n",
       "  </tbody>\n",
       "</table>\n",
       "</div>"
      ],
      "text/plain": [
       "                                             question difficulty  \\\n",
       "id                                                                 \n",
       "0   You are given a problemset consisting of $n$ p...       EASY   \n",
       "1   Catherine has a deck of n cards, each of which...       EASY   \n",
       "2   Monocarp has been collecting rare magazines fo...       EASY   \n",
       "3   Justin likes to play a game called “Weight of ...       EASY   \n",
       "4   Athenaeus has just finished creating his lates...       EASY   \n",
       "\n",
       "                                       raw_tags  \\\n",
       "id                                                \n",
       "0                      ['greedy', 'math', 'dp']   \n",
       "1     ['math', 'dp', 'constructive algorithms']   \n",
       "2   ['greedy', 'dp', 'constructive algorithms']   \n",
       "3                         ['dp & greedy', 'dp']   \n",
       "4                              ['greedy', 'dp']   \n",
       "\n",
       "                                                 tags  \\\n",
       "id                                                      \n",
       "0   ['Dynamic programming', 'Mathematics', 'Greedy...   \n",
       "1   ['Dynamic programming', 'Mathematics', 'Constr...   \n",
       "2   ['Greedy algorithms', 'Dynamic programming', '...   \n",
       "3                             ['Dynamic programming']   \n",
       "4        ['Dynamic programming', 'Greedy algorithms']   \n",
       "\n",
       "                                     skill_types  \\\n",
       "id                                                 \n",
       "0   ['Dynamic programming', 'Greedy algorithms']   \n",
       "1                        ['Dynamic programming']   \n",
       "2   ['Dynamic programming', 'Greedy algorithms']   \n",
       "3                        ['Dynamic programming']   \n",
       "4   ['Dynamic programming', 'Greedy algorithms']   \n",
       "\n",
       "                                                 url  \\\n",
       "id                                                     \n",
       "0   https://codeforces.com/problemset/problem/1029/B   \n",
       "1    https://codeforces.com/problemset/problem/626/B   \n",
       "2   https://codeforces.com/problemset/problem/1743/C   \n",
       "3     https://open.kattis.com/problems/weightofwords   \n",
       "4   https://codeforces.com/problemset/problem/1466/B   \n",
       "\n",
       "    Expected Auxiliary Space  time_limit memory_limit  \\\n",
       "id                                                      \n",
       "0                        NaN         NaN          NaN   \n",
       "1                        NaN         NaN          NaN   \n",
       "2                        NaN         NaN    2 seconds   \n",
       "3                        NaN         NaN          NaN   \n",
       "4                        NaN         NaN     1 second   \n",
       "\n",
       "   Expected Time Complexity  \\\n",
       "id                            \n",
       "0                       NaN   \n",
       "1                       NaN   \n",
       "2                       NaN   \n",
       "3                       NaN   \n",
       "4                       NaN   \n",
       "\n",
       "                                              prompts  \\\n",
       "id                                                      \n",
       "0   Below is provided a **competitive programming*...   \n",
       "1   Below is provided a **competitive programming*...   \n",
       "2   Below is provided a **competitive programming*...   \n",
       "3   Below is provided a **competitive programming*...   \n",
       "4   Below is provided a **competitive programming*...   \n",
       "\n",
       "                                               inputs  \\\n",
       "id                                                      \n",
       "0   ['10\\n1 2 5 6 7 10 21 23 24 49\\n', '5\\n2 10 50...   \n",
       "1   ['2\\nRB\\n', '3\\nGRG\\n', '5\\nBBBBB\\n', '1\\nR\\n'...   \n",
       "2   ['4\\n5\\n01110\\n10 5 8 9 6\\n6\\n011011\\n20 10 9 ...   \n",
       "3                  ['11 131\\n', '7 96\\n', '26 677\\n']   \n",
       "4   ['5\\n6\\n1 2 2 2 5 6\\n2\\n4 4\\n6\\n1 1 3 4 4 5\\n1...   \n",
       "\n",
       "                                              outputs   done  \n",
       "id                                                            \n",
       "0   ['4\\n', '1\\n', '3\\n', '1\\n', '2\\n', '4\\n', '5\\...  False  \n",
       "1   ['G\\n', 'BR\\n', 'B\\n', 'R\\n', 'BGR\\n', 'BG\\n',...  False  \n",
       "2   ['27\\n80\\n0\\n14\\n', '2\\n2\\n2\\n2\\n2\\n2\\n2\\n', '...  False  \n",
       "3      ['programming\\n', 'contest\\n', 'impossible\\n']  False  \n",
       "4   ['5\\n2\\n6\\n1\\n3\\n', '5\\n2\\n6\\n1\\n3\\n', '5\\n2\\n...  False  "
      ]
     },
     "execution_count": 128,
     "metadata": {},
     "output_type": "execute_result"
    }
   ],
   "source": [
    "checkdf = pd.read_csv(f'{INPUT_PATH}/input.csv', index_col=0)\n",
    "checkdf.info()\n",
    "checkdf.head()"
   ]
  },
  {
   "cell_type": "code",
   "execution_count": 134,
   "id": "c38cbede",
   "metadata": {},
   "outputs": [
    {
     "data": {
      "text/plain": [
       "question                    0\n",
       "difficulty                  0\n",
       "raw_tags                    0\n",
       "tags                        0\n",
       "skill_types                 0\n",
       "url                         0\n",
       "Expected Auxiliary Space    0\n",
       "time_limit                  0\n",
       "memory_limit                0\n",
       "Expected Time Complexity    0\n",
       "prompts                     0\n",
       "inputs                      0\n",
       "outputs                     0\n",
       "done                        0\n",
       "dtype: object"
      ]
     },
     "execution_count": 134,
     "metadata": {},
     "output_type": "execute_result"
    }
   ],
   "source": [
    "final_df.loc[final_df['inputs'].isna()].sum()\n",
    "# final_df.info()"
   ]
  },
  {
   "cell_type": "code",
   "execution_count": 130,
   "id": "3a354407",
   "metadata": {},
   "outputs": [
    {
     "data": {
      "text/plain": [
       "np.int64(919556)"
      ]
     },
     "execution_count": 130,
     "metadata": {},
     "output_type": "execute_result"
    }
   ],
   "source": [
    "checkdf['prompts'].apply(len).sum()"
   ]
  },
  {
   "cell_type": "code",
   "execution_count": 131,
   "id": "604d41a3",
   "metadata": {},
   "outputs": [
    {
     "name": "stdout",
     "output_type": "stream",
     "text": [
      "Total words in 'prompts': 155437\n",
      "Total characters in 'prompts': 919556\n"
     ]
    }
   ],
   "source": [
    "# Count total number of tokens (words) in the 'prompts' column of checkdf\n",
    "total_words = checkdf['prompts'].str.split().apply(len).sum()\n",
    "print(f\"Total words in 'prompts': {total_words}\")\n",
    "\n",
    "# If you want to count characters (tokens for some LLMs), use:\n",
    "total_chars = checkdf['prompts'].str.len().sum()\n",
    "print(f\"Total characters in 'prompts': {total_chars}\")"
   ]
  },
  {
   "cell_type": "code",
   "execution_count": 91,
   "id": "ae557876",
   "metadata": {},
   "outputs": [
    {
     "name": "stdout",
     "output_type": "stream",
     "text": [
      "<class 'pandas.core.frame.DataFrame'>\n",
      "RangeIndex: 300 entries, 0 to 299\n",
      "Data columns (total 16 columns):\n",
      " #   Column                    Non-Null Count  Dtype  \n",
      "---  ------                    --------------  -----  \n",
      " 0   Unnamed: 0                300 non-null    int64  \n",
      " 1   id                        300 non-null    int64  \n",
      " 2   question                  300 non-null    object \n",
      " 3   difficulty                300 non-null    object \n",
      " 4   raw_tags                  300 non-null    object \n",
      " 5   tags                      300 non-null    object \n",
      " 6   skill_types               300 non-null    object \n",
      " 7   url                       300 non-null    object \n",
      " 8   Expected Auxiliary Space  0 non-null      float64\n",
      " 9   time_limit                0 non-null      float64\n",
      " 10  memory_limit              179 non-null    object \n",
      " 11  Expected Time Complexity  6 non-null      object \n",
      " 12  prompts                   300 non-null    object \n",
      " 13  inputs                    300 non-null    object \n",
      " 14  outputs                   300 non-null    object \n",
      " 15  done                      300 non-null    bool   \n",
      "dtypes: bool(1), float64(2), int64(2), object(11)\n",
      "memory usage: 35.6+ KB\n"
     ]
    }
   ],
   "source": [
    "input_df = pd.read_csv('./input.csv')\n",
    "input_df.info()"
   ]
  },
  {
   "cell_type": "code",
   "execution_count": 95,
   "id": "8b064884",
   "metadata": {},
   "outputs": [
    {
     "name": "stdout",
     "output_type": "stream",
     "text": [
      "<class 'pandas.core.frame.DataFrame'>\n",
      "RangeIndex: 300 entries, 0 to 299\n",
      "Data columns (total 18 columns):\n",
      " #   Column                    Non-Null Count  Dtype  \n",
      "---  ------                    --------------  -----  \n",
      " 0   Unnamed: 0                300 non-null    int64  \n",
      " 1   id                        300 non-null    int64  \n",
      " 2   question                  300 non-null    object \n",
      " 3   difficulty                300 non-null    object \n",
      " 4   raw_tags                  300 non-null    object \n",
      " 5   tags                      300 non-null    object \n",
      " 6   skill_types               300 non-null    object \n",
      " 7   url                       300 non-null    object \n",
      " 8   Expected Auxiliary Space  0 non-null      float64\n",
      " 9   time_limit                0 non-null      float64\n",
      " 10  memory_limit              179 non-null    object \n",
      " 11  Expected Time Complexity  6 non-null      object \n",
      " 12  prompts                   300 non-null    object \n",
      " 13  inputs                    300 non-null    object \n",
      " 14  outputs                   300 non-null    object \n",
      " 15  done                      300 non-null    bool   \n",
      " 16  name                      0 non-null      object \n",
      " 17  source                    300 non-null    object \n",
      "dtypes: bool(1), float64(2), int64(2), object(13)\n",
      "memory usage: 40.3+ KB\n"
     ]
    }
   ],
   "source": [
    "full_unique = full_df[['question', 'name', 'source']].drop_duplicates(subset='question')\n",
    "recovered_df = pd.merge(input_df, full_unique, on=\"question\", how=\"left\")\n",
    "recovered_df.info()"
   ]
  },
  {
   "cell_type": "code",
   "execution_count": 98,
   "id": "e1fae098",
   "metadata": {},
   "outputs": [],
   "source": [
    "recovered_df.drop(columns=['Unnamed: 0'], axis=1, inplace=True)"
   ]
  },
  {
   "cell_type": "code",
   "execution_count": 101,
   "id": "95214b96",
   "metadata": {},
   "outputs": [
    {
     "name": "stdout",
     "output_type": "stream",
     "text": [
      "<class 'pandas.core.frame.DataFrame'>\n",
      "RangeIndex: 300 entries, 0 to 299\n",
      "Data columns (total 17 columns):\n",
      " #   Column                    Non-Null Count  Dtype  \n",
      "---  ------                    --------------  -----  \n",
      " 0   id                        300 non-null    int64  \n",
      " 1   question                  300 non-null    object \n",
      " 2   difficulty                300 non-null    object \n",
      " 3   raw_tags                  300 non-null    object \n",
      " 4   tags                      300 non-null    object \n",
      " 5   skill_types               300 non-null    object \n",
      " 6   url                       300 non-null    object \n",
      " 7   Expected Auxiliary Space  0 non-null      float64\n",
      " 8   time_limit                0 non-null      float64\n",
      " 9   memory_limit              179 non-null    object \n",
      " 10  Expected Time Complexity  6 non-null      object \n",
      " 11  prompts                   300 non-null    object \n",
      " 12  inputs                    300 non-null    object \n",
      " 13  outputs                   300 non-null    object \n",
      " 14  done                      300 non-null    bool   \n",
      " 15  name                      0 non-null      object \n",
      " 16  source                    300 non-null    object \n",
      "dtypes: bool(1), float64(2), int64(1), object(13)\n",
      "memory usage: 37.9+ KB\n",
      "<class 'pandas.core.frame.DataFrame'>\n",
      "RangeIndex: 300 entries, 0 to 299\n",
      "Data columns (total 16 columns):\n",
      " #   Column                    Non-Null Count  Dtype  \n",
      "---  ------                    --------------  -----  \n",
      " 0   Unnamed: 0                300 non-null    int64  \n",
      " 1   id                        300 non-null    int64  \n",
      " 2   question                  300 non-null    object \n",
      " 3   difficulty                300 non-null    object \n",
      " 4   raw_tags                  300 non-null    object \n",
      " 5   tags                      300 non-null    object \n",
      " 6   skill_types               300 non-null    object \n",
      " 7   url                       300 non-null    object \n",
      " 8   Expected Auxiliary Space  0 non-null      float64\n",
      " 9   time_limit                0 non-null      float64\n",
      " 10  memory_limit              179 non-null    object \n",
      " 11  Expected Time Complexity  6 non-null      object \n",
      " 12  prompts                   300 non-null    object \n",
      " 13  inputs                    300 non-null    object \n",
      " 14  outputs                   300 non-null    object \n",
      " 15  done                      300 non-null    bool   \n",
      "dtypes: bool(1), float64(2), int64(2), object(11)\n",
      "memory usage: 35.6+ KB\n"
     ]
    },
    {
     "data": {
      "text/plain": [
       "(None, None)"
      ]
     },
     "execution_count": 101,
     "metadata": {},
     "output_type": "execute_result"
    }
   ],
   "source": [
    "recovered_df.info(), input_df.info()"
   ]
  },
  {
   "cell_type": "code",
   "execution_count": null,
   "metadata": {},
   "outputs": [],
   "source": []
  },
  {
   "cell_type": "code",
   "execution_count": 100,
   "id": "4c6c2435",
   "metadata": {},
   "outputs": [],
   "source": [
    "recovered_df.to_csv(\"./prompts/new_input.csv\", index=False)"
   ]
  }
 ],
 "metadata": {
  "kernelspec": {
   "display_name": "research-methodology",
   "language": "python",
   "name": "python3"
  },
  "language_info": {
   "codemirror_mode": {
    "name": "ipython",
    "version": 3
   },
   "file_extension": ".py",
   "mimetype": "text/x-python",
   "name": "python",
   "nbconvert_exporter": "python",
   "pygments_lexer": "ipython3",
   "version": "3.12.9"
  }
 },
 "nbformat": 4,
 "nbformat_minor": 5
}
