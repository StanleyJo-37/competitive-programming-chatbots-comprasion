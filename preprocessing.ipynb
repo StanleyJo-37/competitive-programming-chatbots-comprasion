{
 "cells": [
  {
   "cell_type": "markdown",
   "id": "aac712a7",
   "metadata": {},
   "source": [
    "# Library Import\n"
   ]
  },
  {
   "cell_type": "code",
   "execution_count": 2,
   "id": "60aee81e",
   "metadata": {},
   "outputs": [],
   "source": [
    "import huggingface_hub as hf # For downloading data from Hugging Face\n",
    "import pandas as pd # For reading and importing data files into DataFrames used to represent the data\n"
   ]
  },
  {
   "cell_type": "code",
   "execution_count": 3,
   "id": "0e2e37f0",
   "metadata": {},
   "outputs": [],
   "source": [
    "import sys\n",
    "\n",
    "sys.set_int_max_str_digits(100000)"
   ]
  },
  {
   "cell_type": "code",
   "execution_count": 4,
   "id": "8c734a9f",
   "metadata": {},
   "outputs": [],
   "source": [
    "INPUT_PATH = './prompts'"
   ]
  },
  {
   "cell_type": "markdown",
   "id": "00292b82",
   "metadata": {},
   "source": [
    "# Data Import\n"
   ]
  },
  {
   "cell_type": "code",
   "execution_count": 5,
   "id": "b7187254",
   "metadata": {},
   "outputs": [],
   "source": [
    "# TACO Dataset\n",
    "# Test Files\n",
    "test_filenames = [\n",
    "  'ALL/test-00000-of-00001.parquet',\n",
    "] \n",
    "\n",
    "# Train Files\n",
    "train_filenames = [\n",
    "  'ALL/train-00001-of-00009.parquet',\n",
    "  'ALL/train-00002-of-00009.parquet',\n",
    "  'ALL/train-00003-of-00009.parquet',\n",
    "  'ALL/train-00004-of-00009.parquet',\n",
    "  'ALL/train-00005-of-00009.parquet',\n",
    "  'ALL/train-00006-of-00009.parquet',\n",
    "  'ALL/train-00007-of-00009.parquet',\n",
    "  'ALL/train-00008-of-00009.parquet',\n",
    "]"
   ]
  },
  {
   "cell_type": "code",
   "execution_count": 6,
   "id": "01e2ae46",
   "metadata": {},
   "outputs": [
    {
     "name": "stderr",
     "output_type": "stream",
     "text": [
      "c:\\Users\\jason\\anaconda3\\envs\\research\\Lib\\site-packages\\tqdm\\auto.py:21: TqdmWarning: IProgress not found. Please update jupyter and ipywidgets. See https://ipywidgets.readthedocs.io/en/stable/user_install.html\n",
      "  from .autonotebook import tqdm as notebook_tqdm\n"
     ]
    }
   ],
   "source": [
    "train_df = pd.DataFrame([])\n",
    "test_df = pd.DataFrame([])\n",
    "\n",
    "for filename in train_filenames: # iterate over train_filenames\n",
    "  path = hf.hf_hub_download( # download dataset\n",
    "    repo_id='BAAI/TACO', # repo id that contains the files\n",
    "    repo_type='dataset', # the type should be dataset as the download involves data files\n",
    "    filename=filename, # the specific filename to be downloaded\n",
    "  )\n",
    "\n",
    "  if train_df.empty: # if train_df is still empty\n",
    "    train_df = pd.read_parquet(path=path) # create a new DataFrame with data instead\n",
    "  else: # if train_df is not empty\n",
    "    train_df = pd.concat([train_df, pd.read_parquet(path)], axis=0) # concat the new data along axis=0 so not to create new columns,\n",
    "                                                                    # instead concat the data as rows\n",
    "\n",
    "for filename in test_filenames: # iterate over test_filenames\n",
    "  path = hf.hf_hub_download( # download dataset\n",
    "    repo_id='BAAI/TACO', # repo id that contains the files\n",
    "    repo_type='dataset', # the type should be dataset as the download involves data files\n",
    "    filename=filename, # the specific filename to be downloaded\n",
    "  )\n",
    "\n",
    "  if test_df.empty: # if test_df is still empty\n",
    "    test_df = pd.read_parquet(path=path) # create a new DataFrame with data instead\n",
    "  else: # if test_df is not empty\n",
    "    test_df = pd.concat([test_df, pd.read_parquet(path)], axis=0) # concat the new data along axis=0 so not to create new columns,\n",
    "                                                                    # instead concat the data as rows"
   ]
  },
  {
   "cell_type": "markdown",
   "id": "d3c26cb5",
   "metadata": {},
   "source": [
    "# Initial Inspection\n"
   ]
  },
  {
   "cell_type": "markdown",
   "id": "fbd2d37e",
   "metadata": {},
   "source": [
    "train_df and test_df are going to be combined as the project does not involve model testing. This means that there is no need to split the data into training set and testing set. It is more favorable to use all problem sets at once to cover more possibilities and variations.\n"
   ]
  },
  {
   "cell_type": "code",
   "execution_count": 7,
   "id": "aaedd94b",
   "metadata": {},
   "outputs": [],
   "source": [
    "full_df = pd.concat([train_df, test_df], axis=0) # create a concatenated train_df and test_df"
   ]
  },
  {
   "cell_type": "code",
   "execution_count": 8,
   "id": "a0a26b4d",
   "metadata": {},
   "outputs": [
    {
     "data": {
      "text/html": [
       "<div>\n",
       "<style scoped>\n",
       "    .dataframe tbody tr th:only-of-type {\n",
       "        vertical-align: middle;\n",
       "    }\n",
       "\n",
       "    .dataframe tbody tr th {\n",
       "        vertical-align: top;\n",
       "    }\n",
       "\n",
       "    .dataframe thead th {\n",
       "        text-align: right;\n",
       "    }\n",
       "</style>\n",
       "<table border=\"1\" class=\"dataframe\">\n",
       "  <thead>\n",
       "    <tr style=\"text-align: right;\">\n",
       "      <th></th>\n",
       "      <th>question</th>\n",
       "      <th>solutions</th>\n",
       "      <th>starter_code</th>\n",
       "      <th>input_output</th>\n",
       "      <th>difficulty</th>\n",
       "      <th>raw_tags</th>\n",
       "      <th>name</th>\n",
       "      <th>source</th>\n",
       "      <th>tags</th>\n",
       "      <th>skill_types</th>\n",
       "      <th>url</th>\n",
       "      <th>Expected Auxiliary Space</th>\n",
       "      <th>time_limit</th>\n",
       "      <th>date</th>\n",
       "      <th>picture_num</th>\n",
       "      <th>memory_limit</th>\n",
       "      <th>Expected Time Complexity</th>\n",
       "    </tr>\n",
       "  </thead>\n",
       "  <tbody>\n",
       "    <tr>\n",
       "      <th>0</th>\n",
       "      <td>For every string given as input, you need to t...</td>\n",
       "      <td>[]</td>\n",
       "      <td></td>\n",
       "      <td>{\"inputs\": [\"1\\naab\", \"3\\naab\\ndddd\\nthisisapa...</td>\n",
       "      <td>UNKNOWN_DIFFICULTY</td>\n",
       "      <td>[]</td>\n",
       "      <td>subpalindrome-4</td>\n",
       "      <td>hackerearth</td>\n",
       "      <td>[]</td>\n",
       "      <td>[]</td>\n",
       "      <td>None</td>\n",
       "      <td>None</td>\n",
       "      <td>None</td>\n",
       "      <td>None</td>\n",
       "      <td>None</td>\n",
       "      <td>None</td>\n",
       "      <td>None</td>\n",
       "    </tr>\n",
       "    <tr>\n",
       "      <th>1</th>\n",
       "      <td>A scientist discovered a strange variation of ...</td>\n",
       "      <td>[]</td>\n",
       "      <td></td>\n",
       "      <td>{\"inputs\": [\"3\\n0\\n7\\n15\\n655\\n2711\\n6395\\n719...</td>\n",
       "      <td>UNKNOWN_DIFFICULTY</td>\n",
       "      <td>[]</td>\n",
       "      <td>None</td>\n",
       "      <td>aizu</td>\n",
       "      <td>[]</td>\n",
       "      <td>[]</td>\n",
       "      <td>None</td>\n",
       "      <td>None</td>\n",
       "      <td>8.0 seconds</td>\n",
       "      <td>None</td>\n",
       "      <td>None</td>\n",
       "      <td>134.217728 megabytes</td>\n",
       "      <td>None</td>\n",
       "    </tr>\n",
       "    <tr>\n",
       "      <th>2</th>\n",
       "      <td>Two integers A and B are the inputs. Write a p...</td>\n",
       "      <td>[\"def GCD(x, y):\\n\\twhile y:\\n\\t\\t(x, y) = (y,...</td>\n",
       "      <td></td>\n",
       "      <td>{\"inputs\": [[\"3\", \"120 140\", \"10213 312\", \"10 ...</td>\n",
       "      <td>EASY</td>\n",
       "      <td>['LCM', 'Mathematics', 'Algorithms', 'Number T...</td>\n",
       "      <td>None</td>\n",
       "      <td>codechef</td>\n",
       "      <td>['Mathematics', 'Number theory', 'Implementati...</td>\n",
       "      <td>[]</td>\n",
       "      <td>https://www.codechef.com/problems/FLOW016</td>\n",
       "      <td>None</td>\n",
       "      <td>1 seconds</td>\n",
       "      <td>2015-04-27</td>\n",
       "      <td>0</td>\n",
       "      <td>50000 bytes</td>\n",
       "      <td>None</td>\n",
       "    </tr>\n",
       "    <tr>\n",
       "      <th>3</th>\n",
       "      <td>Limak is a grizzly bear who desires power and ...</td>\n",
       "      <td>[\"n = int(input())\\nv = list(map(int, input()....</td>\n",
       "      <td></td>\n",
       "      <td>{\"inputs\": [\"5\\n5 1 11 2 8\\n\", \"4\\n1 8 8 8\\n\",...</td>\n",
       "      <td>EASY</td>\n",
       "      <td>['greedy', 'implementation']</td>\n",
       "      <td>None</td>\n",
       "      <td>codeforces</td>\n",
       "      <td>['Implementation', 'Greedy algorithms']</td>\n",
       "      <td>['Greedy algorithms']</td>\n",
       "      <td>https://codeforces.com/problemset/problem/574/A</td>\n",
       "      <td>None</td>\n",
       "      <td>None</td>\n",
       "      <td>2019-12-31</td>\n",
       "      <td>None</td>\n",
       "      <td>None</td>\n",
       "      <td>None</td>\n",
       "    </tr>\n",
       "    <tr>\n",
       "      <th>4</th>\n",
       "      <td>problem\\n\\nJOI took six subjects: physics, che...</td>\n",
       "      <td>[\"lst = []\\nfor i in range(6):\\n\\tn = int(inpu...</td>\n",
       "      <td></td>\n",
       "      <td>{\"inputs\": [\"100\\n34\\n76\\n67\\n10\\n0\", \"100\\n34...</td>\n",
       "      <td>UNKNOWN_DIFFICULTY</td>\n",
       "      <td>[]</td>\n",
       "      <td>None</td>\n",
       "      <td>aizu</td>\n",
       "      <td>[]</td>\n",
       "      <td>[]</td>\n",
       "      <td>None</td>\n",
       "      <td>None</td>\n",
       "      <td>8.0 seconds</td>\n",
       "      <td>None</td>\n",
       "      <td>None</td>\n",
       "      <td>268.435456 megabytes</td>\n",
       "      <td>None</td>\n",
       "    </tr>\n",
       "  </tbody>\n",
       "</table>\n",
       "</div>"
      ],
      "text/plain": [
       "                                            question  \\\n",
       "0  For every string given as input, you need to t...   \n",
       "1  A scientist discovered a strange variation of ...   \n",
       "2  Two integers A and B are the inputs. Write a p...   \n",
       "3  Limak is a grizzly bear who desires power and ...   \n",
       "4  problem\\n\\nJOI took six subjects: physics, che...   \n",
       "\n",
       "                                           solutions starter_code  \\\n",
       "0                                                 []                \n",
       "1                                                 []                \n",
       "2  [\"def GCD(x, y):\\n\\twhile y:\\n\\t\\t(x, y) = (y,...                \n",
       "3  [\"n = int(input())\\nv = list(map(int, input()....                \n",
       "4  [\"lst = []\\nfor i in range(6):\\n\\tn = int(inpu...                \n",
       "\n",
       "                                        input_output          difficulty  \\\n",
       "0  {\"inputs\": [\"1\\naab\", \"3\\naab\\ndddd\\nthisisapa...  UNKNOWN_DIFFICULTY   \n",
       "1  {\"inputs\": [\"3\\n0\\n7\\n15\\n655\\n2711\\n6395\\n719...  UNKNOWN_DIFFICULTY   \n",
       "2  {\"inputs\": [[\"3\", \"120 140\", \"10213 312\", \"10 ...                EASY   \n",
       "3  {\"inputs\": [\"5\\n5 1 11 2 8\\n\", \"4\\n1 8 8 8\\n\",...                EASY   \n",
       "4  {\"inputs\": [\"100\\n34\\n76\\n67\\n10\\n0\", \"100\\n34...  UNKNOWN_DIFFICULTY   \n",
       "\n",
       "                                            raw_tags             name  \\\n",
       "0                                                 []  subpalindrome-4   \n",
       "1                                                 []             None   \n",
       "2  ['LCM', 'Mathematics', 'Algorithms', 'Number T...             None   \n",
       "3                       ['greedy', 'implementation']             None   \n",
       "4                                                 []             None   \n",
       "\n",
       "        source                                               tags  \\\n",
       "0  hackerearth                                                 []   \n",
       "1         aizu                                                 []   \n",
       "2     codechef  ['Mathematics', 'Number theory', 'Implementati...   \n",
       "3   codeforces            ['Implementation', 'Greedy algorithms']   \n",
       "4         aizu                                                 []   \n",
       "\n",
       "             skill_types                                              url  \\\n",
       "0                     []                                             None   \n",
       "1                     []                                             None   \n",
       "2                     []        https://www.codechef.com/problems/FLOW016   \n",
       "3  ['Greedy algorithms']  https://codeforces.com/problemset/problem/574/A   \n",
       "4                     []                                             None   \n",
       "\n",
       "  Expected Auxiliary Space   time_limit        date picture_num  \\\n",
       "0                     None         None        None        None   \n",
       "1                     None  8.0 seconds        None        None   \n",
       "2                     None    1 seconds  2015-04-27           0   \n",
       "3                     None         None  2019-12-31        None   \n",
       "4                     None  8.0 seconds        None        None   \n",
       "\n",
       "           memory_limit Expected Time Complexity  \n",
       "0                  None                     None  \n",
       "1  134.217728 megabytes                     None  \n",
       "2           50000 bytes                     None  \n",
       "3                  None                     None  \n",
       "4  268.435456 megabytes                     None  "
      ]
     },
     "execution_count": 8,
     "metadata": {},
     "output_type": "execute_result"
    }
   ],
   "source": [
    "full_df.head()"
   ]
  },
  {
   "cell_type": "code",
   "execution_count": 9,
   "id": "cef0d758",
   "metadata": {},
   "outputs": [
    {
     "name": "stdout",
     "output_type": "stream",
     "text": [
      "<class 'pandas.core.frame.DataFrame'>\n",
      "Index: 23616 entries, 0 to 999\n",
      "Data columns (total 17 columns):\n",
      " #   Column                    Non-Null Count  Dtype \n",
      "---  ------                    --------------  ----- \n",
      " 0   question                  23616 non-null  object\n",
      " 1   solutions                 23616 non-null  object\n",
      " 2   starter_code              23616 non-null  object\n",
      " 3   input_output              23616 non-null  object\n",
      " 4   difficulty                23616 non-null  object\n",
      " 5   raw_tags                  23616 non-null  object\n",
      " 6   name                      3352 non-null   object\n",
      " 7   source                    23616 non-null  object\n",
      " 8   tags                      23616 non-null  object\n",
      " 9   skill_types               23616 non-null  object\n",
      " 10  url                       18915 non-null  object\n",
      " 11  Expected Auxiliary Space  2386 non-null   object\n",
      " 12  time_limit                10519 non-null  object\n",
      " 13  date                      6204 non-null   object\n",
      " 14  picture_num               6710 non-null   object\n",
      " 15  memory_limit              10520 non-null  object\n",
      " 16  Expected Time Complexity  2603 non-null   object\n",
      "dtypes: object(17)\n",
      "memory usage: 3.2+ MB\n"
     ]
    }
   ],
   "source": [
    "full_df.info()"
   ]
  },
  {
   "cell_type": "markdown",
   "id": "a104817f",
   "metadata": {},
   "source": [
    "All column type is object, can be string or other data structures like list, tuple, or dictionary\n"
   ]
  },
  {
   "cell_type": "code",
   "execution_count": 10,
   "id": "45794c56",
   "metadata": {},
   "outputs": [],
   "source": [
    "eda_df = full_df.copy()"
   ]
  },
  {
   "cell_type": "markdown",
   "id": "7165d314",
   "metadata": {},
   "source": [
    "# Utility Functions\n"
   ]
  },
  {
   "cell_type": "markdown",
   "id": "475f6dbe",
   "metadata": {},
   "source": [
    "### Check condition for any empty row\n"
   ]
  },
  {
   "cell_type": "code",
   "execution_count": 11,
   "id": "470c3939",
   "metadata": {},
   "outputs": [],
   "source": [
    "from typing import Tuple"
   ]
  },
  {
   "cell_type": "code",
   "execution_count": 12,
   "id": "4aa8eaaf",
   "metadata": {},
   "outputs": [],
   "source": [
    "def empty_rows(data: pd.Series) -> Tuple[pd.Series, int]:\n",
    "  rows = []\n",
    "  for row in data:\n",
    "    if not row or not len(row):\n",
    "      rows.append(row)\n",
    "\n",
    "  return (pd.Series(rows), len(rows))"
   ]
  },
  {
   "cell_type": "markdown",
   "id": "a6589dca",
   "metadata": {},
   "source": [
    "### Check null or empty rows\n"
   ]
  },
  {
   "cell_type": "code",
   "execution_count": 13,
   "id": "2149696d",
   "metadata": {},
   "outputs": [],
   "source": [
    "def null_and_empty_rows(data: pd.Series) -> None:\n",
    "\n",
    "  empty = empty_rows(data)\n",
    "  print(f'Null count: {data.isnull().sum()} rows.')\n",
    "  print(f'Row containing empty data: {empty[1]} rows.')\n",
    "  print(f'Empty portion {round((empty[1] / data.shape[0]) * 100, 2)}%')"
   ]
  },
  {
   "cell_type": "markdown",
   "id": "761e4c4e",
   "metadata": {},
   "source": [
    "### Check detailed data type\n"
   ]
  },
  {
   "cell_type": "code",
   "execution_count": 14,
   "id": "4f47d0e0",
   "metadata": {},
   "outputs": [],
   "source": [
    "def check_type(data: pd.Series) -> None:\n",
    "  for row in data:\n",
    "    if row:\n",
    "      return type(row)"
   ]
  },
  {
   "cell_type": "markdown",
   "id": "ea308243",
   "metadata": {},
   "source": [
    "### First n Non Null Values\n"
   ]
  },
  {
   "cell_type": "code",
   "execution_count": 15,
   "id": "442115dd",
   "metadata": {},
   "outputs": [],
   "source": [
    "def n_non_null_head(data: pd.Series, n: int = 5) -> pd.Series:\n",
    "  head = []\n",
    "  for row in data:\n",
    "    if len(head) >= n:\n",
    "      break\n",
    "    if row:\n",
    "      head.append(row)\n",
    "\n",
    "  if len(head) < n:\n",
    "    head.extend([None] * (n - len(head)))\n",
    "  \n",
    "  return pd.Series(head)"
   ]
  },
  {
   "cell_type": "markdown",
   "id": "56c53c37",
   "metadata": {},
   "source": [
    "### Initial Check\n"
   ]
  },
  {
   "cell_type": "code",
   "execution_count": 16,
   "id": "a69be590",
   "metadata": {},
   "outputs": [],
   "source": [
    "def initial_check(data: pd.Series) -> None:\n",
    "  column_type = check_type(data)\n",
    "  print(f'Type: {column_type}\\n')\n",
    "  print('First 5 non-null rows:')\n",
    "  print(n_non_null_head(data))\n",
    "\n",
    "  print('\\nNull and empty values:')\n",
    "  null_and_empty_rows(data)"
   ]
  },
  {
   "cell_type": "markdown",
   "id": "500881b8",
   "metadata": {},
   "source": [
    "### Decode Data Structures From a String\n"
   ]
  },
  {
   "cell_type": "code",
   "execution_count": 17,
   "id": "9a26015f",
   "metadata": {},
   "outputs": [],
   "source": [
    "from json import JSONDecodeError\n",
    "import json\n",
    "\n",
    "def safe_decoding(row: str) -> any:\n",
    "  try:\n",
    "    if len(row) and row:\n",
    "      return json.loads(row.replace('\\'', '\\\"'))\n",
    "    else:\n",
    "      return row\n",
    "  except JSONDecodeError:\n",
    "    return row\n",
    "\n",
    "def decode_json(data: pd.Series) -> pd.Series:\n",
    "  return data.apply(lambda row: safe_decoding(row))"
   ]
  },
  {
   "cell_type": "markdown",
   "id": "30b1c7fc",
   "metadata": {},
   "source": [
    "# Column Analysis\n"
   ]
  },
  {
   "cell_type": "markdown",
   "id": "619e7279",
   "metadata": {},
   "source": [
    "## 1. Question\n"
   ]
  },
  {
   "cell_type": "code",
   "execution_count": 18,
   "id": "cba209e8",
   "metadata": {},
   "outputs": [
    {
     "name": "stdout",
     "output_type": "stream",
     "text": [
      "Type: <class 'str'>\n",
      "\n",
      "First 5 non-null rows:\n",
      "0    For every string given as input, you need to t...\n",
      "1    A scientist discovered a strange variation of ...\n",
      "2    Two integers A and B are the inputs. Write a p...\n",
      "3    Limak is a grizzly bear who desires power and ...\n",
      "4    problem\\n\\nJOI took six subjects: physics, che...\n",
      "dtype: object\n",
      "\n",
      "Null and empty values:\n",
      "Null count: 0 rows.\n",
      "Row containing empty data: 0 rows.\n",
      "Empty portion 0.0%\n"
     ]
    }
   ],
   "source": [
    "initial_check(eda_df['question'])"
   ]
  },
  {
   "cell_type": "markdown",
   "id": "a82f7ad0",
   "metadata": {},
   "source": [
    "Questions are in string, so no need to decode the data\n"
   ]
  },
  {
   "cell_type": "markdown",
   "id": "d108a501",
   "metadata": {},
   "source": [
    "The question column is essential as it holds the actual problem set questions. It seems that the there is no null row too, which means that all rows can be used for prompting.\n"
   ]
  },
  {
   "cell_type": "markdown",
   "id": "ca49a785",
   "metadata": {},
   "source": [
    "## 2. Solutions\n"
   ]
  },
  {
   "cell_type": "code",
   "execution_count": 19,
   "id": "acdac49f",
   "metadata": {},
   "outputs": [
    {
     "name": "stdout",
     "output_type": "stream",
     "text": [
      "Type: <class 'str'>\n",
      "\n",
      "First 5 non-null rows:\n",
      "0                                                   []\n",
      "1                                                   []\n",
      "2    [\"def GCD(x, y):\\n\\twhile y:\\n\\t\\t(x, y) = (y,...\n",
      "3    [\"n = int(input())\\nv = list(map(int, input()....\n",
      "4    [\"lst = []\\nfor i in range(6):\\n\\tn = int(inpu...\n",
      "dtype: object\n",
      "\n",
      "Null and empty values:\n",
      "Null count: 0 rows.\n",
      "Row containing empty data: 0 rows.\n",
      "Empty portion 0.0%\n"
     ]
    }
   ],
   "source": [
    "initial_check(eda_df['solutions'])"
   ]
  },
  {
   "cell_type": "markdown",
   "id": "56db9cd8",
   "metadata": {},
   "source": [
    "The column type is string, but the content is a Python list, which means it needs to be decoded.\n"
   ]
  },
  {
   "cell_type": "markdown",
   "id": "52796b4c",
   "metadata": {},
   "source": [
    "Some solutions are empty and the solution column itself cannot be used as a benchmark to the chatbot response as it is difficult to quantify how close the chabot codes are to these solutions and how good the codes based on the solutions data.\n"
   ]
  },
  {
   "cell_type": "markdown",
   "id": "057e12e3",
   "metadata": {},
   "source": [
    "## 3. Starter Code\n"
   ]
  },
  {
   "cell_type": "code",
   "execution_count": 20,
   "id": "33cd4cb0",
   "metadata": {},
   "outputs": [
    {
     "name": "stdout",
     "output_type": "stream",
     "text": [
      "Type: <class 'str'>\n",
      "\n",
      "First 5 non-null rows:\n",
      "0    #User function Template for python3\\n\\n\\n\\n'''...\n",
      "1    class Solution:\\n    def minSumOfLengths(self,...\n",
      "2    from typing import List\\n\\n\\n\\n\\n\\n\\n\\nclass S...\n",
      "3    #User function Template for python3\\n\\nclass S...\n",
      "4    #User function Template for python3\\n\\n# Retur...\n",
      "dtype: object\n",
      "\n",
      "Null and empty values:\n",
      "Null count: 0 rows.\n",
      "Row containing empty data: 18303 rows.\n",
      "Empty portion 77.5%\n"
     ]
    }
   ],
   "source": [
    "initial_check(eda_df['starter_code'])"
   ]
  },
  {
   "cell_type": "markdown",
   "id": "7d26dae1",
   "metadata": {},
   "source": [
    "Starter code does not contain any valuable information, so it can be dropped.\n"
   ]
  },
  {
   "cell_type": "markdown",
   "id": "90acec0d",
   "metadata": {},
   "source": [
    "## 4. Input-Output\n"
   ]
  },
  {
   "cell_type": "code",
   "execution_count": 21,
   "id": "16b42d8b",
   "metadata": {},
   "outputs": [
    {
     "name": "stdout",
     "output_type": "stream",
     "text": [
      "Type: <class 'str'>\n",
      "\n",
      "First 5 non-null rows:\n",
      "0    {\"inputs\": [\"1\\naab\", \"3\\naab\\ndddd\\nthisisapa...\n",
      "1    {\"inputs\": [\"3\\n0\\n7\\n15\\n655\\n2711\\n6395\\n719...\n",
      "2    {\"inputs\": [[\"3\", \"120 140\", \"10213 312\", \"10 ...\n",
      "3    {\"inputs\": [\"5\\n5 1 11 2 8\\n\", \"4\\n1 8 8 8\\n\",...\n",
      "4    {\"inputs\": [\"100\\n34\\n76\\n67\\n10\\n0\", \"100\\n34...\n",
      "dtype: object\n",
      "\n",
      "Null and empty values:\n",
      "Null count: 0 rows.\n",
      "Row containing empty data: 0 rows.\n",
      "Empty portion 0.0%\n"
     ]
    }
   ],
   "source": [
    "initial_check(eda_df['input_output'])"
   ]
  },
  {
   "cell_type": "markdown",
   "id": "1b104579",
   "metadata": {},
   "source": [
    "The data type is string, but the content is dictionary, so it needs to be decoded.\n"
   ]
  },
  {
   "cell_type": "code",
   "execution_count": 22,
   "id": "b0d8f08a",
   "metadata": {},
   "outputs": [],
   "source": [
    "# To get better representation on how the data is structured, decoding must be done.\n",
    "eda_df['input_output'] = decode_json(eda_df['input_output'])"
   ]
  },
  {
   "cell_type": "code",
   "execution_count": 23,
   "id": "473e8c4f",
   "metadata": {},
   "outputs": [
    {
     "name": "stdout",
     "output_type": "stream",
     "text": [
      "Type: <class 'dict'>\n",
      "\n",
      "First 5 non-null rows:\n",
      "0    {'inputs': ['1\n",
      "aab', '3\n",
      "aab\n",
      "dddd\n",
      "thisisapalind...\n",
      "1    {'inputs': ['3\n",
      "0\n",
      "7\n",
      "15\n",
      "655\n",
      "2711\n",
      "6395\n",
      "7195\n",
      "8465\n",
      "...\n",
      "2    {'inputs': [['3', '120 140', '10213 312', '10 ...\n",
      "3    {'inputs': ['5\n",
      "5 1 11 2 8\n",
      "', '4\n",
      "1 8 8 8\n",
      "', '2\n",
      "...\n",
      "4    {'inputs': ['100\n",
      "34\n",
      "76\n",
      "67\n",
      "10\n",
      "0', '100\n",
      "34\n",
      "76\n",
      "96...\n",
      "dtype: object\n",
      "\n",
      "Null and empty values:\n",
      "Null count: 0 rows.\n",
      "Row containing empty data: 0 rows.\n",
      "Empty portion 0.0%\n"
     ]
    }
   ],
   "source": [
    "initial_check(eda_df['input_output'])"
   ]
  },
  {
   "cell_type": "markdown",
   "id": "f5e07150",
   "metadata": {},
   "source": [
    "Looking at the data, each input output data contains a dictionary with:<br />\n",
    "\n",
    "1. Two keys: inputs and outputs\n",
    "2. The values are a list of inputs and outputs with each index of input attributes to the corresponding index of the output\n"
   ]
  },
  {
   "cell_type": "markdown",
   "id": "359200d9",
   "metadata": {},
   "source": [
    "## 5. Difficulty\n"
   ]
  },
  {
   "cell_type": "code",
   "execution_count": 24,
   "id": "c6f9668f",
   "metadata": {},
   "outputs": [
    {
     "name": "stdout",
     "output_type": "stream",
     "text": [
      "Type: <class 'str'>\n",
      "\n",
      "First 5 non-null rows:\n",
      "0    UNKNOWN_DIFFICULTY\n",
      "1    UNKNOWN_DIFFICULTY\n",
      "2                  EASY\n",
      "3                  EASY\n",
      "4    UNKNOWN_DIFFICULTY\n",
      "dtype: object\n",
      "\n",
      "Null and empty values:\n",
      "Null count: 0 rows.\n",
      "Row containing empty data: 0 rows.\n",
      "Empty portion 0.0%\n"
     ]
    }
   ],
   "source": [
    "initial_check(eda_df['difficulty'])"
   ]
  },
  {
   "cell_type": "code",
   "execution_count": 25,
   "id": "3b72d6e4",
   "metadata": {},
   "outputs": [
    {
     "data": {
      "text/plain": [
       "difficulty\n",
       "EASY                  8099\n",
       "UNKNOWN_DIFFICULTY    4467\n",
       "MEDIUM                3082\n",
       "HARD                  2995\n",
       "MEDIUM_HARD           2656\n",
       "VERY_HARD             2317\n",
       "Name: count, dtype: int64"
      ]
     },
     "execution_count": 25,
     "metadata": {},
     "output_type": "execute_result"
    }
   ],
   "source": [
    "eda_df['difficulty'].value_counts()"
   ]
  },
  {
   "cell_type": "markdown",
   "id": "ef7783c5",
   "metadata": {},
   "source": [
    "UNKNOWN_DIFFICULTY will not be used as it will be more difficult to filter out questions and analyze the questions and answers later on.\n"
   ]
  },
  {
   "cell_type": "markdown",
   "id": "53bc22bc",
   "metadata": {},
   "source": [
    "UNKNOWN_DIFFICULTY should be excluded as it will be difficult to discriminate between problem sets later on.\n"
   ]
  },
  {
   "cell_type": "markdown",
   "id": "73ada282",
   "metadata": {},
   "source": [
    "## 6. Raw Tags\n"
   ]
  },
  {
   "cell_type": "code",
   "execution_count": 26,
   "id": "7011d928",
   "metadata": {},
   "outputs": [
    {
     "name": "stdout",
     "output_type": "stream",
     "text": [
      "Type: <class 'str'>\n",
      "\n",
      "First 5 non-null rows:\n",
      "0                                                   []\n",
      "1                                                   []\n",
      "2    ['LCM', 'Mathematics', 'Algorithms', 'Number T...\n",
      "3                         ['greedy', 'implementation']\n",
      "4                                                   []\n",
      "dtype: object\n",
      "\n",
      "Null and empty values:\n",
      "Null count: 0 rows.\n",
      "Row containing empty data: 0 rows.\n",
      "Empty portion 0.0%\n"
     ]
    }
   ],
   "source": [
    "initial_check(eda_df['raw_tags'])"
   ]
  },
  {
   "cell_type": "markdown",
   "id": "9c277524",
   "metadata": {},
   "source": [
    "Some tags are empty, but keeping empty tags are not going to impact the problem set. This is why initial check says there are no empty rows even though some tags are empty.\n"
   ]
  },
  {
   "cell_type": "markdown",
   "id": "eda9ae6d",
   "metadata": {},
   "source": [
    "The data needs to be decoded as they are list inside of a string.\n"
   ]
  },
  {
   "cell_type": "code",
   "execution_count": 27,
   "id": "b7fb6f59",
   "metadata": {},
   "outputs": [],
   "source": [
    "eda_df['raw_tags'] = decode_json(eda_df['raw_tags'])"
   ]
  },
  {
   "cell_type": "code",
   "execution_count": 28,
   "id": "ac614f7a",
   "metadata": {},
   "outputs": [
    {
     "name": "stdout",
     "output_type": "stream",
     "text": [
      "Type: <class 'list'>\n",
      "\n",
      "First 5 non-null rows:\n",
      "0    [LCM, Mathematics, Algorithms, Number Theory, ...\n",
      "1                             [greedy, implementation]\n",
      "2                               [math, implementation]\n",
      "3    [combinatorics, matrices, math, constructive a...\n",
      "4                             [greedy, implementation]\n",
      "dtype: object\n",
      "\n",
      "Null and empty values:\n",
      "Null count: 0 rows.\n",
      "Row containing empty data: 6874 rows.\n",
      "Empty portion 29.11%\n"
     ]
    }
   ],
   "source": [
    "initial_check(eda_df['raw_tags'])"
   ]
  },
  {
   "cell_type": "markdown",
   "id": "3d88fac9",
   "metadata": {},
   "source": [
    "6874 of the total rows do not empty raw tags list.\n"
   ]
  },
  {
   "cell_type": "markdown",
   "id": "17bebbd0",
   "metadata": {},
   "source": [
    "## 7. Name\n"
   ]
  },
  {
   "cell_type": "code",
   "execution_count": 29,
   "id": "0fd74d87",
   "metadata": {},
   "outputs": [
    {
     "name": "stdout",
     "output_type": "stream",
     "text": [
      "Type: <class 'str'>\n",
      "\n",
      "First 5 non-null rows:\n",
      "0                             subpalindrome-4\n",
      "1                             modified-number\n",
      "2                                   leading-1\n",
      "3          miss-dd-and-her-mysterious-numbers\n",
      "4    AtCoder Beginner Contest 083 - Some Sums\n",
      "dtype: object\n",
      "\n",
      "Null and empty values:\n",
      "Null count: 20264 rows.\n",
      "Row containing empty data: 20264 rows.\n",
      "Empty portion 85.81%\n"
     ]
    }
   ],
   "source": [
    "initial_check(eda_df['name'])"
   ]
  },
  {
   "cell_type": "markdown",
   "id": "e2018e27",
   "metadata": {},
   "source": [
    "Most of name column values are null, around 85.8062%, so this can be dropped as most data will have null name while the others have name.\n"
   ]
  },
  {
   "cell_type": "markdown",
   "id": "dd04be08",
   "metadata": {},
   "source": [
    "## 8. Source\n"
   ]
  },
  {
   "cell_type": "code",
   "execution_count": 30,
   "id": "e8fc5bd1",
   "metadata": {},
   "outputs": [
    {
     "name": "stdout",
     "output_type": "stream",
     "text": [
      "Type: <class 'str'>\n",
      "\n",
      "First 5 non-null rows:\n",
      "0    hackerearth\n",
      "1           aizu\n",
      "2       codechef\n",
      "3     codeforces\n",
      "4           aizu\n",
      "dtype: object\n",
      "\n",
      "Null and empty values:\n",
      "Null count: 0 rows.\n",
      "Row containing empty data: 0 rows.\n",
      "Empty portion 0.0%\n"
     ]
    }
   ],
   "source": [
    "initial_check(eda_df['source'])"
   ]
  },
  {
   "cell_type": "code",
   "execution_count": 31,
   "id": "cf401fb0",
   "metadata": {},
   "outputs": [
    {
     "name": "stdout",
     "output_type": "stream",
     "text": [
      "{'codewars', 'hackerearth', 'leetcode', 'atcoder', 'codeforces', 'geeksforgeeks', 'hackerrank', 'kattis', 'aizu', 'codechef'}\n"
     ]
    }
   ],
   "source": [
    "sources_set = set()\n",
    "\n",
    "for source in eda_df['source']:\n",
    "  sources_set.add(source)\n",
    "\n",
    "print(sources_set)"
   ]
  },
  {
   "cell_type": "markdown",
   "id": "ab1dc987",
   "metadata": {},
   "source": [
    "These are the source of the problem sets. This output can be used to analyze the terms of services of each problem sets, and what can be used for this research.\n"
   ]
  },
  {
   "cell_type": "markdown",
   "id": "27b7b223",
   "metadata": {},
   "source": [
    "TOS agreement:\n",
    "\n",
    "- Code Forces https://codeforces.com/terms 👌\n",
    "- LeetCode https://leetcode.com/terms/ ❌ (likely no)\n",
    "- geeksforgeeks ❌ (likely no)\n",
    "- kattis https://open.kattis.com/info/tos 👌Likely okay (non-commercial)\n",
    "- aizu https://judge.u-aizu.ac.jp/onlinejudge/submission_note.jsp ❌ Risky (no clear terms)\n",
    "- hackerearth https://www.hackerearth.com/terms-of-service/ ❌ High risk\n",
    "- atcoder https://atcoder.jp/tos 👌Yes (Citation Required)\n",
    "- Codewars https://www.codewars.com/about/terms-of-service 👌Yes (Citation Required)\n",
    "- hackerrank https://www.hackerrank.com/terms-of-service/ 👌Yes (Citation Required, no problemset reproduction)\n",
    "- codechef https://www.codechef.com/terms 👌Likely okay (non-commercial\n"
   ]
  },
  {
   "cell_type": "markdown",
   "id": "0f5c724c",
   "metadata": {},
   "source": [
    "This column is not used specifically in the prompting, so it can be dropped later.\n"
   ]
  },
  {
   "cell_type": "markdown",
   "id": "0f00f4c6",
   "metadata": {},
   "source": [
    "## 9. Tags\n"
   ]
  },
  {
   "cell_type": "code",
   "execution_count": 32,
   "id": "f2ccb2e3",
   "metadata": {},
   "outputs": [
    {
     "name": "stdout",
     "output_type": "stream",
     "text": [
      "Type: <class 'str'>\n",
      "\n",
      "First 5 non-null rows:\n",
      "0                                                   []\n",
      "1                                                   []\n",
      "2    ['Mathematics', 'Number theory', 'Implementati...\n",
      "3              ['Implementation', 'Greedy algorithms']\n",
      "4                                                   []\n",
      "dtype: object\n",
      "\n",
      "Null and empty values:\n",
      "Null count: 0 rows.\n",
      "Row containing empty data: 0 rows.\n",
      "Empty portion 0.0%\n"
     ]
    }
   ],
   "source": [
    "initial_check(eda_df['tags'])"
   ]
  },
  {
   "cell_type": "markdown",
   "id": "8b27462d",
   "metadata": {},
   "source": [
    "Tags are supposed to be a list, so it needs to be decoded.\n"
   ]
  },
  {
   "cell_type": "code",
   "execution_count": 33,
   "id": "a9f95501",
   "metadata": {},
   "outputs": [],
   "source": [
    "eda_df['tags'] = decode_json(eda_df['tags'])"
   ]
  },
  {
   "cell_type": "code",
   "execution_count": 34,
   "id": "3ef80ae8",
   "metadata": {},
   "outputs": [
    {
     "name": "stdout",
     "output_type": "stream",
     "text": [
      "Type: <class 'list'>\n",
      "\n",
      "First 5 non-null rows:\n",
      "0         [Mathematics, Number theory, Implementation]\n",
      "1                  [Implementation, Greedy algorithms]\n",
      "2                        [Mathematics, Implementation]\n",
      "3    [Matrices, Combinatorics, Mathematics, Constru...\n",
      "4                  [Implementation, Greedy algorithms]\n",
      "dtype: object\n",
      "\n",
      "Null and empty values:\n",
      "Null count: 0 rows.\n",
      "Row containing empty data: 7652 rows.\n",
      "Empty portion 32.4%\n"
     ]
    }
   ],
   "source": [
    "initial_check(eda_df['tags'])"
   ]
  },
  {
   "cell_type": "markdown",
   "id": "b06c8eaf",
   "metadata": {},
   "source": [
    "7652 tags are empty, but it will not be dropped as problem sets with no tags are still included.\n"
   ]
  },
  {
   "cell_type": "markdown",
   "id": "33820659",
   "metadata": {},
   "source": [
    "## 10. Skill Types\n"
   ]
  },
  {
   "cell_type": "code",
   "execution_count": 35,
   "id": "4d09b2a3",
   "metadata": {},
   "outputs": [
    {
     "name": "stdout",
     "output_type": "stream",
     "text": [
      "Type: <class 'str'>\n",
      "\n",
      "First 5 non-null rows:\n",
      "0                       []\n",
      "1                       []\n",
      "2                       []\n",
      "3    ['Greedy algorithms']\n",
      "4                       []\n",
      "dtype: object\n",
      "\n",
      "Null and empty values:\n",
      "Null count: 0 rows.\n",
      "Row containing empty data: 0 rows.\n",
      "Empty portion 0.0%\n"
     ]
    }
   ],
   "source": [
    "initial_check(eda_df['skill_types'])"
   ]
  },
  {
   "cell_type": "markdown",
   "id": "b8427364",
   "metadata": {},
   "source": [
    "Skill Types is structured as a list, but the type is string, so it needs to be decoded.\n"
   ]
  },
  {
   "cell_type": "code",
   "execution_count": 36,
   "id": "cb4ce622",
   "metadata": {},
   "outputs": [],
   "source": [
    "eda_df['skill_types'] = decode_json(eda_df['skill_types'])"
   ]
  },
  {
   "cell_type": "code",
   "execution_count": 37,
   "id": "e0239156",
   "metadata": {},
   "outputs": [
    {
     "name": "stdout",
     "output_type": "stream",
     "text": [
      "Type: <class 'list'>\n",
      "\n",
      "First 5 non-null rows:\n",
      "0                                  [Greedy algorithms]\n",
      "1                                  [Greedy algorithms]\n",
      "2                     [Data structures, Range queries]\n",
      "3                                    [Complete search]\n",
      "4    [Dynamic programming, Amortized analysis, Sort...\n",
      "dtype: object\n",
      "\n",
      "Null and empty values:\n",
      "Null count: 0 rows.\n",
      "Row containing empty data: 13596 rows.\n",
      "Empty portion 57.57%\n"
     ]
    }
   ],
   "source": [
    "initial_check(eda_df['skill_types'])"
   ]
  },
  {
   "cell_type": "markdown",
   "id": "5a091f85",
   "metadata": {},
   "source": [
    "13596 list of the entire skill types lists are empty, these empty skill type lists will be explained on the prompt construction.\n"
   ]
  },
  {
   "cell_type": "markdown",
   "id": "ec2541a5",
   "metadata": {},
   "source": [
    "## 11. URL\n"
   ]
  },
  {
   "cell_type": "code",
   "execution_count": 38,
   "id": "7e17014d",
   "metadata": {},
   "outputs": [
    {
     "name": "stdout",
     "output_type": "stream",
     "text": [
      "Type: <class 'str'>\n",
      "\n",
      "First 5 non-null rows:\n",
      "0           https://www.codechef.com/problems/FLOW016\n",
      "1     https://codeforces.com/problemset/problem/574/A\n",
      "2      https://codeforces.com/problemset/problem/40/C\n",
      "3    https://codeforces.com/problemset/problem/1332/E\n",
      "4     https://codeforces.com/problemset/problem/374/A\n",
      "dtype: object\n",
      "\n",
      "Null and empty values:\n",
      "Null count: 4701 rows.\n",
      "Row containing empty data: 4701 rows.\n",
      "Empty portion 19.91%\n"
     ]
    }
   ],
   "source": [
    "initial_check(eda_df['url'])"
   ]
  },
  {
   "cell_type": "markdown",
   "id": "419ae788",
   "metadata": {},
   "source": [
    "URL information itself will not affect the produced solutions because they do not correlate with the problem sets, so it will be dropped for the prompting.\n"
   ]
  },
  {
   "cell_type": "markdown",
   "id": "4ebf4bea",
   "metadata": {},
   "source": [
    "## 12. Expected Auxiliary Space\n"
   ]
  },
  {
   "cell_type": "code",
   "execution_count": 39,
   "id": "d2db4945",
   "metadata": {},
   "outputs": [
    {
     "name": "stdout",
     "output_type": "stream",
     "text": [
      "Type: <class 'str'>\n",
      "\n",
      "First 5 non-null rows:\n",
      "0                            O(1).\n",
      "1                         O(N^{2})\n",
      "2                             O(1)\n",
      "3    O(Height of the Binary Tree).\n",
      "4                 O(|str1|*|str2|)\n",
      "dtype: object\n",
      "\n",
      "Null and empty values:\n",
      "Null count: 21230 rows.\n",
      "Row containing empty data: 21352 rows.\n",
      "Empty portion 90.41%\n"
     ]
    }
   ],
   "source": [
    "initial_check(eda_df['Expected Auxiliary Space'])"
   ]
  },
  {
   "cell_type": "code",
   "execution_count": 40,
   "id": "9a937090",
   "metadata": {},
   "outputs": [
    {
     "data": {
      "text/plain": [
       "Expected Auxiliary Space\n",
       "O(1)                             961\n",
       "O(N)                             307\n",
       "O(1).                            214\n",
       "                                 122\n",
       "O(n)                             103\n",
       "                                ... \n",
       "O(N * WORD_LEN).                   1\n",
       "O(Distinct Characters).            1\n",
       "O(1) for all the 5 functions.      1\n",
       "O(N^{2}*K)                         1\n",
       "O(Height of the Binary Tree).      1\n",
       "Name: count, Length: 305, dtype: int64"
      ]
     },
     "execution_count": 40,
     "metadata": {},
     "output_type": "execute_result"
    }
   ],
   "source": [
    "eda_df['Expected Auxiliary Space'].value_counts()"
   ]
  },
  {
   "cell_type": "markdown",
   "id": "abc07d94",
   "metadata": {},
   "source": [
    "Around 90% of problem sets do not have expected auxiliary space, so they will be assumed to not have expectations, which will be mentioned in the prompts later.\n"
   ]
  },
  {
   "cell_type": "markdown",
   "id": "bf6f2cb3",
   "metadata": {},
   "source": [
    "## 13. Time Limit\n"
   ]
  },
  {
   "cell_type": "code",
   "execution_count": 41,
   "id": "e038b030",
   "metadata": {},
   "outputs": [
    {
     "name": "stdout",
     "output_type": "stream",
     "text": [
      "Type: <class 'str'>\n",
      "\n",
      "First 5 non-null rows:\n",
      "0    8.0 seconds\n",
      "1      1 seconds\n",
      "2    8.0 seconds\n",
      "3    2.0 seconds\n",
      "4      2 seconds\n",
      "dtype: object\n",
      "\n",
      "Null and empty values:\n",
      "Null count: 13097 rows.\n",
      "Row containing empty data: 13097 rows.\n",
      "Empty portion 55.46%\n"
     ]
    }
   ],
   "source": [
    "initial_check(eda_df['time_limit'])"
   ]
  },
  {
   "cell_type": "markdown",
   "id": "69352e09",
   "metadata": {},
   "source": [
    "Around 55.46% of problem sets do not have time limit, so they will be assumed to not have expectations, which will be mentioned in the prompts later.\n"
   ]
  },
  {
   "cell_type": "markdown",
   "id": "0b358136",
   "metadata": {},
   "source": [
    "## 14. Date\n"
   ]
  },
  {
   "cell_type": "code",
   "execution_count": 42,
   "id": "5ddf5bfe",
   "metadata": {},
   "outputs": [
    {
     "name": "stdout",
     "output_type": "stream",
     "text": [
      "Type: <class 'str'>\n",
      "\n",
      "First 5 non-null rows:\n",
      "0    2015-04-27\n",
      "1    2019-12-31\n",
      "2    2020-03-31\n",
      "3    2019-12-31\n",
      "4    2019-12-31\n",
      "dtype: object\n",
      "\n",
      "Null and empty values:\n",
      "Null count: 17412 rows.\n",
      "Row containing empty data: 17412 rows.\n",
      "Empty portion 73.73%\n"
     ]
    }
   ],
   "source": [
    "initial_check(eda_df['date'])"
   ]
  },
  {
   "cell_type": "markdown",
   "id": "64dfd450",
   "metadata": {},
   "source": [
    "Date information itself will not affect the produced solutions because they do not correlate with the problem sets, so it will be dropped altogether.\n"
   ]
  },
  {
   "cell_type": "markdown",
   "id": "a4b9e60d",
   "metadata": {},
   "source": [
    "## 15. Picture Num\n"
   ]
  },
  {
   "cell_type": "code",
   "execution_count": 43,
   "id": "da023742",
   "metadata": {},
   "outputs": [
    {
     "name": "stdout",
     "output_type": "stream",
     "text": [
      "Type: <class 'str'>\n",
      "\n",
      "First 5 non-null rows:\n",
      "0    0\n",
      "1    1\n",
      "2    0\n",
      "3    0\n",
      "4    0\n",
      "dtype: object\n",
      "\n",
      "Null and empty values:\n",
      "Null count: 16906 rows.\n",
      "Row containing empty data: 16906 rows.\n",
      "Empty portion 71.59%\n"
     ]
    }
   ],
   "source": [
    "initial_check(eda_df['picture_num'])"
   ]
  },
  {
   "cell_type": "code",
   "execution_count": 44,
   "id": "1abf5411",
   "metadata": {},
   "outputs": [
    {
     "data": {
      "text/html": [
       "<div>\n",
       "<style scoped>\n",
       "    .dataframe tbody tr th:only-of-type {\n",
       "        vertical-align: middle;\n",
       "    }\n",
       "\n",
       "    .dataframe tbody tr th {\n",
       "        vertical-align: top;\n",
       "    }\n",
       "\n",
       "    .dataframe thead th {\n",
       "        text-align: right;\n",
       "    }\n",
       "</style>\n",
       "<table border=\"1\" class=\"dataframe\">\n",
       "  <thead>\n",
       "    <tr style=\"text-align: right;\">\n",
       "      <th></th>\n",
       "      <th>url</th>\n",
       "      <th>picture_num</th>\n",
       "    </tr>\n",
       "  </thead>\n",
       "  <tbody>\n",
       "  </tbody>\n",
       "</table>\n",
       "</div>"
      ],
      "text/plain": [
       "Empty DataFrame\n",
       "Columns: [url, picture_num]\n",
       "Index: []"
      ]
     },
     "execution_count": 44,
     "metadata": {},
     "output_type": "execute_result"
    }
   ],
   "source": [
    "eda_df[['url', 'picture_num']].loc[eda_df['url'] == None]"
   ]
  },
  {
   "cell_type": "markdown",
   "id": "1a82c5ff",
   "metadata": {},
   "source": [
    "Picture Num is dependent on url. If URL exists, picture_num can then exist. This indicate that picture num points to the picture inside of the URL if picture_num exists. This can be useful for feature engineering.\n"
   ]
  },
  {
   "cell_type": "markdown",
   "id": "cd78fdfb",
   "metadata": {},
   "source": [
    "## 16. Memory Limit\n"
   ]
  },
  {
   "cell_type": "code",
   "execution_count": 45,
   "id": "a76cd48b",
   "metadata": {},
   "outputs": [
    {
     "name": "stdout",
     "output_type": "stream",
     "text": [
      "Type: <class 'str'>\n",
      "\n",
      "First 5 non-null rows:\n",
      "0    134.217728 megabytes\n",
      "1             50000 bytes\n",
      "2    268.435456 megabytes\n",
      "3         256.0 megabytes\n",
      "4           512 megabytes\n",
      "dtype: object\n",
      "\n",
      "Null and empty values:\n",
      "Null count: 13096 rows.\n",
      "Row containing empty data: 13096 rows.\n",
      "Empty portion 55.45%\n"
     ]
    }
   ],
   "source": [
    "initial_check(eda_df['memory_limit'])"
   ]
  },
  {
   "cell_type": "markdown",
   "id": "03bbde20",
   "metadata": {},
   "source": [
    "55.45% of memory limit is empty. These empty values will be assumed as no time limit is given for the problem sets.\n"
   ]
  },
  {
   "cell_type": "markdown",
   "id": "6bcebea3",
   "metadata": {},
   "source": [
    "## 17. Expected Time Complexity\n"
   ]
  },
  {
   "cell_type": "code",
   "execution_count": 46,
   "id": "256bbe9d",
   "metadata": {},
   "outputs": [
    {
     "name": "stdout",
     "output_type": "stream",
     "text": [
      "Type: <class 'str'>\n",
      "\n",
      "First 5 non-null rows:\n",
      "0               O(N).\n",
      "1            O(N^{2})\n",
      "2              O(|S|)\n",
      "3               O(N).\n",
      "4    O(|str1|*|str2|)\n",
      "dtype: object\n",
      "\n",
      "Null and empty values:\n",
      "Null count: 21013 rows.\n",
      "Row containing empty data: 21135 rows.\n",
      "Empty portion 89.49%\n"
     ]
    }
   ],
   "source": [
    "initial_check(eda_df['Expected Time Complexity'])"
   ]
  },
  {
   "cell_type": "markdown",
   "id": "8afd87b8",
   "metadata": {},
   "source": [
    "55.45% of expected time complexity is empty. These empty values will be assumed as no expected time complexity is given for the problem sets.\n"
   ]
  },
  {
   "cell_type": "markdown",
   "id": "a2aadf36",
   "metadata": {},
   "source": [
    "# Feature Engineering\n"
   ]
  },
  {
   "cell_type": "code",
   "execution_count": 79,
   "id": "b7254480",
   "metadata": {},
   "outputs": [],
   "source": [
    "cleaned_df = full_df.copy()"
   ]
  },
  {
   "cell_type": "markdown",
   "id": "01f83ef2",
   "metadata": {},
   "source": [
    "### Drop Columns\n"
   ]
  },
  {
   "cell_type": "code",
   "execution_count": 80,
   "id": "c24e65c4",
   "metadata": {},
   "outputs": [],
   "source": [
    "cleaned_df.drop(columns=['solutions', 'starter_code', 'name', 'date'], inplace=True, axis=1)"
   ]
  },
  {
   "cell_type": "markdown",
   "id": "5f49afd8",
   "metadata": {},
   "source": [
    "### Filter Out Rows\n"
   ]
  },
  {
   "cell_type": "code",
   "execution_count": 81,
   "id": "57d64fae",
   "metadata": {},
   "outputs": [],
   "source": [
    "cleaned_df = cleaned_df.loc[cleaned_df['difficulty'] != 'UNKNOWN_DIFFICULTY']"
   ]
  },
  {
   "cell_type": "markdown",
   "id": "33860d44",
   "metadata": {},
   "source": [
    "### Decoding\n"
   ]
  },
  {
   "cell_type": "code",
   "execution_count": 82,
   "id": "0462c1c7",
   "metadata": {},
   "outputs": [],
   "source": [
    "decoded_cols = ['input_output', 'raw_tags', 'tags', 'skill_types']\n",
    "\n",
    "for col in decoded_cols:\n",
    "  cleaned_df[col] = decode_json(cleaned_df[col])"
   ]
  },
  {
   "cell_type": "markdown",
   "id": "35be2768",
   "metadata": {},
   "source": [
    "### Results\n"
   ]
  },
  {
   "cell_type": "code",
   "execution_count": 83,
   "id": "f08ebc28",
   "metadata": {},
   "outputs": [],
   "source": [
    "cleaned_df.reset_index(inplace=True, drop=True)"
   ]
  },
  {
   "cell_type": "code",
   "execution_count": 84,
   "id": "bbd53cf3",
   "metadata": {},
   "outputs": [
    {
     "data": {
      "text/html": [
       "<div>\n",
       "<style scoped>\n",
       "    .dataframe tbody tr th:only-of-type {\n",
       "        vertical-align: middle;\n",
       "    }\n",
       "\n",
       "    .dataframe tbody tr th {\n",
       "        vertical-align: top;\n",
       "    }\n",
       "\n",
       "    .dataframe thead th {\n",
       "        text-align: right;\n",
       "    }\n",
       "</style>\n",
       "<table border=\"1\" class=\"dataframe\">\n",
       "  <thead>\n",
       "    <tr style=\"text-align: right;\">\n",
       "      <th></th>\n",
       "      <th>question</th>\n",
       "      <th>input_output</th>\n",
       "      <th>difficulty</th>\n",
       "      <th>raw_tags</th>\n",
       "      <th>source</th>\n",
       "      <th>tags</th>\n",
       "      <th>skill_types</th>\n",
       "      <th>url</th>\n",
       "      <th>Expected Auxiliary Space</th>\n",
       "      <th>time_limit</th>\n",
       "      <th>picture_num</th>\n",
       "      <th>memory_limit</th>\n",
       "      <th>Expected Time Complexity</th>\n",
       "    </tr>\n",
       "  </thead>\n",
       "  <tbody>\n",
       "    <tr>\n",
       "      <th>0</th>\n",
       "      <td>Two integers A and B are the inputs. Write a p...</td>\n",
       "      <td>{'inputs': [['3', '120 140', '10213 312', '10 ...</td>\n",
       "      <td>EASY</td>\n",
       "      <td>[LCM, Mathematics, Algorithms, Number Theory, ...</td>\n",
       "      <td>codechef</td>\n",
       "      <td>[Mathematics, Number theory, Implementation]</td>\n",
       "      <td>[]</td>\n",
       "      <td>https://www.codechef.com/problems/FLOW016</td>\n",
       "      <td>None</td>\n",
       "      <td>1 seconds</td>\n",
       "      <td>0</td>\n",
       "      <td>50000 bytes</td>\n",
       "      <td>None</td>\n",
       "    </tr>\n",
       "    <tr>\n",
       "      <th>1</th>\n",
       "      <td>Limak is a grizzly bear who desires power and ...</td>\n",
       "      <td>{'inputs': ['5\n",
       "5 1 11 2 8\n",
       "', '4\n",
       "1 8 8 8\n",
       "', '2\n",
       "...</td>\n",
       "      <td>EASY</td>\n",
       "      <td>[greedy, implementation]</td>\n",
       "      <td>codeforces</td>\n",
       "      <td>[Implementation, Greedy algorithms]</td>\n",
       "      <td>[Greedy algorithms]</td>\n",
       "      <td>https://codeforces.com/problemset/problem/574/A</td>\n",
       "      <td>None</td>\n",
       "      <td>None</td>\n",
       "      <td>None</td>\n",
       "      <td>None</td>\n",
       "      <td>None</td>\n",
       "    </tr>\n",
       "    <tr>\n",
       "      <th>2</th>\n",
       "      <td>Last year the world's largest square was built...</td>\n",
       "      <td>{'inputs': ['99085 7738 98097 -6487\n",
       "', '1 2 2 ...</td>\n",
       "      <td>HARD</td>\n",
       "      <td>[math, implementation]</td>\n",
       "      <td>codeforces</td>\n",
       "      <td>[Mathematics, Implementation]</td>\n",
       "      <td>[]</td>\n",
       "      <td>https://codeforces.com/problemset/problem/40/C</td>\n",
       "      <td>None</td>\n",
       "      <td>2.0 seconds</td>\n",
       "      <td>None</td>\n",
       "      <td>256.0 megabytes</td>\n",
       "      <td>None</td>\n",
       "    </tr>\n",
       "    <tr>\n",
       "      <th>3</th>\n",
       "      <td>Alice has got addicted to a game called Sirtet...</td>\n",
       "      <td>{'inputs': ['2 2 1 1\n",
       "', '1 2 1 2\n",
       "', '485 117 3...</td>\n",
       "      <td>HARD</td>\n",
       "      <td>[combinatorics, matrices, math, constructive a...</td>\n",
       "      <td>codeforces</td>\n",
       "      <td>[Matrices, Combinatorics, Mathematics, Constru...</td>\n",
       "      <td>[]</td>\n",
       "      <td>https://codeforces.com/problemset/problem/1332/E</td>\n",
       "      <td>None</td>\n",
       "      <td>2 seconds</td>\n",
       "      <td>1</td>\n",
       "      <td>512 megabytes</td>\n",
       "      <td>None</td>\n",
       "    </tr>\n",
       "    <tr>\n",
       "      <th>4</th>\n",
       "      <td>Dima and Inna are doing so great! At the momen...</td>\n",
       "      <td>{'inputs': ['5 7 1 3 2 2\n",
       "', '5 5 2 3 1 1\n",
       "', '1...</td>\n",
       "      <td>HARD</td>\n",
       "      <td>[greedy, implementation]</td>\n",
       "      <td>codeforces</td>\n",
       "      <td>[Implementation, Greedy algorithms]</td>\n",
       "      <td>[Greedy algorithms]</td>\n",
       "      <td>https://codeforces.com/problemset/problem/374/A</td>\n",
       "      <td>None</td>\n",
       "      <td>None</td>\n",
       "      <td>None</td>\n",
       "      <td>None</td>\n",
       "      <td>None</td>\n",
       "    </tr>\n",
       "  </tbody>\n",
       "</table>\n",
       "</div>"
      ],
      "text/plain": [
       "                                            question  \\\n",
       "0  Two integers A and B are the inputs. Write a p...   \n",
       "1  Limak is a grizzly bear who desires power and ...   \n",
       "2  Last year the world's largest square was built...   \n",
       "3  Alice has got addicted to a game called Sirtet...   \n",
       "4  Dima and Inna are doing so great! At the momen...   \n",
       "\n",
       "                                        input_output difficulty  \\\n",
       "0  {'inputs': [['3', '120 140', '10213 312', '10 ...       EASY   \n",
       "1  {'inputs': ['5\n",
       "5 1 11 2 8\n",
       "', '4\n",
       "1 8 8 8\n",
       "', '2\n",
       "...       EASY   \n",
       "2  {'inputs': ['99085 7738 98097 -6487\n",
       "', '1 2 2 ...       HARD   \n",
       "3  {'inputs': ['2 2 1 1\n",
       "', '1 2 1 2\n",
       "', '485 117 3...       HARD   \n",
       "4  {'inputs': ['5 7 1 3 2 2\n",
       "', '5 5 2 3 1 1\n",
       "', '1...       HARD   \n",
       "\n",
       "                                            raw_tags      source  \\\n",
       "0  [LCM, Mathematics, Algorithms, Number Theory, ...    codechef   \n",
       "1                           [greedy, implementation]  codeforces   \n",
       "2                             [math, implementation]  codeforces   \n",
       "3  [combinatorics, matrices, math, constructive a...  codeforces   \n",
       "4                           [greedy, implementation]  codeforces   \n",
       "\n",
       "                                                tags          skill_types  \\\n",
       "0       [Mathematics, Number theory, Implementation]                   []   \n",
       "1                [Implementation, Greedy algorithms]  [Greedy algorithms]   \n",
       "2                      [Mathematics, Implementation]                   []   \n",
       "3  [Matrices, Combinatorics, Mathematics, Constru...                   []   \n",
       "4                [Implementation, Greedy algorithms]  [Greedy algorithms]   \n",
       "\n",
       "                                                url Expected Auxiliary Space  \\\n",
       "0         https://www.codechef.com/problems/FLOW016                     None   \n",
       "1   https://codeforces.com/problemset/problem/574/A                     None   \n",
       "2    https://codeforces.com/problemset/problem/40/C                     None   \n",
       "3  https://codeforces.com/problemset/problem/1332/E                     None   \n",
       "4   https://codeforces.com/problemset/problem/374/A                     None   \n",
       "\n",
       "    time_limit picture_num     memory_limit Expected Time Complexity  \n",
       "0    1 seconds           0      50000 bytes                     None  \n",
       "1         None        None             None                     None  \n",
       "2  2.0 seconds        None  256.0 megabytes                     None  \n",
       "3    2 seconds           1    512 megabytes                     None  \n",
       "4         None        None             None                     None  "
      ]
     },
     "execution_count": 84,
     "metadata": {},
     "output_type": "execute_result"
    }
   ],
   "source": [
    "cleaned_df.head()"
   ]
  },
  {
   "cell_type": "code",
   "execution_count": 85,
   "id": "38cf65bb",
   "metadata": {},
   "outputs": [
    {
     "name": "stdout",
     "output_type": "stream",
     "text": [
      "<class 'pandas.core.frame.DataFrame'>\n",
      "RangeIndex: 19149 entries, 0 to 19148\n",
      "Data columns (total 13 columns):\n",
      " #   Column                    Non-Null Count  Dtype \n",
      "---  ------                    --------------  ----- \n",
      " 0   question                  19149 non-null  object\n",
      " 1   input_output              19149 non-null  object\n",
      " 2   difficulty                19149 non-null  object\n",
      " 3   raw_tags                  19149 non-null  object\n",
      " 4   source                    19149 non-null  object\n",
      " 5   tags                      19149 non-null  object\n",
      " 6   skill_types               19149 non-null  object\n",
      " 7   url                       17891 non-null  object\n",
      " 8   Expected Auxiliary Space  2386 non-null   object\n",
      " 9   time_limit                7915 non-null   object\n",
      " 10  picture_num               6710 non-null   object\n",
      " 11  memory_limit              7915 non-null   object\n",
      " 12  Expected Time Complexity  2603 non-null   object\n",
      "dtypes: object(13)\n",
      "memory usage: 1.9+ MB\n"
     ]
    }
   ],
   "source": [
    "cleaned_df.info()"
   ]
  },
  {
   "cell_type": "code",
   "execution_count": 86,
   "id": "6b14be33",
   "metadata": {},
   "outputs": [
    {
     "name": "stdout",
     "output_type": "stream",
     "text": [
      "[question]'s type: object\n",
      "[input_output]'s type: object\n",
      "[difficulty]'s type: object\n",
      "[raw_tags]'s type: object\n",
      "[source]'s type: object\n",
      "[tags]'s type: object\n",
      "[skill_types]'s type: object\n",
      "[url]'s type: object\n",
      "[Expected Auxiliary Space]'s type: object\n",
      "[time_limit]'s type: object\n",
      "[picture_num]'s type: object\n",
      "[memory_limit]'s type: object\n",
      "[Expected Time Complexity]'s type: object\n"
     ]
    }
   ],
   "source": [
    "for col in cleaned_df:\n",
    "  print(f'[{col}]\\'s type: {cleaned_df[col].dtype}')"
   ]
  },
  {
   "cell_type": "markdown",
   "id": "5be3ebbe",
   "metadata": {},
   "source": [
    "# Problems Selection\n"
   ]
  },
  {
   "cell_type": "code",
   "execution_count": 137,
   "id": "f4817a0b",
   "metadata": {},
   "outputs": [],
   "source": [
    "ps_df = cleaned_df.copy()"
   ]
  },
  {
   "cell_type": "code",
   "execution_count": 138,
   "id": "aa701d29",
   "metadata": {},
   "outputs": [
    {
     "name": "stdout",
     "output_type": "stream",
     "text": [
      "Filtered out 4326 problems with unapproved sources.\n",
      "Remaining problems: 14823\n"
     ]
    }
   ],
   "source": [
    "# Drop rows where the source doesn't approve in the terms of service\n",
    "tosUnapproved = {\n",
    "    \"geeksforgeeks\",\n",
    "    \"leetcode\",\n",
    "    \"aizu\",\n",
    "    \"hackerearth\"\n",
    "}\n",
    "\n",
    "# Drop rows where the source doesn't approve in the terms of service\n",
    "ps_df = ps_df[~ps_df['source'].isin(tosUnapproved)]\n",
    "print(f\"Filtered out {len(cleaned_df) - len(ps_df)} problems with unapproved sources.\")\n",
    "print(f\"Remaining problems: {len(ps_df)}\")"
   ]
  },
  {
   "cell_type": "code",
   "execution_count": 139,
   "id": "5ec651ca",
   "metadata": {},
   "outputs": [
    {
     "name": "stdout",
     "output_type": "stream",
     "text": [
      "Rows before filtering: 19149\n",
      "Rows after filtering: 7271\n",
      "Filtered out 11878 rows\n"
     ]
    }
   ],
   "source": [
    "# Drop rows where skill_types is empty or NaN\n",
    "# Empty list is considered as empty\n",
    "ps_df = ps_df[ps_df['skill_types'].apply(lambda x: x is not None and len(x) > 0)]\n",
    "\n",
    "# Reset index after filtering\n",
    "ps_df.reset_index(drop=True, inplace=True)\n",
    "\n",
    "# Display info about the filtered DataFrame\n",
    "print(f\"Rows before filtering: {len(cleaned_df)}\")\n",
    "print(f\"Rows after filtering: {len(ps_df)}\")\n",
    "print(f\"Filtered out {len(cleaned_df) - len(ps_df)} rows\")"
   ]
  },
  {
   "cell_type": "code",
   "execution_count": 140,
   "id": "872e40fe",
   "metadata": {},
   "outputs": [],
   "source": [
    "randomness = 42\n",
    "# Max problems per skill type and difficulty\n",
    "max_counts = {\n",
    "    'EASY': 20,\n",
    "    'MEDIUM': 10,\n",
    "    'HARD': 5,\n",
    "    'MEDIUM_HARD': 3,\n",
    "    'VERY_HARD': 3\n",
    "}\n",
    "\n",
    "# Get all unique skills from the skill_types column\n",
    "all_skills = set()\n",
    "for skills in ps_df['skill_types']:\n",
    "    if skills and len(skills) > 0:\n",
    "        all_skills.update(skills)\n",
    "\n",
    "# Create an empty dataframe to store the results\n",
    "filtered_df = pd.DataFrame(columns=ps_df.columns)\n",
    "\n",
    "# Process each skill type\n",
    "for skill in all_skills:\n",
    "    # Get problems with this skill\n",
    "    skill_mask = ps_df['skill_types'].apply(lambda x: skill in x if x else False)\n",
    "    skill_df = ps_df[skill_mask].copy()\n",
    "    \n",
    "    # Sample problems for each difficulty level\n",
    "    sampled_by_difficulty = pd.DataFrame(columns=ps_df.columns)\n",
    "    \n",
    "    for difficulty, max_count in max_counts.items():\n",
    "        difficulty_df = skill_df[skill_df['difficulty'] == difficulty]\n",
    "        \n",
    "        if len(difficulty_df) > 0:\n",
    "            # Sample up to max_count problems of this difficulty\n",
    "            sample_size = min(max_count, len(difficulty_df))\n",
    "            sampled = difficulty_df.sample(n=sample_size, random_state=randomness)\n",
    "            sampled_by_difficulty = pd.concat([sampled_by_difficulty, sampled])\n",
    "            \n",
    "            # Remove the sampled problems from skill_df to avoid duplicates\n",
    "            # when a problem belongs to multiple skill types\n",
    "            skill_df = skill_df.loc[~skill_df.index.isin(sampled.index)]\n",
    "    \n",
    "    # Add the sampled problems for this skill to the result\n",
    "    filtered_df = pd.concat([filtered_df, sampled_by_difficulty])\n",
    "    \n",
    "# Remove duplicates (in case a problem was selected for multiple skills)\n",
    "filtered_df = filtered_df.drop_duplicates(subset=[col for col in filtered_df.columns if col not in ['input_output', 'raw_tags', 'tags', 'skill_types']])\n",
    "\n",
    "# Reset index\n",
    "filtered_df.reset_index(drop=True, inplace=True)"
   ]
  },
  {
   "cell_type": "code",
   "execution_count": 141,
   "id": "5b698eb4",
   "metadata": {},
   "outputs": [
    {
     "name": "stdout",
     "output_type": "stream",
     "text": [
      "Total problems in balanced dataset: 300\n",
      "\n",
      "Distribution by skill type:\n",
      "Greedy algorithms: 115\n",
      "Sorting: 94\n",
      "Dynamic programming: 81\n",
      "Data structures: 78\n",
      "Complete search: 69\n",
      "Amortized analysis: 54\n",
      "Bit manipulation: 47\n",
      "Range queries: 21\n",
      "\n",
      "Distribution by difficulty:\n",
      "difficulty\n",
      "EASY           140\n",
      "MEDIUM          72\n",
      "HARD            40\n",
      "MEDIUM_HARD     24\n",
      "VERY_HARD       24\n",
      "Name: count, dtype: int64\n"
     ]
    }
   ],
   "source": [
    "# Display statistics about the resulting dataset\n",
    "print(f\"Total problems in balanced dataset: {len(filtered_df)}\")\n",
    "print(\"\\nDistribution by skill type:\")\n",
    "skill_counts = {}\n",
    "for skills in filtered_df['skill_types']:\n",
    "    for skill in skills:\n",
    "        skill_counts[skill] = skill_counts.get(skill, 0) + 1\n",
    "for skill, count in sorted(skill_counts.items(), key=lambda x: x[1], reverse=True):\n",
    "    print(f\"{skill}: {count}\")\n",
    "\n",
    "print(\"\\nDistribution by difficulty:\")\n",
    "print(filtered_df['difficulty'].value_counts())"
   ]
  },
  {
   "cell_type": "markdown",
   "id": "586e7e0a",
   "metadata": {},
   "source": [
    "# Prompts Construction\n"
   ]
  },
  {
   "cell_type": "code",
   "execution_count": 142,
   "id": "3b02a794",
   "metadata": {},
   "outputs": [],
   "source": [
    "pc_df = filtered_df.copy()"
   ]
  },
  {
   "cell_type": "code",
   "execution_count": 143,
   "id": "013dd7e0",
   "metadata": {},
   "outputs": [],
   "source": [
    "pc_df.drop(columns=['url', 'picture_num', 'source'], axis=1, inplace=True)"
   ]
  },
  {
   "cell_type": "code",
   "execution_count": 144,
   "id": "2cf112e0",
   "metadata": {},
   "outputs": [
    {
     "data": {
      "text/html": [
       "<div>\n",
       "<style scoped>\n",
       "    .dataframe tbody tr th:only-of-type {\n",
       "        vertical-align: middle;\n",
       "    }\n",
       "\n",
       "    .dataframe tbody tr th {\n",
       "        vertical-align: top;\n",
       "    }\n",
       "\n",
       "    .dataframe thead th {\n",
       "        text-align: right;\n",
       "    }\n",
       "</style>\n",
       "<table border=\"1\" class=\"dataframe\">\n",
       "  <thead>\n",
       "    <tr style=\"text-align: right;\">\n",
       "      <th></th>\n",
       "      <th>question</th>\n",
       "      <th>input_output</th>\n",
       "      <th>difficulty</th>\n",
       "      <th>raw_tags</th>\n",
       "      <th>tags</th>\n",
       "      <th>skill_types</th>\n",
       "      <th>Expected Auxiliary Space</th>\n",
       "      <th>time_limit</th>\n",
       "      <th>memory_limit</th>\n",
       "      <th>Expected Time Complexity</th>\n",
       "    </tr>\n",
       "  </thead>\n",
       "  <tbody>\n",
       "    <tr>\n",
       "      <th>0</th>\n",
       "      <td>You get an array of different numbers to sum u...</td>\n",
       "      <td>{'fn_name': 'sum_it_up', 'inputs': [[[['101', ...</td>\n",
       "      <td>EASY</td>\n",
       "      <td>[Arrays, Fundamentals, Binary, Lists]</td>\n",
       "      <td>[Bit manipulation, Data structures, Fundamentals]</td>\n",
       "      <td>[Bit manipulation, Data structures]</td>\n",
       "      <td>None</td>\n",
       "      <td>None</td>\n",
       "      <td>None</td>\n",
       "      <td>None</td>\n",
       "    </tr>\n",
       "    <tr>\n",
       "      <th>1</th>\n",
       "      <td>In this kata you're expected to sort an array ...</td>\n",
       "      <td>{'fn_name': 'sort_by_bit', 'inputs': [[[3, 8, ...</td>\n",
       "      <td>EASY</td>\n",
       "      <td>[Algorithms, Fundamentals, Bits, Sorting, Logi...</td>\n",
       "      <td>[Bit manipulation, Sorting, Data structures, F...</td>\n",
       "      <td>[Bit manipulation, Sorting, Data structures]</td>\n",
       "      <td>None</td>\n",
       "      <td>None</td>\n",
       "      <td>None</td>\n",
       "      <td>None</td>\n",
       "    </tr>\n",
       "    <tr>\n",
       "      <th>2</th>\n",
       "      <td>Implement `String.eight_bit_signed_number?` (R...</td>\n",
       "      <td>{'fn_name': 'signed_eight_bit_number', 'inputs...</td>\n",
       "      <td>EASY</td>\n",
       "      <td>[Regular Expressions, Fundamentals, Bits, Binary]</td>\n",
       "      <td>[Bit manipulation, Fundamentals]</td>\n",
       "      <td>[Bit manipulation]</td>\n",
       "      <td>None</td>\n",
       "      <td>None</td>\n",
       "      <td>None</td>\n",
       "      <td>None</td>\n",
       "    </tr>\n",
       "    <tr>\n",
       "      <th>3</th>\n",
       "      <td>Given two integers, $\\boldsymbol{l}$ and $\\tex...</td>\n",
       "      <td>{'inputs': ['10\n",
       "15\n",
       "', '11\n",
       "100\n",
       "'], 'outputs': [...</td>\n",
       "      <td>EASY</td>\n",
       "      <td>[Algorithms - Bit Manipulation]</td>\n",
       "      <td>[Bit manipulation]</td>\n",
       "      <td>[Bit manipulation]</td>\n",
       "      <td>None</td>\n",
       "      <td>None</td>\n",
       "      <td>None</td>\n",
       "      <td>None</td>\n",
       "    </tr>\n",
       "    <tr>\n",
       "      <th>4</th>\n",
       "      <td>Theofanis really likes sequences of positive i...</td>\n",
       "      <td>{'inputs': ['3\n",
       "3 4\n",
       "2 12\n",
       "105 564\n",
       "', '3\n",
       "3 4\n",
       "2 6\n",
       "...</td>\n",
       "      <td>EASY</td>\n",
       "      <td>[bitmasks, math]</td>\n",
       "      <td>[Bit manipulation, Mathematics]</td>\n",
       "      <td>[Bit manipulation]</td>\n",
       "      <td>None</td>\n",
       "      <td>2 seconds</td>\n",
       "      <td>256 megabytes</td>\n",
       "      <td>None</td>\n",
       "    </tr>\n",
       "  </tbody>\n",
       "</table>\n",
       "</div>"
      ],
      "text/plain": [
       "                                            question  \\\n",
       "0  You get an array of different numbers to sum u...   \n",
       "1  In this kata you're expected to sort an array ...   \n",
       "2  Implement `String.eight_bit_signed_number?` (R...   \n",
       "3  Given two integers, $\\boldsymbol{l}$ and $\\tex...   \n",
       "4  Theofanis really likes sequences of positive i...   \n",
       "\n",
       "                                        input_output difficulty  \\\n",
       "0  {'fn_name': 'sum_it_up', 'inputs': [[[['101', ...       EASY   \n",
       "1  {'fn_name': 'sort_by_bit', 'inputs': [[[3, 8, ...       EASY   \n",
       "2  {'fn_name': 'signed_eight_bit_number', 'inputs...       EASY   \n",
       "3  {'inputs': ['10\n",
       "15\n",
       "', '11\n",
       "100\n",
       "'], 'outputs': [...       EASY   \n",
       "4  {'inputs': ['3\n",
       "3 4\n",
       "2 12\n",
       "105 564\n",
       "', '3\n",
       "3 4\n",
       "2 6\n",
       "...       EASY   \n",
       "\n",
       "                                            raw_tags  \\\n",
       "0              [Arrays, Fundamentals, Binary, Lists]   \n",
       "1  [Algorithms, Fundamentals, Bits, Sorting, Logi...   \n",
       "2  [Regular Expressions, Fundamentals, Bits, Binary]   \n",
       "3                    [Algorithms - Bit Manipulation]   \n",
       "4                                   [bitmasks, math]   \n",
       "\n",
       "                                                tags  \\\n",
       "0  [Bit manipulation, Data structures, Fundamentals]   \n",
       "1  [Bit manipulation, Sorting, Data structures, F...   \n",
       "2                   [Bit manipulation, Fundamentals]   \n",
       "3                                 [Bit manipulation]   \n",
       "4                    [Bit manipulation, Mathematics]   \n",
       "\n",
       "                                    skill_types Expected Auxiliary Space  \\\n",
       "0           [Bit manipulation, Data structures]                     None   \n",
       "1  [Bit manipulation, Sorting, Data structures]                     None   \n",
       "2                            [Bit manipulation]                     None   \n",
       "3                            [Bit manipulation]                     None   \n",
       "4                            [Bit manipulation]                     None   \n",
       "\n",
       "  time_limit   memory_limit Expected Time Complexity  \n",
       "0       None           None                     None  \n",
       "1       None           None                     None  \n",
       "2       None           None                     None  \n",
       "3       None           None                     None  \n",
       "4  2 seconds  256 megabytes                     None  "
      ]
     },
     "execution_count": 144,
     "metadata": {},
     "output_type": "execute_result"
    }
   ],
   "source": [
    "pc_df.head()"
   ]
  },
  {
   "cell_type": "code",
   "execution_count": 145,
   "id": "b74de5d6",
   "metadata": {},
   "outputs": [
    {
     "name": "stdout",
     "output_type": "stream",
     "text": [
      "<class 'pandas.core.frame.DataFrame'>\n",
      "RangeIndex: 300 entries, 0 to 299\n",
      "Data columns (total 10 columns):\n",
      " #   Column                    Non-Null Count  Dtype \n",
      "---  ------                    --------------  ----- \n",
      " 0   question                  300 non-null    object\n",
      " 1   input_output              300 non-null    object\n",
      " 2   difficulty                300 non-null    object\n",
      " 3   raw_tags                  300 non-null    object\n",
      " 4   tags                      300 non-null    object\n",
      " 5   skill_types               300 non-null    object\n",
      " 6   Expected Auxiliary Space  0 non-null      object\n",
      " 7   time_limit                183 non-null    object\n",
      " 8   memory_limit              183 non-null    object\n",
      " 9   Expected Time Complexity  3 non-null      object\n",
      "dtypes: object(10)\n",
      "memory usage: 23.6+ KB\n"
     ]
    }
   ],
   "source": [
    "pc_df.info()"
   ]
  },
  {
   "cell_type": "code",
   "execution_count": 146,
   "id": "716fe02b",
   "metadata": {},
   "outputs": [
    {
     "data": {
      "text/plain": [
       "['Below is provided a **competitive programming** problem set.\\nPlease solve the problem set with:\\n1. No pre-assumptions (every assumption has to be structured in comments, whether it is inline or in a block).\\n2. **Solve using C++.**3. Keeping in mind that the solution can actually reproduce the correct inputs and outputs as will be provided.\\n4. Only provide solution as the answer without any alternatives **(pick the best of all possibilities with best practices and performance)**.5. **All explanation MUST be inside of the code itself in the forms of comments.**\\n**Question**\\nYou get an array of different numbers to sum up. But there is one problem, those numbers all have different bases.\\nFor example:\\n```python\\nYou get an array of numbers with their base as an input:\\n\\n[[\"101\",16],[\"7640\",8],[\"1\",9]]\\n```\\n\\nThe output should be the sum as an integer value with a base of 10, so according to the example this would be:\\n\\n4258\\n```python\\nA few more examples:\\n[[\"101\",2], [\"10\",8]] --> 13\\n[[\"ABC\",16], [\"11\",2]] --> 2751\\n```\\nBases can be between 2 and 36 (2<=base<=36)\\n\\n**Input and Output**\\n{\\'fn_name\\': \\'sum_it_up\\', \\'inputs\\': [[[[\\'101\\', 2], [\\'10\\', 8]]], [[[\\'ABC\\', 16], [\\'11\\', 2]]], [[[\\'101\\', 16], [\\'7640\\', 8], [\\'1\\', 9]]], [[]]], \\'outputs\\': [[13], [2751], [4258], [0]]}\\n**Difficulty: EASY**\\n\\n**Raw Tags: [\\'Arrays\\', \\'Fundamentals\\', \\'Binary\\', \\'Lists\\']**\\n\\n**Tags: [\\'Bit manipulation\\', \\'Data structures\\', \\'Fundamentals\\']**\\n\\n**Skill Types: [\\'Bit manipulation\\', \\'Data structures\\']**\\n\\n**Expected Auxiliary Space: No expected aurxiliary space or auxiliary space limit.**\\n\\n**Time Limit: No time limit.**\\n\\n**Memory Limit: No memory limit**\\n\\n**Expected Time Complexity: No expected time complexity or time complexity limit.**\\n',\n",
       " \"Below is provided a **competitive programming** problem set.\\nPlease solve the problem set with:\\n1. No pre-assumptions (every assumption has to be structured in comments, whether it is inline or in a block).\\n2. **Solve using C++.**3. Keeping in mind that the solution can actually reproduce the correct inputs and outputs as will be provided.\\n4. Only provide solution as the answer without any alternatives **(pick the best of all possibilities with best practices and performance)**.5. **All explanation MUST be inside of the code itself in the forms of comments.**\\n**Question**\\nIn this kata you're expected to sort an array of 32-bit integers in ascending order of the number of **on** bits they have.\\n\\nE.g Given the array **[7, 6, 15, 8]**\\n\\n- 7 has **3 on** bits  (000...0**111**)\\n- 6 has **2 on** bits  (000...00**11**)\\n- 15 has **4 on** bits (000...**1111**)\\n- 8 has **1 on** bit   (000...**1**000)\\n\\nSo the array in sorted order would be **[8, 6, 7, 15]**.\\n\\nIn cases where two numbers have the same number of bits, compare their real values instead.\\n\\nE.g between 10 **(...1010)** and 12 **(...1100)**, they both have the same number of **on** bits '**2**' but the integer 10 is less than 12 so it comes first in sorted order.\\n\\nYour task is to write the function `sortBybit()` that takes an array of integers and sort them as described above.\\n\\n```if-not:haskell\\nNote: Your function should modify the input rather than creating a new array.\\n```\\n\\n**Input and Output**\\n{'fn_name': 'sort_by_bit', 'inputs': [[[3, 8, 3, 6, 5, 7, 9, 1]], [[9, 4, 5, 3, 5, 7, 2, 56, 8, 2, 6, 8, 0]]], 'outputs': [[[1, 8, 3, 3, 5, 6, 9, 7]], [[0, 2, 2, 4, 8, 8, 3, 5, 5, 6, 9, 7, 56]]]}\\n**Difficulty: EASY**\\n\\n**Raw Tags: ['Algorithms', 'Fundamentals', 'Bits', 'Sorting', 'Logic', 'Data Structures', 'Arrays', 'Binary']**\\n\\n**Tags: ['Bit manipulation', 'Sorting', 'Data structures', 'Fundamentals']**\\n\\n**Skill Types: ['Bit manipulation', 'Sorting', 'Data structures']**\\n\\n**Expected Auxiliary Space: No expected aurxiliary space or auxiliary space limit.**\\n\\n**Time Limit: No time limit.**\\n\\n**Memory Limit: No memory limit**\\n\\n**Expected Time Complexity: No expected time complexity or time complexity limit.**\\n\",\n",
       " \"Below is provided a **competitive programming** problem set.\\nPlease solve the problem set with:\\n1. No pre-assumptions (every assumption has to be structured in comments, whether it is inline or in a block).\\n2. **Solve using C++.**3. Keeping in mind that the solution can actually reproduce the correct inputs and outputs as will be provided.\\n4. Only provide solution as the answer without any alternatives **(pick the best of all possibilities with best practices and performance)**.5. **All explanation MUST be inside of the code itself in the forms of comments.**\\n**Question**\\nImplement `String.eight_bit_signed_number?` (Ruby), `String.eightBitSignedNumber()` (Python), `eight_bit_signed_number()` (JS) or `StringUtils.isSignedEightBitNumber(String)` (Java) which should return `true/True` if given object is a number representable by 8 bit signed integer (-128 to -1 or 0 to 127), `false/False` otherwise.\\n\\nIt should only accept numbers in canonical representation, so no leading `+`, extra `0`s, spaces etc.\\n\\n**Input and Output**\\n{'fn_name': 'signed_eight_bit_number', 'inputs': [[''], ['0'], ['00'], ['-0'], ['55'], ['-23'], ['042'], ['127'], ['128'], ['999'], ['-128'], ['-129'], ['-999'], ['1\\\\n'], ['1 '], [' 1'], ['1\\\\n2'], ['+1'], ['--1'], ['01'], ['-01'], '0', '1', '2'], 'outputs': [[False], [True], [False], [False], [True], [True], [False], [True], [False], [False], [True], [False], [False], [False], [False], [False], [False], [False], [False], [False], [False], [True], [True], [True]]}\\n**Difficulty: EASY**\\n\\n**Raw Tags: ['Regular Expressions', 'Fundamentals', 'Bits', 'Binary']**\\n\\n**Tags: ['Bit manipulation', 'Fundamentals']**\\n\\n**Skill Types: ['Bit manipulation']**\\n\\n**Expected Auxiliary Space: No expected aurxiliary space or auxiliary space limit.**\\n\\n**Time Limit: No time limit.**\\n\\n**Memory Limit: No memory limit**\\n\\n**Expected Time Complexity: No expected time complexity or time complexity limit.**\\n\",\n",
       " \"Below is provided a **competitive programming** problem set.\\nPlease solve the problem set with:\\n1. No pre-assumptions (every assumption has to be structured in comments, whether it is inline or in a block).\\n2. **Solve using C++.**3. Keeping in mind that the solution can actually reproduce the correct inputs and outputs as will be provided.\\n4. Only provide solution as the answer without any alternatives **(pick the best of all possibilities with best practices and performance)**.5. **All explanation MUST be inside of the code itself in the forms of comments.**\\n**Question**\\nGiven two integers, $\\\\boldsymbol{l}$ and $\\\\textbf{r}$, find the maximal value of $\\\\boldsymbol{a}$ xor $\\\\boldsymbol{b}$, written $a\\\\oplus b$, where $\\\\boldsymbol{a}$ and $\\\\boldsymbol{b}$ satisfy the following condition:\\n\\n$l\\\\leq a\\\\leq b\\\\leq r$  \\n\\nFor example, if $l=11$ and $r=12$, then \\n\\n$\\\\textbf{11}\\\\oplus11=\\\\textbf{0}$ \\n\\n$\\\\textbf{11}\\\\oplus12=7$ \\n\\n$12\\\\oplus12=0$  \\n\\nOur maximum value is $7$.  \\n\\nFunction Description\\n\\nComplete the maximizingXor function in the editor below.  It must return an integer representing the maximum value calculated.  \\n\\nmaximizingXor has the following parameter(s):\\n\\nl: an integer, the lower bound, inclusive  \\nr: an integer, the upper bound, inclusive  \\n\\nInput Format\\n\\nThe first line contains the integer $\\\\boldsymbol{l}$. \\n\\nThe second line contains the integer $\\\\textbf{r}$.    \\n\\nConstraints\\n\\n$1\\\\leq l\\\\leq r\\\\leq10$^{3}  \\n\\nOutput Format\\n\\nReturn the maximal value of the xor operations for all permutations of the integers from $\\\\boldsymbol{l}$ to $\\\\textbf{r}$, inclusive.\\n\\nSample Input 0\\n10\\n15\\n\\nSample Output 0\\n7\\n\\nExplanation 0\\n\\nHere $l=10$ and $r=15$. Testing all pairs:   \\n\\n$10\\\\oplus10=0$ \\n\\n$10\\\\oplus11=1$ \\n\\n$\\\\textbf{10}\\\\oplus12=\\\\textbf{6}$ \\n\\n$\\\\textbf{10}\\\\oplus13=7$ \\n\\n$\\\\textbf{10}\\\\oplus\\\\textbf{14}=4$ \\n\\n$10\\\\oplus15=5$ \\n\\n$\\\\textbf{11}\\\\oplus11=\\\\textbf{0}$ \\n\\n$\\\\textbf{11}\\\\oplus12=7$ \\n\\n$11\\\\oplus13=6$ \\n\\n$11\\\\oplus14=5$ \\n\\n$11\\\\oplus15=4$ \\n\\n$12\\\\oplus12=0$ \\n\\n$12\\\\oplus13=1$ \\n\\n$\\\\textbf{12}\\\\oplus\\\\textbf{14}=2$ \\n\\n$12\\\\oplus15=3$ \\n\\n$13\\\\oplus13=0$ \\n\\n$13\\\\oplus14=3$ \\n\\n$13\\\\oplus15=2$ \\n\\n$14\\\\oplus14=0$ \\n\\n$14\\\\oplus15=1$ \\n\\n$15\\\\oplus15=0$  \\n\\nTwo pairs, (10, 13) and (11, 12) have the xor value 7, and this is maximal. \\n\\nSample Input 1\\n11\\n100\\n\\nSample Output 1\\n127\\n\\n**Input and Output**\\n{'inputs': ['10\\\\n15\\\\n', '11\\\\n100\\\\n'], 'outputs': ['7\\\\n', '127\\\\n']}\\n**Difficulty: EASY**\\n\\n**Raw Tags: ['Algorithms - Bit Manipulation']**\\n\\n**Tags: ['Bit manipulation']**\\n\\n**Skill Types: ['Bit manipulation']**\\n\\n**Expected Auxiliary Space: No expected aurxiliary space or auxiliary space limit.**\\n\\n**Time Limit: No time limit.**\\n\\n**Memory Limit: No memory limit**\\n\\n**Expected Time Complexity: No expected time complexity or time complexity limit.**\\n\",\n",
       " \"Below is provided a **competitive programming** problem set.\\nPlease solve the problem set with:\\n1. No pre-assumptions (every assumption has to be structured in comments, whether it is inline or in a block).\\n2. **Solve using C++.**3. Keeping in mind that the solution can actually reproduce the correct inputs and outputs as will be provided.\\n4. Only provide solution as the answer without any alternatives **(pick the best of all possibilities with best practices and performance)**.5. **All explanation MUST be inside of the code itself in the forms of comments.**\\n**Question**\\nTheofanis really likes sequences of positive integers, thus his teacher (Yeltsa Kcir) gave him a problem about a sequence that consists of only special numbers.\\n\\nLet's call a positive number special if it can be written as a sum of different non-negative powers of $n$. For example, for $n = 4$ number $17$ is special, because it can be written as $4^0 + 4^2 = 1 + 16 = 17$, but $9$ is not.\\n\\nTheofanis asks you to help him find the $k$-th special number if they are sorted in increasing order. Since this number may be too large, output it modulo $10^9+7$.\\n\\n\\n-----Input-----\\n\\nThe first line contains a single integer $t$ ($1 \\\\le t \\\\le 10^4$) — the number of test cases.\\n\\nThe first and only line of each test case contains two integers $n$ and $k$ ($2 \\\\le n \\\\le 10^9$; $1 \\\\le k \\\\le 10^9$).\\n\\n\\n-----Output-----\\n\\nFor each test case, print one integer — the $k$-th special number in increasing order modulo $10^9+7$.\\n\\n\\n-----Examples-----\\n\\nInput\\n3\\n3 4\\n2 12\\n105 564\\nOutput\\n9\\n12\\n3595374\\n\\n\\n-----Note-----\\n\\nFor $n = 3$ the sequence is $[1,3,4,9...]$\\n\\n**Input and Output**\\n{'inputs': ['3\\\\n3 4\\\\n2 12\\\\n105 564\\\\n', '3\\\\n3 4\\\\n2 6\\\\n105 564\\\\n', '3\\\\n1 4\\\\n2 6\\\\n105 564\\\\n', '3\\\\n0 4\\\\n2 6\\\\n105 564\\\\n', '3\\\\n0 8\\\\n0 6\\\\n105 564\\\\n', '3\\\\n1 8\\\\n0 6\\\\n105 564\\\\n', '3\\\\n1 7\\\\n0 6\\\\n105 564\\\\n', '3\\\\n1 7\\\\n0 6\\\\n105 984\\\\n', '3\\\\n1 10\\\\n0 6\\\\n105 984\\\\n', '3\\\\n6 4\\\\n2 12\\\\n105 564\\\\n', '3\\\\n3 4\\\\n2 1\\\\n105 564\\\\n', '3\\\\n1 4\\\\n2 6\\\\n105 571\\\\n', '3\\\\n0 4\\\\n2 6\\\\n39 564\\\\n', '3\\\\n0 8\\\\n2 6\\\\n105 713\\\\n', '3\\\\n0 8\\\\n0 6\\\\n105 46\\\\n', '3\\\\n1 8\\\\n0 6\\\\n105 868\\\\n', '3\\\\n1 7\\\\n0 6\\\\n35 564\\\\n', '3\\\\n6 7\\\\n2 12\\\\n105 564\\\\n', '3\\\\n3 4\\\\n2 1\\\\n110 564\\\\n', '3\\\\n1 4\\\\n3 6\\\\n105 571\\\\n', '3\\\\n0 4\\\\n0 6\\\\n39 564\\\\n', '3\\\\n0 8\\\\n2 12\\\\n105 713\\\\n', '3\\\\n1 8\\\\n1 6\\\\n105 868\\\\n', '3\\\\n1 4\\\\n0 6\\\\n35 564\\\\n', '3\\\\n6 7\\\\n2 12\\\\n105 276\\\\n', '3\\\\n1 4\\\\n2 6\\\\n105 211\\\\n', '3\\\\n0 8\\\\n2 12\\\\n103 713\\\\n', '3\\\\n0 12\\\\n0 6\\\\n105 28\\\\n', '3\\\\n1 8\\\\n1 6\\\\n105 238\\\\n', '3\\\\n2 18\\\\n0 2\\\\n105 984\\\\n', '3\\\\n2 26\\\\n0 10\\\\n105 984\\\\n', '3\\\\n6 7\\\\n2 20\\\\n105 276\\\\n', '3\\\\n1 6\\\\n2 6\\\\n105 211\\\\n', '3\\\\n1 8\\\\n2 12\\\\n103 713\\\\n', '3\\\\n1 8\\\\n2 6\\\\n105 238\\\\n', '3\\\\n2 18\\\\n0 2\\\\n105 735\\\\n', '3\\\\n6 7\\\\n2 6\\\\n105 276\\\\n', '3\\\\n1 6\\\\n2 6\\\\n105 274\\\\n', '3\\\\n1 10\\\\n2 12\\\\n103 713\\\\n', '3\\\\n6 7\\\\n2 6\\\\n105 255\\\\n', '3\\\\n1 7\\\\n2 6\\\\n105 274\\\\n', '3\\\\n1 4\\\\n3 6\\\\n105 238\\\\n', '3\\\\n6 7\\\\n2 1\\\\n105 255\\\\n', '3\\\\n1 20\\\\n2 4\\\\n103 713\\\\n', '3\\\\n1 4\\\\n4 6\\\\n105 238\\\\n', '3\\\\n1 4\\\\n5 6\\\\n105 238\\\\n', '3\\\\n1 3\\\\n2 4\\\\n165 713\\\\n', '3\\\\n1 3\\\\n2 7\\\\n165 713\\\\n', '3\\\\n1 2\\\\n2 6\\\\n105 433\\\\n', '3\\\\n0 2\\\\n2 6\\\\n105 433\\\\n', '3\\\\n0 2\\\\n2 6\\\\n105 443\\\\n', '3\\\\n0 2\\\\n2 6\\\\n105 583\\\\n', '3\\\\n0 2\\\\n2 7\\\\n105 583\\\\n', '3\\\\n0 2\\\\n2 12\\\\n105 583\\\\n', '3\\\\n0 2\\\\n2 12\\\\n23 583\\\\n', '3\\\\n1 2\\\\n2 12\\\\n23 583\\\\n', '3\\\\n1 2\\\\n2 12\\\\n23 476\\\\n', '3\\\\n1 2\\\\n3 12\\\\n23 476\\\\n', '3\\\\n1 2\\\\n3 12\\\\n15 476\\\\n', '3\\\\n1 2\\\\n3 12\\\\n15 714\\\\n', '3\\\\n1 2\\\\n3 12\\\\n15 657\\\\n', '3\\\\n1 2\\\\n3 8\\\\n15 657\\\\n', '3\\\\n1 2\\\\n3 8\\\\n15 224\\\\n', '3\\\\n1 3\\\\n3 8\\\\n15 224\\\\n', '3\\\\n1 3\\\\n1 8\\\\n15 224\\\\n', '3\\\\n1 3\\\\n1 8\\\\n15 250\\\\n', '3\\\\n3 4\\\\n2 17\\\\n105 564\\\\n', '3\\\\n3 4\\\\n2 6\\\\n88 564\\\\n', '3\\\\n1 4\\\\n3 6\\\\n105 564\\\\n', '3\\\\n0 4\\\\n2 6\\\\n105 549\\\\n', '3\\\\n0 8\\\\n1 6\\\\n105 564\\\\n', '3\\\\n1 5\\\\n0 6\\\\n105 564\\\\n', '3\\\\n1 7\\\\n0 6\\\\n16 564\\\\n', '3\\\\n1 7\\\\n0 6\\\\n109 984\\\\n', '3\\\\n1 10\\\\n0 10\\\\n137 984\\\\n', '3\\\\n6 4\\\\n2 12\\\\n151 564\\\\n', '3\\\\n3 4\\\\n2 1\\\\n89 564\\\\n', '3\\\\n1 4\\\\n2 6\\\\n105 290\\\\n', '3\\\\n0 4\\\\n2 6\\\\n39 1030\\\\n', '3\\\\n0 8\\\\n0 6\\\\n105 75\\\\n', '3\\\\n0 10\\\\n0 2\\\\n105 984\\\\n', '3\\\\n6 7\\\\n2 22\\\\n105 564\\\\n', '3\\\\n1 8\\\\n2 12\\\\n105 713\\\\n', '3\\\\n0 12\\\\n0 6\\\\n209 46\\\\n', '3\\\\n1 8\\\\n1 6\\\\n80 868\\\\n', '3\\\\n1 6\\\\n0 6\\\\n35 564\\\\n', '3\\\\n1 26\\\\n0 10\\\\n105 1003\\\\n', '3\\\\n6 7\\\\n2 17\\\\n105 276\\\\n', '3\\\\n3 3\\\\n4 1\\\\n110 564\\\\n', '3\\\\n0 8\\\\n2 16\\\\n103 713\\\\n', '3\\\\n1 8\\\\n1 6\\\\n201 238\\\\n', '3\\\\n2 18\\\\n1 2\\\\n105 984\\\\n', '3\\\\n2 26\\\\n1 10\\\\n105 984\\\\n', '3\\\\n6 7\\\\n4 20\\\\n105 276\\\\n', '3\\\\n1 15\\\\n2 12\\\\n103 713\\\\n', '3\\\\n1 8\\\\n2 4\\\\n105 238\\\\n', '3\\\\n6 7\\\\n0 6\\\\n105 276\\\\n', '3\\\\n1 6\\\\n2 6\\\\n105 176\\\\n', '3\\\\n1 10\\\\n2 12\\\\n50 713\\\\n', '3\\\\n1 4\\\\n2 6\\\\n60 238\\\\n', '3\\\\n6 7\\\\n2 6\\\\n9 255\\\\n', '3\\\\n1 7\\\\n2 6\\\\n93 274\\\\n', '3\\\\n1 20\\\\n2 12\\\\n132 713\\\\n', '3\\\\n2 4\\\\n3 6\\\\n105 238\\\\n', '3\\\\n1 20\\\\n2 1\\\\n103 713\\\\n', '3\\\\n1 7\\\\n4 6\\\\n105 238\\\\n', '3\\\\n6 7\\\\n3 1\\\\n105 389\\\\n', '3\\\\n1 3\\\\n2 4\\\\n103 863\\\\n', '3\\\\n1 3\\\\n2 4\\\\n165 330\\\\n', '3\\\\n2 3\\\\n2 7\\\\n165 713\\\\n', '3\\\\n1 2\\\\n2 6\\\\n192 238\\\\n', '3\\\\n1 2\\\\n2 6\\\\n7 433\\\\n', '3\\\\n0 2\\\\n2 6\\\\n134 433\\\\n', '3\\\\n1 2\\\\n2 6\\\\n105 583\\\\n', '3\\\\n1 2\\\\n2 7\\\\n105 583\\\\n', '3\\\\n0 2\\\\n2 12\\\\n105 433\\\\n', '3\\\\n1 2\\\\n2 12\\\\n39 583\\\\n', '3\\\\n1 2\\\\n4 12\\\\n23 476\\\\n', '3\\\\n2 2\\\\n3 12\\\\n23 476\\\\n', '3\\\\n1 2\\\\n4 12\\\\n15 476\\\\n', '3\\\\n1 2\\\\n3 12\\\\n15 156\\\\n', '3\\\\n1 2\\\\n3 16\\\\n15 657\\\\n', '3\\\\n1 2\\\\n5 8\\\\n15 657\\\\n', '3\\\\n1 3\\\\n3 8\\\\n15 216\\\\n', '3\\\\n1 3\\\\n2 8\\\\n15 224\\\\n', '3\\\\n1 1\\\\n1 8\\\\n15 250\\\\n', '3\\\\n3 4\\\\n2 17\\\\n105 515\\\\n', '3\\\\n3 2\\\\n2 6\\\\n88 564\\\\n', '3\\\\n1 4\\\\n3 6\\\\n27 564\\\\n', '3\\\\n0 4\\\\n3 6\\\\n105 549\\\\n', '3\\\\n0 8\\\\n1 6\\\\n110 564\\\\n', '3\\\\n0 2\\\\n0 6\\\\n105 68\\\\n', '3\\\\n1 5\\\\n0 6\\\\n105 1004\\\\n', '3\\\\n1 7\\\\n0 6\\\\n21 564\\\\n', '3\\\\n1 10\\\\n0 8\\\\n105 1410\\\\n', '3\\\\n6 4\\\\n2 12\\\\n244 564\\\\n', '3\\\\n3 2\\\\n2 1\\\\n89 564\\\\n', '3\\\\n1 4\\\\n2 6\\\\n105 385\\\\n', '3\\\\n0 8\\\\n3 8\\\\n105 713\\\\n', '3\\\\n0 18\\\\n1 10\\\\n105 984\\\\n', '3\\\\n6 4\\\\n2 22\\\\n105 564\\\\n', '3\\\\n3 4\\\\n3 1\\\\n110 923\\\\n', '3\\\\n1 2\\\\n6 6\\\\n105 571\\\\n', '3\\\\n1 8\\\\n2 15\\\\n105 713\\\\n', '3\\\\n1 8\\\\n1 6\\\\n80 798\\\\n', '3\\\\n0 18\\\\n0 2\\\\n136 984\\\\n', '3\\\\n1 26\\\\n1 10\\\\n105 1003\\\\n', '3\\\\n6 7\\\\n2 17\\\\n105 194\\\\n', '3\\\\n1 1\\\\n2 6\\\\n105 81\\\\n', '3\\\\n0 8\\\\n2 16\\\\n103 658\\\\n', '3\\\\n1 8\\\\n1 6\\\\n201 445\\\\n', '3\\\\n2 18\\\\n1 3\\\\n105 984\\\\n', '3\\\\n6 10\\\\n4 20\\\\n105 276\\\\n', '3\\\\n1 9\\\\n2 6\\\\n74 211\\\\n', '3\\\\n1 19\\\\n2 12\\\\n103 713\\\\n', '3\\\\n1 8\\\\n4 4\\\\n105 238\\\\n', '3\\\\n9 7\\\\n0 6\\\\n105 276\\\\n', '3\\\\n1 6\\\\n2 2\\\\n105 176\\\\n', '3\\\\n1 10\\\\n0 12\\\\n50 713\\\\n', '3\\\\n1 4\\\\n2 3\\\\n60 238\\\\n', '3\\\\n6 7\\\\n2 6\\\\n9 205\\\\n', '3\\\\n1 7\\\\n3 6\\\\n93 274\\\\n', '3\\\\n1 20\\\\n2 12\\\\n132 818\\\\n', '3\\\\n4 4\\\\n3 6\\\\n105 238\\\\n', '3\\\\n1 20\\\\n2 1\\\\n103 372\\\\n', '3\\\\n1 7\\\\n4 6\\\\n105 182\\\\n', '3\\\\n1 3\\\\n2 2\\\\n165 330\\\\n', '3\\\\n1 1\\\\n5 6\\\\n198 238\\\\n', '3\\\\n2 3\\\\n3 7\\\\n165 713\\\\n', '3\\\\n1 2\\\\n1 6\\\\n192 238\\\\n', '3\\\\n1 2\\\\n2 6\\\\n7 749\\\\n', '3\\\\n0 2\\\\n2 6\\\\n268 433\\\\n', '3\\\\n1 2\\\\n2 6\\\\n192 583\\\\n', '3\\\\n1 2\\\\n2 7\\\\n114 583\\\\n', '3\\\\n1 2\\\\n1 12\\\\n39 583\\\\n', '3\\\\n2 2\\\\n3 4\\\\n23 476\\\\n', '3\\\\n1 2\\\\n4 12\\\\n16 476\\\\n', '3\\\\n1 2\\\\n2 12\\\\n15 156\\\\n', '3\\\\n1 2\\\\n3 16\\\\n6 657\\\\n', '3\\\\n1 2\\\\n5 11\\\\n15 657\\\\n', '3\\\\n0 4\\\\n3 8\\\\n15 224\\\\n', '3\\\\n1 3\\\\n6 8\\\\n15 216\\\\n', '3\\\\n1 3\\\\n2 8\\\\n15 378\\\\n', '3\\\\n3 7\\\\n2 17\\\\n105 515\\\\n', '3\\\\n3 2\\\\n2 6\\\\n88 962\\\\n', '3\\\\n1 4\\\\n3 6\\\\n27 107\\\\n', '3\\\\n0 4\\\\n4 6\\\\n105 549\\\\n', '3\\\\n1 2\\\\n0 6\\\\n105 68\\\\n', '3\\\\n2 5\\\\n0 6\\\\n105 1004\\\\n', '3\\\\n4 4\\\\n2 12\\\\n244 564\\\\n', '3\\\\n1 4\\\\n2 4\\\\n105 385\\\\n', '3\\\\n0 2\\\\n0 6\\\\n39 1030\\\\n', '3\\\\n0 8\\\\n3 8\\\\n105 437\\\\n', '3\\\\n1 4\\\\n0 2\\\\n105 984\\\\n', '3\\\\n6 4\\\\n0 22\\\\n105 564\\\\n', '3\\\\n3 4\\\\n3 1\\\\n110 1290\\\\n', '3\\\\n1 2\\\\n10 6\\\\n105 571\\\\n', '3\\\\n1 14\\\\n2 15\\\\n105 713\\\\n', '3\\\\n1 26\\\\n1 10\\\\n129 1003\\\\n', '3\\\\n6 11\\\\n2 17\\\\n105 194\\\\n', '3\\\\n1 1\\\\n0 6\\\\n105 81\\\\n', '3\\\\n3 4\\\\n2 12\\\\n105 564\\\\n'], 'outputs': ['9\\\\n12\\\\n3595374\\\\n', '9\\\\n6\\\\n3595374\\\\n', '1\\\\n6\\\\n3595374\\\\n', '0\\\\n6\\\\n3595374\\\\n', '0\\\\n0\\\\n3595374\\\\n', '1\\\\n0\\\\n3595374\\\\n', '3\\\\n0\\\\n3595374\\\\n', '3\\\\n0\\\\n713307087\\\\n', '2\\\\n0\\\\n713307087\\\\n', '36\\\\n12\\\\n3595374\\\\n', '9\\\\n1\\\\n3595374\\\\n', '1\\\\n6\\\\n4742080\\\\n', '0\\\\n6\\\\n452236824\\\\n', '0\\\\n6\\\\n257287716\\\\n', '0\\\\n0\\\\n763984296\\\\n', '1\\\\n0\\\\n312144741\\\\n', '3\\\\n0\\\\n692143895\\\\n', '43\\\\n12\\\\n3595374\\\\n', '9\\\\n1\\\\n745888270\\\\n', '1\\\\n12\\\\n4742080\\\\n', '0\\\\n0\\\\n452236824\\\\n', '0\\\\n12\\\\n257287716\\\\n', '1\\\\n2\\\\n312144741\\\\n', '1\\\\n0\\\\n692143895\\\\n', '43\\\\n12\\\\n456030397\\\\n', '1\\\\n6\\\\n258462631\\\\n', '0\\\\n12\\\\n134894835\\\\n', '0\\\\n0\\\\n122719275\\\\n', '1\\\\n2\\\\n900896196\\\\n', '18\\\\n0\\\\n713307087\\\\n', '26\\\\n0\\\\n713307087\\\\n', '43\\\\n20\\\\n456030397\\\\n', '2\\\\n6\\\\n258462631\\\\n', '1\\\\n12\\\\n134894835\\\\n', '1\\\\n6\\\\n900896196\\\\n', '18\\\\n0\\\\n378849471\\\\n', '43\\\\n6\\\\n456030397\\\\n', '2\\\\n6\\\\n456019477\\\\n', '2\\\\n12\\\\n134894835\\\\n', '43\\\\n6\\\\n22446815\\\\n', '3\\\\n6\\\\n456019477\\\\n', '1\\\\n12\\\\n900896196\\\\n', '43\\\\n1\\\\n22446815\\\\n', '2\\\\n4\\\\n134894835\\\\n', '1\\\\n20\\\\n900896196\\\\n', '1\\\\n30\\\\n900896196\\\\n', '2\\\\n4\\\\n58081920\\\\n', '2\\\\n7\\\\n58081920\\\\n', '1\\\\n6\\\\n260115562\\\\n', '0\\\\n6\\\\n260115562\\\\n', '0\\\\n6\\\\n261273292\\\\n', '0\\\\n6\\\\n214860566\\\\n', '0\\\\n7\\\\n214860566\\\\n', '0\\\\n12\\\\n214860566\\\\n', '0\\\\n12\\\\n300685298\\\\n', '1\\\\n12\\\\n300685298\\\\n', '1\\\\n12\\\\n864138587\\\\n', '1\\\\n36\\\\n864138587\\\\n', '1\\\\n36\\\\n745194836\\\\n', '1\\\\n36\\\\n625612499\\\\n', '1\\\\n36\\\\n614269110\\\\n', '1\\\\n27\\\\n614269110\\\\n', '1\\\\n27\\\\n183009375\\\\n', '2\\\\n27\\\\n183009375\\\\n', '2\\\\n1\\\\n183009375\\\\n', '2\\\\n1\\\\n183063390\\\\n', '9\\\\n17\\\\n3595374\\\\n', '9\\\\n6\\\\n950813808\\\\n', '1\\\\n12\\\\n3595374\\\\n', '0\\\\n6\\\\n882044757\\\\n', '0\\\\n2\\\\n3595374\\\\n', '2\\\\n0\\\\n3595374\\\\n', '3\\\\n0\\\\n720590628\\\\n', '3\\\\n0\\\\n669833413\\\\n', '2\\\\n0\\\\n172328490\\\\n', '36\\\\n12\\\\n532389654\\\\n', '9\\\\n1\\\\n901799978\\\\n', '1\\\\n6\\\\n97284386\\\\n', '0\\\\n6\\\\n28210319\\\\n', '0\\\\n0\\\\n96788976\\\\n', '0\\\\n0\\\\n713307087\\\\n', '43\\\\n22\\\\n3595374\\\\n', '1\\\\n12\\\\n257287716\\\\n', '0\\\\n0\\\\n787390482\\\\n', '1\\\\n2\\\\n69536402\\\\n', '2\\\\n0\\\\n692143895\\\\n', '3\\\\n0\\\\n354572102\\\\n', '43\\\\n17\\\\n456030397\\\\n', '4\\\\n1\\\\n745888270\\\\n', '0\\\\n16\\\\n134894835\\\\n', '1\\\\n2\\\\n436757470\\\\n', '18\\\\n1\\\\n713307087\\\\n', '26\\\\n2\\\\n713307087\\\\n', '43\\\\n272\\\\n456030397\\\\n', '4\\\\n12\\\\n134894835\\\\n', '1\\\\n4\\\\n900896196\\\\n', '43\\\\n0\\\\n456030397\\\\n', '2\\\\n6\\\\n925646821\\\\n', '2\\\\n12\\\\n861447554\\\\n', '1\\\\n6\\\\n793799738\\\\n', '43\\\\n6\\\\n5380840\\\\n', '3\\\\n6\\\\n132284969\\\\n', '2\\\\n12\\\\n320033969\\\\n', '4\\\\n12\\\\n900896196\\\\n', '2\\\\n1\\\\n134894835\\\\n', '3\\\\n20\\\\n900896196\\\\n', '43\\\\n1\\\\n375760428\\\\n', '2\\\\n4\\\\n586977111\\\\n', '2\\\\n4\\\\n846108753\\\\n', '3\\\\n7\\\\n58081920\\\\n', '1\\\\n6\\\\n77020973\\\\n', '1\\\\n6\\\\n6607553\\\\n', '0\\\\n6\\\\n333298828\\\\n', '1\\\\n6\\\\n214860566\\\\n', '1\\\\n7\\\\n214860566\\\\n', '0\\\\n12\\\\n260115562\\\\n', '1\\\\n12\\\\n878442964\\\\n', '1\\\\n80\\\\n864138587\\\\n', '2\\\\n36\\\\n864138587\\\\n', '1\\\\n80\\\\n745194836\\\\n', '1\\\\n36\\\\n170913600\\\\n', '1\\\\n81\\\\n614269110\\\\n', '1\\\\n125\\\\n614269110\\\\n', '2\\\\n27\\\\n182304000\\\\n', '2\\\\n8\\\\n183009375\\\\n', '1\\\\n1\\\\n183063390\\\\n', '9\\\\n17\\\\n119218296\\\\n', '3\\\\n6\\\\n950813808\\\\n', '1\\\\n12\\\\n612312689\\\\n', '0\\\\n12\\\\n882044757\\\\n', '0\\\\n2\\\\n745888270\\\\n', '0\\\\n0\\\\n95642270\\\\n', '2\\\\n0\\\\n354583021\\\\n', '3\\\\n0\\\\n284320046\\\\n', '2\\\\n0\\\\n893659373\\\\n', '36\\\\n12\\\\n472775977\\\\n', '3\\\\n1\\\\n901799978\\\\n', '1\\\\n6\\\\n375749403\\\\n', '0\\\\n27\\\\n257287716\\\\n', '0\\\\n2\\\\n713307087\\\\n', '36\\\\n22\\\\n3595374\\\\n', '9\\\\n1\\\\n300692073\\\\n', '1\\\\n42\\\\n4742080\\\\n', '1\\\\n15\\\\n257287716\\\\n', '1\\\\n2\\\\n690210344\\\\n', '0\\\\n0\\\\n313996483\\\\n', '3\\\\n2\\\\n354572102\\\\n', '43\\\\n17\\\\n136912005\\\\n', '1\\\\n6\\\\n217181871\\\\n', '0\\\\n16\\\\n194064920\\\\n', '1\\\\n2\\\\n708509974\\\\n', '18\\\\n2\\\\n713307087\\\\n', '222\\\\n272\\\\n456030397\\\\n', '2\\\\n6\\\\n516663646\\\\n', '3\\\\n12\\\\n134894835\\\\n', '1\\\\n16\\\\n900896196\\\\n', '91\\\\n0\\\\n456030397\\\\n', '2\\\\n2\\\\n925646821\\\\n', '2\\\\n0\\\\n861447554\\\\n', '1\\\\n3\\\\n793799738\\\\n', '43\\\\n6\\\\n5315221\\\\n', '3\\\\n12\\\\n132284969\\\\n', '2\\\\n12\\\\n838210136\\\\n', '16\\\\n12\\\\n900896196\\\\n', '2\\\\n1\\\\n482792581\\\\n', '3\\\\n20\\\\n925657951\\\\n', '2\\\\n2\\\\n846108753\\\\n', '1\\\\n30\\\\n423451933\\\\n', '3\\\\n13\\\\n58081920\\\\n', '1\\\\n2\\\\n77020973\\\\n', '1\\\\n6\\\\n41311999\\\\n', '0\\\\n6\\\\n974641\\\\n', '1\\\\n6\\\\n590294341\\\\n', '1\\\\n7\\\\n365619380\\\\n', '1\\\\n2\\\\n878442964\\\\n', '2\\\\n9\\\\n864138587\\\\n', '1\\\\n80\\\\n580249828\\\\n', '1\\\\n12\\\\n170913600\\\\n', '1\\\\n81\\\\n10358929\\\\n', '1\\\\n131\\\\n614269110\\\\n', '0\\\\n27\\\\n183009375\\\\n', '2\\\\n216\\\\n182304000\\\\n', '2\\\\n8\\\\n575094626\\\\n', '13\\\\n17\\\\n119218296\\\\n', '3\\\\n6\\\\n799832816\\\\n', '1\\\\n12\\\\n401789107\\\\n', '0\\\\n20\\\\n882044757\\\\n', '1\\\\n0\\\\n95642270\\\\n', '5\\\\n0\\\\n354583021\\\\n', '16\\\\n12\\\\n472775977\\\\n', '1\\\\n4\\\\n375749403\\\\n', '0\\\\n0\\\\n28210319\\\\n', '0\\\\n27\\\\n260126587\\\\n', '1\\\\n0\\\\n713307087\\\\n', '36\\\\n0\\\\n3595374\\\\n', '9\\\\n1\\\\n331570536\\\\n', '1\\\\n110\\\\n4742080\\\\n', '3\\\\n15\\\\n257287716\\\\n', '3\\\\n2\\\\n286863200\\\\n', '223\\\\n17\\\\n136912005\\\\n', '1\\\\n0\\\\n217181871\\\\n', '9\\\\n12\\\\n3595374\\\\n']}\\n**Difficulty: EASY**\\n\\n**Raw Tags: ['bitmasks', 'math']**\\n\\n**Tags: ['Bit manipulation', 'Mathematics']**\\n\\n**Skill Types: ['Bit manipulation']**\\n\\n**Expected Auxiliary Space: No expected aurxiliary space or auxiliary space limit.**\\n\\n**Time Limit: 2 seconds**\\n\\n**Memory Limit: 256 megabytes**\\n\\n**Expected Time Complexity: No expected time complexity or time complexity limit.**\\n\"]"
      ]
     },
     "execution_count": 146,
     "metadata": {},
     "output_type": "execute_result"
    }
   ],
   "source": [
    "from typing import List\n",
    "\n",
    "prompts: List[str] = []\n",
    "\n",
    "for i, val in enumerate(pc_df.values):\n",
    "  prompts.append(\n",
    "    'Below is provided a **competitive programming** problem set.\\n' \\\n",
    "    'Please solve the problem set with:\\n' \\\n",
    "    '1. No pre-assumptions (every assumption has to be structured in comments, whether it is inline or in a block).\\n' \\\n",
    "    '2. **Solve using C++.**' \\\n",
    "    '3. Keeping in mind that the solution can actually reproduce the correct inputs and outputs as will be provided.\\n' \\\n",
    "    '4. Only provide solution as the answer without any alternatives **(pick the best of all possibilities with best practices and performance)**.' \\\n",
    "    '5. **All explanation MUST be inside of the code itself in the forms of comments.**' \\\n",
    "    '\\n' \\\n",
    "    '**Question**\\n' \\\n",
    "    f'{val[0]}\\n' \\\n",
    "    '\\n' \\\n",
    "    '**Input and Output**\\n' \\\n",
    "    f'{val[1]}' \\\n",
    "    '\\n' \\\n",
    "    f'**Difficulty: {val[2]}**\\n' \\\n",
    "    '\\n' \\\n",
    "    f'**Raw Tags: {val[3]}**\\n' \\\n",
    "    '\\n' \\\n",
    "    f'**Tags: {val[4]}**\\n' \\\n",
    "    '\\n' \\\n",
    "    f'**Skill Types: {val[5]}**\\n' \\\n",
    "    '\\n' \\\n",
    "    f'**Expected Auxiliary Space: {val[6] if val[6] else \"No expected aurxiliary space or auxiliary space limit.\"}**\\n' \\\n",
    "    '\\n' \\\n",
    "    f'**Time Limit: {val[7] if val[7] else \"No time limit.\"}**\\n' \\\n",
    "    '\\n' \\\n",
    "    f'**Memory Limit: {val[8] if val[8] else \"No memory limit\"}**\\n' \\\n",
    "    '\\n' \\\n",
    "    f'**Expected Time Complexity: {val[9] if val[9] else \"No expected time complexity or time complexity limit.\"}**\\n' \\\n",
    "  )\n",
    "\n",
    "prompts[:5]"
   ]
  },
  {
   "cell_type": "code",
   "execution_count": 147,
   "id": "1f7d00f8",
   "metadata": {},
   "outputs": [],
   "source": [
    "final_df = pc_df.copy()\n",
    "final_df['prompts'] = pd.Series(prompts)"
   ]
  },
  {
   "cell_type": "code",
   "execution_count": 148,
   "id": "34f1b766",
   "metadata": {},
   "outputs": [
    {
     "data": {
      "text/html": [
       "<div>\n",
       "<style scoped>\n",
       "    .dataframe tbody tr th:only-of-type {\n",
       "        vertical-align: middle;\n",
       "    }\n",
       "\n",
       "    .dataframe tbody tr th {\n",
       "        vertical-align: top;\n",
       "    }\n",
       "\n",
       "    .dataframe thead th {\n",
       "        text-align: right;\n",
       "    }\n",
       "</style>\n",
       "<table border=\"1\" class=\"dataframe\">\n",
       "  <thead>\n",
       "    <tr style=\"text-align: right;\">\n",
       "      <th></th>\n",
       "      <th>question</th>\n",
       "      <th>input_output</th>\n",
       "      <th>difficulty</th>\n",
       "      <th>raw_tags</th>\n",
       "      <th>tags</th>\n",
       "      <th>skill_types</th>\n",
       "      <th>Expected Auxiliary Space</th>\n",
       "      <th>time_limit</th>\n",
       "      <th>memory_limit</th>\n",
       "      <th>Expected Time Complexity</th>\n",
       "      <th>prompts</th>\n",
       "    </tr>\n",
       "  </thead>\n",
       "  <tbody>\n",
       "    <tr>\n",
       "      <th>0</th>\n",
       "      <td>You get an array of different numbers to sum u...</td>\n",
       "      <td>{'fn_name': 'sum_it_up', 'inputs': [[[['101', ...</td>\n",
       "      <td>EASY</td>\n",
       "      <td>[Arrays, Fundamentals, Binary, Lists]</td>\n",
       "      <td>[Bit manipulation, Data structures, Fundamentals]</td>\n",
       "      <td>[Bit manipulation, Data structures]</td>\n",
       "      <td>None</td>\n",
       "      <td>None</td>\n",
       "      <td>None</td>\n",
       "      <td>None</td>\n",
       "      <td>Below is provided a **competitive programming*...</td>\n",
       "    </tr>\n",
       "    <tr>\n",
       "      <th>1</th>\n",
       "      <td>In this kata you're expected to sort an array ...</td>\n",
       "      <td>{'fn_name': 'sort_by_bit', 'inputs': [[[3, 8, ...</td>\n",
       "      <td>EASY</td>\n",
       "      <td>[Algorithms, Fundamentals, Bits, Sorting, Logi...</td>\n",
       "      <td>[Bit manipulation, Sorting, Data structures, F...</td>\n",
       "      <td>[Bit manipulation, Sorting, Data structures]</td>\n",
       "      <td>None</td>\n",
       "      <td>None</td>\n",
       "      <td>None</td>\n",
       "      <td>None</td>\n",
       "      <td>Below is provided a **competitive programming*...</td>\n",
       "    </tr>\n",
       "    <tr>\n",
       "      <th>2</th>\n",
       "      <td>Implement `String.eight_bit_signed_number?` (R...</td>\n",
       "      <td>{'fn_name': 'signed_eight_bit_number', 'inputs...</td>\n",
       "      <td>EASY</td>\n",
       "      <td>[Regular Expressions, Fundamentals, Bits, Binary]</td>\n",
       "      <td>[Bit manipulation, Fundamentals]</td>\n",
       "      <td>[Bit manipulation]</td>\n",
       "      <td>None</td>\n",
       "      <td>None</td>\n",
       "      <td>None</td>\n",
       "      <td>None</td>\n",
       "      <td>Below is provided a **competitive programming*...</td>\n",
       "    </tr>\n",
       "    <tr>\n",
       "      <th>3</th>\n",
       "      <td>Given two integers, $\\boldsymbol{l}$ and $\\tex...</td>\n",
       "      <td>{'inputs': ['10\n",
       "15\n",
       "', '11\n",
       "100\n",
       "'], 'outputs': [...</td>\n",
       "      <td>EASY</td>\n",
       "      <td>[Algorithms - Bit Manipulation]</td>\n",
       "      <td>[Bit manipulation]</td>\n",
       "      <td>[Bit manipulation]</td>\n",
       "      <td>None</td>\n",
       "      <td>None</td>\n",
       "      <td>None</td>\n",
       "      <td>None</td>\n",
       "      <td>Below is provided a **competitive programming*...</td>\n",
       "    </tr>\n",
       "    <tr>\n",
       "      <th>4</th>\n",
       "      <td>Theofanis really likes sequences of positive i...</td>\n",
       "      <td>{'inputs': ['3\n",
       "3 4\n",
       "2 12\n",
       "105 564\n",
       "', '3\n",
       "3 4\n",
       "2 6\n",
       "...</td>\n",
       "      <td>EASY</td>\n",
       "      <td>[bitmasks, math]</td>\n",
       "      <td>[Bit manipulation, Mathematics]</td>\n",
       "      <td>[Bit manipulation]</td>\n",
       "      <td>None</td>\n",
       "      <td>2 seconds</td>\n",
       "      <td>256 megabytes</td>\n",
       "      <td>None</td>\n",
       "      <td>Below is provided a **competitive programming*...</td>\n",
       "    </tr>\n",
       "  </tbody>\n",
       "</table>\n",
       "</div>"
      ],
      "text/plain": [
       "                                            question  \\\n",
       "0  You get an array of different numbers to sum u...   \n",
       "1  In this kata you're expected to sort an array ...   \n",
       "2  Implement `String.eight_bit_signed_number?` (R...   \n",
       "3  Given two integers, $\\boldsymbol{l}$ and $\\tex...   \n",
       "4  Theofanis really likes sequences of positive i...   \n",
       "\n",
       "                                        input_output difficulty  \\\n",
       "0  {'fn_name': 'sum_it_up', 'inputs': [[[['101', ...       EASY   \n",
       "1  {'fn_name': 'sort_by_bit', 'inputs': [[[3, 8, ...       EASY   \n",
       "2  {'fn_name': 'signed_eight_bit_number', 'inputs...       EASY   \n",
       "3  {'inputs': ['10\n",
       "15\n",
       "', '11\n",
       "100\n",
       "'], 'outputs': [...       EASY   \n",
       "4  {'inputs': ['3\n",
       "3 4\n",
       "2 12\n",
       "105 564\n",
       "', '3\n",
       "3 4\n",
       "2 6\n",
       "...       EASY   \n",
       "\n",
       "                                            raw_tags  \\\n",
       "0              [Arrays, Fundamentals, Binary, Lists]   \n",
       "1  [Algorithms, Fundamentals, Bits, Sorting, Logi...   \n",
       "2  [Regular Expressions, Fundamentals, Bits, Binary]   \n",
       "3                    [Algorithms - Bit Manipulation]   \n",
       "4                                   [bitmasks, math]   \n",
       "\n",
       "                                                tags  \\\n",
       "0  [Bit manipulation, Data structures, Fundamentals]   \n",
       "1  [Bit manipulation, Sorting, Data structures, F...   \n",
       "2                   [Bit manipulation, Fundamentals]   \n",
       "3                                 [Bit manipulation]   \n",
       "4                    [Bit manipulation, Mathematics]   \n",
       "\n",
       "                                    skill_types Expected Auxiliary Space  \\\n",
       "0           [Bit manipulation, Data structures]                     None   \n",
       "1  [Bit manipulation, Sorting, Data structures]                     None   \n",
       "2                            [Bit manipulation]                     None   \n",
       "3                            [Bit manipulation]                     None   \n",
       "4                            [Bit manipulation]                     None   \n",
       "\n",
       "  time_limit   memory_limit Expected Time Complexity  \\\n",
       "0       None           None                     None   \n",
       "1       None           None                     None   \n",
       "2       None           None                     None   \n",
       "3       None           None                     None   \n",
       "4  2 seconds  256 megabytes                     None   \n",
       "\n",
       "                                             prompts  \n",
       "0  Below is provided a **competitive programming*...  \n",
       "1  Below is provided a **competitive programming*...  \n",
       "2  Below is provided a **competitive programming*...  \n",
       "3  Below is provided a **competitive programming*...  \n",
       "4  Below is provided a **competitive programming*...  "
      ]
     },
     "execution_count": 148,
     "metadata": {},
     "output_type": "execute_result"
    }
   ],
   "source": [
    "final_df.head()"
   ]
  },
  {
   "cell_type": "code",
   "execution_count": 149,
   "id": "88023f8f",
   "metadata": {},
   "outputs": [],
   "source": [
    "final_df.to_csv(f'{INPUT_PATH}/input.csv')"
   ]
  }
 ],
 "metadata": {
  "kernelspec": {
   "display_name": "research",
   "language": "python",
   "name": "python3"
  },
  "language_info": {
   "codemirror_mode": {
    "name": "ipython",
    "version": 3
   },
   "file_extension": ".py",
   "mimetype": "text/x-python",
   "name": "python",
   "nbconvert_exporter": "python",
   "pygments_lexer": "ipython3",
   "version": "3.11.11"
  }
 },
 "nbformat": 4,
 "nbformat_minor": 5
}
