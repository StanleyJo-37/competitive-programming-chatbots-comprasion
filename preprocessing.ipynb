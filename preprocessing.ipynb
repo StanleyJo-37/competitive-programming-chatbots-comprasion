{
 "cells": [
  {
   "cell_type": "markdown",
   "id": "aac712a7",
   "metadata": {},
   "source": [
    "# Library Import\n"
   ]
  },
  {
   "cell_type": "code",
   "execution_count": 113,
   "id": "60aee81e",
   "metadata": {},
   "outputs": [],
   "source": [
    "import huggingface_hub as hf # For downloading data from Hugging Face\n",
    "import pandas as pd # For reading and importing data files into DataFrames used to represent the data\n"
   ]
  },
  {
   "cell_type": "code",
   "execution_count": 114,
   "id": "0e2e37f0",
   "metadata": {},
   "outputs": [],
   "source": [
    "import sys\n",
    "\n",
    "sys.set_int_max_str_digits(100000)"
   ]
  },
  {
   "cell_type": "markdown",
   "id": "00292b82",
   "metadata": {},
   "source": [
    "# Data Import\n"
   ]
  },
  {
   "cell_type": "code",
   "execution_count": 115,
   "id": "b7187254",
   "metadata": {},
   "outputs": [],
   "source": [
    "# TACO Dataset\n",
    "# Test Files\n",
    "test_filenames = [\n",
    "  'ALL/test-00000-of-00001.parquet',\n",
    "] \n",
    "\n",
    "# Train Files\n",
    "train_filenames = [\n",
    "  'ALL/train-00001-of-00009.parquet',\n",
    "  'ALL/train-00002-of-00009.parquet',\n",
    "  'ALL/train-00003-of-00009.parquet',\n",
    "  'ALL/train-00004-of-00009.parquet',\n",
    "  'ALL/train-00005-of-00009.parquet',\n",
    "  'ALL/train-00006-of-00009.parquet',\n",
    "  'ALL/train-00007-of-00009.parquet',\n",
    "  'ALL/train-00008-of-00009.parquet',\n",
    "]"
   ]
  },
  {
   "cell_type": "code",
   "execution_count": 116,
   "id": "01e2ae46",
   "metadata": {},
   "outputs": [
    {
     "name": "stderr",
     "output_type": "stream",
     "text": [
      "c:\\Users\\jason\\anaconda3\\envs\\research\\Lib\\site-packages\\tqdm\\auto.py:21: TqdmWarning: IProgress not found. Please update jupyter and ipywidgets. See https://ipywidgets.readthedocs.io/en/stable/user_install.html\n",
      "  from .autonotebook import tqdm as notebook_tqdm\n",
      "c:\\Users\\jason\\anaconda3\\envs\\research\\Lib\\site-packages\\huggingface_hub\\file_download.py:142: UserWarning: `huggingface_hub` cache-system uses symlinks by default to efficiently store duplicated files but your machine does not support them in C:\\Users\\jason\\.cache\\huggingface\\hub\\datasets--BAAI--TACO. Caching files will still work but in a degraded version that might require more space on your disk. This warning can be disabled by setting the `HF_HUB_DISABLE_SYMLINKS_WARNING` environment variable. For more details, see https://huggingface.co/docs/huggingface_hub/how-to-cache#limitations.\n",
      "To support symlinks on Windows, you either need to activate Developer Mode or to run Python as an administrator. In order to activate developer mode, see this article: https://docs.microsoft.com/en-us/windows/apps/get-started/enable-your-device-for-development\n",
      "  warnings.warn(message)\n"
     ]
    }
   ],
   "source": [
    "train_df = pd.DataFrame([])\n",
    "test_df = pd.DataFrame([])\n",
    "\n",
    "for filename in train_filenames: # iterate over train_filenames\n",
    "  path = hf.hf_hub_download( # download dataset\n",
    "    repo_id='BAAI/TACO', # repo id that contains the files\n",
    "    repo_type='dataset', # the type should be dataset as the download involves data files\n",
    "    filename=filename, # the specific filename to be downloaded\n",
    "  )\n",
    "\n",
    "  if train_df.empty: # if train_df is still empty\n",
    "    train_df = pd.read_parquet(path=path) # create a new DataFrame with data instead\n",
    "  else: # if train_df is not empty\n",
    "    train_df = pd.concat([train_df, pd.read_parquet(path)], axis=0) # concat the new data along axis=0 so not to create new columns,\n",
    "                                                                    # instead concat the data as rows\n",
    "\n",
    "for filename in test_filenames: # iterate over test_filenames\n",
    "  path = hf.hf_hub_download( # download dataset\n",
    "    repo_id='BAAI/TACO', # repo id that contains the files\n",
    "    repo_type='dataset', # the type should be dataset as the download involves data files\n",
    "    filename=filename, # the specific filename to be downloaded\n",
    "  )\n",
    "\n",
    "  if test_df.empty: # if test_df is still empty\n",
    "    test_df = pd.read_parquet(path=path) # create a new DataFrame with data instead\n",
    "  else: # if test_df is not empty\n",
    "    test_df = pd.concat([test_df, pd.read_parquet(path)], axis=0) # concat the new data along axis=0 so not to create new columns,\n",
    "                                                                    # instead concat the data as rows"
   ]
  },
  {
   "cell_type": "markdown",
   "id": "d3c26cb5",
   "metadata": {},
   "source": [
    "# Initial Inspection\n"
   ]
  },
  {
   "cell_type": "markdown",
   "id": "fbd2d37e",
   "metadata": {},
   "source": [
    "train_df and test_df are going to be combined as the project does not involve model testing. This means that there is no need to split the data into training set and testing set. It is more favorable to use all problem sets at once to cover more possibilities and variations.\n"
   ]
  },
  {
   "cell_type": "code",
   "execution_count": 117,
   "id": "aaedd94b",
   "metadata": {},
   "outputs": [],
   "source": [
    "full_df = pd.concat([train_df, test_df], axis=0) # create a concatenated train_df and test_df"
   ]
  },
  {
   "cell_type": "code",
   "execution_count": 118,
   "id": "a0a26b4d",
   "metadata": {},
   "outputs": [
    {
     "data": {
      "text/html": [
       "<div>\n",
       "<style scoped>\n",
       "    .dataframe tbody tr th:only-of-type {\n",
       "        vertical-align: middle;\n",
       "    }\n",
       "\n",
       "    .dataframe tbody tr th {\n",
       "        vertical-align: top;\n",
       "    }\n",
       "\n",
       "    .dataframe thead th {\n",
       "        text-align: right;\n",
       "    }\n",
       "</style>\n",
       "<table border=\"1\" class=\"dataframe\">\n",
       "  <thead>\n",
       "    <tr style=\"text-align: right;\">\n",
       "      <th></th>\n",
       "      <th>question</th>\n",
       "      <th>solutions</th>\n",
       "      <th>starter_code</th>\n",
       "      <th>input_output</th>\n",
       "      <th>difficulty</th>\n",
       "      <th>raw_tags</th>\n",
       "      <th>name</th>\n",
       "      <th>source</th>\n",
       "      <th>tags</th>\n",
       "      <th>skill_types</th>\n",
       "      <th>url</th>\n",
       "      <th>Expected Auxiliary Space</th>\n",
       "      <th>time_limit</th>\n",
       "      <th>date</th>\n",
       "      <th>picture_num</th>\n",
       "      <th>memory_limit</th>\n",
       "      <th>Expected Time Complexity</th>\n",
       "    </tr>\n",
       "  </thead>\n",
       "  <tbody>\n",
       "    <tr>\n",
       "      <th>0</th>\n",
       "      <td>For every string given as input, you need to t...</td>\n",
       "      <td>[]</td>\n",
       "      <td></td>\n",
       "      <td>{\"inputs\": [\"1\\naab\", \"3\\naab\\ndddd\\nthisisapa...</td>\n",
       "      <td>UNKNOWN_DIFFICULTY</td>\n",
       "      <td>[]</td>\n",
       "      <td>subpalindrome-4</td>\n",
       "      <td>hackerearth</td>\n",
       "      <td>[]</td>\n",
       "      <td>[]</td>\n",
       "      <td>None</td>\n",
       "      <td>None</td>\n",
       "      <td>None</td>\n",
       "      <td>None</td>\n",
       "      <td>None</td>\n",
       "      <td>None</td>\n",
       "      <td>None</td>\n",
       "    </tr>\n",
       "    <tr>\n",
       "      <th>1</th>\n",
       "      <td>A scientist discovered a strange variation of ...</td>\n",
       "      <td>[]</td>\n",
       "      <td></td>\n",
       "      <td>{\"inputs\": [\"3\\n0\\n7\\n15\\n655\\n2711\\n6395\\n719...</td>\n",
       "      <td>UNKNOWN_DIFFICULTY</td>\n",
       "      <td>[]</td>\n",
       "      <td>None</td>\n",
       "      <td>aizu</td>\n",
       "      <td>[]</td>\n",
       "      <td>[]</td>\n",
       "      <td>None</td>\n",
       "      <td>None</td>\n",
       "      <td>8.0 seconds</td>\n",
       "      <td>None</td>\n",
       "      <td>None</td>\n",
       "      <td>134.217728 megabytes</td>\n",
       "      <td>None</td>\n",
       "    </tr>\n",
       "    <tr>\n",
       "      <th>2</th>\n",
       "      <td>Two integers A and B are the inputs. Write a p...</td>\n",
       "      <td>[\"def GCD(x, y):\\n\\twhile y:\\n\\t\\t(x, y) = (y,...</td>\n",
       "      <td></td>\n",
       "      <td>{\"inputs\": [[\"3\", \"120 140\", \"10213 312\", \"10 ...</td>\n",
       "      <td>EASY</td>\n",
       "      <td>['LCM', 'Mathematics', 'Algorithms', 'Number T...</td>\n",
       "      <td>None</td>\n",
       "      <td>codechef</td>\n",
       "      <td>['Mathematics', 'Number theory', 'Implementati...</td>\n",
       "      <td>[]</td>\n",
       "      <td>https://www.codechef.com/problems/FLOW016</td>\n",
       "      <td>None</td>\n",
       "      <td>1 seconds</td>\n",
       "      <td>2015-04-27</td>\n",
       "      <td>0</td>\n",
       "      <td>50000 bytes</td>\n",
       "      <td>None</td>\n",
       "    </tr>\n",
       "    <tr>\n",
       "      <th>3</th>\n",
       "      <td>Limak is a grizzly bear who desires power and ...</td>\n",
       "      <td>[\"n = int(input())\\nv = list(map(int, input()....</td>\n",
       "      <td></td>\n",
       "      <td>{\"inputs\": [\"5\\n5 1 11 2 8\\n\", \"4\\n1 8 8 8\\n\",...</td>\n",
       "      <td>EASY</td>\n",
       "      <td>['greedy', 'implementation']</td>\n",
       "      <td>None</td>\n",
       "      <td>codeforces</td>\n",
       "      <td>['Implementation', 'Greedy algorithms']</td>\n",
       "      <td>['Greedy algorithms']</td>\n",
       "      <td>https://codeforces.com/problemset/problem/574/A</td>\n",
       "      <td>None</td>\n",
       "      <td>None</td>\n",
       "      <td>2019-12-31</td>\n",
       "      <td>None</td>\n",
       "      <td>None</td>\n",
       "      <td>None</td>\n",
       "    </tr>\n",
       "    <tr>\n",
       "      <th>4</th>\n",
       "      <td>problem\\n\\nJOI took six subjects: physics, che...</td>\n",
       "      <td>[\"lst = []\\nfor i in range(6):\\n\\tn = int(inpu...</td>\n",
       "      <td></td>\n",
       "      <td>{\"inputs\": [\"100\\n34\\n76\\n67\\n10\\n0\", \"100\\n34...</td>\n",
       "      <td>UNKNOWN_DIFFICULTY</td>\n",
       "      <td>[]</td>\n",
       "      <td>None</td>\n",
       "      <td>aizu</td>\n",
       "      <td>[]</td>\n",
       "      <td>[]</td>\n",
       "      <td>None</td>\n",
       "      <td>None</td>\n",
       "      <td>8.0 seconds</td>\n",
       "      <td>None</td>\n",
       "      <td>None</td>\n",
       "      <td>268.435456 megabytes</td>\n",
       "      <td>None</td>\n",
       "    </tr>\n",
       "  </tbody>\n",
       "</table>\n",
       "</div>"
      ],
      "text/plain": [
       "                                            question  \\\n",
       "0  For every string given as input, you need to t...   \n",
       "1  A scientist discovered a strange variation of ...   \n",
       "2  Two integers A and B are the inputs. Write a p...   \n",
       "3  Limak is a grizzly bear who desires power and ...   \n",
       "4  problem\\n\\nJOI took six subjects: physics, che...   \n",
       "\n",
       "                                           solutions starter_code  \\\n",
       "0                                                 []                \n",
       "1                                                 []                \n",
       "2  [\"def GCD(x, y):\\n\\twhile y:\\n\\t\\t(x, y) = (y,...                \n",
       "3  [\"n = int(input())\\nv = list(map(int, input()....                \n",
       "4  [\"lst = []\\nfor i in range(6):\\n\\tn = int(inpu...                \n",
       "\n",
       "                                        input_output          difficulty  \\\n",
       "0  {\"inputs\": [\"1\\naab\", \"3\\naab\\ndddd\\nthisisapa...  UNKNOWN_DIFFICULTY   \n",
       "1  {\"inputs\": [\"3\\n0\\n7\\n15\\n655\\n2711\\n6395\\n719...  UNKNOWN_DIFFICULTY   \n",
       "2  {\"inputs\": [[\"3\", \"120 140\", \"10213 312\", \"10 ...                EASY   \n",
       "3  {\"inputs\": [\"5\\n5 1 11 2 8\\n\", \"4\\n1 8 8 8\\n\",...                EASY   \n",
       "4  {\"inputs\": [\"100\\n34\\n76\\n67\\n10\\n0\", \"100\\n34...  UNKNOWN_DIFFICULTY   \n",
       "\n",
       "                                            raw_tags             name  \\\n",
       "0                                                 []  subpalindrome-4   \n",
       "1                                                 []             None   \n",
       "2  ['LCM', 'Mathematics', 'Algorithms', 'Number T...             None   \n",
       "3                       ['greedy', 'implementation']             None   \n",
       "4                                                 []             None   \n",
       "\n",
       "        source                                               tags  \\\n",
       "0  hackerearth                                                 []   \n",
       "1         aizu                                                 []   \n",
       "2     codechef  ['Mathematics', 'Number theory', 'Implementati...   \n",
       "3   codeforces            ['Implementation', 'Greedy algorithms']   \n",
       "4         aizu                                                 []   \n",
       "\n",
       "             skill_types                                              url  \\\n",
       "0                     []                                             None   \n",
       "1                     []                                             None   \n",
       "2                     []        https://www.codechef.com/problems/FLOW016   \n",
       "3  ['Greedy algorithms']  https://codeforces.com/problemset/problem/574/A   \n",
       "4                     []                                             None   \n",
       "\n",
       "  Expected Auxiliary Space   time_limit        date picture_num  \\\n",
       "0                     None         None        None        None   \n",
       "1                     None  8.0 seconds        None        None   \n",
       "2                     None    1 seconds  2015-04-27           0   \n",
       "3                     None         None  2019-12-31        None   \n",
       "4                     None  8.0 seconds        None        None   \n",
       "\n",
       "           memory_limit Expected Time Complexity  \n",
       "0                  None                     None  \n",
       "1  134.217728 megabytes                     None  \n",
       "2           50000 bytes                     None  \n",
       "3                  None                     None  \n",
       "4  268.435456 megabytes                     None  "
      ]
     },
     "execution_count": 118,
     "metadata": {},
     "output_type": "execute_result"
    }
   ],
   "source": [
    "full_df.head()"
   ]
  },
  {
   "cell_type": "code",
   "execution_count": 119,
   "id": "cef0d758",
   "metadata": {},
   "outputs": [
    {
     "name": "stdout",
     "output_type": "stream",
     "text": [
      "<class 'pandas.core.frame.DataFrame'>\n",
      "Index: 23616 entries, 0 to 999\n",
      "Data columns (total 17 columns):\n",
      " #   Column                    Non-Null Count  Dtype \n",
      "---  ------                    --------------  ----- \n",
      " 0   question                  23616 non-null  object\n",
      " 1   solutions                 23616 non-null  object\n",
      " 2   starter_code              23616 non-null  object\n",
      " 3   input_output              23616 non-null  object\n",
      " 4   difficulty                23616 non-null  object\n",
      " 5   raw_tags                  23616 non-null  object\n",
      " 6   name                      3352 non-null   object\n",
      " 7   source                    23616 non-null  object\n",
      " 8   tags                      23616 non-null  object\n",
      " 9   skill_types               23616 non-null  object\n",
      " 10  url                       18915 non-null  object\n",
      " 11  Expected Auxiliary Space  2386 non-null   object\n",
      " 12  time_limit                10519 non-null  object\n",
      " 13  date                      6204 non-null   object\n",
      " 14  picture_num               6710 non-null   object\n",
      " 15  memory_limit              10520 non-null  object\n",
      " 16  Expected Time Complexity  2603 non-null   object\n",
      "dtypes: object(17)\n",
      "memory usage: 3.2+ MB\n"
     ]
    }
   ],
   "source": [
    "full_df.info()"
   ]
  },
  {
   "cell_type": "markdown",
   "id": "a104817f",
   "metadata": {},
   "source": [
    "All column type is object, can be string or other data structures like list, tuple, or dictionary\n"
   ]
  },
  {
   "cell_type": "code",
   "execution_count": 120,
   "id": "45794c56",
   "metadata": {},
   "outputs": [],
   "source": [
    "eda_df = full_df.copy()"
   ]
  },
  {
   "cell_type": "markdown",
   "id": "7165d314",
   "metadata": {},
   "source": [
    "# Utility Functions\n"
   ]
  },
  {
   "cell_type": "markdown",
   "id": "475f6dbe",
   "metadata": {},
   "source": [
    "### Check condition for any empty row\n"
   ]
  },
  {
   "cell_type": "code",
   "execution_count": 121,
   "id": "470c3939",
   "metadata": {},
   "outputs": [],
   "source": [
    "from typing import Tuple"
   ]
  },
  {
   "cell_type": "code",
   "execution_count": 122,
   "id": "4aa8eaaf",
   "metadata": {},
   "outputs": [],
   "source": [
    "def empty_rows(data: pd.Series) -> Tuple[pd.Series, int]:\n",
    "  rows = []\n",
    "  for row in data:\n",
    "    if not row or not len(row):\n",
    "      rows.append(row)\n",
    "\n",
    "  return (pd.Series(rows), len(rows))"
   ]
  },
  {
   "cell_type": "markdown",
   "id": "a6589dca",
   "metadata": {},
   "source": [
    "### Check null or empty rows\n"
   ]
  },
  {
   "cell_type": "code",
   "execution_count": 123,
   "id": "2149696d",
   "metadata": {},
   "outputs": [],
   "source": [
    "def null_and_empty_rows(data: pd.Series) -> None:\n",
    "\n",
    "  empty = empty_rows(data)\n",
    "  print(f'Null count: {data.isnull().sum()} rows.')\n",
    "  print(f'Row containing empty data: {empty[1]} rows.')\n",
    "  print(f'Empty portion {round((empty[1] / data.shape[0]) * 100, 2)}%')"
   ]
  },
  {
   "cell_type": "markdown",
   "id": "761e4c4e",
   "metadata": {},
   "source": [
    "### Check detailed data type\n"
   ]
  },
  {
   "cell_type": "code",
   "execution_count": 124,
   "id": "4f47d0e0",
   "metadata": {},
   "outputs": [],
   "source": [
    "def check_type(data: pd.Series) -> None:\n",
    "  for row in data:\n",
    "    if row:\n",
    "      return type(row)"
   ]
  },
  {
   "cell_type": "markdown",
   "id": "ea308243",
   "metadata": {},
   "source": [
    "### First n Non Null Values\n"
   ]
  },
  {
   "cell_type": "code",
   "execution_count": 125,
   "id": "442115dd",
   "metadata": {},
   "outputs": [],
   "source": [
    "def n_non_null_head(data: pd.Series, n: int = 5) -> pd.Series:\n",
    "  head = []\n",
    "  for row in data:\n",
    "    if len(head) >= n:\n",
    "      break\n",
    "    if row:\n",
    "      head.append(row)\n",
    "\n",
    "  if len(head) < n:\n",
    "    head.extend([None] * (n - len(head)))\n",
    "  \n",
    "  return pd.Series(head)"
   ]
  },
  {
   "cell_type": "markdown",
   "id": "56c53c37",
   "metadata": {},
   "source": [
    "### Initial Check\n"
   ]
  },
  {
   "cell_type": "code",
   "execution_count": 126,
   "id": "a69be590",
   "metadata": {},
   "outputs": [],
   "source": [
    "def initial_check(data: pd.Series) -> None:\n",
    "  column_type = check_type(data)\n",
    "  print(f'Type: {column_type}\\n')\n",
    "  print('First 5 non-null rows:')\n",
    "  print(n_non_null_head(data))\n",
    "\n",
    "  print('\\nNull and empty values:')\n",
    "  null_and_empty_rows(data)"
   ]
  },
  {
   "cell_type": "markdown",
   "id": "500881b8",
   "metadata": {},
   "source": [
    "### Decode Data Structures From a String\n"
   ]
  },
  {
   "cell_type": "code",
   "execution_count": 127,
   "id": "9a26015f",
   "metadata": {},
   "outputs": [],
   "source": [
    "from json import JSONDecodeError\n",
    "import json\n",
    "\n",
    "def safe_decoding(row: str) -> any:\n",
    "  try:\n",
    "    if len(row) and row:\n",
    "      return json.loads(row.replace('\\'', '\\\"'))\n",
    "    else:\n",
    "      return row\n",
    "  except JSONDecodeError:\n",
    "    return row\n",
    "\n",
    "def decode_json(data: pd.Series) -> pd.Series:\n",
    "  return data.apply(lambda row: safe_decoding(row))"
   ]
  },
  {
   "cell_type": "markdown",
   "id": "30b1c7fc",
   "metadata": {},
   "source": [
    "# Column Analysis\n"
   ]
  },
  {
   "cell_type": "markdown",
   "id": "619e7279",
   "metadata": {},
   "source": [
    "## 1. Question\n"
   ]
  },
  {
   "cell_type": "code",
   "execution_count": 128,
   "id": "cba209e8",
   "metadata": {},
   "outputs": [
    {
     "name": "stdout",
     "output_type": "stream",
     "text": [
      "Type: <class 'str'>\n",
      "\n",
      "First 5 non-null rows:\n",
      "0    For every string given as input, you need to t...\n",
      "1    A scientist discovered a strange variation of ...\n",
      "2    Two integers A and B are the inputs. Write a p...\n",
      "3    Limak is a grizzly bear who desires power and ...\n",
      "4    problem\\n\\nJOI took six subjects: physics, che...\n",
      "dtype: object\n",
      "\n",
      "Null and empty values:\n",
      "Null count: 0 rows.\n",
      "Row containing empty data: 0 rows.\n",
      "Empty portion 0.0%\n"
     ]
    }
   ],
   "source": [
    "initial_check(eda_df['question'])"
   ]
  },
  {
   "cell_type": "markdown",
   "id": "a82f7ad0",
   "metadata": {},
   "source": [
    "Questions are in string, so no need to decode the data\n"
   ]
  },
  {
   "cell_type": "markdown",
   "id": "d108a501",
   "metadata": {},
   "source": [
    "The question column is essential as it holds the actual problem set questions. It seems that the there is no null row too, which means that all rows can be used for prompting.\n"
   ]
  },
  {
   "cell_type": "markdown",
   "id": "ca49a785",
   "metadata": {},
   "source": [
    "## 2. Solutions\n"
   ]
  },
  {
   "cell_type": "code",
   "execution_count": 129,
   "id": "acdac49f",
   "metadata": {},
   "outputs": [
    {
     "name": "stdout",
     "output_type": "stream",
     "text": [
      "Type: <class 'str'>\n",
      "\n",
      "First 5 non-null rows:\n",
      "0                                                   []\n",
      "1                                                   []\n",
      "2    [\"def GCD(x, y):\\n\\twhile y:\\n\\t\\t(x, y) = (y,...\n",
      "3    [\"n = int(input())\\nv = list(map(int, input()....\n",
      "4    [\"lst = []\\nfor i in range(6):\\n\\tn = int(inpu...\n",
      "dtype: object\n",
      "\n",
      "Null and empty values:\n",
      "Null count: 0 rows.\n",
      "Row containing empty data: 0 rows.\n",
      "Empty portion 0.0%\n"
     ]
    }
   ],
   "source": [
    "initial_check(eda_df['solutions'])"
   ]
  },
  {
   "cell_type": "markdown",
   "id": "56db9cd8",
   "metadata": {},
   "source": [
    "The column type is string, but the content is a Python list, which means it needs to be decoded.\n"
   ]
  },
  {
   "cell_type": "markdown",
   "id": "52796b4c",
   "metadata": {},
   "source": [
    "Some solutions are empty and the solution column itself cannot be used as a benchmark to the chatbot response as it is difficult to quantify how close the chabot codes are to these solutions and how good the codes based on the solutions data.\n"
   ]
  },
  {
   "cell_type": "markdown",
   "id": "057e12e3",
   "metadata": {},
   "source": [
    "## 3. Starter Code\n"
   ]
  },
  {
   "cell_type": "code",
   "execution_count": 130,
   "id": "33cd4cb0",
   "metadata": {},
   "outputs": [
    {
     "name": "stdout",
     "output_type": "stream",
     "text": [
      "Type: <class 'str'>\n",
      "\n",
      "First 5 non-null rows:\n",
      "0    #User function Template for python3\\n\\n\\n\\n'''...\n",
      "1    class Solution:\\n    def minSumOfLengths(self,...\n",
      "2    from typing import List\\n\\n\\n\\n\\n\\n\\n\\nclass S...\n",
      "3    #User function Template for python3\\n\\nclass S...\n",
      "4    #User function Template for python3\\n\\n# Retur...\n",
      "dtype: object\n",
      "\n",
      "Null and empty values:\n",
      "Null count: 0 rows.\n",
      "Row containing empty data: 18303 rows.\n",
      "Empty portion 77.5%\n"
     ]
    }
   ],
   "source": [
    "initial_check(eda_df['starter_code'])"
   ]
  },
  {
   "cell_type": "markdown",
   "id": "7d26dae1",
   "metadata": {},
   "source": [
    "Starter code does not contain any valuable information, so it can be dropped.\n"
   ]
  },
  {
   "cell_type": "markdown",
   "id": "90acec0d",
   "metadata": {},
   "source": [
    "## 4. Input-Output\n"
   ]
  },
  {
   "cell_type": "code",
   "execution_count": 131,
   "id": "16b42d8b",
   "metadata": {},
   "outputs": [
    {
     "name": "stdout",
     "output_type": "stream",
     "text": [
      "Type: <class 'str'>\n",
      "\n",
      "First 5 non-null rows:\n",
      "0    {\"inputs\": [\"1\\naab\", \"3\\naab\\ndddd\\nthisisapa...\n",
      "1    {\"inputs\": [\"3\\n0\\n7\\n15\\n655\\n2711\\n6395\\n719...\n",
      "2    {\"inputs\": [[\"3\", \"120 140\", \"10213 312\", \"10 ...\n",
      "3    {\"inputs\": [\"5\\n5 1 11 2 8\\n\", \"4\\n1 8 8 8\\n\",...\n",
      "4    {\"inputs\": [\"100\\n34\\n76\\n67\\n10\\n0\", \"100\\n34...\n",
      "dtype: object\n",
      "\n",
      "Null and empty values:\n",
      "Null count: 0 rows.\n",
      "Row containing empty data: 0 rows.\n",
      "Empty portion 0.0%\n"
     ]
    }
   ],
   "source": [
    "initial_check(eda_df['input_output'])"
   ]
  },
  {
   "cell_type": "markdown",
   "id": "1b104579",
   "metadata": {},
   "source": [
    "The data type is string, but the content is dictionary, so it needs to be decoded.\n"
   ]
  },
  {
   "cell_type": "code",
   "execution_count": 132,
   "id": "b0d8f08a",
   "metadata": {},
   "outputs": [],
   "source": [
    "# To get better representation on how the data is structured, decoding must be done.\n",
    "eda_df['input_output'] = decode_json(eda_df['input_output'])"
   ]
  },
  {
   "cell_type": "code",
   "execution_count": 133,
   "id": "473e8c4f",
   "metadata": {},
   "outputs": [
    {
     "name": "stdout",
     "output_type": "stream",
     "text": [
      "Type: <class 'dict'>\n",
      "\n",
      "First 5 non-null rows:\n",
      "0    {'inputs': ['1\n",
      "aab', '3\n",
      "aab\n",
      "dddd\n",
      "thisisapalind...\n",
      "1    {'inputs': ['3\n",
      "0\n",
      "7\n",
      "15\n",
      "655\n",
      "2711\n",
      "6395\n",
      "7195\n",
      "8465\n",
      "...\n",
      "2    {'inputs': [['3', '120 140', '10213 312', '10 ...\n",
      "3    {'inputs': ['5\n",
      "5 1 11 2 8\n",
      "', '4\n",
      "1 8 8 8\n",
      "', '2\n",
      "...\n",
      "4    {'inputs': ['100\n",
      "34\n",
      "76\n",
      "67\n",
      "10\n",
      "0', '100\n",
      "34\n",
      "76\n",
      "96...\n",
      "dtype: object\n",
      "\n",
      "Null and empty values:\n",
      "Null count: 0 rows.\n",
      "Row containing empty data: 0 rows.\n",
      "Empty portion 0.0%\n"
     ]
    }
   ],
   "source": [
    "initial_check(eda_df['input_output'])"
   ]
  },
  {
   "cell_type": "markdown",
   "id": "f5e07150",
   "metadata": {},
   "source": [
    "Looking at the data, each input output data contains a dictionary with:<br />\n",
    "\n",
    "1. Two keys: inputs and outputs\n",
    "2. The values are a list of inputs and outputs with each index of input attributes to the corresponding index of the output\n"
   ]
  },
  {
   "cell_type": "markdown",
   "id": "359200d9",
   "metadata": {},
   "source": [
    "## 5. Difficulty\n"
   ]
  },
  {
   "cell_type": "code",
   "execution_count": 134,
   "id": "c6f9668f",
   "metadata": {},
   "outputs": [
    {
     "name": "stdout",
     "output_type": "stream",
     "text": [
      "Type: <class 'str'>\n",
      "\n",
      "First 5 non-null rows:\n",
      "0    UNKNOWN_DIFFICULTY\n",
      "1    UNKNOWN_DIFFICULTY\n",
      "2                  EASY\n",
      "3                  EASY\n",
      "4    UNKNOWN_DIFFICULTY\n",
      "dtype: object\n",
      "\n",
      "Null and empty values:\n",
      "Null count: 0 rows.\n",
      "Row containing empty data: 0 rows.\n",
      "Empty portion 0.0%\n"
     ]
    }
   ],
   "source": [
    "initial_check(eda_df['difficulty'])"
   ]
  },
  {
   "cell_type": "code",
   "execution_count": 135,
   "id": "3b72d6e4",
   "metadata": {},
   "outputs": [
    {
     "data": {
      "text/plain": [
       "difficulty\n",
       "EASY                  8099\n",
       "UNKNOWN_DIFFICULTY    4467\n",
       "MEDIUM                3082\n",
       "HARD                  2995\n",
       "MEDIUM_HARD           2656\n",
       "VERY_HARD             2317\n",
       "Name: count, dtype: int64"
      ]
     },
     "execution_count": 135,
     "metadata": {},
     "output_type": "execute_result"
    }
   ],
   "source": [
    "eda_df['difficulty'].value_counts()"
   ]
  },
  {
   "cell_type": "markdown",
   "id": "ef7783c5",
   "metadata": {},
   "source": [
    "UNKNOWN_DIFFICULTY will not be used as it will be more difficult to filter out questions and analyze the questions and answers later on.\n"
   ]
  },
  {
   "cell_type": "markdown",
   "id": "53bc22bc",
   "metadata": {},
   "source": [
    "UNKNOWN_DIFFICULTY should be excluded as it will be difficult to discriminate between problem sets later on.\n"
   ]
  },
  {
   "cell_type": "markdown",
   "id": "73ada282",
   "metadata": {},
   "source": [
    "## 6. Raw Tags\n"
   ]
  },
  {
   "cell_type": "code",
   "execution_count": 136,
   "id": "7011d928",
   "metadata": {},
   "outputs": [
    {
     "name": "stdout",
     "output_type": "stream",
     "text": [
      "Type: <class 'str'>\n",
      "\n",
      "First 5 non-null rows:\n",
      "0                                                   []\n",
      "1                                                   []\n",
      "2    ['LCM', 'Mathematics', 'Algorithms', 'Number T...\n",
      "3                         ['greedy', 'implementation']\n",
      "4                                                   []\n",
      "dtype: object\n",
      "\n",
      "Null and empty values:\n",
      "Null count: 0 rows.\n",
      "Row containing empty data: 0 rows.\n",
      "Empty portion 0.0%\n"
     ]
    }
   ],
   "source": [
    "initial_check(eda_df['raw_tags'])"
   ]
  },
  {
   "cell_type": "markdown",
   "id": "9c277524",
   "metadata": {},
   "source": [
    "Some tags are empty, but keeping empty tags are not going to impact the problem set. This is why initial check says there are no empty rows even though some tags are empty.\n"
   ]
  },
  {
   "cell_type": "markdown",
   "id": "eda9ae6d",
   "metadata": {},
   "source": [
    "The data needs to be decoded as they are list inside of a string.\n"
   ]
  },
  {
   "cell_type": "code",
   "execution_count": 137,
   "id": "b7fb6f59",
   "metadata": {},
   "outputs": [],
   "source": [
    "eda_df['raw_tags'] = decode_json(eda_df['raw_tags'])"
   ]
  },
  {
   "cell_type": "code",
   "execution_count": 138,
   "id": "ac614f7a",
   "metadata": {},
   "outputs": [
    {
     "name": "stdout",
     "output_type": "stream",
     "text": [
      "Type: <class 'list'>\n",
      "\n",
      "First 5 non-null rows:\n",
      "0    [LCM, Mathematics, Algorithms, Number Theory, ...\n",
      "1                             [greedy, implementation]\n",
      "2                               [math, implementation]\n",
      "3    [combinatorics, matrices, math, constructive a...\n",
      "4                             [greedy, implementation]\n",
      "dtype: object\n",
      "\n",
      "Null and empty values:\n",
      "Null count: 0 rows.\n",
      "Row containing empty data: 6874 rows.\n",
      "Empty portion 29.11%\n"
     ]
    }
   ],
   "source": [
    "initial_check(eda_df['raw_tags'])"
   ]
  },
  {
   "cell_type": "markdown",
   "id": "3d88fac9",
   "metadata": {},
   "source": [
    "6874 of the total rows do not empty raw tags list.\n"
   ]
  },
  {
   "cell_type": "markdown",
   "id": "17bebbd0",
   "metadata": {},
   "source": [
    "## 7. Name\n"
   ]
  },
  {
   "cell_type": "code",
   "execution_count": 139,
   "id": "0fd74d87",
   "metadata": {},
   "outputs": [
    {
     "name": "stdout",
     "output_type": "stream",
     "text": [
      "Type: <class 'str'>\n",
      "\n",
      "First 5 non-null rows:\n",
      "0                             subpalindrome-4\n",
      "1                             modified-number\n",
      "2                                   leading-1\n",
      "3          miss-dd-and-her-mysterious-numbers\n",
      "4    AtCoder Beginner Contest 083 - Some Sums\n",
      "dtype: object\n",
      "\n",
      "Null and empty values:\n",
      "Null count: 20264 rows.\n",
      "Row containing empty data: 20264 rows.\n",
      "Empty portion 85.81%\n"
     ]
    }
   ],
   "source": [
    "initial_check(eda_df['name'])"
   ]
  },
  {
   "cell_type": "markdown",
   "id": "e2018e27",
   "metadata": {},
   "source": [
    "Most of name column values are null, around 85.8062%, so this can be dropped as most data will have null name while the others have name.\n"
   ]
  },
  {
   "cell_type": "markdown",
   "id": "dd04be08",
   "metadata": {},
   "source": [
    "## 8. Source\n"
   ]
  },
  {
   "cell_type": "code",
   "execution_count": 140,
   "id": "e8fc5bd1",
   "metadata": {},
   "outputs": [
    {
     "name": "stdout",
     "output_type": "stream",
     "text": [
      "Type: <class 'str'>\n",
      "\n",
      "First 5 non-null rows:\n",
      "0    hackerearth\n",
      "1           aizu\n",
      "2       codechef\n",
      "3     codeforces\n",
      "4           aizu\n",
      "dtype: object\n",
      "\n",
      "Null and empty values:\n",
      "Null count: 0 rows.\n",
      "Row containing empty data: 0 rows.\n",
      "Empty portion 0.0%\n"
     ]
    }
   ],
   "source": [
    "initial_check(eda_df['source'])"
   ]
  },
  {
   "cell_type": "code",
   "execution_count": 141,
   "id": "cf401fb0",
   "metadata": {},
   "outputs": [
    {
     "name": "stdout",
     "output_type": "stream",
     "text": [
      "{'kattis', 'aizu', 'hackerearth', 'leetcode', 'codeforces', 'codewars', 'hackerrank', 'geeksforgeeks', 'codechef', 'atcoder'}\n"
     ]
    }
   ],
   "source": [
    "sources_set = set()\n",
    "\n",
    "for source in eda_df['source']:\n",
    "  sources_set.add(source)\n",
    "\n",
    "print(sources_set)"
   ]
  },
  {
   "cell_type": "markdown",
   "id": "ab1dc987",
   "metadata": {},
   "source": [
    "These are the source of the problem sets. This output can be used to analyze the terms of services of each problem sets, and what can be used for this research.\n"
   ]
  },
  {
   "cell_type": "markdown",
   "id": "27b7b223",
   "metadata": {},
   "source": [
    "TOS agreement:\n",
    "\n",
    "- Code Forces https://codeforces.com/terms 👌\n",
    "- LeetCode https://leetcode.com/terms/ ❌ (likely no)\n",
    "- geeksforgeeks ❌ (likely no)\n",
    "- kattis https://open.kattis.com/info/tos 👌Likely okay (non-commercial)\n",
    "- aizu https://judge.u-aizu.ac.jp/onlinejudge/submission_note.jsp ❌ Risky (no clear terms)\n",
    "- hackerearth https://www.hackerearth.com/terms-of-service/ ❌ High risk\n",
    "- atcoder https://atcoder.jp/tos 👌Yes (Citation Required)\n",
    "- Codewars https://www.codewars.com/about/terms-of-service 👌Yes (Citation Required)\n",
    "- hackerrank https://www.hackerrank.com/terms-of-service/ 👌Yes (Citation Required, no problemset reproduction)\n",
    "- codechef https://www.codechef.com/terms 👌Likely okay (non-commercial\n"
   ]
  },
  {
   "cell_type": "markdown",
   "id": "0f5c724c",
   "metadata": {},
   "source": [
    "This column is not used specifically in the prompting, so it can be dropped later.\n"
   ]
  },
  {
   "cell_type": "markdown",
   "id": "0f00f4c6",
   "metadata": {},
   "source": [
    "## 9. Tags\n"
   ]
  },
  {
   "cell_type": "code",
   "execution_count": 142,
   "id": "f2ccb2e3",
   "metadata": {},
   "outputs": [
    {
     "name": "stdout",
     "output_type": "stream",
     "text": [
      "Type: <class 'str'>\n",
      "\n",
      "First 5 non-null rows:\n",
      "0                                                   []\n",
      "1                                                   []\n",
      "2    ['Mathematics', 'Number theory', 'Implementati...\n",
      "3              ['Implementation', 'Greedy algorithms']\n",
      "4                                                   []\n",
      "dtype: object\n",
      "\n",
      "Null and empty values:\n",
      "Null count: 0 rows.\n",
      "Row containing empty data: 0 rows.\n",
      "Empty portion 0.0%\n"
     ]
    }
   ],
   "source": [
    "initial_check(eda_df['tags'])"
   ]
  },
  {
   "cell_type": "markdown",
   "id": "8b27462d",
   "metadata": {},
   "source": [
    "Tags are supposed to be a list, so it needs to be decoded.\n"
   ]
  },
  {
   "cell_type": "code",
   "execution_count": 143,
   "id": "a9f95501",
   "metadata": {},
   "outputs": [],
   "source": [
    "eda_df['tags'] = decode_json(eda_df['tags'])"
   ]
  },
  {
   "cell_type": "code",
   "execution_count": 144,
   "id": "3ef80ae8",
   "metadata": {},
   "outputs": [
    {
     "name": "stdout",
     "output_type": "stream",
     "text": [
      "Type: <class 'list'>\n",
      "\n",
      "First 5 non-null rows:\n",
      "0         [Mathematics, Number theory, Implementation]\n",
      "1                  [Implementation, Greedy algorithms]\n",
      "2                        [Mathematics, Implementation]\n",
      "3    [Matrices, Combinatorics, Mathematics, Constru...\n",
      "4                  [Implementation, Greedy algorithms]\n",
      "dtype: object\n",
      "\n",
      "Null and empty values:\n",
      "Null count: 0 rows.\n",
      "Row containing empty data: 7652 rows.\n",
      "Empty portion 32.4%\n"
     ]
    }
   ],
   "source": [
    "initial_check(eda_df['tags'])"
   ]
  },
  {
   "cell_type": "markdown",
   "id": "b06c8eaf",
   "metadata": {},
   "source": [
    "7652 tags are empty, but it will not be dropped as problem sets with no tags are still included.\n"
   ]
  },
  {
   "cell_type": "markdown",
   "id": "33820659",
   "metadata": {},
   "source": [
    "## 10. Skill Types\n"
   ]
  },
  {
   "cell_type": "code",
   "execution_count": 145,
   "id": "4d09b2a3",
   "metadata": {},
   "outputs": [
    {
     "name": "stdout",
     "output_type": "stream",
     "text": [
      "Type: <class 'str'>\n",
      "\n",
      "First 5 non-null rows:\n",
      "0                       []\n",
      "1                       []\n",
      "2                       []\n",
      "3    ['Greedy algorithms']\n",
      "4                       []\n",
      "dtype: object\n",
      "\n",
      "Null and empty values:\n",
      "Null count: 0 rows.\n",
      "Row containing empty data: 0 rows.\n",
      "Empty portion 0.0%\n"
     ]
    }
   ],
   "source": [
    "initial_check(eda_df['skill_types'])"
   ]
  },
  {
   "cell_type": "markdown",
   "id": "b8427364",
   "metadata": {},
   "source": [
    "Skill Types is structured as a list, but the type is string, so it needs to be decoded.\n"
   ]
  },
  {
   "cell_type": "code",
   "execution_count": 146,
   "id": "cb4ce622",
   "metadata": {},
   "outputs": [],
   "source": [
    "eda_df['skill_types'] = decode_json(eda_df['skill_types'])"
   ]
  },
  {
   "cell_type": "code",
   "execution_count": 147,
   "id": "e0239156",
   "metadata": {},
   "outputs": [
    {
     "name": "stdout",
     "output_type": "stream",
     "text": [
      "Type: <class 'list'>\n",
      "\n",
      "First 5 non-null rows:\n",
      "0                                  [Greedy algorithms]\n",
      "1                                  [Greedy algorithms]\n",
      "2                     [Data structures, Range queries]\n",
      "3                                    [Complete search]\n",
      "4    [Dynamic programming, Amortized analysis, Sort...\n",
      "dtype: object\n",
      "\n",
      "Null and empty values:\n",
      "Null count: 0 rows.\n",
      "Row containing empty data: 13596 rows.\n",
      "Empty portion 57.57%\n"
     ]
    }
   ],
   "source": [
    "initial_check(eda_df['skill_types'])"
   ]
  },
  {
   "cell_type": "markdown",
   "id": "5a091f85",
   "metadata": {},
   "source": [
    "13596 list of the entire skill types lists are empty, these empty skill type lists will be explained on the prompt construction.\n"
   ]
  },
  {
   "cell_type": "markdown",
   "id": "ec2541a5",
   "metadata": {},
   "source": [
    "## 11. URL\n"
   ]
  },
  {
   "cell_type": "code",
   "execution_count": 148,
   "id": "7e17014d",
   "metadata": {},
   "outputs": [
    {
     "name": "stdout",
     "output_type": "stream",
     "text": [
      "Type: <class 'str'>\n",
      "\n",
      "First 5 non-null rows:\n",
      "0           https://www.codechef.com/problems/FLOW016\n",
      "1     https://codeforces.com/problemset/problem/574/A\n",
      "2      https://codeforces.com/problemset/problem/40/C\n",
      "3    https://codeforces.com/problemset/problem/1332/E\n",
      "4     https://codeforces.com/problemset/problem/374/A\n",
      "dtype: object\n",
      "\n",
      "Null and empty values:\n",
      "Null count: 4701 rows.\n",
      "Row containing empty data: 4701 rows.\n",
      "Empty portion 19.91%\n"
     ]
    }
   ],
   "source": [
    "initial_check(eda_df['url'])"
   ]
  },
  {
   "cell_type": "markdown",
   "id": "419ae788",
   "metadata": {},
   "source": [
    "URL information itself will not affect the produced solutions because they do not correlate with the problem sets, so it will be dropped for the prompting.\n"
   ]
  },
  {
   "cell_type": "markdown",
   "id": "4ebf4bea",
   "metadata": {},
   "source": [
    "## 12. Expected Auxiliary Space\n"
   ]
  },
  {
   "cell_type": "code",
   "execution_count": 149,
   "id": "d2db4945",
   "metadata": {},
   "outputs": [
    {
     "name": "stdout",
     "output_type": "stream",
     "text": [
      "Type: <class 'str'>\n",
      "\n",
      "First 5 non-null rows:\n",
      "0                            O(1).\n",
      "1                         O(N^{2})\n",
      "2                             O(1)\n",
      "3    O(Height of the Binary Tree).\n",
      "4                 O(|str1|*|str2|)\n",
      "dtype: object\n",
      "\n",
      "Null and empty values:\n",
      "Null count: 21230 rows.\n",
      "Row containing empty data: 21352 rows.\n",
      "Empty portion 90.41%\n"
     ]
    }
   ],
   "source": [
    "initial_check(eda_df['Expected Auxiliary Space'])"
   ]
  },
  {
   "cell_type": "code",
   "execution_count": 150,
   "id": "9a937090",
   "metadata": {},
   "outputs": [
    {
     "data": {
      "text/plain": [
       "Expected Auxiliary Space\n",
       "O(1)                             961\n",
       "O(N)                             307\n",
       "O(1).                            214\n",
       "                                 122\n",
       "O(n)                             103\n",
       "                                ... \n",
       "O(N * WORD_LEN).                   1\n",
       "O(Distinct Characters).            1\n",
       "O(1) for all the 5 functions.      1\n",
       "O(N^{2}*K)                         1\n",
       "O(Height of the Binary Tree).      1\n",
       "Name: count, Length: 305, dtype: int64"
      ]
     },
     "execution_count": 150,
     "metadata": {},
     "output_type": "execute_result"
    }
   ],
   "source": [
    "eda_df['Expected Auxiliary Space'].value_counts()"
   ]
  },
  {
   "cell_type": "markdown",
   "id": "abc07d94",
   "metadata": {},
   "source": [
    "Around 90% of problem sets do not have expected auxiliary space, so they will be assumed to not have expectations, which will be mentioned in the prompts later.\n"
   ]
  },
  {
   "cell_type": "markdown",
   "id": "bf6f2cb3",
   "metadata": {},
   "source": [
    "## 13. Time Limit\n"
   ]
  },
  {
   "cell_type": "code",
   "execution_count": 151,
   "id": "e038b030",
   "metadata": {},
   "outputs": [
    {
     "name": "stdout",
     "output_type": "stream",
     "text": [
      "Type: <class 'str'>\n",
      "\n",
      "First 5 non-null rows:\n",
      "0    8.0 seconds\n",
      "1      1 seconds\n",
      "2    8.0 seconds\n",
      "3    2.0 seconds\n",
      "4      2 seconds\n",
      "dtype: object\n",
      "\n",
      "Null and empty values:\n",
      "Null count: 13097 rows.\n",
      "Row containing empty data: 13097 rows.\n",
      "Empty portion 55.46%\n"
     ]
    }
   ],
   "source": [
    "initial_check(eda_df['time_limit'])"
   ]
  },
  {
   "cell_type": "markdown",
   "id": "69352e09",
   "metadata": {},
   "source": [
    "Around 55.46% of problem sets do not have time limit, so they will be assumed to not have expectations, which will be mentioned in the prompts later.\n"
   ]
  },
  {
   "cell_type": "markdown",
   "id": "0b358136",
   "metadata": {},
   "source": [
    "## 14. Date\n"
   ]
  },
  {
   "cell_type": "code",
   "execution_count": 152,
   "id": "5ddf5bfe",
   "metadata": {},
   "outputs": [
    {
     "name": "stdout",
     "output_type": "stream",
     "text": [
      "Type: <class 'str'>\n",
      "\n",
      "First 5 non-null rows:\n",
      "0    2015-04-27\n",
      "1    2019-12-31\n",
      "2    2020-03-31\n",
      "3    2019-12-31\n",
      "4    2019-12-31\n",
      "dtype: object\n",
      "\n",
      "Null and empty values:\n",
      "Null count: 17412 rows.\n",
      "Row containing empty data: 17412 rows.\n",
      "Empty portion 73.73%\n"
     ]
    }
   ],
   "source": [
    "initial_check(eda_df['date'])"
   ]
  },
  {
   "cell_type": "markdown",
   "id": "64dfd450",
   "metadata": {},
   "source": [
    "Date information itself will not affect the produced solutions because they do not correlate with the problem sets, so it will be dropped altogether.\n"
   ]
  },
  {
   "cell_type": "markdown",
   "id": "a4b9e60d",
   "metadata": {},
   "source": [
    "## 15. Picture Num\n"
   ]
  },
  {
   "cell_type": "code",
   "execution_count": 153,
   "id": "da023742",
   "metadata": {},
   "outputs": [
    {
     "name": "stdout",
     "output_type": "stream",
     "text": [
      "Type: <class 'str'>\n",
      "\n",
      "First 5 non-null rows:\n",
      "0    0\n",
      "1    1\n",
      "2    0\n",
      "3    0\n",
      "4    0\n",
      "dtype: object\n",
      "\n",
      "Null and empty values:\n",
      "Null count: 16906 rows.\n",
      "Row containing empty data: 16906 rows.\n",
      "Empty portion 71.59%\n"
     ]
    }
   ],
   "source": [
    "initial_check(eda_df['picture_num'])"
   ]
  },
  {
   "cell_type": "code",
   "execution_count": 154,
   "id": "1abf5411",
   "metadata": {},
   "outputs": [
    {
     "data": {
      "text/html": [
       "<div>\n",
       "<style scoped>\n",
       "    .dataframe tbody tr th:only-of-type {\n",
       "        vertical-align: middle;\n",
       "    }\n",
       "\n",
       "    .dataframe tbody tr th {\n",
       "        vertical-align: top;\n",
       "    }\n",
       "\n",
       "    .dataframe thead th {\n",
       "        text-align: right;\n",
       "    }\n",
       "</style>\n",
       "<table border=\"1\" class=\"dataframe\">\n",
       "  <thead>\n",
       "    <tr style=\"text-align: right;\">\n",
       "      <th></th>\n",
       "      <th>url</th>\n",
       "      <th>picture_num</th>\n",
       "    </tr>\n",
       "  </thead>\n",
       "  <tbody>\n",
       "  </tbody>\n",
       "</table>\n",
       "</div>"
      ],
      "text/plain": [
       "Empty DataFrame\n",
       "Columns: [url, picture_num]\n",
       "Index: []"
      ]
     },
     "execution_count": 154,
     "metadata": {},
     "output_type": "execute_result"
    }
   ],
   "source": [
    "eda_df[['url', 'picture_num']].loc[eda_df['url'] == None]"
   ]
  },
  {
   "cell_type": "markdown",
   "id": "1a82c5ff",
   "metadata": {},
   "source": [
    "Picture Num is dependent on url. If URL exists, picture_num can then exist. This indicate that picture num points to the picture inside of the URL if picture_num exists. This can be useful for feature engineering.\n"
   ]
  },
  {
   "cell_type": "markdown",
   "id": "cd78fdfb",
   "metadata": {},
   "source": [
    "## 16. Memory Limit\n"
   ]
  },
  {
   "cell_type": "code",
   "execution_count": 155,
   "id": "a76cd48b",
   "metadata": {},
   "outputs": [
    {
     "name": "stdout",
     "output_type": "stream",
     "text": [
      "Type: <class 'str'>\n",
      "\n",
      "First 5 non-null rows:\n",
      "0    134.217728 megabytes\n",
      "1             50000 bytes\n",
      "2    268.435456 megabytes\n",
      "3         256.0 megabytes\n",
      "4           512 megabytes\n",
      "dtype: object\n",
      "\n",
      "Null and empty values:\n",
      "Null count: 13096 rows.\n",
      "Row containing empty data: 13096 rows.\n",
      "Empty portion 55.45%\n"
     ]
    }
   ],
   "source": [
    "initial_check(eda_df['memory_limit'])"
   ]
  },
  {
   "cell_type": "markdown",
   "id": "03bbde20",
   "metadata": {},
   "source": [
    "55.45% of memory limit is empty. These empty values will be assumed as no time limit is given for the problem sets.\n"
   ]
  },
  {
   "cell_type": "markdown",
   "id": "6bcebea3",
   "metadata": {},
   "source": [
    "## 17. Expected Time Complexity\n"
   ]
  },
  {
   "cell_type": "code",
   "execution_count": 156,
   "id": "256bbe9d",
   "metadata": {},
   "outputs": [
    {
     "name": "stdout",
     "output_type": "stream",
     "text": [
      "Type: <class 'str'>\n",
      "\n",
      "First 5 non-null rows:\n",
      "0               O(N).\n",
      "1            O(N^{2})\n",
      "2              O(|S|)\n",
      "3               O(N).\n",
      "4    O(|str1|*|str2|)\n",
      "dtype: object\n",
      "\n",
      "Null and empty values:\n",
      "Null count: 21013 rows.\n",
      "Row containing empty data: 21135 rows.\n",
      "Empty portion 89.49%\n"
     ]
    }
   ],
   "source": [
    "initial_check(eda_df['Expected Time Complexity'])"
   ]
  },
  {
   "cell_type": "markdown",
   "id": "8afd87b8",
   "metadata": {},
   "source": [
    "55.45% of expected time complexity is empty. These empty values will be assumed as no expected time complexity is given for the problem sets.\n"
   ]
  },
  {
   "cell_type": "markdown",
   "id": "a2aadf36",
   "metadata": {},
   "source": [
    "# Feature Engineering\n"
   ]
  },
  {
   "cell_type": "code",
   "execution_count": 157,
   "id": "b7254480",
   "metadata": {},
   "outputs": [],
   "source": [
    "cleaned_df = full_df.copy()"
   ]
  },
  {
   "cell_type": "markdown",
   "id": "01f83ef2",
   "metadata": {},
   "source": [
    "### Drop Columns\n"
   ]
  },
  {
   "cell_type": "code",
   "execution_count": 158,
   "id": "c24e65c4",
   "metadata": {},
   "outputs": [],
   "source": [
    "cleaned_df.drop(columns=['solutions', 'starter_code', 'name', 'source', 'date'], inplace=True, axis=1)"
   ]
  },
  {
   "cell_type": "markdown",
   "id": "5f49afd8",
   "metadata": {},
   "source": [
    "### Filter Out Rows\n"
   ]
  },
  {
   "cell_type": "code",
   "execution_count": 159,
   "id": "57d64fae",
   "metadata": {},
   "outputs": [],
   "source": [
    "cleaned_df = cleaned_df.loc[cleaned_df['difficulty'] != 'UNKNOWN_DIFFICULTY']"
   ]
  },
  {
   "cell_type": "markdown",
   "id": "33860d44",
   "metadata": {},
   "source": [
    "### Decoding\n"
   ]
  },
  {
   "cell_type": "code",
   "execution_count": 160,
   "id": "0462c1c7",
   "metadata": {},
   "outputs": [],
   "source": [
    "decoded_cols = ['input_output', 'raw_tags', 'tags', 'skill_types']\n",
    "\n",
    "for col in decoded_cols:\n",
    "  cleaned_df[col] = decode_json(cleaned_df[col])"
   ]
  },
  {
   "cell_type": "markdown",
   "id": "35be2768",
   "metadata": {},
   "source": [
    "### Results\n"
   ]
  },
  {
   "cell_type": "code",
   "execution_count": 161,
   "id": "f08ebc28",
   "metadata": {},
   "outputs": [],
   "source": [
    "cleaned_df.reset_index(inplace=True, drop=True)"
   ]
  },
  {
   "cell_type": "code",
   "execution_count": 162,
   "id": "bbd53cf3",
   "metadata": {},
   "outputs": [
    {
     "data": {
      "text/html": [
       "<div>\n",
       "<style scoped>\n",
       "    .dataframe tbody tr th:only-of-type {\n",
       "        vertical-align: middle;\n",
       "    }\n",
       "\n",
       "    .dataframe tbody tr th {\n",
       "        vertical-align: top;\n",
       "    }\n",
       "\n",
       "    .dataframe thead th {\n",
       "        text-align: right;\n",
       "    }\n",
       "</style>\n",
       "<table border=\"1\" class=\"dataframe\">\n",
       "  <thead>\n",
       "    <tr style=\"text-align: right;\">\n",
       "      <th></th>\n",
       "      <th>question</th>\n",
       "      <th>input_output</th>\n",
       "      <th>difficulty</th>\n",
       "      <th>raw_tags</th>\n",
       "      <th>tags</th>\n",
       "      <th>skill_types</th>\n",
       "      <th>Expected Auxiliary Space</th>\n",
       "      <th>time_limit</th>\n",
       "      <th>picture_num</th>\n",
       "      <th>memory_limit</th>\n",
       "      <th>Expected Time Complexity</th>\n",
       "    </tr>\n",
       "  </thead>\n",
       "  <tbody>\n",
       "    <tr>\n",
       "      <th>0</th>\n",
       "      <td>Two integers A and B are the inputs. Write a p...</td>\n",
       "      <td>{'inputs': [['3', '120 140', '10213 312', '10 ...</td>\n",
       "      <td>EASY</td>\n",
       "      <td>[LCM, Mathematics, Algorithms, Number Theory, ...</td>\n",
       "      <td>[Mathematics, Number theory, Implementation]</td>\n",
       "      <td>[]</td>\n",
       "      <td>None</td>\n",
       "      <td>1 seconds</td>\n",
       "      <td>0</td>\n",
       "      <td>50000 bytes</td>\n",
       "      <td>None</td>\n",
       "    </tr>\n",
       "    <tr>\n",
       "      <th>1</th>\n",
       "      <td>Limak is a grizzly bear who desires power and ...</td>\n",
       "      <td>{'inputs': ['5\n",
       "5 1 11 2 8\n",
       "', '4\n",
       "1 8 8 8\n",
       "', '2\n",
       "...</td>\n",
       "      <td>EASY</td>\n",
       "      <td>[greedy, implementation]</td>\n",
       "      <td>[Implementation, Greedy algorithms]</td>\n",
       "      <td>[Greedy algorithms]</td>\n",
       "      <td>None</td>\n",
       "      <td>None</td>\n",
       "      <td>None</td>\n",
       "      <td>None</td>\n",
       "      <td>None</td>\n",
       "    </tr>\n",
       "    <tr>\n",
       "      <th>2</th>\n",
       "      <td>Last year the world's largest square was built...</td>\n",
       "      <td>{'inputs': ['99085 7738 98097 -6487\n",
       "', '1 2 2 ...</td>\n",
       "      <td>HARD</td>\n",
       "      <td>[math, implementation]</td>\n",
       "      <td>[Mathematics, Implementation]</td>\n",
       "      <td>[]</td>\n",
       "      <td>None</td>\n",
       "      <td>2.0 seconds</td>\n",
       "      <td>None</td>\n",
       "      <td>256.0 megabytes</td>\n",
       "      <td>None</td>\n",
       "    </tr>\n",
       "    <tr>\n",
       "      <th>3</th>\n",
       "      <td>Alice has got addicted to a game called Sirtet...</td>\n",
       "      <td>{'inputs': ['2 2 1 1\n",
       "', '1 2 1 2\n",
       "', '485 117 3...</td>\n",
       "      <td>HARD</td>\n",
       "      <td>[combinatorics, matrices, math, constructive a...</td>\n",
       "      <td>[Matrices, Combinatorics, Mathematics, Constru...</td>\n",
       "      <td>[]</td>\n",
       "      <td>None</td>\n",
       "      <td>2 seconds</td>\n",
       "      <td>1</td>\n",
       "      <td>512 megabytes</td>\n",
       "      <td>None</td>\n",
       "    </tr>\n",
       "    <tr>\n",
       "      <th>4</th>\n",
       "      <td>Dima and Inna are doing so great! At the momen...</td>\n",
       "      <td>{'inputs': ['5 7 1 3 2 2\n",
       "', '5 5 2 3 1 1\n",
       "', '1...</td>\n",
       "      <td>HARD</td>\n",
       "      <td>[greedy, implementation]</td>\n",
       "      <td>[Implementation, Greedy algorithms]</td>\n",
       "      <td>[Greedy algorithms]</td>\n",
       "      <td>None</td>\n",
       "      <td>None</td>\n",
       "      <td>None</td>\n",
       "      <td>None</td>\n",
       "      <td>None</td>\n",
       "    </tr>\n",
       "  </tbody>\n",
       "</table>\n",
       "</div>"
      ],
      "text/plain": [
       "                                            question  \\\n",
       "0  Two integers A and B are the inputs. Write a p...   \n",
       "1  Limak is a grizzly bear who desires power and ...   \n",
       "2  Last year the world's largest square was built...   \n",
       "3  Alice has got addicted to a game called Sirtet...   \n",
       "4  Dima and Inna are doing so great! At the momen...   \n",
       "\n",
       "                                        input_output difficulty  \\\n",
       "0  {'inputs': [['3', '120 140', '10213 312', '10 ...       EASY   \n",
       "1  {'inputs': ['5\n",
       "5 1 11 2 8\n",
       "', '4\n",
       "1 8 8 8\n",
       "', '2\n",
       "...       EASY   \n",
       "2  {'inputs': ['99085 7738 98097 -6487\n",
       "', '1 2 2 ...       HARD   \n",
       "3  {'inputs': ['2 2 1 1\n",
       "', '1 2 1 2\n",
       "', '485 117 3...       HARD   \n",
       "4  {'inputs': ['5 7 1 3 2 2\n",
       "', '5 5 2 3 1 1\n",
       "', '1...       HARD   \n",
       "\n",
       "                                            raw_tags  \\\n",
       "0  [LCM, Mathematics, Algorithms, Number Theory, ...   \n",
       "1                           [greedy, implementation]   \n",
       "2                             [math, implementation]   \n",
       "3  [combinatorics, matrices, math, constructive a...   \n",
       "4                           [greedy, implementation]   \n",
       "\n",
       "                                                tags          skill_types  \\\n",
       "0       [Mathematics, Number theory, Implementation]                   []   \n",
       "1                [Implementation, Greedy algorithms]  [Greedy algorithms]   \n",
       "2                      [Mathematics, Implementation]                   []   \n",
       "3  [Matrices, Combinatorics, Mathematics, Constru...                   []   \n",
       "4                [Implementation, Greedy algorithms]  [Greedy algorithms]   \n",
       "\n",
       "  Expected Auxiliary Space   time_limit picture_num     memory_limit  \\\n",
       "0                     None    1 seconds           0      50000 bytes   \n",
       "1                     None         None        None             None   \n",
       "2                     None  2.0 seconds        None  256.0 megabytes   \n",
       "3                     None    2 seconds           1    512 megabytes   \n",
       "4                     None         None        None             None   \n",
       "\n",
       "  Expected Time Complexity  \n",
       "0                     None  \n",
       "1                     None  \n",
       "2                     None  \n",
       "3                     None  \n",
       "4                     None  "
      ]
     },
     "execution_count": 162,
     "metadata": {},
     "output_type": "execute_result"
    }
   ],
   "source": [
    "cleaned_df.head()"
   ]
  },
  {
   "cell_type": "code",
   "execution_count": 163,
   "id": "38cf65bb",
   "metadata": {},
   "outputs": [
    {
     "name": "stdout",
     "output_type": "stream",
     "text": [
      "<class 'pandas.core.frame.DataFrame'>\n",
      "RangeIndex: 19149 entries, 0 to 19148\n",
      "Data columns (total 12 columns):\n",
      " #   Column                    Non-Null Count  Dtype \n",
      "---  ------                    --------------  ----- \n",
      " 0   question                  19149 non-null  object\n",
      " 1   input_output              19149 non-null  object\n",
      " 2   difficulty                19149 non-null  object\n",
      " 3   raw_tags                  19149 non-null  object\n",
      " 4   tags                      19149 non-null  object\n",
      " 5   skill_types               19149 non-null  object\n",
      " 6   url                       17891 non-null  object\n",
      " 7   Expected Auxiliary Space  2386 non-null   object\n",
      " 8   time_limit                7915 non-null   object\n",
      " 9   picture_num               6710 non-null   object\n",
      " 10  memory_limit              7915 non-null   object\n",
      " 11  Expected Time Complexity  2603 non-null   object\n",
      "dtypes: object(12)\n",
      "memory usage: 1.8+ MB\n"
     ]
    }
   ],
   "source": [
    "cleaned_df.info()"
   ]
  },
  {
   "cell_type": "code",
   "execution_count": 164,
   "id": "6b14be33",
   "metadata": {},
   "outputs": [
    {
     "name": "stdout",
     "output_type": "stream",
     "text": [
      "[question]'s type: object\n",
      "[input_output]'s type: object\n",
      "[difficulty]'s type: object\n",
      "[raw_tags]'s type: object\n",
      "[tags]'s type: object\n",
      "[skill_types]'s type: object\n",
      "[Expected Auxiliary Space]'s type: object\n",
      "[time_limit]'s type: object\n",
      "[picture_num]'s type: object\n",
      "[memory_limit]'s type: object\n",
      "[Expected Time Complexity]'s type: object\n"
     ]
    }
   ],
   "source": [
    "for col in cleaned_df:\n",
    "  print(f'[{col}]\\'s type: {cleaned_df[col].dtype}')"
   ]
  },
  {
   "cell_type": "markdown",
   "id": "5be3ebbe",
   "metadata": {},
   "source": [
    "# Problems Selection\n"
   ]
  },
  {
   "cell_type": "code",
   "execution_count": 165,
   "id": "f4817a0b",
   "metadata": {},
   "outputs": [],
   "source": [
    "ps_df = cleaned_df.copy()"
   ]
  },
  {
   "cell_type": "markdown",
   "id": "586e7e0a",
   "metadata": {},
   "source": [
    "# Prompts Construction\n"
   ]
  },
  {
   "cell_type": "code",
   "execution_count": 166,
   "id": "3b02a794",
   "metadata": {},
   "outputs": [],
   "source": [
    "pc_df = ps_df.copy()"
   ]
  },
  {
   "cell_type": "code",
   "execution_count": 167,
   "id": "013dd7e0",
   "metadata": {},
   "outputs": [],
   "source": [
    "# pc_df.drop(columns=['url', 'picture_num'], axis=1, inplace=True)"
   ]
  },
  {
   "cell_type": "code",
   "execution_count": 168,
   "id": "2cf112e0",
   "metadata": {},
   "outputs": [
    {
     "data": {
      "text/html": [
       "<div>\n",
       "<style scoped>\n",
       "    .dataframe tbody tr th:only-of-type {\n",
       "        vertical-align: middle;\n",
       "    }\n",
       "\n",
       "    .dataframe tbody tr th {\n",
       "        vertical-align: top;\n",
       "    }\n",
       "\n",
       "    .dataframe thead th {\n",
       "        text-align: right;\n",
       "    }\n",
       "</style>\n",
       "<table border=\"1\" class=\"dataframe\">\n",
       "  <thead>\n",
       "    <tr style=\"text-align: right;\">\n",
       "      <th></th>\n",
       "      <th>question</th>\n",
       "      <th>input_output</th>\n",
       "      <th>difficulty</th>\n",
       "      <th>raw_tags</th>\n",
       "      <th>tags</th>\n",
       "      <th>skill_types</th>\n",
       "      <th>url</th>\n",
       "      <th>Expected Auxiliary Space</th>\n",
       "      <th>time_limit</th>\n",
       "      <th>picture_num</th>\n",
       "      <th>memory_limit</th>\n",
       "      <th>Expected Time Complexity</th>\n",
       "    </tr>\n",
       "  </thead>\n",
       "  <tbody>\n",
       "    <tr>\n",
       "      <th>0</th>\n",
       "      <td>Two integers A and B are the inputs. Write a p...</td>\n",
       "      <td>{'inputs': [['3', '120 140', '10213 312', '10 ...</td>\n",
       "      <td>EASY</td>\n",
       "      <td>[LCM, Mathematics, Algorithms, Number Theory, ...</td>\n",
       "      <td>[Mathematics, Number theory, Implementation]</td>\n",
       "      <td>[]</td>\n",
       "      <td>https://www.codechef.com/problems/FLOW016</td>\n",
       "      <td>None</td>\n",
       "      <td>1 seconds</td>\n",
       "      <td>0</td>\n",
       "      <td>50000 bytes</td>\n",
       "      <td>None</td>\n",
       "    </tr>\n",
       "    <tr>\n",
       "      <th>1</th>\n",
       "      <td>Limak is a grizzly bear who desires power and ...</td>\n",
       "      <td>{'inputs': ['5\n",
       "5 1 11 2 8\n",
       "', '4\n",
       "1 8 8 8\n",
       "', '2\n",
       "...</td>\n",
       "      <td>EASY</td>\n",
       "      <td>[greedy, implementation]</td>\n",
       "      <td>[Implementation, Greedy algorithms]</td>\n",
       "      <td>[Greedy algorithms]</td>\n",
       "      <td>https://codeforces.com/problemset/problem/574/A</td>\n",
       "      <td>None</td>\n",
       "      <td>None</td>\n",
       "      <td>None</td>\n",
       "      <td>None</td>\n",
       "      <td>None</td>\n",
       "    </tr>\n",
       "    <tr>\n",
       "      <th>2</th>\n",
       "      <td>Last year the world's largest square was built...</td>\n",
       "      <td>{'inputs': ['99085 7738 98097 -6487\n",
       "', '1 2 2 ...</td>\n",
       "      <td>HARD</td>\n",
       "      <td>[math, implementation]</td>\n",
       "      <td>[Mathematics, Implementation]</td>\n",
       "      <td>[]</td>\n",
       "      <td>https://codeforces.com/problemset/problem/40/C</td>\n",
       "      <td>None</td>\n",
       "      <td>2.0 seconds</td>\n",
       "      <td>None</td>\n",
       "      <td>256.0 megabytes</td>\n",
       "      <td>None</td>\n",
       "    </tr>\n",
       "    <tr>\n",
       "      <th>3</th>\n",
       "      <td>Alice has got addicted to a game called Sirtet...</td>\n",
       "      <td>{'inputs': ['2 2 1 1\n",
       "', '1 2 1 2\n",
       "', '485 117 3...</td>\n",
       "      <td>HARD</td>\n",
       "      <td>[combinatorics, matrices, math, constructive a...</td>\n",
       "      <td>[Matrices, Combinatorics, Mathematics, Constru...</td>\n",
       "      <td>[]</td>\n",
       "      <td>https://codeforces.com/problemset/problem/1332/E</td>\n",
       "      <td>None</td>\n",
       "      <td>2 seconds</td>\n",
       "      <td>1</td>\n",
       "      <td>512 megabytes</td>\n",
       "      <td>None</td>\n",
       "    </tr>\n",
       "    <tr>\n",
       "      <th>4</th>\n",
       "      <td>Dima and Inna are doing so great! At the momen...</td>\n",
       "      <td>{'inputs': ['5 7 1 3 2 2\n",
       "', '5 5 2 3 1 1\n",
       "', '1...</td>\n",
       "      <td>HARD</td>\n",
       "      <td>[greedy, implementation]</td>\n",
       "      <td>[Implementation, Greedy algorithms]</td>\n",
       "      <td>[Greedy algorithms]</td>\n",
       "      <td>https://codeforces.com/problemset/problem/374/A</td>\n",
       "      <td>None</td>\n",
       "      <td>None</td>\n",
       "      <td>None</td>\n",
       "      <td>None</td>\n",
       "      <td>None</td>\n",
       "    </tr>\n",
       "  </tbody>\n",
       "</table>\n",
       "</div>"
      ],
      "text/plain": [
       "                                            question  \\\n",
       "0  Two integers A and B are the inputs. Write a p...   \n",
       "1  Limak is a grizzly bear who desires power and ...   \n",
       "2  Last year the world's largest square was built...   \n",
       "3  Alice has got addicted to a game called Sirtet...   \n",
       "4  Dima and Inna are doing so great! At the momen...   \n",
       "\n",
       "                                        input_output difficulty  \\\n",
       "0  {'inputs': [['3', '120 140', '10213 312', '10 ...       EASY   \n",
       "1  {'inputs': ['5\n",
       "5 1 11 2 8\n",
       "', '4\n",
       "1 8 8 8\n",
       "', '2\n",
       "...       EASY   \n",
       "2  {'inputs': ['99085 7738 98097 -6487\n",
       "', '1 2 2 ...       HARD   \n",
       "3  {'inputs': ['2 2 1 1\n",
       "', '1 2 1 2\n",
       "', '485 117 3...       HARD   \n",
       "4  {'inputs': ['5 7 1 3 2 2\n",
       "', '5 5 2 3 1 1\n",
       "', '1...       HARD   \n",
       "\n",
       "                                            raw_tags  \\\n",
       "0  [LCM, Mathematics, Algorithms, Number Theory, ...   \n",
       "1                           [greedy, implementation]   \n",
       "2                             [math, implementation]   \n",
       "3  [combinatorics, matrices, math, constructive a...   \n",
       "4                           [greedy, implementation]   \n",
       "\n",
       "                                                tags          skill_types  \\\n",
       "0       [Mathematics, Number theory, Implementation]                   []   \n",
       "1                [Implementation, Greedy algorithms]  [Greedy algorithms]   \n",
       "2                      [Mathematics, Implementation]                   []   \n",
       "3  [Matrices, Combinatorics, Mathematics, Constru...                   []   \n",
       "4                [Implementation, Greedy algorithms]  [Greedy algorithms]   \n",
       "\n",
       "                                                url Expected Auxiliary Space  \\\n",
       "0         https://www.codechef.com/problems/FLOW016                     None   \n",
       "1   https://codeforces.com/problemset/problem/574/A                     None   \n",
       "2    https://codeforces.com/problemset/problem/40/C                     None   \n",
       "3  https://codeforces.com/problemset/problem/1332/E                     None   \n",
       "4   https://codeforces.com/problemset/problem/374/A                     None   \n",
       "\n",
       "    time_limit picture_num     memory_limit Expected Time Complexity  \n",
       "0    1 seconds           0      50000 bytes                     None  \n",
       "1         None        None             None                     None  \n",
       "2  2.0 seconds        None  256.0 megabytes                     None  \n",
       "3    2 seconds           1    512 megabytes                     None  \n",
       "4         None        None             None                     None  "
      ]
     },
     "execution_count": 168,
     "metadata": {},
     "output_type": "execute_result"
    }
   ],
   "source": [
    "pc_df.head()"
   ]
  },
  {
   "cell_type": "code",
   "execution_count": 169,
   "id": "b74de5d6",
   "metadata": {},
   "outputs": [
    {
     "name": "stdout",
     "output_type": "stream",
     "text": [
      "<class 'pandas.core.frame.DataFrame'>\n",
      "RangeIndex: 19149 entries, 0 to 19148\n",
      "Data columns (total 12 columns):\n",
      " #   Column                    Non-Null Count  Dtype \n",
      "---  ------                    --------------  ----- \n",
      " 0   question                  19149 non-null  object\n",
      " 1   input_output              19149 non-null  object\n",
      " 2   difficulty                19149 non-null  object\n",
      " 3   raw_tags                  19149 non-null  object\n",
      " 4   tags                      19149 non-null  object\n",
      " 5   skill_types               19149 non-null  object\n",
      " 6   url                       17891 non-null  object\n",
      " 7   Expected Auxiliary Space  2386 non-null   object\n",
      " 8   time_limit                7915 non-null   object\n",
      " 9   picture_num               6710 non-null   object\n",
      " 10  memory_limit              7915 non-null   object\n",
      " 11  Expected Time Complexity  2603 non-null   object\n",
      "dtypes: object(12)\n",
      "memory usage: 1.8+ MB\n"
     ]
    }
   ],
   "source": [
    "pc_df.info()"
   ]
  },
  {
   "cell_type": "code",
   "execution_count": 170,
   "id": "716fe02b",
   "metadata": {},
   "outputs": [
    {
     "data": {
      "text/plain": [
       "[\"Below is provided a **competitive programming** problem set.\\nPlease solve the problem set with:\\n1. No pre-assumptions (every assumption has to be structured in comments, whether it is inline or in a block).\\n2. **Solve using C++.**3. Keeping in mind that the solution can actually reproduce the correct inputs and outputs as will be provided.\\n4. Only provide solution as the answer without any alternatives **(pick the best of all possibilities with best practices and performance)**.5. **All explanation MUST be inside of the code itself in the forms of comments.**\\n**Question**\\nTwo integers A and B are the inputs. Write a program to find GCD and LCM of A and B.\\n\\n-----Input-----\\n\\nThe first line contains an integer T, total number of testcases. Then follow T lines, each line contains an integer A and B. \\n\\n-----Output-----\\nDisplay the GCD and LCM of A and B separated by space respectively. The answer for each test case must be displayed in a new line.\\n\\n-----Constraints-----\\n- 1 ≤ T ≤ 1000\\n- 1 ≤ A,B ≤ 1000000\\n\\n-----Example-----\\nInput\\n3 \\n120 140\\n10213 312\\n10 30\\n\\nOutput\\n\\n20 840\\n1 3186456\\n10 30\\n\\n**Input and Output**\\n{'inputs': [['3', '120 140', '10213 312', '10 30']], 'outputs': [['20 840', '1 3186456', '10 30']]}\\n**Difficulty: EASY**\\n\\n**Raw Tags: ['LCM', 'Mathematics', 'Algorithms', 'Number Theory', 'Implementation', 'GCD']**\\n\\n**Tags: ['Mathematics', 'Number theory', 'Implementation']**\\n\\n**Skill Types: []**\\n\\n**Expected Auxiliary Space: https://www.codechef.com/problems/FLOW016**\\n\\n**Time Limit: No time limit.**\\n\\n**Memory Limit: 1 seconds**\\n\\n**Expected Time Complexity: 0**\\n\",\n",
       " \"Below is provided a **competitive programming** problem set.\\nPlease solve the problem set with:\\n1. No pre-assumptions (every assumption has to be structured in comments, whether it is inline or in a block).\\n2. **Solve using C++.**3. Keeping in mind that the solution can actually reproduce the correct inputs and outputs as will be provided.\\n4. Only provide solution as the answer without any alternatives **(pick the best of all possibilities with best practices and performance)**.5. **All explanation MUST be inside of the code itself in the forms of comments.**\\n**Question**\\nLimak is a grizzly bear who desires power and adoration. He wants to win in upcoming elections and rule over the Bearland.\\n\\nThere are n candidates, including Limak. We know how many citizens are going to vote for each candidate. Now i-th candidate would get a_{i} votes. Limak is candidate number 1. To win in elections, he must get strictly more votes than any other candidate.\\n\\nVictory is more important than everything else so Limak decided to cheat. He will steal votes from his opponents by bribing some citizens. To bribe a citizen, Limak must give him or her one candy - citizens are bears and bears like candies. Limak doesn't have many candies and wonders - how many citizens does he have to bribe?\\n\\n\\n-----Input-----\\n\\nThe first line contains single integer n (2 ≤ n ≤ 100) - number of candidates.\\n\\nThe second line contains n space-separated integers a_1, a_2, ..., a_{n} (1 ≤ a_{i} ≤ 1000) - number of votes for each candidate. Limak is candidate number 1.\\n\\nNote that after bribing number of votes for some candidate might be zero or might be greater than 1000.\\n\\n\\n-----Output-----\\n\\nPrint the minimum number of citizens Limak must bribe to have strictly more votes than any other candidate.\\n\\n\\n-----Examples-----\\nInput\\n5\\n5 1 11 2 8\\n\\nOutput\\n4\\n\\nInput\\n4\\n1 8 8 8\\n\\nOutput\\n6\\n\\nInput\\n2\\n7 6\\n\\nOutput\\n0\\n\\n\\n\\n-----Note-----\\n\\nIn the first sample Limak has 5 votes. One of the ways to achieve victory is to bribe 4 citizens who want to vote for the third candidate. Then numbers of votes would be 9, 1, 7, 2, 8 (Limak would have 9 votes). Alternatively, Limak could steal only 3 votes from the third candidate and 1 vote from the second candidate to get situation 9, 0, 8, 2, 8.\\n\\nIn the second sample Limak will steal 2 votes from each candidate. Situation will be 7, 6, 6, 6.\\n\\nIn the third sample Limak is a winner without bribing any citizen.\\n\\n**Input and Output**\\n{'inputs': ['5\\\\n5 1 11 2 8\\\\n', '4\\\\n1 8 8 8\\\\n', '2\\\\n7 6\\\\n', '2\\\\n1 1\\\\n', '10\\\\n100 200 57 99 1 1000 200 200 200 500\\\\n', '16\\\\n7 1000 1000 1000 1000 1000 1000 1000 1000 1000 1000 1000 1000 1000 1000 1000\\\\n', '100\\\\n47 64 68 61 68 66 69 61 69 65 69 63 62 60 68 65 64 65 65 62 63 68 60 70 63 63 65 67 70 69 68 69 61 65 63 60 60 65 61 60 70 66 66 65 62 60 65 68 61 62 67 64 66 65 67 68 60 69 70 63 65 62 64 65 67 67 69 68 66 69 70 67 65 70 60 66 70 67 67 64 69 69 66 68 60 64 62 62 68 69 67 69 60 70 69 68 62 63 68 66\\\\n', '2\\\\n96 97\\\\n', '2\\\\n1000 1000\\\\n', '3\\\\n999 1000 1000\\\\n', '3\\\\n1 2 3\\\\n', '7\\\\n10 940 926 990 946 980 985\\\\n', '10\\\\n5 3 4 5 5 2 1 8 4 1\\\\n', '15\\\\n17 15 17 16 13 17 13 16 14 14 17 17 13 15 17\\\\n', '20\\\\n90 5 62 9 50 7 14 43 44 44 56 13 71 22 43 35 52 60 73 54\\\\n', '30\\\\n27 85 49 7 77 38 4 68 23 28 81 100 40 9 78 38 1 60 60 49 98 44 45 92 46 39 98 24 37 39\\\\n', '51\\\\n90 47 100 12 21 96 2 68 84 60 2 9 33 8 45 13 59 50 100 93 22 97 4 81 51 2 3 78 19 16 25 63 52 34 79 32 34 87 7 42 96 93 30 33 33 43 69 8 63 58 57\\\\n', '77\\\\n1000 2 2 3 1 1 1 3 3 2 1 1 3 2 2 2 3 2 3 1 3 1 1 2 2 2 3 1 1 2 2 2 3 2 1 3 3 1 2 3 3 3 2 1 3 2 1 3 3 2 3 3 2 1 3 1 1 1 2 3 2 3 1 3 1 2 1 2 2 2 1 2 2 3 2 2 2\\\\n', '91\\\\n3 92 89 83 85 80 91 94 95 82 92 95 80 88 90 85 81 90 87 86 94 88 90 87 88 82 95 84 84 93 83 95 91 85 89 88 88 85 87 90 93 80 89 95 94 92 93 86 83 82 86 84 91 80 90 95 84 86 84 85 84 92 82 84 83 91 87 95 94 95 90 95 86 92 86 80 95 86 88 80 82 87 84 83 91 93 81 81 91 89 88\\\\n', '100\\\\n1 3 71 47 64 82 58 61 61 35 52 36 57 62 63 54 52 21 78 100 24 94 4 80 99 62 43 72 21 70 90 4 23 14 72 4 76 49 71 96 96 99 78 7 32 11 14 61 19 69 1 68 100 77 86 54 14 86 47 53 30 88 67 66 61 70 17 63 40 5 99 53 38 31 91 18 41 5 77 61 53 30 87 21 23 54 52 17 23 75 58 99 99 63 20 1 78 72 28 11\\\\n', '100\\\\n1 100 100 100 100 100 100 100 100 100 100 100 100 100 100 100 100 100 100 100 100 100 100 100 100 100 100 100 100 100 100 100 100 100 100 100 100 100 100 100 100 100 100 100 100 100 100 100 100 100 100 100 100 100 100 100 100 100 100 100 100 100 100 100 100 100 100 100 100 100 100 100 100 100 100 100 100 100 100 100 100 100 100 100 100 100 100 100 100 100 100 100 100 100 100 100 100 100 100 100\\\\n', '94\\\\n3 100 100 99 99 99 100 99 99 99 99 99 100 99 100 100 99 100 99 99 100 99 100 99 100 100 100 99 100 99 100 99 100 99 99 99 100 99 99 99 99 99 100 99 100 100 99 100 99 99 99 99 100 99 100 99 99 99 100 100 99 100 100 99 99 100 100 100 99 100 99 99 99 99 99 100 100 100 100 100 100 100 100 100 99 99 99 99 100 99 100 99 100 100\\\\n', '97\\\\n99 99 98 98 100 98 99 99 98 100 100 100 99 99 100 99 99 98 99 99 98 98 98 100 100 99 98 99 100 98 99 98 98 100 98 99 100 98 98 99 98 98 99 98 100 99 99 99 99 98 98 98 100 99 100 100 99 99 100 99 99 98 98 98 100 100 98 100 100 99 98 99 100 98 98 98 98 99 99 98 98 99 100 100 98 98 99 98 99 100 98 99 100 98 99 99 100\\\\n', '100\\\\n100 55 70 81 73 51 6 75 45 85 33 61 98 63 11 59 1 8 14 28 78 74 44 80 7 69 7 5 90 73 43 78 64 64 43 92 59 70 80 19 33 39 31 70 38 85 24 23 86 79 98 56 92 63 92 4 36 8 79 74 2 81 54 13 69 44 49 63 17 76 78 99 42 36 47 71 19 90 9 58 83 53 27 2 35 51 65 59 90 51 74 87 84 48 98 44 84 100 84 93\\\\n', '100\\\\n100 637 498 246 615 901 724 673 793 33 282 908 477 185 185 969 34 859 90 70 107 492 227 918 919 131 620 182 802 703 779 184 403 891 448 499 628 553 905 392 70 396 8 575 66 908 992 496 792 174 667 355 836 610 855 377 244 827 836 808 667 354 800 114 746 556 75 894 162 367 99 718 394 273 833 776 151 433 315 470 759 12 552 613 85 793 775 649 225 86 296 624 557 201 209 595 697 527 282 168\\\\n', '100\\\\n107 172 549 883 564 56 399 970 173 990 224 217 601 381 948 631 159 958 512 136 61 584 633 202 652 355 26 723 663 237 410 721 688 552 699 24 748 186 461 88 34 243 872 205 471 298 654 693 244 33 359 533 471 116 386 653 654 887 531 303 335 829 319 340 827 89 602 191 422 289 361 200 593 421 592 402 256 813 606 589 741 9 148 893 3 142 50 169 219 360 642 45 810 818 507 624 561 743 303 111\\\\n', '90\\\\n670 694 651 729 579 539 568 551 707 638 604 544 502 531 775 805 558 655 506 729 802 778 653 737 591 770 594 535 588 604 658 713 779 705 504 563 513 651 529 572 505 553 515 750 621 574 727 774 714 725 665 798 670 747 751 635 755 798 635 717 583 682 517 546 740 802 743 507 658 700 645 671 533 594 506 633 768 584 672 666 703 522 530 501 592 528 678 708 619 786\\\\n', '90\\\\n10 265 429 431 343 305 806 746 284 313 503 221 594 351 83 653 232 431 427 610 458 88 255 215 529 205 492 549 55 694 535 104 45 327 816 432 595 549 454 141 216 557 250 415 531 494 190 749 718 380 78 447 784 347 196 814 16 780 262 462 776 315 160 307 593 694 692 41 528 725 376 777 337 44 438 630 345 502 384 184 742 429 570 361 394 267 820 778 662 377\\\\n', '95\\\\n800 280 176 472 587 763 588 838 760 378 667 231 566 278 713 305 354 815 140 220 188 409 109 180 251 268 474 590 853 143 235 691 313 785 386 92 783 471 43 342 718 592 678 404 256 362 239 504 163 85 521 81 356 73 754 589 380 159 196 862 838 509 149 42 366 630 467 292 698 123 187 796 576 37 689 800 186 518 488 432 159 860 349 799 282 304 880 283 23 312 55 507 734 370 490\\\\n', '100\\\\n95 88 84 85 74 97 100 52 91 94 62 66 90 56 86 66 95 73 79 68 54 67 99 52 82 62 81 71 93 85 72 72 95 52 72 63 57 90 92 89 88 77 84 78 95 59 72 86 98 64 89 64 80 70 54 93 88 86 79 78 94 64 89 66 50 90 54 82 52 96 99 54 81 66 83 79 69 80 51 73 81 69 93 82 76 52 58 87 93 92 52 67 78 63 63 87 77 95 58 78\\\\n', '100\\\\n1000 1000 1000 1000 1000 1000 1000 1000 1000 1000 1000 1000 1000 1000 1000 1000 1000 1000 1000 1000 1000 1000 1000 1000 1000 1000 1000 1000 1000 1000 1000 1000 1000 1000 1000 1000 1000 1000 1000 1000 1000 1000 1000 1000 1000 1000 1000 1000 1000 1000 1000 1000 1000 1000 1000 1000 1000 1000 1000 1000 1000 1000 1000 1000 1000 1000 1000 1000 1000 1000 1000 1000 1000 1000 1000 1000 1000 1000 1000 1000 1000 1000 1000 1000 1000 1000 1000 1000 1000 1000 1000 1000 1000 1000 1000 1000 1000 1000 1000 1000\\\\n', '100\\\\n999 1000 1000 1000 1000 1000 1000 1000 1000 1000 1000 1000 1000 1000 1000 1000 1000 1000 1000 1000 1000 1000 1000 1000 1000 1000 1000 1000 1000 1000 1000 1000 1000 1000 1000 1000 1000 1000 1000 1000 1000 1000 1000 1000 1000 1000 1000 1000 1000 1000 1000 1000 1000 1000 1000 1000 1000 1000 1000 1000 1000 1000 1000 1000 1000 1000 1000 1000 1000 1000 1000 1000 1000 1000 1000 1000 1000 1000 1000 1000 1000 1000 1000 1000 1000 1000 1000 1000 1000 1000 1000 1000 1000 1000 1000 1000 1000 1000 1000 1000\\\\n', '100\\\\n901 1000 1000 1000 1000 1000 1000 1000 1000 1000 1000 1000 1000 1000 1000 1000 1000 1000 1000 1000 1000 1000 1000 1000 1000 1000 1000 1000 1000 1000 1000 1000 1000 1000 1000 1000 1000 1000 1000 1000 1000 1000 1000 1000 1000 1000 1000 1000 1000 1000 1000 1000 1000 1000 1000 1000 1000 1000 1000 1000 1000 1000 1000 1000 1000 1000 1000 1000 1000 1000 1000 1000 1000 1000 1000 1000 1000 1000 1000 1000 1000 1000 1000 1000 1000 1000 1000 1000 1000 1000 1000 1000 1000 1000 1000 1000 1000 1000 1000 1000\\\\n', '4\\\\n8 5 11 3\\\\n', '3\\\\n3 10 1\\\\n', '100\\\\n1 100 100 100 100 100 100 100 100 100 100 100 100 100 100 100 100 100 100 100 100 100 100 100 100 100 100 100 100 100 100 100 100 100 100 100 100 100 100 100 100 100 100 100 100 100 100 100 100 100 100 100 100 100 100 100 100 100 100 100 100 100 100 100 100 100 100 100 100 100 100 100 100 100 100 100 100 100 100 100 100 100 100 100 100 100 100 100 100 100 100 100 100 100 100 100 100 100 100 100\\\\n', '51\\\\n90 47 100 12 21 96 2 68 84 60 2 9 33 8 45 13 59 50 100 93 22 97 4 81 51 2 3 78 19 16 25 63 52 34 79 32 34 87 7 42 96 93 30 33 33 43 69 8 63 58 57\\\\n', '10\\\\n100 200 57 99 1 1000 200 200 200 500\\\\n', '100\\\\n47 64 68 61 68 66 69 61 69 65 69 63 62 60 68 65 64 65 65 62 63 68 60 70 63 63 65 67 70 69 68 69 61 65 63 60 60 65 61 60 70 66 66 65 62 60 65 68 61 62 67 64 66 65 67 68 60 69 70 63 65 62 64 65 67 67 69 68 66 69 70 67 65 70 60 66 70 67 67 64 69 69 66 68 60 64 62 62 68 69 67 69 60 70 69 68 62 63 68 66\\\\n', '30\\\\n27 85 49 7 77 38 4 68 23 28 81 100 40 9 78 38 1 60 60 49 98 44 45 92 46 39 98 24 37 39\\\\n', '20\\\\n90 5 62 9 50 7 14 43 44 44 56 13 71 22 43 35 52 60 73 54\\\\n', '100\\\\n901 1000 1000 1000 1000 1000 1000 1000 1000 1000 1000 1000 1000 1000 1000 1000 1000 1000 1000 1000 1000 1000 1000 1000 1000 1000 1000 1000 1000 1000 1000 1000 1000 1000 1000 1000 1000 1000 1000 1000 1000 1000 1000 1000 1000 1000 1000 1000 1000 1000 1000 1000 1000 1000 1000 1000 1000 1000 1000 1000 1000 1000 1000 1000 1000 1000 1000 1000 1000 1000 1000 1000 1000 1000 1000 1000 1000 1000 1000 1000 1000 1000 1000 1000 1000 1000 1000 1000 1000 1000 1000 1000 1000 1000 1000 1000 1000 1000 1000 1000\\\\n', '2\\\\n1 1\\\\n', '100\\\\n100 55 70 81 73 51 6 75 45 85 33 61 98 63 11 59 1 8 14 28 78 74 44 80 7 69 7 5 90 73 43 78 64 64 43 92 59 70 80 19 33 39 31 70 38 85 24 23 86 79 98 56 92 63 92 4 36 8 79 74 2 81 54 13 69 44 49 63 17 76 78 99 42 36 47 71 19 90 9 58 83 53 27 2 35 51 65 59 90 51 74 87 84 48 98 44 84 100 84 93\\\\n', '15\\\\n17 15 17 16 13 17 13 16 14 14 17 17 13 15 17\\\\n', '91\\\\n3 92 89 83 85 80 91 94 95 82 92 95 80 88 90 85 81 90 87 86 94 88 90 87 88 82 95 84 84 93 83 95 91 85 89 88 88 85 87 90 93 80 89 95 94 92 93 86 83 82 86 84 91 80 90 95 84 86 84 85 84 92 82 84 83 91 87 95 94 95 90 95 86 92 86 80 95 86 88 80 82 87 84 83 91 93 81 81 91 89 88\\\\n', '90\\\\n670 694 651 729 579 539 568 551 707 638 604 544 502 531 775 805 558 655 506 729 802 778 653 737 591 770 594 535 588 604 658 713 779 705 504 563 513 651 529 572 505 553 515 750 621 574 727 774 714 725 665 798 670 747 751 635 755 798 635 717 583 682 517 546 740 802 743 507 658 700 645 671 533 594 506 633 768 584 672 666 703 522 530 501 592 528 678 708 619 786\\\\n', '100\\\\n107 172 549 883 564 56 399 970 173 990 224 217 601 381 948 631 159 958 512 136 61 584 633 202 652 355 26 723 663 237 410 721 688 552 699 24 748 186 461 88 34 243 872 205 471 298 654 693 244 33 359 533 471 116 386 653 654 887 531 303 335 829 319 340 827 89 602 191 422 289 361 200 593 421 592 402 256 813 606 589 741 9 148 893 3 142 50 169 219 360 642 45 810 818 507 624 561 743 303 111\\\\n', '4\\\\n8 5 11 3\\\\n', '2\\\\n96 97\\\\n', '100\\\\n100 637 498 246 615 901 724 673 793 33 282 908 477 185 185 969 34 859 90 70 107 492 227 918 919 131 620 182 802 703 779 184 403 891 448 499 628 553 905 392 70 396 8 575 66 908 992 496 792 174 667 355 836 610 855 377 244 827 836 808 667 354 800 114 746 556 75 894 162 367 99 718 394 273 833 776 151 433 315 470 759 12 552 613 85 793 775 649 225 86 296 624 557 201 209 595 697 527 282 168\\\\n', '95\\\\n800 280 176 472 587 763 588 838 760 378 667 231 566 278 713 305 354 815 140 220 188 409 109 180 251 268 474 590 853 143 235 691 313 785 386 92 783 471 43 342 718 592 678 404 256 362 239 504 163 85 521 81 356 73 754 589 380 159 196 862 838 509 149 42 366 630 467 292 698 123 187 796 576 37 689 800 186 518 488 432 159 860 349 799 282 304 880 283 23 312 55 507 734 370 490\\\\n', '3\\\\n999 1000 1000\\\\n', '3\\\\n1 2 3\\\\n', '10\\\\n5 3 4 5 5 2 1 8 4 1\\\\n', '7\\\\n10 940 926 990 946 980 985\\\\n', '100\\\\n1000 1000 1000 1000 1000 1000 1000 1000 1000 1000 1000 1000 1000 1000 1000 1000 1000 1000 1000 1000 1000 1000 1000 1000 1000 1000 1000 1000 1000 1000 1000 1000 1000 1000 1000 1000 1000 1000 1000 1000 1000 1000 1000 1000 1000 1000 1000 1000 1000 1000 1000 1000 1000 1000 1000 1000 1000 1000 1000 1000 1000 1000 1000 1000 1000 1000 1000 1000 1000 1000 1000 1000 1000 1000 1000 1000 1000 1000 1000 1000 1000 1000 1000 1000 1000 1000 1000 1000 1000 1000 1000 1000 1000 1000 1000 1000 1000 1000 1000 1000\\\\n', '100\\\\n999 1000 1000 1000 1000 1000 1000 1000 1000 1000 1000 1000 1000 1000 1000 1000 1000 1000 1000 1000 1000 1000 1000 1000 1000 1000 1000 1000 1000 1000 1000 1000 1000 1000 1000 1000 1000 1000 1000 1000 1000 1000 1000 1000 1000 1000 1000 1000 1000 1000 1000 1000 1000 1000 1000 1000 1000 1000 1000 1000 1000 1000 1000 1000 1000 1000 1000 1000 1000 1000 1000 1000 1000 1000 1000 1000 1000 1000 1000 1000 1000 1000 1000 1000 1000 1000 1000 1000 1000 1000 1000 1000 1000 1000 1000 1000 1000 1000 1000 1000\\\\n', '77\\\\n1000 2 2 3 1 1 1 3 3 2 1 1 3 2 2 2 3 2 3 1 3 1 1 2 2 2 3 1 1 2 2 2 3 2 1 3 3 1 2 3 3 3 2 1 3 2 1 3 3 2 3 3 2 1 3 1 1 1 2 3 2 3 1 3 1 2 1 2 2 2 1 2 2 3 2 2 2\\\\n', '16\\\\n7 1000 1000 1000 1000 1000 1000 1000 1000 1000 1000 1000 1000 1000 1000 1000\\\\n', '100\\\\n95 88 84 85 74 97 100 52 91 94 62 66 90 56 86 66 95 73 79 68 54 67 99 52 82 62 81 71 93 85 72 72 95 52 72 63 57 90 92 89 88 77 84 78 95 59 72 86 98 64 89 64 80 70 54 93 88 86 79 78 94 64 89 66 50 90 54 82 52 96 99 54 81 66 83 79 69 80 51 73 81 69 93 82 76 52 58 87 93 92 52 67 78 63 63 87 77 95 58 78\\\\n', '94\\\\n3 100 100 99 99 99 100 99 99 99 99 99 100 99 100 100 99 100 99 99 100 99 100 99 100 100 100 99 100 99 100 99 100 99 99 99 100 99 99 99 99 99 100 99 100 100 99 100 99 99 99 99 100 99 100 99 99 99 100 100 99 100 100 99 99 100 100 100 99 100 99 99 99 99 99 100 100 100 100 100 100 100 100 100 99 99 99 99 100 99 100 99 100 100\\\\n', '90\\\\n10 265 429 431 343 305 806 746 284 313 503 221 594 351 83 653 232 431 427 610 458 88 255 215 529 205 492 549 55 694 535 104 45 327 816 432 595 549 454 141 216 557 250 415 531 494 190 749 718 380 78 447 784 347 196 814 16 780 262 462 776 315 160 307 593 694 692 41 528 725 376 777 337 44 438 630 345 502 384 184 742 429 570 361 394 267 820 778 662 377\\\\n', '3\\\\n3 10 1\\\\n', '100\\\\n1 3 71 47 64 82 58 61 61 35 52 36 57 62 63 54 52 21 78 100 24 94 4 80 99 62 43 72 21 70 90 4 23 14 72 4 76 49 71 96 96 99 78 7 32 11 14 61 19 69 1 68 100 77 86 54 14 86 47 53 30 88 67 66 61 70 17 63 40 5 99 53 38 31 91 18 41 5 77 61 53 30 87 21 23 54 52 17 23 75 58 99 99 63 20 1 78 72 28 11\\\\n', '2\\\\n1000 1000\\\\n', '97\\\\n99 99 98 98 100 98 99 99 98 100 100 100 99 99 100 99 99 98 99 99 98 98 98 100 100 99 98 99 100 98 99 98 98 100 98 99 100 98 98 99 98 98 99 98 100 99 99 99 99 98 98 98 100 99 100 100 99 99 100 99 99 98 98 98 100 100 98 100 100 99 98 99 100 98 98 98 98 99 99 98 98 99 100 100 98 98 99 98 99 100 98 99 100 98 99 99 100\\\\n', '51\\\\n90 47 100 12 21 96 2 68 84 60 2 9 33 8 45 13 59 50 100 93 22 97 4 81 51 2 3 47 19 16 25 63 52 34 79 32 34 87 7 42 96 93 30 33 33 43 69 8 63 58 57\\\\n', '10\\\\n100 200 57 99 1 1000 200 194 200 500\\\\n', '100\\\\n47 64 68 61 68 66 69 61 69 65 69 63 62 60 68 65 64 65 65 62 63 68 60 70 63 63 65 67 70 69 68 69 61 65 63 60 60 65 61 60 70 66 66 65 62 60 53 68 61 62 67 64 66 65 67 68 60 69 70 63 65 62 64 65 67 67 69 68 66 69 70 67 65 70 60 66 70 67 67 64 69 69 66 68 60 64 62 62 68 69 67 69 60 70 69 68 62 63 68 66\\\\n', '30\\\\n27 85 49 7 77 38 4 68 23 28 81 100 40 9 78 38 1 60 60 49 98 49 45 92 46 39 98 24 37 39\\\\n', '20\\\\n90 5 62 9 50 7 14 43 44 44 56 13 71 22 43 35 8 60 73 54\\\\n', '2\\\\n1 2\\\\n', '15\\\\n17 15 17 16 13 17 13 16 14 14 17 17 13 15 26\\\\n', '91\\\\n3 92 89 83 85 80 91 94 95 82 92 95 80 88 90 85 81 87 87 86 94 88 90 87 88 82 95 84 84 93 83 95 91 85 89 88 88 85 87 90 93 80 89 95 94 92 93 86 83 82 86 84 91 80 90 95 84 86 84 85 84 92 82 84 83 91 87 95 94 95 90 95 86 92 86 80 95 86 88 80 82 87 84 83 91 93 81 81 91 89 88\\\\n', '90\\\\n670 694 651 729 579 539 568 551 707 638 604 544 502 531 775 805 558 655 506 729 802 778 653 737 591 770 594 535 588 604 658 713 779 705 504 563 513 651 529 572 505 553 515 750 621 574 727 774 714 725 665 798 670 747 751 635 755 798 635 717 583 682 517 681 740 802 743 507 658 700 645 671 533 594 506 633 768 584 672 666 703 522 530 501 592 528 678 708 619 786\\\\n', '100\\\\n107 172 549 883 564 56 399 970 173 990 224 217 601 381 948 631 159 958 512 136 61 584 633 202 652 355 26 723 663 237 410 721 688 552 699 24 748 186 461 88 34 243 872 205 471 298 654 693 244 33 359 533 471 116 386 653 654 887 531 303 335 829 319 340 827 89 602 191 422 289 361 200 593 421 592 402 256 813 606 589 741 9 148 893 3 142 50 169 14 360 642 45 810 818 507 624 561 743 303 111\\\\n', '4\\\\n8 5 11 1\\\\n', '95\\\\n800 280 176 472 587 763 588 838 760 378 667 231 566 278 713 305 354 815 140 220 188 409 109 180 251 268 474 590 853 143 235 691 313 785 386 92 783 471 43 342 718 592 678 404 494 362 239 504 163 85 521 81 356 73 754 589 380 159 196 862 838 509 149 42 366 630 467 292 698 123 187 796 576 37 689 800 186 518 488 432 159 860 349 799 282 304 880 283 23 312 55 507 734 370 490\\\\n', '100\\\\n95 88 84 85 74 97 100 52 91 94 62 66 90 56 86 66 95 73 79 68 54 67 99 52 82 62 81 71 93 85 72 72 95 52 72 63 57 90 92 89 88 77 84 78 95 59 72 86 98 64 89 64 80 70 54 93 88 86 79 78 94 64 89 66 50 90 54 116 52 96 99 54 81 66 83 79 69 80 51 73 81 69 93 82 76 52 58 87 93 92 52 67 78 63 63 87 77 95 58 78\\\\n', '94\\\\n3 100 100 99 99 99 100 99 99 4 99 99 100 99 100 100 99 100 99 99 100 99 100 99 100 100 100 99 100 99 100 99 100 99 99 99 100 99 99 99 99 99 100 99 100 100 99 100 99 99 99 99 100 99 100 99 99 99 100 100 99 100 100 99 99 100 100 100 99 100 99 99 99 99 99 100 100 100 100 100 100 100 100 100 99 99 99 99 100 99 100 99 100 100\\\\n', '90\\\\n10 265 429 431 343 305 806 746 284 313 503 221 594 351 83 653 232 431 427 610 458 88 255 215 529 205 492 549 55 694 535 104 45 327 816 432 595 549 454 141 216 557 250 415 531 494 190 749 718 380 78 447 784 347 196 814 16 780 262 462 776 315 160 307 593 694 692 41 528 725 376 777 336 44 438 630 345 502 384 184 742 429 570 361 394 267 820 778 662 377\\\\n', '100\\\\n1 3 71 47 64 82 58 61 61 35 52 36 57 62 63 54 52 21 78 100 24 94 4 80 99 62 43 72 21 70 90 2 23 14 72 4 76 49 71 96 96 99 78 7 32 11 14 61 19 69 1 68 100 77 86 54 14 86 47 53 30 88 67 66 61 70 17 63 40 5 99 53 38 31 91 18 41 5 77 61 53 30 87 21 23 54 52 17 23 75 58 99 99 63 20 1 78 72 28 11\\\\n', '4\\\\n1 8 6 8\\\\n', '30\\\\n3 85 49 7 77 38 4 68 23 28 81 100 40 9 78 38 1 60 60 49 98 49 45 92 46 39 98 24 37 39\\\\n', '15\\\\n17 15 25 16 13 17 13 16 14 14 17 17 13 15 26\\\\n', '51\\\\n90 47 100 12 21 96 2 68 84 60 2 9 33 8 45 13 59 50 100 93 22 97 4 81 51 2 3 47 19 16 25 63 52 34 79 32 6 87 7 42 107 93 30 33 33 43 69 8 63 58 57\\\\n', '100\\\\n107 172 549 883 564 56 399 970 173 990 224 217 601 381 948 631 159 958 512 136 61 584 633 202 652 355 26 723 663 237 410 721 688 879 699 24 748 186 461 88 34 243 872 205 471 298 654 693 244 33 359 533 471 116 386 653 654 887 531 303 335 829 319 340 827 89 602 191 422 289 361 200 593 421 592 402 256 813 606 589 741 9 148 893 3 113 50 169 14 360 642 45 810 818 291 624 561 743 303 111\\\\n', '4\\\\n8 5 14 1\\\\n', '100\\\\n95 88 84 85 74 97 100 52 91 94 62 66 90 56 86 66 95 127 79 68 54 67 99 52 82 62 81 71 93 85 72 72 95 52 72 63 57 90 92 89 88 77 84 78 95 59 72 86 98 64 89 64 80 70 54 93 88 86 79 78 94 64 89 66 50 90 54 116 52 96 99 54 81 66 83 79 69 80 51 73 81 69 93 82 31 52 58 87 93 92 52 67 78 63 9 87 77 95 58 78\\\\n', '100\\\\n100 55 70 81 73 51 6 75 45 85 33 61 98 42 11 59 1 8 14 28 78 74 44 80 7 69 7 5 90 73 43 78 64 64 43 92 59 70 80 19 33 39 31 70 38 85 24 23 86 79 98 56 92 63 92 4 36 8 79 74 2 81 54 13 69 44 49 63 17 76 78 99 42 36 47 71 19 90 9 58 83 53 27 2 35 51 65 59 90 51 74 87 84 48 98 44 84 100 84 93\\\\n', '2\\\\n120 97\\\\n', '10\\\\n7 3 4 5 5 2 1 8 4 1\\\\n', '3\\\\n3 3 1\\\\n', '97\\\\n99 99 98 98 100 98 99 99 98 100 100 100 99 99 100 99 99 98 99 99 98 98 98 100 100 92 98 99 100 98 99 98 98 100 98 99 100 98 98 99 98 98 99 98 100 99 99 99 99 98 98 98 100 99 100 100 99 99 100 99 99 98 98 98 100 100 98 100 100 99 98 99 100 98 98 98 98 99 99 98 98 99 100 100 98 98 99 98 99 100 98 99 100 98 99 99 100\\\\n', '2\\\\n3 6\\\\n', '51\\\\n90 47 100 12 21 96 2 68 84 60 2 9 33 8 45 13 59 50 100 93 22 97 4 81 51 2 3 47 19 16 25 63 52 34 79 32 6 87 7 42 96 93 30 33 33 43 69 8 63 58 57\\\\n', '10\\\\n100 200 57 99 1 1000 200 194 207 500\\\\n', '100\\\\n47 64 68 61 68 66 69 37 69 65 69 63 62 60 68 65 64 65 65 62 63 68 60 70 63 63 65 67 70 69 68 69 61 65 63 60 60 65 61 60 70 66 66 65 62 60 53 68 61 62 67 64 66 65 67 68 60 69 70 63 65 62 64 65 67 67 69 68 66 69 70 67 65 70 60 66 70 67 67 64 69 69 66 68 60 64 62 62 68 69 67 69 60 70 69 68 62 63 68 66\\\\n', '20\\\\n90 5 62 9 50 7 14 43 44 42 56 13 71 22 43 35 8 60 73 54\\\\n', '100\\\\n100 55 70 81 73 51 6 75 45 85 33 61 98 42 11 59 1 8 14 28 78 74 44 80 7 69 7 5 90 73 43 78 64 64 43 92 59 70 80 19 57 39 31 70 38 85 24 23 86 79 98 56 92 63 92 4 36 8 79 74 2 81 54 13 69 44 49 63 17 76 78 99 42 36 47 71 19 90 9 58 83 53 27 2 35 51 65 59 90 51 74 87 84 48 98 44 84 100 84 93\\\\n', '91\\\\n3 92 89 83 85 80 91 94 95 82 92 95 80 88 90 85 16 87 87 86 94 88 90 87 88 82 95 84 84 93 83 95 91 85 89 88 88 85 87 90 93 80 89 95 94 92 93 86 83 82 86 84 91 80 90 95 84 86 84 85 84 92 82 84 83 91 87 95 94 95 90 95 86 92 86 80 95 86 88 80 82 87 84 83 91 93 81 81 91 89 88\\\\n', '100\\\\n107 172 549 883 564 56 399 970 173 990 224 217 601 381 948 631 159 958 512 136 61 584 633 202 652 355 26 723 663 237 410 721 688 552 699 24 748 186 461 88 34 243 872 205 471 298 654 693 244 33 359 533 471 116 386 653 654 887 531 303 335 829 319 340 827 89 602 191 422 289 361 200 593 421 592 402 256 813 606 589 741 9 148 893 3 142 50 169 14 360 642 45 810 818 291 624 561 743 303 111\\\\n', '4\\\\n8 5 22 1\\\\n', '2\\\\n120 140\\\\n', '95\\\\n800 280 176 472 587 763 588 838 760 378 667 231 566 278 713 305 354 815 140 220 188 409 109 180 251 268 474 590 853 143 235 691 313 785 386 92 783 471 43 342 718 592 678 404 494 362 239 504 163 85 521 81 356 73 754 589 380 159 196 862 838 509 149 42 366 630 467 292 698 123 187 796 576 37 689 800 186 518 488 432 159 860 440 799 282 304 880 283 23 312 55 507 734 370 490\\\\n', '10\\\\n7 1 4 5 5 2 1 8 4 1\\\\n', '100\\\\n95 88 84 85 74 97 100 52 91 94 62 66 90 56 86 66 95 73 79 68 54 67 99 52 82 62 81 71 93 85 72 72 95 52 72 63 57 90 92 89 88 77 84 78 95 59 72 86 98 64 89 64 80 70 54 93 88 86 79 78 94 64 89 66 50 90 54 116 52 96 99 54 81 66 83 79 69 80 51 73 81 69 93 82 76 52 58 87 93 92 52 67 78 63 9 87 77 95 58 78\\\\n', '94\\\\n3 100 100 99 99 99 100 99 99 4 99 99 100 99 100 100 99 100 99 99 100 99 100 99 100 100 100 99 100 99 100 99 100 99 99 99 100 99 99 99 99 99 100 99 100 100 99 100 99 99 99 99 100 99 100 99 99 99 100 100 99 100 100 99 99 100 100 100 99 100 99 99 99 99 99 100 100 100 100 100 100 100 100 100 99 99 99 99 100 6 100 99 100 100\\\\n', '90\\\\n10 265 429 431 343 305 806 746 284 313 503 221 594 351 83 653 232 431 427 610 458 88 255 215 529 205 492 549 55 694 535 104 45 327 816 432 595 549 454 141 216 557 250 415 531 494 190 749 718 380 78 447 784 347 196 814 16 780 262 462 776 315 160 307 593 694 692 41 528 725 376 777 336 42 438 630 345 502 384 184 742 429 570 361 394 267 820 778 662 377\\\\n', '3\\\\n3 3 2\\\\n', '100\\\\n1 3 71 47 64 82 58 61 61 35 52 36 57 62 63 54 52 21 78 100 24 94 4 80 99 62 43 72 21 70 90 2 23 14 72 4 76 49 71 96 96 99 78 7 32 11 14 61 19 69 1 68 100 77 86 54 14 86 47 53 30 88 67 66 61 70 17 63 40 5 99 53 38 31 91 18 41 5 77 61 53 30 87 21 23 54 52 17 23 75 58 99 99 63 20 1 78 49 28 11\\\\n', '97\\\\n99 99 98 98 100 98 99 99 98 100 100 100 99 17 100 99 99 98 99 99 98 98 98 100 100 92 98 99 100 98 99 98 98 100 98 99 100 98 98 99 98 98 99 98 100 99 99 99 99 98 98 98 100 99 100 100 99 99 100 99 99 98 98 98 100 100 98 100 100 99 98 99 100 98 98 98 98 99 99 98 98 99 100 100 98 98 99 98 99 100 98 99 100 98 99 99 100\\\\n', '2\\\\n3 11\\\\n', '4\\\\n1 8 6 12\\\\n', '10\\\\n100 200 57 99 1 1000 200 300 207 500\\\\n', '100\\\\n47 64 68 61 68 66 69 37 69 65 69 63 62 60 68 65 64 65 65 62 63 68 60 70 63 63 65 67 70 69 68 69 61 65 63 60 60 65 61 60 70 66 66 65 62 60 53 68 61 62 67 64 66 65 67 68 60 69 70 63 65 62 64 65 67 67 69 68 66 69 70 67 65 70 60 66 70 67 67 64 69 69 66 46 60 64 62 62 68 69 67 69 60 70 69 68 62 63 68 66\\\\n', '30\\\\n3 85 49 7 77 38 4 68 23 28 35 100 40 9 78 38 1 60 60 49 98 49 45 92 46 39 98 24 37 39\\\\n', '20\\\\n90 5 62 9 50 7 14 43 36 42 56 13 71 22 43 35 8 60 73 54\\\\n', '100\\\\n100 55 70 81 73 51 6 75 45 85 33 61 98 42 11 59 1 8 14 28 78 74 44 80 7 69 7 5 90 73 43 78 64 64 43 92 59 70 80 19 57 39 31 70 38 85 24 23 86 79 98 56 92 63 92 4 36 8 79 74 2 81 54 13 69 44 49 63 17 76 78 99 42 36 47 71 19 90 9 58 83 19 27 2 35 51 65 59 90 51 74 87 84 48 98 44 84 100 84 93\\\\n', '15\\\\n17 15 25 16 13 17 13 16 14 14 11 17 13 15 26\\\\n', '91\\\\n3 92 89 83 85 80 91 94 95 82 92 95 80 88 90 85 16 87 87 86 94 88 90 87 88 82 95 84 84 93 83 95 91 85 89 88 88 85 87 90 93 80 89 95 94 92 93 86 83 82 86 84 91 80 90 95 84 86 84 85 84 92 82 84 83 91 87 95 94 95 90 95 86 92 86 80 95 86 88 80 82 87 70 83 91 93 81 81 91 89 88\\\\n', '100\\\\n107 172 549 883 564 56 399 970 173 990 224 217 601 381 948 631 159 958 512 136 61 584 633 202 652 355 26 723 663 237 410 721 688 552 699 24 748 186 461 88 34 243 872 205 471 298 654 693 244 33 359 533 471 116 386 653 654 887 531 303 335 829 319 340 827 89 602 191 422 289 361 200 593 421 592 402 256 813 606 589 741 9 148 893 3 113 50 169 14 360 642 45 810 818 291 624 561 743 303 111\\\\n', '4\\\\n8 5 16 1\\\\n', '2\\\\n175 140\\\\n', '95\\\\n800 280 176 472 587 763 588 838 760 378 667 231 566 278 713 305 354 815 140 220 188 409 109 180 251 268 474 590 853 143 235 691 313 785 386 92 783 471 43 342 718 592 678 404 494 362 239 504 163 85 521 81 356 73 754 589 380 159 196 862 838 509 149 42 366 630 467 292 698 123 187 796 576 37 689 800 186 518 488 432 159 860 440 799 12 304 880 283 23 312 55 507 734 370 490\\\\n', '10\\\\n5 1 4 5 5 2 1 8 4 1\\\\n', '100\\\\n95 88 84 85 74 97 100 52 91 94 62 66 90 56 86 66 95 73 79 68 54 67 99 52 82 62 81 71 93 85 72 72 95 52 72 63 57 90 92 89 88 77 84 78 95 59 72 86 98 64 89 64 80 70 54 93 88 86 79 78 94 64 89 66 50 90 54 116 52 96 99 54 81 66 83 79 69 80 51 73 81 69 93 82 31 52 58 87 93 92 52 67 78 63 9 87 77 95 58 78\\\\n', '94\\\\n3 100 100 99 99 99 100 99 99 4 99 99 100 99 100 100 99 100 99 99 100 99 100 99 100 100 100 99 100 99 100 99 100 99 99 99 100 99 99 99 99 99 100 99 100 100 99 100 99 99 99 99 100 99 100 99 99 99 100 100 99 100 100 99 99 100 100 100 99 100 99 99 99 99 99 100 100 100 100 100 100 100 100 100 99 99 99 99 100 6 100 99 100 110\\\\n', '90\\\\n10 373 429 431 343 305 806 746 284 313 503 221 594 351 83 653 232 431 427 610 458 88 255 215 529 205 492 549 55 694 535 104 45 327 816 432 595 549 454 141 216 557 250 415 531 494 190 749 718 380 78 447 784 347 196 814 16 780 262 462 776 315 160 307 593 694 692 41 528 725 376 777 336 42 438 630 345 502 384 184 742 429 570 361 394 267 820 778 662 377\\\\n', '3\\\\n3 4 2\\\\n', '100\\\\n1 3 71 47 64 82 58 61 61 35 52 36 57 62 63 54 52 21 78 100 24 94 4 80 99 62 43 72 21 70 90 2 23 14 72 4 76 49 71 96 96 99 78 7 32 11 14 61 19 69 1 68 100 77 86 54 14 86 47 53 30 88 67 66 61 70 17 63 40 5 99 53 38 31 91 18 41 5 77 61 53 30 87 21 23 54 52 17 23 75 58 99 99 63 9 1 78 49 28 11\\\\n', '97\\\\n99 99 98 98 100 98 99 99 98 100 100 100 99 17 100 99 99 98 99 99 98 98 98 100 100 92 98 99 100 98 99 98 20 100 98 99 100 98 98 99 98 98 99 98 100 99 99 99 99 98 98 98 100 99 100 100 99 99 100 99 99 98 98 98 100 100 98 100 100 99 98 99 100 98 98 98 98 99 99 98 98 99 100 100 98 98 99 98 99 100 98 99 100 98 99 99 100\\\\n', '4\\\\n1 8 11 12\\\\n', '51\\\\n90 47 100 12 21 96 2 68 84 60 2 9 33 8 45 13 59 50 100 93 1 97 4 81 51 2 3 47 19 16 25 63 52 34 79 32 6 87 7 42 107 93 30 33 33 43 69 8 63 58 57\\\\n', '10\\\\n100 200 57 160 1 1000 200 300 207 500\\\\n', '100\\\\n47 64 68 61 68 66 69 37 69 65 69 63 62 60 68 65 17 65 65 62 63 68 60 70 63 63 65 67 70 69 68 69 61 65 63 60 60 65 61 60 70 66 66 65 62 60 53 68 61 62 67 64 66 65 67 68 60 69 70 63 65 62 64 65 67 67 69 68 66 69 70 67 65 70 60 66 70 67 67 64 69 69 66 46 60 64 62 62 68 69 67 69 60 70 69 68 62 63 68 66\\\\n', '30\\\\n3 85 49 7 77 38 4 68 23 28 35 100 40 9 78 38 1 60 60 26 98 49 45 92 46 39 98 24 37 39\\\\n', '100\\\\n100 55 70 81 73 51 6 75 45 85 33 61 98 42 11 59 1 8 14 28 78 74 44 80 7 69 7 5 90 73 43 78 64 64 43 92 59 70 80 19 57 39 31 70 38 85 24 23 86 79 98 56 92 63 92 4 36 8 79 74 2 81 54 13 69 44 49 63 17 76 78 99 42 36 47 71 19 90 9 58 83 19 52 2 35 51 65 59 90 51 74 87 84 48 98 44 84 100 84 93\\\\n', '15\\\\n17 15 25 16 13 17 13 16 14 28 11 17 13 15 26\\\\n', '91\\\\n3 92 89 83 85 80 91 94 138 82 92 95 80 88 90 85 16 87 87 86 94 88 90 87 88 82 95 84 84 93 83 95 91 85 89 88 88 85 87 90 93 80 89 95 94 92 93 86 83 82 86 84 91 80 90 95 84 86 84 85 84 92 82 84 83 91 87 95 94 95 90 95 86 92 86 80 95 86 88 80 82 87 70 83 91 93 81 81 91 89 88\\\\n', '2\\\\n175 59\\\\n', '95\\\\n800 280 176 472 587 763 588 838 760 378 667 231 566 278 713 305 354 815 140 220 231 409 109 180 251 268 474 590 853 143 235 691 313 785 386 92 783 471 43 342 718 592 678 404 494 362 239 504 163 85 521 81 356 73 754 589 380 159 196 862 838 509 149 42 366 630 467 292 698 123 187 796 576 37 689 800 186 518 488 432 159 860 440 799 12 304 880 283 23 312 55 507 734 370 490\\\\n', '10\\\\n5 1 4 6 5 2 1 8 4 1\\\\n', '94\\\\n3 100 100 99 99 99 100 99 99 4 99 99 100 99 100 100 99 100 99 99 100 99 100 99 100 100 100 99 100 99 100 99 100 99 57 99 100 99 99 99 99 99 100 99 100 100 99 100 99 99 99 99 100 99 100 99 99 99 100 100 99 100 100 99 99 100 100 100 99 100 99 99 99 99 99 100 100 100 100 100 100 100 100 100 99 99 99 99 100 6 100 99 100 110\\\\n', '2\\\\n7 6\\\\n', '5\\\\n5 1 11 2 8\\\\n', '4\\\\n1 8 8 8\\\\n'], 'outputs': ['4\\\\n', '6\\\\n', '0\\\\n', '1\\\\n', '451\\\\n', '932\\\\n', '23\\\\n', '1\\\\n', '1\\\\n', '2\\\\n', '2\\\\n', '817\\\\n', '2\\\\n', '1\\\\n', '0\\\\n', '58\\\\n', '8\\\\n', '0\\\\n', '89\\\\n', '90\\\\n', '99\\\\n', '97\\\\n', '2\\\\n', '1\\\\n', '749\\\\n', '729\\\\n', '111\\\\n', '714\\\\n', '52\\\\n', '4\\\\n', '1\\\\n', '2\\\\n', '99\\\\n', '2\\\\n', '4\\\\n', '99', '8', '451', '23', '58', '0', '99', '1', '1', '1', '89', '111', '729', '2', '1', '749', '52', '2', '2', '2', '817', '1', '2', '0', '932', '4', '97', '714', '4', '90', '1', '2', '8\\\\n', '451\\\\n', '23\\\\n', '58\\\\n', '0\\\\n', '1\\\\n', '5\\\\n', '89\\\\n', '111\\\\n', '729\\\\n', '2\\\\n', '52\\\\n', '11\\\\n', '97\\\\n', '714\\\\n', '90\\\\n', '6\\\\n', '78\\\\n', '7\\\\n', '10\\\\n', '733\\\\n', '4\\\\n', '19\\\\n', '1\\\\n', '0\\\\n', '1\\\\n', '1\\\\n', '2\\\\n', '2\\\\n', '8\\\\n', '451\\\\n', '23\\\\n', '0\\\\n', '1\\\\n', '89\\\\n', '729\\\\n', '8\\\\n', '11\\\\n', '52\\\\n', '1\\\\n', '11\\\\n', '97\\\\n', '714\\\\n', '1\\\\n', '90\\\\n', '2\\\\n', '5\\\\n', '7\\\\n', '451\\\\n', '23\\\\n', '78\\\\n', '0\\\\n', '1\\\\n', '7\\\\n', '89\\\\n', '729\\\\n', '5\\\\n', '0\\\\n', '52\\\\n', '2\\\\n', '11\\\\n', '97\\\\n', '714\\\\n', '1\\\\n', '90\\\\n', '2\\\\n', '8\\\\n', '10\\\\n', '451\\\\n', '23\\\\n', '78\\\\n', '1\\\\n', '8\\\\n', '90\\\\n', '0\\\\n', '52\\\\n', '2\\\\n', '97\\\\n', '0', '4', '6']}\\n**Difficulty: EASY**\\n\\n**Raw Tags: ['greedy', 'implementation']**\\n\\n**Tags: ['Implementation', 'Greedy algorithms']**\\n\\n**Skill Types: ['Greedy algorithms']**\\n\\n**Expected Auxiliary Space: https://codeforces.com/problemset/problem/574/A**\\n\\n**Time Limit: No time limit.**\\n\\n**Memory Limit: No memory limit**\\n\\n**Expected Time Complexity: No expected time complexity or time complexity limit.**\\n\",\n",
       " \"Below is provided a **competitive programming** problem set.\\nPlease solve the problem set with:\\n1. No pre-assumptions (every assumption has to be structured in comments, whether it is inline or in a block).\\n2. **Solve using C++.**3. Keeping in mind that the solution can actually reproduce the correct inputs and outputs as will be provided.\\n4. Only provide solution as the answer without any alternatives **(pick the best of all possibilities with best practices and performance)**.5. **All explanation MUST be inside of the code itself in the forms of comments.**\\n**Question**\\nLast year the world's largest square was built in Berland. It is known that the square can be represented as an infinite plane with an introduced Cartesian system of coordinates. On that square two sets of concentric circles were painted. Let's call the set of concentric circles with radii 1, 2, ..., K and the center in the point (z, 0) a (K, z)-set. Thus, on the square were painted a (N, x)-set and a (M, y)-set. You have to find out how many parts those sets divided the square into.\\n\\nInput\\n\\nThe first line contains integers N, x, M, y. (1 ≤ N, M ≤ 100000, - 100000 ≤ x, y ≤ 100000, x ≠ y).\\n\\nOutput\\n\\nPrint the sought number of parts.\\n\\nExamples\\n\\nInput\\n\\n1 0 1 1\\n\\n\\nOutput\\n\\n4\\n\\n\\nInput\\n\\n1 0 1 2\\n\\n\\nOutput\\n\\n3\\n\\n\\nInput\\n\\n3 3 4 7\\n\\n\\nOutput\\n\\n17\\n\\nNote\\n\\nPicture for the third sample:\\n\\n<image>\\n\\n**Input and Output**\\n{'inputs': ['99085 7738 98097 -6487\\\\n', '1 2 2 1\\\\n', '93430 5720 93581 -2371\\\\n', '97530 -7728 92184 -755\\\\n', '93564 -4520 99118 -52061\\\\n', '100000 100 100000 70000\\\\n', '98405 -62879 99461 -33688\\\\n', '5 4 3 -2\\\\n', '93564 8371 99118 6409\\\\n', '91125 7374 92925 -5261\\\\n', '98445 19337 99881 -95888\\\\n', '96533 -7124 93876 6985\\\\n', '1 3 3 1\\\\n', '100000 0 100000 1\\\\n', '100000 50000 100000 -50000\\\\n', '98445 3623 99881 46\\\\n', '91125 -66336 92925 63094\\\\n', '1 -100000 1 100000\\\\n', '1 100000 1 99999\\\\n', '99085 -95516 98097 8735\\\\n', '98405 9100 99461 7679\\\\n', '91805 28117 90481 -94484\\\\n', '1 0 2 3\\\\n', '2 2 2 3\\\\n', '100000 99999 88888 77777\\\\n', '99442 76614 99268 94414\\\\n', '5 5 10 10\\\\n', '4 7 3 3\\\\n', '5 7 1 2\\\\n', '10 -10 5 -5\\\\n', '99765 -1063 95654 -21753\\\\n', '91436 -81744 96964 75017\\\\n', '2 4 5 -4\\\\n', '2 1 4 -7\\\\n', '5 2 1 -5\\\\n', '3 -9 3 4\\\\n', '100000 -100000 100000 100000\\\\n', '2 -4 1 9\\\\n', '100000 100000 100000 99999\\\\n', '100000 100000 100000 -100000\\\\n', '1 -1 5 -10\\\\n', '99999 100000 100000 -100000\\\\n', '90438 -5027 97577 4568\\\\n', '95017 -8444 95084 7736\\\\n', '94427 90088 92968 -81169\\\\n', '4 4 2 2\\\\n', '99442 -702 99268 -7694\\\\n', '94427 1396 92968 9890\\\\n', '93430 32810 93581 -71470\\\\n', '91805 9733 90481 574\\\\n', '99765 -9904 95654 3069\\\\n', '100000 0 100000 100000\\\\n', '94244 7010 97753 -7757\\\\n', '97448 -37940 91572 -86189\\\\n', '1 0 100000 1\\\\n', '92433 -9956 95272 5368\\\\n', '92433 -24467 95272 -61772\\\\n', '97448 7948 91572 7786\\\\n', '91436 -5631 96964 -3172\\\\n', '90444 8736 94289 8904\\\\n', '2 2 4 4\\\\n', '90438 -66110 97577 84716\\\\n', '2 -6 4 6\\\\n', '94244 -37156 97753 -9638\\\\n', '94925 5648 96389 1799\\\\n', '90444 -33699 94289 20670\\\\n', '3 7 4 1\\\\n', '94925 -69793 96389 -40126\\\\n', '100000 0 100000 -1\\\\n', '1 0 1 100\\\\n', '158953 7738 98097 -6487\\\\n', '150185 5720 93581 -2371\\\\n', '97530 -7728 80028 -755\\\\n', '23342 -4520 99118 -52061\\\\n', '100000 110 100000 70000\\\\n', '98405 -62879 99461 -17596\\\\n', '5 8 3 -2\\\\n', '93564 15176 99118 6409\\\\n', '61389 7374 92925 -5261\\\\n', '98445 19337 74939 -95888\\\\n', '96533 -4138 93876 6985\\\\n', '100000 0 110000 1\\\\n', '100000 67662 100000 -50000\\\\n', '98445 1931 99881 46\\\\n', '91125 -7085 92925 63094\\\\n', '1 -100000 2 100000\\\\n', '1 000000 1 99999\\\\n', '99085 -95516 149930 8735\\\\n', '144770 9100 99461 7679\\\\n', '91805 28117 90481 -7973\\\\n', '1 0 2 2\\\\n', '99442 76614 99268 124626\\\\n', '5 5 10 3\\\\n', '7 7 3 3\\\\n', '5 0 1 2\\\\n', '5 -10 5 -5\\\\n', '17797 -1063 95654 -21753\\\\n', '91436 -81744 96964 95191\\\\n', '5 2 1 -7\\\\n', '100000 -100000 100001 100000\\\\n', '101000 100000 100000 99999\\\\n', '100000 100000 110000 -100000\\\\n', '99999 100000 100001 -100000\\\\n', '90438 -5027 73706 4568\\\\n', '82210 -8444 95084 7736\\\\n', '94427 90088 104237 -81169\\\\n', '4 5 2 2\\\\n', '96816 -702 99268 -7694\\\\n', '94427 1680 92968 9890\\\\n', '93430 13409 93581 -71470\\\\n', '91805 9733 124211 574\\\\n', '99765 -9904 85598 3069\\\\n', '94244 7010 146581 -7757\\\\n', '97448 -37940 91572 -160015\\\\n', '1 0 100000 2\\\\n', '92433 -9956 95272 855\\\\n', '92433 -24467 95272 -64603\\\\n', '176285 7948 91572 7786\\\\n', '91436 -3659 96964 -3172\\\\n', '2 2 2 4\\\\n', '2 2 5 -4\\\\n', '3 1 4 -7\\\\n', '3 -5 3 4\\\\n', '2 -4 0 9\\\\n', '1 -1 5 -20\\\\n', '3 3 4 7\\\\n', '1 0 1 2\\\\n', '1 0 1 1\\\\n'], 'outputs': ['5001828332\\\\n', '                                                               5\\\\n', '2829812541\\\\n', '2471317488\\\\n', '11509398048\\\\n', '13302109801\\\\n', '8994412616\\\\n', '                                                              13\\\\n', '                                                       726598901\\\\n', '4168799096\\\\n', '6905974528\\\\n', '4768738089\\\\n', '                                                               6\\\\n', '                                                          400000\\\\n', '10000200001\\\\n', '                                                      1378384476\\\\n', '2983528451\\\\n', '                                                               3\\\\n', '                                                               4\\\\n', '8636367944\\\\n', '                                                       555165156\\\\n', '3562481512\\\\n', '                                                               4\\\\n', '                                                               8\\\\n', '6790054321\\\\n', '6123561325\\\\n', '                                                              61\\\\n', '                                                              17\\\\n', '                                                               8\\\\n', '                                                              61\\\\n', '6785350980\\\\n', '                                                      1001214722\\\\n', '                                                               8\\\\n', '                                                               7\\\\n', '                                                               7\\\\n', '                                                               7\\\\n', '                                                          200001\\\\n', '                                                               4\\\\n', '                                                          400000\\\\n', '                                                          200001\\\\n', '                                                               7\\\\n', '                                                          200000\\\\n', '3280869645\\\\n', '5366319032\\\\n', '                                                       260622440\\\\n', '                                                              13\\\\n', '2632080157\\\\n', '2964910460\\\\n', '6844605373\\\\n', '3085718448\\\\n', '4548570813\\\\n', '10000200001\\\\n', '5003962985\\\\n', '11221723080\\\\n', '                                                          100003\\\\n', '5040278640\\\\n', '9821695665\\\\n', '                                                        59292207\\\\n', '                                                       887279122\\\\n', '                                                        60725934\\\\n', '                                                              13\\\\n', '                                                      1383209737\\\\n', '                                                               7\\\\n', '8282767876\\\\n', '                                                      1426155172\\\\n', '11204857185\\\\n', '                                                               9\\\\n', '8708948248\\\\n', '                                                          400000\\\\n', '3\\\\n', '5177093132\\\\n', '2897791618\\\\n', '2134919994\\\\n', '1089797047\\\\n', '13302303481\\\\n', '11767257320\\\\n', '9\\\\n', '3117075940\\\\n', '2783357782\\\\n', '3382642666\\\\n', '3857637825\\\\n', '410000\\\\n', '6779746245\\\\n', '734971020\\\\n', '11054514136\\\\n', '4\\\\n', '3\\\\n', '16783676951\\\\n', '561344573\\\\n', '9248258385\\\\n', '5\\\\n', '12165538357\\\\n', '40\\\\n', '26\\\\n', '8\\\\n', '36\\\\n', '633562073\\\\n', '131634626\\\\n', '7\\\\n', '200003\\\\n', '401000\\\\n', '100210001\\\\n', '200001\\\\n', '2644734558\\\\n', '4786149125\\\\n', '751342314\\\\n', '13\\\\n', '2589376145\\\\n', '2872701340\\\\n', '10133426373\\\\n', '3195634984\\\\n', '4105281099\\\\n', '5130743119\\\\n', '4481822046\\\\n', '100003\\\\n', '3699886049\\\\n', '10226780624\\\\n', '59371044\\\\n', '177649006\\\\n', '9\\\\n', '9\\\\n', '8\\\\n', '7\\\\n', '3\\\\n', '7\\\\n', '                                                              17\\\\n', '                                                               3\\\\n', '                                                               4\\\\n']}\\n**Difficulty: HARD**\\n\\n**Raw Tags: ['math', 'implementation']**\\n\\n**Tags: ['Mathematics', 'Implementation']**\\n\\n**Skill Types: []**\\n\\n**Expected Auxiliary Space: https://codeforces.com/problemset/problem/40/C**\\n\\n**Time Limit: No time limit.**\\n\\n**Memory Limit: 2.0 seconds**\\n\\n**Expected Time Complexity: No expected time complexity or time complexity limit.**\\n\",\n",
       " \"Below is provided a **competitive programming** problem set.\\nPlease solve the problem set with:\\n1. No pre-assumptions (every assumption has to be structured in comments, whether it is inline or in a block).\\n2. **Solve using C++.**3. Keeping in mind that the solution can actually reproduce the correct inputs and outputs as will be provided.\\n4. Only provide solution as the answer without any alternatives **(pick the best of all possibilities with best practices and performance)**.5. **All explanation MUST be inside of the code itself in the forms of comments.**\\n**Question**\\nAlice has got addicted to a game called Sirtet recently.\\n\\nIn Sirtet, player is given an $n \\\\times m$ grid. Initially $a_{i,j}$ cubes are stacked up in the cell $(i,j)$. Two cells are called adjacent if they share a side. Player can perform the following operations:   stack up one cube in two adjacent cells;  stack up two cubes in one cell. \\n\\nCubes mentioned above are identical in height.\\n\\nHere is an illustration of the game. States on the right are obtained by performing one of the above operations on the state on the left, and grey cubes are added due to the operation. [Image] \\n\\nPlayer's goal is to make the height of all cells the same (i.e. so that each cell has the same number of cubes in it) using above operations. \\n\\nAlice, however, has found out that on some starting grids she may never reach the goal no matter what strategy she uses. Thus, she is wondering the number of initial grids such that   $L \\\\le a_{i,j} \\\\le R$ for all $1 \\\\le i \\\\le n$, $1 \\\\le j \\\\le m$;  player can reach the goal using above operations. \\n\\nPlease help Alice with it. Notice that the answer might be large, please output the desired value modulo $998,244,353$.\\n\\n\\n-----Input-----\\n\\nThe only line contains four integers $n$, $m$, $L$ and $R$ ($1\\\\le n,m,L,R \\\\le 10^9$, $L \\\\le R$, $n \\\\cdot m \\\\ge 2$).\\n\\n\\n-----Output-----\\n\\nOutput one integer, representing the desired answer modulo $998,244,353$.\\n\\n\\n-----Examples-----\\nInput\\n2 2 1 1\\n\\nOutput\\n1\\n\\nInput\\n1 2 1 2\\n\\nOutput\\n2\\n\\n\\n\\n-----Note-----\\n\\nIn the first sample, the only initial grid that satisfies the requirements is $a_{1,1}=a_{2,1}=a_{1,2}=a_{2,2}=1$. Thus the answer should be $1$.\\n\\nIn the second sample, initial grids that satisfy the requirements are $a_{1,1}=a_{1,2}=1$ and $a_{1,1}=a_{1,2}=2$. Thus the answer should be $2$.\\n\\n**Input and Output**\\n{'inputs': ['2 2 1 1\\\\n', '1 2 1 2\\\\n', '485 117 386829368 748204956\\\\n', '564 558 305171115 960941497\\\\n', '692 210 44175861 843331069\\\\n', '741 806 424647372 965259389\\\\n', '461 650 18427925 104278996\\\\n', '589 790 462465375 766499149\\\\n', '13 635 761278633 941090619\\\\n', '140 713 711390561 727285861\\\\n', '494587372 852064625 134519483 167992226\\\\n', '672670796 425613469 728300037 940234946\\\\n', '850754220 853938121 172337487 490664825\\\\n', '28837644 722454262 471150744 905552093\\\\n', '911953772 296003106 210155490 889555498\\\\n', '795069900 869551950 803936044 964554424\\\\n', '268120620 443100795 102749301 604856694\\\\n', '151236748 16649639 841754047 855153000\\\\n', '329320172 739941588 435534601 986184053\\\\n', '1000000000 1 1000000000 1000000000\\\\n', '1 1000000000 1 1000000000\\\\n', '407070359 971940670 264302148 270591105\\\\n', '290186487 840456810 858082702 987072033\\\\n', '763237207 414005655 302120151 421405724\\\\n', '646353335 282521795 600933409 772270276\\\\n', '824436759 415879151 194713963 293553316\\\\n', '707552887 989427996 933718708 955125306\\\\n', '885636311 857944136 232531966 493119835\\\\n', '63719735 431492981 971536712 994663491\\\\n', '946835863 300009121 565317265 947272048\\\\n', '124919287 578590669 9354715 32571540\\\\n', '202669473 255300152 987865366 994537507\\\\n', '2 2 1 998244353\\\\n', '2 3 1 998244353\\\\n', '3 3 1 998244353\\\\n', '1000000000 1000000000 1 998244353\\\\n', '999999999 999999999 1 998244353\\\\n', '999999999 1000000000 1755648 1000000000\\\\n', '1 2 1 86583718\\\\n', '1 2 1 911660635\\\\n', '2 2 2 4\\\\n', '2 2 2 5\\\\n', '2 2 3 4\\\\n', '2 2 3 5\\\\n', '2 3 2 4\\\\n', '2 3 2 5\\\\n', '2 3 3 4\\\\n', '2 3 3 5\\\\n', '3 2 2 4\\\\n', '3 2 2 5\\\\n', '3 2 3 4\\\\n', '3 2 3 5\\\\n', '3 3 2 4\\\\n', '3 3 2 5\\\\n', '3 3 3 4\\\\n', '3 3 3 5\\\\n', '998244352 2 1 998244353\\\\n', '2 2 3 4\\\\n', '290186487 840456810 858082702 987072033\\\\n', '646353335 282521795 600933409 772270276\\\\n', '763237207 414005655 302120151 421405724\\\\n', '692 210 44175861 843331069\\\\n', '3 2 2 4\\\\n', '2 2 1 998244353\\\\n', '1 2 1 86583718\\\\n', '707552887 989427996 933718708 955125306\\\\n', '999999999 999999999 1 998244353\\\\n', '268120620 443100795 102749301 604856694\\\\n', '3 3 3 4\\\\n', '3 2 2 5\\\\n', '1 2 1 911660635\\\\n', '3 3 1 998244353\\\\n', '998244352 2 1 998244353\\\\n', '13 635 761278633 941090619\\\\n', '1 1000000000 1 1000000000\\\\n', '3 2 3 5\\\\n', '28837644 722454262 471150744 905552093\\\\n', '2 2 2 5\\\\n', '2 3 2 4\\\\n', '1000000000 1000000000 1 998244353\\\\n', '2 3 2 5\\\\n', '850754220 853938121 172337487 490664825\\\\n', '3 3 2 5\\\\n', '672670796 425613469 728300037 940234946\\\\n', '3 2 3 4\\\\n', '124919287 578590669 9354715 32571540\\\\n', '2 3 3 5\\\\n', '3 3 1 1\\\\n', '151236748 16649639 841754047 855153000\\\\n', '885636311 857944136 232531966 493119835\\\\n', '202669473 255300152 987865366 994537507\\\\n', '140 713 711390561 727285861\\\\n', '485 117 386829368 748204956\\\\n', '2 2 2 4\\\\n', '407070359 971940670 264302148 270591105\\\\n', '461 650 18427925 104278996\\\\n', '2 2 3 5\\\\n', '999999999 1000000000 1755648 1000000000\\\\n', '2 3 1 998244353\\\\n', '2 3 3 4\\\\n', '946835863 300009121 565317265 947272048\\\\n', '1000000000 1 1000000000 1000000000\\\\n', '564 558 305171115 960941497\\\\n', '911953772 296003106 210155490 889555498\\\\n', '795069900 869551950 803936044 964554424\\\\n', '63719735 431492981 971536712 994663491\\\\n', '589 790 462465375 766499149\\\\n', '494587372 852064625 134519483 167992226\\\\n', '329320172 739941588 435534601 986184053\\\\n', '3 3 2 4\\\\n', '741 806 424647372 965259389\\\\n', '824436759 415879151 194713963 293553316\\\\n', '3 3 3 5\\\\n', '2 2 4 4\\\\n', '290186487 963439466 858082702 987072033\\\\n', '646353335 15598467 600933409 772270276\\\\n', '763237207 10059688 302120151 421405724\\\\n', '692 210 44175861 696277426\\\\n', '3 2 1 4\\\\n', '1 2 1 115138214\\\\n', '929044619 989427996 933718708 955125306\\\\n', '999999999 999999999 1 1751444496\\\\n', '268120620 490740208 102749301 604856694\\\\n', '3 1 2 5\\\\n', '1 2 1 1135049535\\\\n', '3 3 1 1882534256\\\\n', '998244352 4 1 998244353\\\\n', '13 635 761278633 1498700598\\\\n', '1 1000000000 1 1000000100\\\\n', '3 4 3 5\\\\n', '2 1 2 5\\\\n', '2 1 2 4\\\\n', '4 3 2 5\\\\n', '1555494676 853938121 172337487 490664825\\\\n', '3 3 1 5\\\\n', '672670796 425613469 346192993 940234946\\\\n', '124919287 578590669 10050250 32571540\\\\n', '151236748 16649639 231315154 855153000\\\\n', '885636311 1133047284 232531966 493119835\\\\n', '202669473 293869799 987865366 994537507\\\\n', '34 713 711390561 727285861\\\\n', '485 117 386829368 993670092\\\\n', '565741959 971940670 264302148 270591105\\\\n', '5 650 18427925 104278996\\\\n', '2 2 1 5\\\\n', '999999999 1000000000 1755648 1000010000\\\\n', '1076117758 300009121 565317265 947272048\\\\n', '564 558 167912043 960941497\\\\n', '911953772 296003106 365339447 889555498\\\\n', '795069900 869551950 803936044 1279842333\\\\n', '589 790 462465375 979668553\\\\n', '517059176 739941588 435534601 986184053\\\\n', '889 806 424647372 965259389\\\\n', '824436759 415879151 194713963 345824016\\\\n', '3 4 1 5\\\\n', '319970184 963439466 858082702 987072033\\\\n', '646353335 26639522 600933409 772270276\\\\n', '314730919 10059688 302120151 421405724\\\\n', '692 210 44175861 663765090\\\\n', '1 2 1 226264785\\\\n', '929044619 989427996 423941448 955125306\\\\n', '999999999 280070957 1 1751444496\\\\n', '268120620 490740208 102749301 530066001\\\\n', '3 3 1 1549765013\\\\n', '16 635 761278633 1498700598\\\\n', '1 1000000000 2 1000000100\\\\n', '2 1 4 5\\\\n', '1000000000 1000010000 1 157723280\\\\n', '6 3 2 5\\\\n', '1555494676 853938121 172337487 934154841\\\\n', '6 3 1 5\\\\n', '766395182 425613469 346192993 940234946\\\\n', '124919287 855557585 10050250 32571540\\\\n', '127955947 16649639 231315154 855153000\\\\n', '885636311 1133047284 232531966 349391993\\\\n', '202669473 293869799 67636906 994537507\\\\n', '485 137 386829368 993670092\\\\n', '5 650 7276039 104278996\\\\n', '2 2 1 6\\\\n', '1076117758 300009121 565317265 727297660\\\\n', '1000000001 1 1000000000 1000100000\\\\n', '564 558 236666487 960941497\\\\n', '804532225 296003106 365339447 889555498\\\\n', '795069900 486218179 803936044 1279842333\\\\n', '589 790 287797694 979668553\\\\n', '517059176 739941588 136502094 986184053\\\\n', '889 198 424647372 965259389\\\\n', '824436759 338642776 194713963 345824016\\\\n', '6 4 1 5\\\\n', '319970184 963439466 858082702 1717563345\\\\n', '646353335 26639522 600933409 769803874\\\\n', '331001581 10059688 302120151 421405724\\\\n', '692 210 44175861 379655013\\\\n', '1227604962 989427996 423941448 955125306\\\\n', '268120620 892252233 102749301 530066001\\\\n', '3 3 2 1549765013\\\\n', '506732226 4 1 1036960811\\\\n', '27 635 761278633 1498700598\\\\n', '1000000000 1000010010 1 157723280\\\\n', '1555494676 853938121 146580940 934154841\\\\n', '1000000000 1000010000 1 998244353\\\\n', '6 2 3 4\\\\n', '2 2 2 2\\\\n', '1000000001 1 1000000000 1000000000\\\\n', '3 3 4 4\\\\n', '2 4 1 1\\\\n', '3 4 1 4\\\\n', '506732226 4 1 998244353\\\\n', '2 1 2 2\\\\n', '6 4 3 4\\\\n', '1 2 2 2\\\\n', '3 2 4 4\\\\n', '2 7 1 1\\\\n', '2 2 1 1\\\\n', '1 2 1 2\\\\n'], 'outputs': ['1\\\\n', '2\\\\n', '735420370\\\\n', '880111542\\\\n', '714028205\\\\n', '861647194\\\\n', '936348652\\\\n', '374887989\\\\n', '893955177\\\\n', '641355762\\\\n', '552905694\\\\n', '779704132\\\\n', '237240423\\\\n', '740846915\\\\n', '225799480\\\\n', '884379548\\\\n', '834319192\\\\n', '108988868\\\\n', '425887732\\\\n', '1\\\\n', '285141888\\\\n', '992759231\\\\n', '366829057\\\\n', '193545831\\\\n', '13680108\\\\n', '453443939\\\\n', '355610620\\\\n', '779245677\\\\n', '97582142\\\\n', '337235143\\\\n', '263200129\\\\n', '926661352\\\\n', '499122177\\\\n', '499122177\\\\n', '0\\\\n', '499122177\\\\n', '0\\\\n', '499122177\\\\n', '499122176\\\\n', '0\\\\n', '41\\\\n', '128\\\\n', '8\\\\n', '41\\\\n', '365\\\\n', '2048\\\\n', '32\\\\n', '365\\\\n', '365\\\\n', '2048\\\\n', '32\\\\n', '365\\\\n', '19683\\\\n', '262144\\\\n', '512\\\\n', '19683\\\\n', '499122177\\\\n', '8\\\\n', '366829057\\\\n', '13680108\\\\n', '193545831\\\\n', '714028205\\\\n', '365\\\\n', '499122177\\\\n', '499122176\\\\n', '355610620\\\\n', '0\\\\n', '834319192\\\\n', '512\\\\n', '2048\\\\n', '0\\\\n', '0\\\\n', '499122177\\\\n', '893955177\\\\n', '285141888\\\\n', '365\\\\n', '740846915\\\\n', '128\\\\n', '365\\\\n', '499122177\\\\n', '2048\\\\n', '237240423\\\\n', '262144\\\\n', '779704132\\\\n', '32\\\\n', '263200129\\\\n', '365\\\\n', '1\\\\n', '108988868\\\\n', '779245677\\\\n', '926661352\\\\n', '641355762\\\\n', '735420370\\\\n', '41\\\\n', '992759231\\\\n', '936348652\\\\n', '41\\\\n', '499122177\\\\n', '499122177\\\\n', '32\\\\n', '337235143\\\\n', '1\\\\n', '880111542\\\\n', '225799480\\\\n', '884379548\\\\n', '97582142\\\\n', '374887989\\\\n', '552905694\\\\n', '425887732\\\\n', '19683\\\\n', '861647194\\\\n', '453443939\\\\n', '19683\\\\n', '1\\\\n', '943089184\\\\n', '868957657\\\\n', '789740075\\\\n', '300231232\\\\n', '2048\\\\n', '764729365\\\\n', '333781882\\\\n', '83952613\\\\n', '166225280\\\\n', '64\\\\n', '348997428\\\\n', '75798834\\\\n', '499122177\\\\n', '736795412\\\\n', '695465869\\\\n', '265721\\\\n', '8\\\\n', '5\\\\n', '8388608\\\\n', '866256663\\\\n', '1953125\\\\n', '29690062\\\\n', '937731504\\\\n', '340662707\\\\n', '572179871\\\\n', '162513873\\\\n', '206198813\\\\n', '17556038\\\\n', '323945512\\\\n', '775270955\\\\n', '313\\\\n', '806269727\\\\n', '963831390\\\\n', '809407133\\\\n', '509074630\\\\n', '815573759\\\\n', '57848166\\\\n', '202008368\\\\n', '68845298\\\\n', '437871452\\\\n', '122070313\\\\n', '83748992\\\\n', '141379446\\\\n', '486421210\\\\n', '426963982\\\\n', '338981825\\\\n', '177053020\\\\n', '478264160\\\\n', '610048192\\\\n', '917493570\\\\n', '680575632\\\\n', '869112724\\\\n', '2\\\\n', '955910994\\\\n', '419430366\\\\n', '599977663\\\\n', '701918583\\\\n', '175789213\\\\n', '569800619\\\\n', '700900828\\\\n', '852097377\\\\n', '373691575\\\\n', '920873051\\\\n', '242020515\\\\n', '648\\\\n', '869963988\\\\n', '634146264\\\\n', '153070438\\\\n', '843931986\\\\n', '537096643\\\\n', '974322845\\\\n', '945643224\\\\n', '571567488\\\\n', '261975244\\\\n', '765389505\\\\n', '969181275\\\\n', '390223434\\\\n', '915764022\\\\n', '623382036\\\\n', '854159807\\\\n', '976280878\\\\n', '662980583\\\\n', '786632872\\\\n', '954400758\\\\n', '924845028\\\\n', '923809870\\\\n', '499122177\\\\n', '2048\\\\n', '1\\\\n', '1\\\\n', '1\\\\n', '1\\\\n', '8388608\\\\n', '499122177\\\\n', '1\\\\n', '8388608\\\\n', '1\\\\n', '1\\\\n', '1\\\\n', '1\\\\n', '2\\\\n']}\\n**Difficulty: HARD**\\n\\n**Raw Tags: ['combinatorics', 'matrices', 'math', 'constructive algorithms']**\\n\\n**Tags: ['Matrices', 'Combinatorics', 'Mathematics', 'Constructive algorithms']**\\n\\n**Skill Types: []**\\n\\n**Expected Auxiliary Space: https://codeforces.com/problemset/problem/1332/E**\\n\\n**Time Limit: No time limit.**\\n\\n**Memory Limit: 2 seconds**\\n\\n**Expected Time Complexity: 1**\\n\",\n",
       " 'Below is provided a **competitive programming** problem set.\\nPlease solve the problem set with:\\n1. No pre-assumptions (every assumption has to be structured in comments, whether it is inline or in a block).\\n2. **Solve using C++.**3. Keeping in mind that the solution can actually reproduce the correct inputs and outputs as will be provided.\\n4. Only provide solution as the answer without any alternatives **(pick the best of all possibilities with best practices and performance)**.5. **All explanation MUST be inside of the code itself in the forms of comments.**\\n**Question**\\nDima and Inna are doing so great! At the moment, Inna is sitting on the magic lawn playing with a pink pony. Dima wanted to play too. He brought an n × m chessboard, a very tasty candy and two numbers a and b.\\n\\nDima put the chessboard in front of Inna and placed the candy in position (i, j) on the board. The boy said he would give the candy if it reaches one of the corner cells of the board. He\\'s got one more condition. There can only be actions of the following types:\\n\\n  move the candy from position (x, y) on the board to position (x - a, y - b);  move the candy from position (x, y) on the board to position (x + a, y - b);  move the candy from position (x, y) on the board to position (x - a, y + b);  move the candy from position (x, y) on the board to position (x + a, y + b). \\n\\nNaturally, Dima doesn\\'t allow to move the candy beyond the chessboard borders.\\n\\nInna and the pony started shifting the candy around the board. They wonder what is the minimum number of allowed actions that they need to perform to move the candy from the initial position (i, j) to one of the chessboard corners. Help them cope with the task! \\n\\n\\n-----Input-----\\n\\nThe first line of the input contains six integers n, m, i, j, a, b (1 ≤ n, m ≤ 10^6;\\xa01 ≤ i ≤ n;\\xa01 ≤ j ≤ m;\\xa01 ≤ a, b ≤ 10^6).\\n\\nYou can assume that the chessboard rows are numbered from 1 to n from top to bottom and the columns are numbered from 1 to m from left to right. Position (i, j) in the statement is a chessboard cell on the intersection of the i-th row and the j-th column. You can consider that the corners are: (1, m), (n, 1), (n, m), (1, 1).\\n\\n\\n-----Output-----\\n\\nIn a single line print a single integer — the minimum number of moves needed to get the candy.\\n\\nIf Inna and the pony cannot get the candy playing by Dima\\'s rules, print on a single line \"Poor Inna and pony!\" without the quotes.\\n\\n\\n-----Examples-----\\nInput\\n5 7 1 3 2 2\\n\\nOutput\\n2\\n\\nInput\\n5 5 2 3 1 1\\n\\nOutput\\nPoor Inna and pony!\\n\\n\\n\\n-----Note-----\\n\\nNote to sample 1:\\n\\nInna and the pony can move the candy to position (1 + 2, 3 + 2) = (3, 5), from there they can move it to positions (3 - 2, 5 + 2) = (1, 7) and (3 + 2, 5 + 2) = (5, 7). These positions correspond to the corner squares of the chess board. Thus, the answer to the test sample equals two.\\n\\n**Input and Output**\\n{\\'inputs\\': [\\'5 7 1 3 2 2\\\\n\\', \\'5 5 2 3 1 1\\\\n\\', \\'1 1 1 1 1 1\\\\n\\', \\'23000 15500 100 333 9 1\\\\n\\', \\'33999 99333 33000 99000 3 9\\\\n\\', \\'5 7 1 3 1 2\\\\n\\', \\'1 100 1 50 1 50\\\\n\\', \\'1000 1 1 1 1 500\\\\n\\', \\'304 400 12 20 4 4\\\\n\\', \\'1000000 1000000 1000000 1000000 1000000 1000000\\\\n\\', \\'1000000 99999 12345 23456 23 54\\\\n\\', \\'50000 100000 500 1000 500 1000\\\\n\\', \\'50000 100000 500 1000 500 2000\\\\n\\', \\'50000 100000 500 1000 500 500\\\\n\\', \\'99999 99999 1 2 1 1\\\\n\\', \\'5 4 2 3 2 2\\\\n\\', \\'5 4 2 3 1 1\\\\n\\', \\'5 5 1 3 1 2\\\\n\\', \\'2347 2348 234 48 238 198\\\\n\\', \\'1000000 2 2 2 2 1\\\\n\\', \\'100 100 50 50 500 500\\\\n\\', \\'1000 2000 100 200 90 90\\\\n\\', \\'1000 1000 10 15 10 5\\\\n\\', \\'23000 15500 100 333 9 1\\\\n\\', \\'5 5 4 3 1 2\\\\n\\', \\'5 5 4 4 1 1\\\\n\\', \\'5 5 4 2 1 1\\\\n\\', \\'3 3 2 2 2 2\\\\n\\', \\'5 8 4 1 2 1\\\\n\\', \\'5 8 4 2 1 2\\\\n\\', \\'2 8 1 2 1 3\\\\n\\', \\'1000000 1000000 500000 500000 1 1\\\\n\\', \\'500000 100000 400 80000 2 2\\\\n\\', \\'1004 999004 4 4 5 5\\\\n\\', \\'11 11 3 3 4 4\\\\n\\', \\'100 100 70 5 1 1\\\\n\\', \\'1 5 1 3 1 1\\\\n\\', \\'1 5 1 3 10 1\\\\n\\', \\'6 1 5 1 2 2\\\\n\\', \\'2 10 1 5 2 2\\\\n\\', \\'5 1 3 1 1 1\\\\n\\', \\'1000 1000 1 3 10000 1\\\\n\\', \\'2 6 1 2 2 2\\\\n\\', \\'2 6 1 2 6 2\\\\n\\', \\'7 1 5 1 2 2\\\\n\\', \\'2 20 2 5 2 2\\\\n\\', \\'4 4 3 4 1 5\\\\n\\', \\'2 6 1 2 2 2\\\\n\\', \\'100 100 50 50 500 500\\\\n\\', \\'1000000 2 2 2 2 1\\\\n\\', \\'33999 99333 33000 99000 3 9\\\\n\\', \\'5 1 3 1 1 1\\\\n\\', \\'6 1 5 1 2 2\\\\n\\', \\'100 100 70 5 1 1\\\\n\\', \\'1 100 1 50 1 50\\\\n\\', \\'11 11 3 3 4 4\\\\n\\', \\'5 8 4 2 1 2\\\\n\\', \\'1000000 1000000 1000000 1000000 1000000 1000000\\\\n\\', \\'5 4 2 3 2 2\\\\n\\', \\'1000000 99999 12345 23456 23 54\\\\n\\', \\'5 8 4 1 2 1\\\\n\\', \\'2 10 1 5 2 2\\\\n\\', \\'4 4 3 4 1 5\\\\n\\', \\'1000 1000 1 3 10000 1\\\\n\\', \\'2 6 1 2 6 2\\\\n\\', \\'50000 100000 500 1000 500 500\\\\n\\', \\'5 5 4 4 1 1\\\\n\\', \\'50000 100000 500 1000 500 1000\\\\n\\', \\'5 5 4 3 1 2\\\\n\\', \\'304 400 12 20 4 4\\\\n\\', \\'1 1 1 1 1 1\\\\n\\', \\'2 20 2 5 2 2\\\\n\\', \\'3 3 2 2 2 2\\\\n\\', \\'5 4 2 3 1 1\\\\n\\', \\'7 1 5 1 2 2\\\\n\\', \\'1 5 1 3 10 1\\\\n\\', \\'2 8 1 2 1 3\\\\n\\', \\'1004 999004 4 4 5 5\\\\n\\', \\'99999 99999 1 2 1 1\\\\n\\', \\'23000 15500 100 333 9 1\\\\n\\', \\'1000000 1000000 500000 500000 1 1\\\\n\\', \\'1000 2000 100 200 90 90\\\\n\\', \\'1 5 1 3 1 1\\\\n\\', \\'5 5 1 3 1 2\\\\n\\', \\'5 5 4 2 1 1\\\\n\\', \\'1000 1 1 1 1 500\\\\n\\', \\'2347 2348 234 48 238 198\\\\n\\', \\'500000 100000 400 80000 2 2\\\\n\\', \\'50000 100000 500 1000 500 2000\\\\n\\', \\'5 7 1 3 1 2\\\\n\\', \\'1000 1000 10 15 10 5\\\\n\\', \\'100 101 50 50 500 500\\\\n\\', \\'1010000 2 2 2 2 1\\\\n\\', \\'100 100 70 10 1 1\\\\n\\', \\'5 4 2 3 3 2\\\\n\\', \\'50000 100000 500 1001 500 1000\\\\n\\', \\'1 1 1 1 2 1\\\\n\\', \\'5 4 3 3 1 1\\\\n\\', \\'23000 15500 100 333 4 1\\\\n\\', \\'1010000 1000000 500000 500000 1 1\\\\n\\', \\'500000 100000 400 80000 1 2\\\\n\\', \\'100 100 70 1 1 1\\\\n\\', \\'346 400 13 20 4 4\\\\n\\', \\'23000 20784 100 333 4 1\\\\n\\', \\'33999 99333 33000 119279 3 9\\\\n\\', \\'5 1 4 1 1 1\\\\n\\', \\'6 1 5 1 2 1\\\\n\\', \\'1 100 1 50 1 55\\\\n\\', \\'11 11 4 3 4 4\\\\n\\', \\'1000000 1000000 1000000 0000000 1000000 1000000\\\\n\\', \\'1000100 99999 12345 23456 23 54\\\\n\\', \\'5 8 4 1 2 2\\\\n\\', \\'2 10 1 5 2 3\\\\n\\', \\'8 4 3 4 1 5\\\\n\\', \\'1000 1000 1 6 10000 1\\\\n\\', \\'2 6 1 2 2 1\\\\n\\', \\'50000 100000 500 1000 500 119\\\\n\\', \\'5 5 4 4 1 2\\\\n\\', \\'346 400 12 20 4 4\\\\n\\', \\'2 32 2 5 2 2\\\\n\\', \\'3 3 2 2 2 1\\\\n\\', \\'1 5 1 3 15 1\\\\n\\', \\'2 8 1 2 1 5\\\\n\\', \\'1004 999004 4 4 3 5\\\\n\\', \\'1100 2000 100 200 90 90\\\\n\\', \\'5 5 1 3 2 2\\\\n\\', \\'5 5 1 2 1 1\\\\n\\', \\'2347 2348 234 48 238 323\\\\n\\', \\'50000 100000 500 1000 500 2975\\\\n\\', \\'5 7 1 4 1 2\\\\n\\', \\'1001 1000 10 15 10 5\\\\n\\', \\'4 5 2 3 1 1\\\\n\\', \\'5 7 2 3 2 2\\\\n\\', \\'000 101 50 50 500 500\\\\n\\', \\'33999 99333 33000 76419 3 9\\\\n\\', \\'6 1 4 1 1 1\\\\n\\', \\'11 11 4 3 7 4\\\\n\\', \\'1000100 1000000 1000000 0000000 1000000 1000000\\\\n\\', \\'5 4 3 3 3 2\\\\n\\', \\'1000100 32898 12345 23456 23 54\\\\n\\', \\'5 8 8 1 2 2\\\\n\\', \\'2 10 1 5 3 3\\\\n\\', \\'1000 1000 0 6 10000 1\\\\n\\', \\'50000 100000 500 1000 500 199\\\\n\\', \\'5 3 4 3 1 2\\\\n\\', \\'50000 100000 500 1001 500 1001\\\\n\\', \\'1 1 2 1 2 1\\\\n\\', \\'2 6 2 5 2 2\\\\n\\', \\'5 3 2 2 2 1\\\\n\\', \\'5 4 3 3 2 1\\\\n\\', \\'2 2 1 2 1 5\\\\n\\', \\'1004 999004 4 4 3 6\\\\n\\', \\'1010000 1010000 500000 500000 1 1\\\\n\\', \\'1100 2000 100 155 90 90\\\\n\\', \\'5 5 1 3 2 4\\\\n\\', \\'5 7 1 2 1 1\\\\n\\', \\'2347 1971 234 48 238 323\\\\n\\', \\'500000 100100 400 80000 1 2\\\\n\\', \\'50000 100000 500 1000 655 2975\\\\n\\', \\'4 7 1 4 1 2\\\\n\\', \\'1001 1000 2 15 10 5\\\\n\\', \\'5 7 2 5 2 2\\\\n\\', \\'000 101 50 50 384 500\\\\n\\', \\'33999 106148 33000 76419 3 9\\\\n\\', \\'11 2 4 3 7 4\\\\n\\', \\'1000100 1000010 1000000 0000000 1000000 1000000\\\\n\\', \\'5 4 3 3 3 3\\\\n\\', \\'1000100 32898 12345 23456 13 54\\\\n\\', \\'1 10 1 5 3 3\\\\n\\', \\'5 5 2 3 1 1\\\\n\\', \\'5 7 1 3 2 2\\\\n\\'], \\'outputs\\': [\\'2\\\\n\\', \\'Poor Inna and pony!\\\\n\\', \\'0\\\\n\\', \\'15167\\\\n\\', \\'333\\\\n\\', \\'2\\\\n\\', \\'Poor Inna and pony!\\\\n\\', \\'0\\\\n\\', \\'95\\\\n\\', \\'0\\\\n\\', \\'Poor Inna and pony!\\\\n\\', \\'99\\\\n\\', \\'Poor Inna and pony!\\\\n\\', \\'Poor Inna and pony!\\\\n\\', \\'Poor Inna and pony!\\\\n\\', \\'Poor Inna and pony!\\\\n\\', \\'1\\\\n\\', \\'Poor Inna and pony!\\\\n\\', \\'Poor Inna and pony!\\\\n\\', \\'499999\\\\n\\', \\'Poor Inna and pony!\\\\n\\', \\'20\\\\n\\', \\'197\\\\n\\', \\'15167\\\\n\\', \\'1\\\\n\\', \\'1\\\\n\\', \\'1\\\\n\\', \\'Poor Inna and pony!\\\\n\\', \\'Poor Inna and pony!\\\\n\\', \\'3\\\\n\\', \\'2\\\\n\\', \\'499999\\\\n\\', \\'249800\\\\n\\', \\'199800\\\\n\\', \\'2\\\\n\\', \\'30\\\\n\\', \\'Poor Inna and pony!\\\\n\\', \\'Poor Inna and pony!\\\\n\\', \\'Poor Inna and pony!\\\\n\\', \\'Poor Inna and pony!\\\\n\\', \\'Poor Inna and pony!\\\\n\\', \\'Poor Inna and pony!\\\\n\\', \\'Poor Inna and pony!\\\\n\\', \\'Poor Inna and pony!\\\\n\\', \\'Poor Inna and pony!\\\\n\\', \\'Poor Inna and pony!\\\\n\\', \\'Poor Inna and pony!\\\\n\\', \\'Poor Inna and pony!\\\\n\\', \\'Poor Inna and pony!\\\\n\\', \\'499999\\\\n\\', \\'333\\\\n\\', \\'Poor Inna and pony!\\\\n\\', \\'Poor Inna and pony!\\\\n\\', \\'30\\\\n\\', \\'Poor Inna and pony!\\\\n\\', \\'2\\\\n\\', \\'3\\\\n\\', \\'0\\\\n\\', \\'Poor Inna and pony!\\\\n\\', \\'Poor Inna and pony!\\\\n\\', \\'Poor Inna and pony!\\\\n\\', \\'Poor Inna and pony!\\\\n\\', \\'Poor Inna and pony!\\\\n\\', \\'Poor Inna and pony!\\\\n\\', \\'Poor Inna and pony!\\\\n\\', \\'Poor Inna and pony!\\\\n\\', \\'1\\\\n\\', \\'99\\\\n\\', \\'1\\\\n\\', \\'95\\\\n\\', \\'0\\\\n\\', \\'Poor Inna and pony!\\\\n\\', \\'Poor Inna and pony!\\\\n\\', \\'1\\\\n\\', \\'Poor Inna and pony!\\\\n\\', \\'Poor Inna and pony!\\\\n\\', \\'2\\\\n\\', \\'199800\\\\n\\', \\'Poor Inna and pony!\\\\n\\', \\'15167\\\\n\\', \\'499999\\\\n\\', \\'20\\\\n\\', \\'Poor Inna and pony!\\\\n\\', \\'Poor Inna and pony!\\\\n\\', \\'1\\\\n\\', \\'0\\\\n\\', \\'Poor Inna and pony!\\\\n\\', \\'249800\\\\n\\', \\'Poor Inna and pony!\\\\n\\', \\'2\\\\n\\', \\'197\\\\n\\', \\'Poor Inna and pony!\\', \\'504999\\', \\'69\\', \\'1\\', \\'99\\', \\'0\\', \\'2\\', \\'15167\\', \\'499999\\', \\'499600\\', \\'30\\', \\'95\\', \\'20451\\', \\'Poor Inna and pony!\\', \\'Poor Inna and pony!\\', \\'Poor Inna and pony!\\', \\'Poor Inna and pony!\\', \\'Poor Inna and pony!\\', \\'Poor Inna and pony!\\', \\'Poor Inna and pony!\\', \\'Poor Inna and pony!\\', \\'Poor Inna and pony!\\', \\'Poor Inna and pony!\\', \\'Poor Inna and pony!\\', \\'Poor Inna and pony!\\', \\'Poor Inna and pony!\\', \\'Poor Inna and pony!\\', \\'Poor Inna and pony!\\', \\'Poor Inna and pony!\\', \\'Poor Inna and pony!\\', \\'Poor Inna and pony!\\', \\'Poor Inna and pony!\\', \\'Poor Inna and pony!\\', \\'Poor Inna and pony!\\', \\'Poor Inna and pony!\\', \\'Poor Inna and pony!\\', \\'Poor Inna and pony!\\', \\'Poor Inna and pony!\\', \\'Poor Inna and pony!\\', \\'Poor Inna and pony!\\', \\'2\\', \\'Poor Inna and pony!\\', \\'Poor Inna and pony!\\', \\'Poor Inna and pony!\\', \\'Poor Inna and pony!\\', \\'Poor Inna and pony!\\', \\'Poor Inna and pony!\\', \\'Poor Inna and pony!\\', \\'Poor Inna and pony!\\', \\'Poor Inna and pony!\\', \\'Poor Inna and pony!\\', \\'Poor Inna and pony!\\', \\'Poor Inna and pony!\\', \\'1\\', \\'Poor Inna and pony!\\', \\'Poor Inna and pony!\\', \\'Poor Inna and pony!\\', \\'Poor Inna and pony!\\', \\'1\\', \\'0\\', \\'Poor Inna and pony!\\', \\'499999\\', \\'Poor Inna and pony!\\', \\'Poor Inna and pony!\\', \\'Poor Inna and pony!\\', \\'Poor Inna and pony!\\', \\'499600\\', \\'Poor Inna and pony!\\', \\'Poor Inna and pony!\\', \\'Poor Inna and pony!\\', \\'Poor Inna and pony!\\', \\'Poor Inna and pony!\\', \\'Poor Inna and pony!\\', \\'Poor Inna and pony!\\', \\'Poor Inna and pony!\\', \\'Poor Inna and pony!\\', \\'Poor Inna and pony!\\', \\'Poor Inna and pony!\\', \\'Poor Inna and pony!\\\\n\\', \\'2\\\\n\\']}\\n**Difficulty: HARD**\\n\\n**Raw Tags: [\\'greedy\\', \\'implementation\\']**\\n\\n**Tags: [\\'Implementation\\', \\'Greedy algorithms\\']**\\n\\n**Skill Types: [\\'Greedy algorithms\\']**\\n\\n**Expected Auxiliary Space: https://codeforces.com/problemset/problem/374/A**\\n\\n**Time Limit: No time limit.**\\n\\n**Memory Limit: No memory limit**\\n\\n**Expected Time Complexity: No expected time complexity or time complexity limit.**\\n']"
      ]
     },
     "execution_count": 170,
     "metadata": {},
     "output_type": "execute_result"
    }
   ],
   "source": [
    "from typing import List\n",
    "\n",
    "prompts: List[str] = []\n",
    "\n",
    "for i, val in enumerate(pc_df.values):\n",
    "  prompts.append(\n",
    "    'Below is provided a **competitive programming** problem set.\\n' \\\n",
    "    'Please solve the problem set with:\\n' \\\n",
    "    '1. No pre-assumptions (every assumption has to be structured in comments, whether it is inline or in a block).\\n' \\\n",
    "    '2. **Solve using C++.**' \\\n",
    "    '3. Keeping in mind that the solution can actually reproduce the correct inputs and outputs as will be provided.\\n' \\\n",
    "    '4. Only provide solution as the answer without any alternatives **(pick the best of all possibilities with best practices and performance)**.' \\\n",
    "    '5. **All explanation MUST be inside of the code itself in the forms of comments.**' \\\n",
    "    '\\n' \\\n",
    "    '**Question**\\n' \\\n",
    "    f'{val[0]}\\n' \\\n",
    "    '\\n' \\\n",
    "    '**Input and Output**\\n' \\\n",
    "    f'{val[1]}' \\\n",
    "    '\\n' \\\n",
    "    f'**Difficulty: {val[2]}**\\n' \\\n",
    "    '\\n' \\\n",
    "    f'**Raw Tags: {val[3]}**\\n' \\\n",
    "    '\\n' \\\n",
    "    f'**Tags: {val[4]}**\\n' \\\n",
    "    '\\n' \\\n",
    "    f'**Skill Types: {val[5]}**\\n' \\\n",
    "    '\\n' \\\n",
    "    f'**Expected Auxiliary Space: {val[6] if val[6] else \"No expected aurxiliary space or auxiliary space limit.\"}**\\n' \\\n",
    "    '\\n' \\\n",
    "    f'**Time Limit: {val[7] if val[7] else \"No time limit.\"}**\\n' \\\n",
    "    '\\n' \\\n",
    "    f'**Memory Limit: {val[8] if val[8] else \"No memory limit\"}**\\n' \\\n",
    "    '\\n' \\\n",
    "    f'**Expected Time Complexity: {val[9] if val[9] else \"No expected time complexity or time complexity limit.\"}**\\n' \\\n",
    "  )\n",
    "\n",
    "prompts[:5]"
   ]
  },
  {
   "cell_type": "code",
   "execution_count": null,
   "id": "026cecc1",
   "metadata": {},
   "outputs": [],
   "source": [
    "from dotenv import load_dotenv\n",
    "import requests\n",
    "import os"
   ]
  },
  {
   "cell_type": "code",
   "execution_count": null,
   "id": "10c0f6ad",
   "metadata": {},
   "outputs": [],
   "source": [
    "# Load environment variables from .env file\n",
    "load_dotenv()\n",
    "\n",
    "# Get the API key from environment variables\n",
    "api_key = os.getenv(\"AIMLAPI\")\n",
    "\n",
    "codeResult = pd.DataFrame()\n",
    "\n",
    "request_switch = False # make sure you are ready for pushing request to the api\n",
    "\n",
    "# Check if API key was loaded successfully\n",
    "if api_key:\n",
    "    print(\"API key loaded successfully\")\n",
    "else:\n",
    "    print(\"API key not found in .env file\")\n",
    "\n",
    "models = [\"chatgpt-4o-latest\", \"deepseek/deepseek-r1\", \"google/gemini-2.0-flash\"]"
   ]
  },
  {
   "cell_type": "code",
   "execution_count": null,
   "id": "4c782756",
   "metadata": {},
   "outputs": [],
   "source": [
    "\n",
    "if request_switch:\n",
    "    for prompt in prompts:\n",
    "        for model in models:\n",
    "            response = requests.post(\n",
    "                \"https://api.aimlapi.com/v1/chat/completions\",\n",
    "                headers={\n",
    "                    \"Authorization\":f\"Bearer {api_key}\",\n",
    "                    \"Content-Type\":\"application/json\"\n",
    "                },\n",
    "                json={\n",
    "                    \"model\": model,\n",
    "                    \"messages\":[\n",
    "                        {\n",
    "                            \"role\":\"user\",\n",
    "                            # change into the dataset's problem / prompt\n",
    "                            \"content\":prompt\n",
    "                        }\n",
    "                    ]\n",
    "                }\n",
    "            )\n",
    "            \n",
    "            # Get JSON response\n",
    "            data = response.json()\n",
    "            \n",
    "            # Create a DataFrame from this response\n",
    "            if 'choices' in data and len(data['choices']) > 0:\n",
    "                # Extract the message content\n",
    "                message_content = data['choices'][0]['message']['content'] if 'message' in data['choices'][0] else \"\"\n",
    "                \n",
    "                # Create a row with model name and response\n",
    "                row_data = {\n",
    "                    'model': model,\n",
    "                    'content': message_content,\n",
    "                    'completion_tokens': data.get('usage', {}).get('completion_tokens', 0),\n",
    "                    'prompt_tokens': data.get('usage', {}).get('prompt_tokens', 0),\n",
    "                    'timestamp': pd.Timestamp.now()\n",
    "                }\n",
    "\n",
    "                # Append to the results DataFrame\n",
    "                row_df = pd.DataFrame([row_data])\n",
    "                codeResult = pd.concat([codeResult, row_df], ignore_index=True)\n",
    "        "
   ]
  },
  {
   "cell_type": "code",
   "execution_count": 171,
   "id": "1f7d00f8",
   "metadata": {},
   "outputs": [],
   "source": [
    "final_df = pc_df.copy()\n",
    "final_df['prompts'] = pd.Series(prompts)"
   ]
  },
  {
   "cell_type": "code",
   "execution_count": 172,
   "id": "34f1b766",
   "metadata": {},
   "outputs": [
    {
     "data": {
      "text/html": [
       "<div>\n",
       "<style scoped>\n",
       "    .dataframe tbody tr th:only-of-type {\n",
       "        vertical-align: middle;\n",
       "    }\n",
       "\n",
       "    .dataframe tbody tr th {\n",
       "        vertical-align: top;\n",
       "    }\n",
       "\n",
       "    .dataframe thead th {\n",
       "        text-align: right;\n",
       "    }\n",
       "</style>\n",
       "<table border=\"1\" class=\"dataframe\">\n",
       "  <thead>\n",
       "    <tr style=\"text-align: right;\">\n",
       "      <th></th>\n",
       "      <th>question</th>\n",
       "      <th>input_output</th>\n",
       "      <th>difficulty</th>\n",
       "      <th>raw_tags</th>\n",
       "      <th>tags</th>\n",
       "      <th>skill_types</th>\n",
       "      <th>url</th>\n",
       "      <th>Expected Auxiliary Space</th>\n",
       "      <th>time_limit</th>\n",
       "      <th>picture_num</th>\n",
       "      <th>memory_limit</th>\n",
       "      <th>Expected Time Complexity</th>\n",
       "      <th>prompts</th>\n",
       "    </tr>\n",
       "  </thead>\n",
       "  <tbody>\n",
       "    <tr>\n",
       "      <th>0</th>\n",
       "      <td>Two integers A and B are the inputs. Write a p...</td>\n",
       "      <td>{'inputs': [['3', '120 140', '10213 312', '10 ...</td>\n",
       "      <td>EASY</td>\n",
       "      <td>[LCM, Mathematics, Algorithms, Number Theory, ...</td>\n",
       "      <td>[Mathematics, Number theory, Implementation]</td>\n",
       "      <td>[]</td>\n",
       "      <td>https://www.codechef.com/problems/FLOW016</td>\n",
       "      <td>None</td>\n",
       "      <td>1 seconds</td>\n",
       "      <td>0</td>\n",
       "      <td>50000 bytes</td>\n",
       "      <td>None</td>\n",
       "      <td>Below is provided a **competitive programming*...</td>\n",
       "    </tr>\n",
       "    <tr>\n",
       "      <th>1</th>\n",
       "      <td>Limak is a grizzly bear who desires power and ...</td>\n",
       "      <td>{'inputs': ['5\n",
       "5 1 11 2 8\n",
       "', '4\n",
       "1 8 8 8\n",
       "', '2\n",
       "...</td>\n",
       "      <td>EASY</td>\n",
       "      <td>[greedy, implementation]</td>\n",
       "      <td>[Implementation, Greedy algorithms]</td>\n",
       "      <td>[Greedy algorithms]</td>\n",
       "      <td>https://codeforces.com/problemset/problem/574/A</td>\n",
       "      <td>None</td>\n",
       "      <td>None</td>\n",
       "      <td>None</td>\n",
       "      <td>None</td>\n",
       "      <td>None</td>\n",
       "      <td>Below is provided a **competitive programming*...</td>\n",
       "    </tr>\n",
       "    <tr>\n",
       "      <th>2</th>\n",
       "      <td>Last year the world's largest square was built...</td>\n",
       "      <td>{'inputs': ['99085 7738 98097 -6487\n",
       "', '1 2 2 ...</td>\n",
       "      <td>HARD</td>\n",
       "      <td>[math, implementation]</td>\n",
       "      <td>[Mathematics, Implementation]</td>\n",
       "      <td>[]</td>\n",
       "      <td>https://codeforces.com/problemset/problem/40/C</td>\n",
       "      <td>None</td>\n",
       "      <td>2.0 seconds</td>\n",
       "      <td>None</td>\n",
       "      <td>256.0 megabytes</td>\n",
       "      <td>None</td>\n",
       "      <td>Below is provided a **competitive programming*...</td>\n",
       "    </tr>\n",
       "    <tr>\n",
       "      <th>3</th>\n",
       "      <td>Alice has got addicted to a game called Sirtet...</td>\n",
       "      <td>{'inputs': ['2 2 1 1\n",
       "', '1 2 1 2\n",
       "', '485 117 3...</td>\n",
       "      <td>HARD</td>\n",
       "      <td>[combinatorics, matrices, math, constructive a...</td>\n",
       "      <td>[Matrices, Combinatorics, Mathematics, Constru...</td>\n",
       "      <td>[]</td>\n",
       "      <td>https://codeforces.com/problemset/problem/1332/E</td>\n",
       "      <td>None</td>\n",
       "      <td>2 seconds</td>\n",
       "      <td>1</td>\n",
       "      <td>512 megabytes</td>\n",
       "      <td>None</td>\n",
       "      <td>Below is provided a **competitive programming*...</td>\n",
       "    </tr>\n",
       "    <tr>\n",
       "      <th>4</th>\n",
       "      <td>Dima and Inna are doing so great! At the momen...</td>\n",
       "      <td>{'inputs': ['5 7 1 3 2 2\n",
       "', '5 5 2 3 1 1\n",
       "', '1...</td>\n",
       "      <td>HARD</td>\n",
       "      <td>[greedy, implementation]</td>\n",
       "      <td>[Implementation, Greedy algorithms]</td>\n",
       "      <td>[Greedy algorithms]</td>\n",
       "      <td>https://codeforces.com/problemset/problem/374/A</td>\n",
       "      <td>None</td>\n",
       "      <td>None</td>\n",
       "      <td>None</td>\n",
       "      <td>None</td>\n",
       "      <td>None</td>\n",
       "      <td>Below is provided a **competitive programming*...</td>\n",
       "    </tr>\n",
       "    <tr>\n",
       "      <th>...</th>\n",
       "      <td>...</td>\n",
       "      <td>...</td>\n",
       "      <td>...</td>\n",
       "      <td>...</td>\n",
       "      <td>...</td>\n",
       "      <td>...</td>\n",
       "      <td>...</td>\n",
       "      <td>...</td>\n",
       "      <td>...</td>\n",
       "      <td>...</td>\n",
       "      <td>...</td>\n",
       "      <td>...</td>\n",
       "      <td>...</td>\n",
       "    </tr>\n",
       "    <tr>\n",
       "      <th>19144</th>\n",
       "      <td>Little Chris is a huge fan of linear algebra. ...</td>\n",
       "      <td>{'inputs': ['3\n",
       "1 1 1\n",
       "0 1 1\n",
       "1 0 0\n",
       "12\n",
       "3\n",
       "2 3\n",
       "3\n",
       "2 ...</td>\n",
       "      <td>MEDIUM_HARD</td>\n",
       "      <td>[math, implementation]</td>\n",
       "      <td>[Mathematics, Implementation]</td>\n",
       "      <td>[]</td>\n",
       "      <td>https://codeforces.com/problemset/problem/405/C</td>\n",
       "      <td>None</td>\n",
       "      <td>None</td>\n",
       "      <td>None</td>\n",
       "      <td>None</td>\n",
       "      <td>None</td>\n",
       "      <td>Below is provided a **competitive programming*...</td>\n",
       "    </tr>\n",
       "    <tr>\n",
       "      <th>19145</th>\n",
       "      <td>You are given $n$ segments on a number line; e...</td>\n",
       "      <td>{'inputs': ['4\n",
       "1 3\n",
       "2 6\n",
       "0 4\n",
       "3 3\n",
       "', '5\n",
       "2 6\n",
       "1 3\n",
       "0...</td>\n",
       "      <td>MEDIUM_HARD</td>\n",
       "      <td>[greedy, sortings, math]</td>\n",
       "      <td>[Sorting, Mathematics, Greedy algorithms]</td>\n",
       "      <td>[Sorting, Greedy algorithms]</td>\n",
       "      <td>https://codeforces.com/problemset/problem/1029/C</td>\n",
       "      <td>None</td>\n",
       "      <td>None</td>\n",
       "      <td>None</td>\n",
       "      <td>None</td>\n",
       "      <td>O(N)</td>\n",
       "      <td>Below is provided a **competitive programming*...</td>\n",
       "    </tr>\n",
       "    <tr>\n",
       "      <th>19146</th>\n",
       "      <td>Vasya has ordered a pizza delivery. The pizza ...</td>\n",
       "      <td>{'inputs': [['3', '4', '0 90 180 270', '2', '9...</td>\n",
       "      <td>MEDIUM</td>\n",
       "      <td>[Mathematics, Algorithms, Observation, Geometr...</td>\n",
       "      <td>[Geometry, Number theory, Mathematics]</td>\n",
       "      <td>[]</td>\n",
       "      <td>https://www.codechef.com/problems/CUTPIZ</td>\n",
       "      <td>None</td>\n",
       "      <td>1 seconds</td>\n",
       "      <td>0</td>\n",
       "      <td>50000 bytes</td>\n",
       "      <td>None</td>\n",
       "      <td>Below is provided a **competitive programming*...</td>\n",
       "    </tr>\n",
       "    <tr>\n",
       "      <th>19147</th>\n",
       "      <td>Vlad came home and found out that someone had ...</td>\n",
       "      <td>{'inputs': ['10\n",
       "3 5 6\n",
       "3 3\n",
       "0 15 5\n",
       "4 5\n",
       "0 10 5\n",
       "3 ...</td>\n",
       "      <td>EASY</td>\n",
       "      <td>[greedy, shortest paths, math]</td>\n",
       "      <td>[Greedy algorithms, Mathematics, Shortest paths]</td>\n",
       "      <td>[Greedy algorithms]</td>\n",
       "      <td>https://codeforces.com/problemset/problem/1759/C</td>\n",
       "      <td>None</td>\n",
       "      <td>1 second</td>\n",
       "      <td>0</td>\n",
       "      <td>256 megabytes</td>\n",
       "      <td>None</td>\n",
       "      <td>Below is provided a **competitive programming*...</td>\n",
       "    </tr>\n",
       "    <tr>\n",
       "      <th>19148</th>\n",
       "      <td>Yaroslav, Andrey and Roman can play cubes for ...</td>\n",
       "      <td>{'inputs': ['2\n",
       "0111\n",
       "0001\n",
       "', '3\n",
       "110110\n",
       "001001\n",
       "'...</td>\n",
       "      <td>MEDIUM</td>\n",
       "      <td>[games, greedy]</td>\n",
       "      <td>[Game theory, Greedy algorithms]</td>\n",
       "      <td>[Greedy algorithms]</td>\n",
       "      <td>https://codeforces.com/problemset/problem/293/A</td>\n",
       "      <td>None</td>\n",
       "      <td>None</td>\n",
       "      <td>None</td>\n",
       "      <td>None</td>\n",
       "      <td>None</td>\n",
       "      <td>Below is provided a **competitive programming*...</td>\n",
       "    </tr>\n",
       "  </tbody>\n",
       "</table>\n",
       "<p>19149 rows × 13 columns</p>\n",
       "</div>"
      ],
      "text/plain": [
       "                                                question  \\\n",
       "0      Two integers A and B are the inputs. Write a p...   \n",
       "1      Limak is a grizzly bear who desires power and ...   \n",
       "2      Last year the world's largest square was built...   \n",
       "3      Alice has got addicted to a game called Sirtet...   \n",
       "4      Dima and Inna are doing so great! At the momen...   \n",
       "...                                                  ...   \n",
       "19144  Little Chris is a huge fan of linear algebra. ...   \n",
       "19145  You are given $n$ segments on a number line; e...   \n",
       "19146  Vasya has ordered a pizza delivery. The pizza ...   \n",
       "19147  Vlad came home and found out that someone had ...   \n",
       "19148  Yaroslav, Andrey and Roman can play cubes for ...   \n",
       "\n",
       "                                            input_output   difficulty  \\\n",
       "0      {'inputs': [['3', '120 140', '10213 312', '10 ...         EASY   \n",
       "1      {'inputs': ['5\n",
       "5 1 11 2 8\n",
       "', '4\n",
       "1 8 8 8\n",
       "', '2\n",
       "...         EASY   \n",
       "2      {'inputs': ['99085 7738 98097 -6487\n",
       "', '1 2 2 ...         HARD   \n",
       "3      {'inputs': ['2 2 1 1\n",
       "', '1 2 1 2\n",
       "', '485 117 3...         HARD   \n",
       "4      {'inputs': ['5 7 1 3 2 2\n",
       "', '5 5 2 3 1 1\n",
       "', '1...         HARD   \n",
       "...                                                  ...          ...   \n",
       "19144  {'inputs': ['3\n",
       "1 1 1\n",
       "0 1 1\n",
       "1 0 0\n",
       "12\n",
       "3\n",
       "2 3\n",
       "3\n",
       "2 ...  MEDIUM_HARD   \n",
       "19145  {'inputs': ['4\n",
       "1 3\n",
       "2 6\n",
       "0 4\n",
       "3 3\n",
       "', '5\n",
       "2 6\n",
       "1 3\n",
       "0...  MEDIUM_HARD   \n",
       "19146  {'inputs': [['3', '4', '0 90 180 270', '2', '9...       MEDIUM   \n",
       "19147  {'inputs': ['10\n",
       "3 5 6\n",
       "3 3\n",
       "0 15 5\n",
       "4 5\n",
       "0 10 5\n",
       "3 ...         EASY   \n",
       "19148  {'inputs': ['2\n",
       "0111\n",
       "0001\n",
       "', '3\n",
       "110110\n",
       "001001\n",
       "'...       MEDIUM   \n",
       "\n",
       "                                                raw_tags  \\\n",
       "0      [LCM, Mathematics, Algorithms, Number Theory, ...   \n",
       "1                               [greedy, implementation]   \n",
       "2                                 [math, implementation]   \n",
       "3      [combinatorics, matrices, math, constructive a...   \n",
       "4                               [greedy, implementation]   \n",
       "...                                                  ...   \n",
       "19144                             [math, implementation]   \n",
       "19145                           [greedy, sortings, math]   \n",
       "19146  [Mathematics, Algorithms, Observation, Geometr...   \n",
       "19147                     [greedy, shortest paths, math]   \n",
       "19148                                    [games, greedy]   \n",
       "\n",
       "                                                    tags  \\\n",
       "0           [Mathematics, Number theory, Implementation]   \n",
       "1                    [Implementation, Greedy algorithms]   \n",
       "2                          [Mathematics, Implementation]   \n",
       "3      [Matrices, Combinatorics, Mathematics, Constru...   \n",
       "4                    [Implementation, Greedy algorithms]   \n",
       "...                                                  ...   \n",
       "19144                      [Mathematics, Implementation]   \n",
       "19145          [Sorting, Mathematics, Greedy algorithms]   \n",
       "19146             [Geometry, Number theory, Mathematics]   \n",
       "19147   [Greedy algorithms, Mathematics, Shortest paths]   \n",
       "19148                   [Game theory, Greedy algorithms]   \n",
       "\n",
       "                        skill_types  \\\n",
       "0                                []   \n",
       "1               [Greedy algorithms]   \n",
       "2                                []   \n",
       "3                                []   \n",
       "4               [Greedy algorithms]   \n",
       "...                             ...   \n",
       "19144                            []   \n",
       "19145  [Sorting, Greedy algorithms]   \n",
       "19146                            []   \n",
       "19147           [Greedy algorithms]   \n",
       "19148           [Greedy algorithms]   \n",
       "\n",
       "                                                    url  \\\n",
       "0             https://www.codechef.com/problems/FLOW016   \n",
       "1       https://codeforces.com/problemset/problem/574/A   \n",
       "2        https://codeforces.com/problemset/problem/40/C   \n",
       "3      https://codeforces.com/problemset/problem/1332/E   \n",
       "4       https://codeforces.com/problemset/problem/374/A   \n",
       "...                                                 ...   \n",
       "19144   https://codeforces.com/problemset/problem/405/C   \n",
       "19145  https://codeforces.com/problemset/problem/1029/C   \n",
       "19146          https://www.codechef.com/problems/CUTPIZ   \n",
       "19147  https://codeforces.com/problemset/problem/1759/C   \n",
       "19148   https://codeforces.com/problemset/problem/293/A   \n",
       "\n",
       "      Expected Auxiliary Space   time_limit picture_num     memory_limit  \\\n",
       "0                         None    1 seconds           0      50000 bytes   \n",
       "1                         None         None        None             None   \n",
       "2                         None  2.0 seconds        None  256.0 megabytes   \n",
       "3                         None    2 seconds           1    512 megabytes   \n",
       "4                         None         None        None             None   \n",
       "...                        ...          ...         ...              ...   \n",
       "19144                     None         None        None             None   \n",
       "19145                     None         None        None             None   \n",
       "19146                     None    1 seconds           0      50000 bytes   \n",
       "19147                     None     1 second           0    256 megabytes   \n",
       "19148                     None         None        None             None   \n",
       "\n",
       "      Expected Time Complexity  \\\n",
       "0                         None   \n",
       "1                         None   \n",
       "2                         None   \n",
       "3                         None   \n",
       "4                         None   \n",
       "...                        ...   \n",
       "19144                     None   \n",
       "19145                     O(N)   \n",
       "19146                     None   \n",
       "19147                     None   \n",
       "19148                     None   \n",
       "\n",
       "                                                 prompts  \n",
       "0      Below is provided a **competitive programming*...  \n",
       "1      Below is provided a **competitive programming*...  \n",
       "2      Below is provided a **competitive programming*...  \n",
       "3      Below is provided a **competitive programming*...  \n",
       "4      Below is provided a **competitive programming*...  \n",
       "...                                                  ...  \n",
       "19144  Below is provided a **competitive programming*...  \n",
       "19145  Below is provided a **competitive programming*...  \n",
       "19146  Below is provided a **competitive programming*...  \n",
       "19147  Below is provided a **competitive programming*...  \n",
       "19148  Below is provided a **competitive programming*...  \n",
       "\n",
       "[19149 rows x 13 columns]"
      ]
     },
     "execution_count": 172,
     "metadata": {},
     "output_type": "execute_result"
    }
   ],
   "source": [
    "final_df"
   ]
  }
 ],
 "metadata": {
  "kernelspec": {
   "display_name": "research",
   "language": "python",
   "name": "python3"
  },
  "language_info": {
   "codemirror_mode": {
    "name": "ipython",
    "version": 3
   },
   "file_extension": ".py",
   "mimetype": "text/x-python",
   "name": "python",
   "nbconvert_exporter": "python",
   "pygments_lexer": "ipython3",
   "version": "3.11.11"
  }
 },
 "nbformat": 4,
 "nbformat_minor": 5
}
