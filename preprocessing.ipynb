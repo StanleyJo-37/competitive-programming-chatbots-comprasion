{
 "cells": [
  {
   "cell_type": "code",
   "execution_count": null,
   "id": "60aee81e",
   "metadata": {},
   "outputs": [],
   "source": [
    "import huggingface_hub as hf\n",
    "import pandas as pd"
   ]
  },
  {
   "cell_type": "code",
   "execution_count": null,
   "id": "b7187254",
   "metadata": {},
   "outputs": [],
   "source": [
    "test_filenames = [\n",
    "  'ALL/test-00000-of-00001.parquet',\n",
    "]  \n",
    "train_filenames = [\n",
    "  'ALL/train-00001-of-00009.parquet',\n",
    "  'ALL/train-00002-of-00009.parquet',\n",
    "  'ALL/train-00003-of-00009.parquet',\n",
    "  'ALL/train-00004-of-00009.parquet',\n",
    "  'ALL/train-00005-of-00009.parquet',\n",
    "  'ALL/train-00006-of-00009.parquet',\n",
    "  'ALL/train-00007-of-00009.parquet',\n",
    "  'ALL/train-00008-of-00009.parquet',\n",
    "]"
   ]
  },
  {
   "cell_type": "code",
   "execution_count": null,
   "id": "01e2ae46",
   "metadata": {},
   "outputs": [
    {
     "data": {
      "application/vnd.jupyter.widget-view+json": {
       "model_id": "472db59c0c5c4d3c91a0216b7b66f593",
       "version_major": 2,
       "version_minor": 0
      },
      "text/plain": [
       "train-00001-of-00009.parquet:  10%|9         | 31.5M/327M [00:00<?, ?B/s]"
      ]
     },
     "metadata": {},
     "output_type": "display_data"
    }
   ],
   "source": [
    "train_df = pd.DataFrame([])\n",
    "test_df = pd.DataFrame([])\n",
    "\n",
    "for filename in train_filenames:\n",
    "  path = hf.hf_hub_download(\n",
    "    repo_id='BAAI/TACO',\n",
    "    repo_type='dataset',\n",
    "    filename=filename,\n",
    "  )\n",
    "\n",
    "  if train_df.empty:\n",
    "    train_df = pd.read_parquet(path=path)\n",
    "  else:\n",
    "    train_df = pd.concat([train_df, pd.read_parquet(path)], axis=1)\n",
    "\n",
    "for filename in test_filenames:\n",
    "  path = hf.hf_hub_download(\n",
    "    repo_id='BAAI/TACO',\n",
    "    repo_type='dataset',\n",
    "    filename=filename,\n",
    "  )\n",
    "\n",
    "  if test_df.empty:\n",
    "    test_df = pd.read_parquet(path)\n",
    "  else:\n",
    "    test_df = pd.concat([test_df, pd.read_parquet(path)], axis=1)"
   ]
  }
 ],
 "metadata": {
  "kernelspec": {
   "display_name": "base",
   "language": "python",
   "name": "python3"
  },
  "language_info": {
   "codemirror_mode": {
    "name": "ipython",
    "version": 3
   },
   "file_extension": ".py",
   "mimetype": "text/x-python",
   "name": "python",
   "nbconvert_exporter": "python",
   "pygments_lexer": "ipython3",
   "version": "3.12.3"
  }
 },
 "nbformat": 4,
 "nbformat_minor": 5
}
